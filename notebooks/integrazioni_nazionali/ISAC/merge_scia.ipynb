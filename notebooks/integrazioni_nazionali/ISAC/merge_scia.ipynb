{
 "cells": [
  {
   "cell_type": "markdown",
   "metadata": {},
   "source": [
    "# Merge con SCIA\n",
    "\n",
    "Merge delle stesse stazioni: si usano parametri restrittivi. Il focus è eliminare dati ripetuti. NON è gap filling."
   ]
  },
  {
   "cell_type": "code",
   "execution_count": 2,
   "metadata": {
    "vscode": {
     "languageId": "r"
    }
   },
   "outputs": [],
   "source": [
    "setwd(fs::path_abs(\"~/Local_Workspace/TesiMag\"))\n",
    "library(dplyr, warn.conflicts = FALSE)\n",
    "options(repr.plot.width = 9, repr.plot.res = 300)\n",
    "\n",
    "source(\"src/database/startup.R\")\n",
    "source(\"src/database/query/data.R\")\n",
    "source(\"src/database/query/metadata.R\")\n",
    "\n",
    "conns <- load_dbs()"
   ]
  },
  {
   "cell_type": "code",
   "execution_count": 4,
   "metadata": {
    "vscode": {
     "languageId": "r"
    }
   },
   "outputs": [],
   "source": [
    "meta <- query_duck_metadata(conns$data) |> filter(dataset %in% c(\"SCIA\", \"ISAC\"))\n",
    "data <- valid_data(conns$data) |> semi_join(meta, by = c(\"station_id\" = \"id\"))"
   ]
  },
  {
   "cell_type": "code",
   "execution_count": 11,
   "metadata": {
    "vscode": {
     "languageId": "r"
    }
   },
   "outputs": [
    {
     "data": {
      "text/html": [
       "7246"
      ],
      "text/latex": [
       "7246"
      ],
      "text/markdown": [
       "7246"
      ],
      "text/plain": [
       "[1] 7246"
      ]
     },
     "metadata": {},
     "output_type": "display_data"
    }
   ],
   "source": [
    "query_duck_metadata(conns$data) |> collect() |> nrow()"
   ]
  },
  {
   "cell_type": "code",
   "execution_count": null,
   "metadata": {
    "vscode": {
     "languageId": "r"
    }
   },
   "outputs": [],
   "source": []
  }
 ],
 "metadata": {
  "kernelspec": {
   "display_name": "R",
   "language": "R",
   "name": "ir"
  },
  "language_info": {
   "codemirror_mode": "r",
   "file_extension": ".r",
   "mimetype": "text/x-r-source",
   "name": "R",
   "pygments_lexer": "r",
   "version": "4.3.2"
  }
 },
 "nbformat": 4,
 "nbformat_minor": 2
}
