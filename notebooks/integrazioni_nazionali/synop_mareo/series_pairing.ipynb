{
 "cells": [
  {
   "cell_type": "code",
   "execution_count": 1,
   "metadata": {
    "vscode": {
     "languageId": "r"
    }
   },
   "outputs": [],
   "source": [
    "dataset <- \"SCIA\"\n",
    "match_dist <- 5000\n",
    "new_dataset <- \"SYNOP_MAREO\"\n"
   ]
  },
  {
   "cell_type": "code",
   "execution_count": 2,
   "metadata": {
    "vscode": {
     "languageId": "r"
    }
   },
   "outputs": [
    {
     "name": "stderr",
     "output_type": "stream",
     "text": [
      "Linking to GEOS 3.11.0, GDAL 3.5.3, PROJ 9.1.0; sf_use_s2() is TRUE\n",
      "\n"
     ]
    }
   ],
   "source": [
    "setwd(fs::path_abs(\"~/Local_Workspace/TesiMag\"))\n",
    "library(arrow, warn.conflicts = FALSE)\n",
    "library(dplyr, warn.conflicts = FALSE)\n",
    "\n",
    "source(\"src/database/tools.R\")\n",
    "source(\"src/database/insert.R\")\n",
    "source(\"src/database/write.R\")\n",
    "source(\"src/database/startup.R\")\n",
    "source(\"src/database/plot.R\")\n",
    "source(\"src/database/query/spatial.R\")\n",
    "source(\"src/database/query/data.R\")\n",
    "source(\"src/merging/analysis.R\")\n",
    "source(\"src/merging/display.R\")\n",
    "source(\"src/merging/combining.R\")\n",
    "source(\"src/merging/tagging.R\")\n",
    "source(\"notebooks/integrazioni_regionali/procedure/common_steps.R\")\n",
    "\n",
    "conns <- load_dbs()\n",
    "states <- c(\"Lombardia\", \"Veneto\", \"Trentino-Alto Adige\", \"Friuli-Venezia Giulia\", \"Liguria\", \"Valle D'Aosta\", \"Piemonte\", \"Emilia-Romagna\", \"Toscana\", \"Marche\", \"Umbria\")\n",
    "reg_boundaries <- load.italian_boundaries(\"state\") |> filter(shapeName %in% c(states, \"Friuli Venezia Giulia\"))\n"
   ]
  },
  {
   "cell_type": "code",
   "execution_count": 7,
   "metadata": {
    "vscode": {
     "languageId": "r"
    }
   },
   "outputs": [],
   "source": [
    "metadata <- query_checkpoint_meta(dataset, \"qc1\", conns$data) |>\n",
    "    filter(network %in% c(\"Sinottica\", \"Mareografica\"), lat > 42.1, !(state %in% c(\"Abruzzo\", \"Lazio\"))) |>\n",
    "    collect() |>\n",
    "    arrange(dataset, sensor_key) |>\n",
    "    mutate(key = row_number())\n",
    "metadata_db <- copy_to(conns$data, metadata, \"metas_tmp\", overwrite = TRUE)\n",
    "\n",
    "sensor_matches <- close_matches(metadata_db, match_dist, conns$stations)\n",
    "\n",
    "data <- query_checkpoint_data(dataset, \"qc1\", conns$data) |>\n",
    "    filter(valid) |>\n",
    "    inner_join(metadata_db |> select(dataset, sensor_key, key), by = c(\"dataset\", \"sensor_key\")) |>\n",
    "    select(!c(starts_with(\"qc_\"), valid))\n",
    "\n",
    "var_matches <- series_matches(data, sensor_matches, metadata_db)\n"
   ]
  },
  {
   "cell_type": "code",
   "execution_count": 9,
   "metadata": {
    "vscode": {
     "languageId": "r"
    }
   },
   "outputs": [],
   "source": [
    "analysis <- series_matches_analysis(var_matches, data, metadata_db, matches_offsets = c(-1L, 0L, 1L))\n",
    "analysis |> write_xlsx_analysis(file.path(\"notebooks\", \"integrazioni_nazionali\", \"synop_mareo\", \"raw_analysis.xlsx\"))\n"
   ]
  },
  {
   "cell_type": "code",
   "execution_count": null,
   "metadata": {
    "vscode": {
     "languageId": "r"
    }
   },
   "outputs": [],
   "source": [
    "source(str_glue(\"notebooks/integrazioni_nazionali/synop_mareo/procedures/match_taggers.R\"))\n",
    "tagged_analysis <- analysis |>\n",
    "    tag_same_series() |>\n",
    "    default_logic(?) |>\n",
    "    tag_manual()\n",
    "\n",
    "write_xlsx_analysis(tagged_analysis, file.path(\"notebooks\", \"integrazioni_regionali\", state, \"tagged_analysis.xlsx\"), starts_with(\"tag_\"))\n"
   ]
  },
  {
   "cell_type": "code",
   "execution_count": null,
   "metadata": {
    "vscode": {
     "languageId": "r"
    }
   },
   "outputs": [],
   "source": [
    "gs <- series_groups(tagged_analysis, metadata, data, tag_same_series)\n",
    "ranked_series_groups <- rank_series_groups(gs$table, metadata, merging_datasets, desc(dataset), desc(sensor_last))\n",
    "# Dealing with ISAC series\n",
    "# ranked_series_groups <- rank_series_groups(\n",
    "#     gs$table,\n",
    "#     metadata |> mutate(network_prio = if_else(network == \"ISAC\", 2L, 1L)),\n",
    "#     c(?, \"ISAC\"),\n",
    "#     desc(network_prio), desc(dataset), desc(sensor_last)\n",
    "# )\n",
    "# ignore_corrections <- make_exclusion_table(tagged_analysis, NULL, network_x == \"ISAC\" | network_y == \"ISAC\")\n",
    "ignore_corrections <- NULL\n",
    "incomp <- incompatible_merges(data, ranked_series_groups, tagged_analysis, 1L, 0.5, ignore_corrections)\n"
   ]
  },
  {
   "cell_type": "code",
   "execution_count": null,
   "metadata": {
    "vscode": {
     "languageId": "r"
    }
   },
   "outputs": [],
   "source": [
    "i <- incomp |>\n",
    "    left_join(metadata |> select(key, name, network, sensor_key), by = c(\"key_x\" = \"key\")) |>\n",
    "    left_join(metadata |> select(key, name, network, sensor_key), by = c(\"key_y\" = \"key\"), suffix = c(\"_x\", \"_y\")) |>\n",
    "    arrange(desc(abs(k0 + 2 * k1 / pi)))\n",
    "i\n"
   ]
  },
  {
   "cell_type": "code",
   "execution_count": null,
   "metadata": {
    "vscode": {
     "languageId": "r"
    }
   },
   "outputs": [],
   "source": [
    "merge_results <- dynamic_merge(data, ranked_series_groups, metadata, tagged_analysis, rejection_threshold = 10, ignore_corrections, contribution_threshold = 2L * 365L)\n",
    "merged_checkpoint(merge_results, metadata, new_dataset, conns$stations)\n",
    "# rm(merge_results)\n",
    "gc()\n"
   ]
  },
  {
   "cell_type": "code",
   "execution_count": null,
   "metadata": {
    "vscode": {
     "languageId": "r"
    }
   },
   "outputs": [],
   "source": [
    "db <- query_checkpoint(new_dataset, \"merged\", conns$data, all_stations = FALSE)\n",
    "mt <- db$meta |>\n",
    "    select(sensor_key, from_datasets) |>\n",
    "    collect() |>\n",
    "    rowwise() |>\n",
    "    mutate(dataset = paste0(from_datasets |> unique() |> sort(), collapse = \",\")) |>\n",
    "    ungroup() |>\n",
    "    select(-from_datasets)\n",
    "dt <- db$data |>\n",
    "    select(-dataset) |>\n",
    "    left_join(mt, by = \"sensor_key\", copy = TRUE) |>\n",
    "    filter(year(date) >= 1990L)\n",
    "pd <- ymonthly_availabilities(dt)\n",
    "pd$plot + facet_grid(variable ~ .)\n"
   ]
  },
  {
   "cell_type": "code",
   "execution_count": null,
   "metadata": {
    "vscode": {
     "languageId": "r"
    }
   },
   "outputs": [],
   "source": [
    "pd <- spatial_availabilities(pd$data |> mutate(dataset = new_dataset), db$meta, state_boundaries)\n",
    "pd$plot + facet_grid(variable ~ .)\n"
   ]
  },
  {
   "cell_type": "code",
   "execution_count": null,
   "metadata": {
    "vscode": {
     "languageId": "r"
    }
   },
   "outputs": [],
   "source": [
    "clim_availabilities <- pd$data |> mutate(dataset = new_dataset)\n",
    "plot_available_by_elevation(clim_availabilities, db$meta |> collect())\n"
   ]
  }
 ],
 "metadata": {
  "kernelspec": {
   "display_name": "R",
   "language": "R",
   "name": "ir"
  },
  "language_info": {
   "codemirror_mode": "r",
   "file_extension": ".r",
   "mimetype": "text/x-r-source",
   "name": "R",
   "pygments_lexer": "r",
   "version": "4.3.3"
  }
 },
 "nbformat": 4,
 "nbformat_minor": 2
}
