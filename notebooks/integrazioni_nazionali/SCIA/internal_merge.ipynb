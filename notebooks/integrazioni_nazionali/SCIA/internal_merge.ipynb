{
 "cells": [
  {
   "cell_type": "code",
   "execution_count": 1,
   "metadata": {
    "vscode": {
     "languageId": "r"
    }
   },
   "outputs": [
    {
     "name": "stderr",
     "output_type": "stream",
     "text": [
      "Linking to GEOS 3.11.0, GDAL 3.5.3, PROJ 9.1.0; sf_use_s2() is TRUE\n",
      "\n"
     ]
    }
   ],
   "source": [
    "setwd(fs::path_abs(\"~/Local_Workspace/TesiMag\"))\n",
    "library(arrow, warn.conflicts = FALSE)\n",
    "library(dplyr, warn.conflicts = FALSE)\n",
    "\n",
    "source(\"src/database/startup.R\")\n",
    "source(\"src/database/query/spatial.R\")\n",
    "source(\"src/database/query/data.R\")\n",
    "source(\"src/database/query/pairing.R\")\n",
    "source(\"src/database/query/analysis.R\")\n",
    "source(\"src/pairing/displaying.R\")\n",
    "\n",
    "conns <- load_dbs()\n"
   ]
  },
  {
   "cell_type": "code",
   "execution_count": 2,
   "metadata": {
    "vscode": {
     "languageId": "r"
    }
   },
   "outputs": [],
   "source": [
    "query <- glue::glue_sql(\n",
    "    \"\n",
    "        SELECT\n",
    "            sx.dataset AS dataset_x,\n",
    "            sx.id AS id_x,\n",
    "            sy.dataset AS dataset_y,\n",
    "            sy.id AS id_y,\n",
    "            ST_Distance(sx.geog, sy.geog) AS distance\n",
    "        FROM station_geo sx\n",
    "        JOIN station_geo sy\n",
    "        ON ST_DWithin(sx.geog, sy.geog, 2000)\n",
    "        WHERE sx.id < sy.id AND sx.dataset = 'SCIA' AND sy.dataset = 'SCIA'\n",
    "    \",\n",
    "    .con = statconn\n",
    ")\n",
    "close_stations <- dbGetQuery(conns$stations, query)\n",
    "dbWriteTable(\n",
    "    conns$data,\n",
    "    \"close_stations_tmp\",\n",
    "    close_stations,\n",
    "    overwrite = TRUE\n",
    ")\n"
   ]
  },
  {
   "cell_type": "code",
   "execution_count": 3,
   "metadata": {
    "vscode": {
     "languageId": "r"
    }
   },
   "outputs": [
    {
     "data": {
      "text/html": [
       "0"
      ],
      "text/latex": [
       "0"
      ],
      "text/markdown": [
       "0"
      ],
      "text/plain": [
       "[1] 0"
      ]
     },
     "metadata": {},
     "output_type": "display_data"
    }
   ],
   "source": [
    "dbExecute(conns$data, \"SET memory_limit = '12.5GB'\")\n"
   ]
  },
  {
   "cell_type": "code",
   "execution_count": 2,
   "metadata": {
    "vscode": {
     "languageId": "r"
    }
   },
   "outputs": [],
   "source": [
    "metadata <- tbl(conns$data, \"stations_tmp\") |> filter(dataset == \"SCIA\")\n",
    "scia <- valid_data(conns$data) |> semi_join(metadata, join_by(station_id == id))\n",
    "matches <- scia |>\n",
    "    valid_series() |>\n",
    "    series_matches(tbl(conns$data, \"close_stations_tmp\"), asymmetric = TRUE) |>\n",
    "    select(id_x, id_y, variable, distance) |>\n",
    "    collect()\n"
   ]
  },
  {
   "cell_type": "code",
   "execution_count": 3,
   "metadata": {
    "vscode": {
     "languageId": "r"
    }
   },
   "outputs": [],
   "source": [
    "analysis <- series_matches_analysis(matches, scia, metadata)\n"
   ]
  },
  {
   "cell_type": "code",
   "execution_count": 12,
   "metadata": {
    "vscode": {
     "languageId": "r"
    }
   },
   "outputs": [],
   "source": [
    "analysis |>\n",
    "    rename(all_filter = qc_clim_available, offset_days = offset) |>\n",
    "    write_xslx_analysis(file.path(\"notebooks\", \"integrazioni_nazionali\", \"SCIA\", \"internal_matches.xlsx\"))\n"
   ]
  },
  {
   "cell_type": "code",
   "execution_count": null,
   "metadata": {
    "vscode": {
     "languageId": "r"
    }
   },
   "outputs": [],
   "source": []
  }
 ],
 "metadata": {
  "kernelspec": {
   "display_name": "R",
   "language": "R",
   "name": "ir"
  },
  "language_info": {
   "codemirror_mode": "r",
   "file_extension": ".r",
   "mimetype": "text/x-r-source",
   "name": "R",
   "pygments_lexer": "r",
   "version": "4.3.2"
  }
 },
 "nbformat": 4,
 "nbformat_minor": 2
}
