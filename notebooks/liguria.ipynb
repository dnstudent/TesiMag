{
 "cells": [
  {
   "cell_type": "code",
   "execution_count": 1,
   "metadata": {},
   "outputs": [],
   "source": [
    "import requests\n",
    "import random"
   ]
  },
  {
   "cell_type": "code",
   "execution_count": 4,
   "metadata": {},
   "outputs": [],
   "source": [
    "def req_url(id, year):\n",
    "    return f\"https://ambientepub.regione.liguria.it/SiraQualMeteo/script/PubAccessoDatiMeteoPost.asp?CodParam=TEMPTRMWC4,TEMPTRMWC7&CodTema=REGIONE&IdEstraz=DE&Frequenza=GG&TipoOutput=XLS&Separatore=TAB&IdRichiesta={id}&IdRichiestaCarto=&DataIniz=01/01/{year}&InizOra=00:00&DataFine=31/12/{year}&FineOra=23:59\"\n",
    "\n",
    "def dwn_url(id):\n",
    "    return f\"https://ambientepub.regione.liguria.it/SiraQualMeteo/report/{id}.csv\"\n",
    "\n",
    "def gen_id():\n",
    "    return \"\".join([str(random.randint(0, 9)) for _ in range(14)])"
   ]
  },
  {
   "cell_type": "code",
   "execution_count": 8,
   "metadata": {},
   "outputs": [
    {
     "data": {
      "text/plain": [
       "'71175106124125'"
      ]
     },
     "execution_count": 8,
     "metadata": {},
     "output_type": "execute_result"
    }
   ],
   "source": []
  },
  {
   "cell_type": "code",
   "execution_count": null,
   "metadata": {},
   "outputs": [],
   "source": [
    "https://ambientepub.regione.liguria.it/SiraQualMeteo/report/25046288360581.csv"
   ]
  }
 ],
 "metadata": {
  "kernelspec": {
   "display_name": "geopy",
   "language": "python",
   "name": "python3"
  },
  "language_info": {
   "codemirror_mode": {
    "name": "ipython",
    "version": 3
   },
   "file_extension": ".py",
   "mimetype": "text/x-python",
   "name": "python",
   "nbconvert_exporter": "python",
   "pygments_lexer": "ipython3",
   "version": "3.11.6"
  }
 },
 "nbformat": 4,
 "nbformat_minor": 2
}
