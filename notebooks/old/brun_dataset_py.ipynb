{
 "cells": [
  {
   "cell_type": "code",
   "execution_count": 1,
   "metadata": {},
   "outputs": [],
   "source": [
    "import pyarrow as pa\n",
    "from pyarrow import parquet\n",
    "from pyarrow import dataset\n",
    "import pandas as pd\n"
   ]
  },
  {
   "cell_type": "code",
   "execution_count": 2,
   "metadata": {},
   "outputs": [],
   "source": [
    "brun = parquet.read_table(\"../interm.parquet\")"
   ]
  },
  {
   "cell_type": "code",
   "execution_count": 3,
   "metadata": {},
   "outputs": [
    {
     "data": {
      "text/plain": [
       "pyarrow.Table\n",
       "identifier: large_string\n",
       "value: double\n",
       "date: date32[day]\n",
       "variable: string\n",
       "flavor: string\n",
       "dpc: bool\n",
       "----\n",
       "identifier: [[\"TMXD_066010_MG.era\",\"TMXD_066010_MG.era\",\"TMXD_066010_MG.era\",\"TMXD_066010_MG.era\",\"TMXD_066010_MG.era\",...,\"TMXD_067600_MG.era\",\"TMXD_067600_MG.era\",\"TMXD_067600_MG.era\",\"TMXD_067600_MG.era\",\"TMXD_067600_MG.era\"],[\"TMXD_067600_MG.era\",\"TMXD_067600_MG.era\",\"TMXD_067600_MG.era\",\"TMXD_067600_MG.era\",\"TMXD_067600_MG.era\",...,\"TMXD_160520.era\",\"TMXD_160520.era\",\"TMXD_160520.era\",\"TMXD_160520.era\",\"TMXD_160520.era\"],...,[\"TN_VEN_VE_GESIA_CAVARZERE_CMT_02_000492100\",\"TN_VEN_VE_GESIA_CAVARZERE_CMT_02_000492100\",\"TN_VEN_VE_GESIA_CAVARZERE_CMT_02_000492100\",\"TN_VEN_VE_GESIA_CAVARZERE_CMT_02_000492100\",\"TN_VEN_VE_GESIA_CAVARZERE_CMT_02_000492100\",...,\"TN_VEN_VI_QUINTO_VICENTINO_CMT_02_000493400\",\"TN_VEN_VI_QUINTO_VICENTINO_CMT_02_000493400\",\"TN_VEN_VI_QUINTO_VICENTINO_CMT_02_000493400\",\"TN_VEN_VI_QUINTO_VICENTINO_CMT_02_000493400\",\"TN_VEN_VI_QUINTO_VICENTINO_CMT_02_000493400\"],[\"TN_VEN_VI_QUINTO_VICENTINO_CMT_02_000493400\",\"TN_VEN_VI_QUINTO_VICENTINO_CMT_02_000493400\",\"TN_VEN_VI_QUINTO_VICENTINO_CMT_02_000493400\",\"TN_VEN_VI_QUINTO_VICENTINO_CMT_02_000493400\",\"TN_VEN_VI_QUINTO_VICENTINO_CMT_02_000493400\",...,\"TN_XXX_XX_TREMITI_METEO_02_000118900\",\"TN_XXX_XX_TREMITI_METEO_02_000118900\",\"TN_XXX_XX_TREMITI_METEO_02_000118900\",\"TN_XXX_XX_TREMITI_METEO_02_000118900\",\"TN_XXX_XX_TREMITI_METEO_02_000118900\"]]\n",
       "value: [[3.9000000953674316,4.800000190734863,4.800000190734863,7.5,8.600000381469727,...,10.800000190734863,9.199999809265137,9.399999618530273,12.199999809265137,8.399999618530273],[8.699999809265137,11.100000381469727,6.5,11.399999618530273,8.800000190734863,...,-8,-14,-8,-4,-9.800000190734863],...,[14.399999618530273,13.5,18,21,18.899999618530273,...,18.100000381469727,18.899999618530273,18,18.200000762939453,17.200000762939453],[15.600000381469727,18.299999237060547,16.100000381469727,17.399999618530273,17.200000762939453,...,19.100000381469727,19.100000381469727,18.799999237060547,19.200000762939453,17.700000762939453]]\n",
       "date: [[2000-01-01,2000-01-02,2000-01-03,2000-01-04,2000-01-05,...,2002-11-17,2002-11-18,2002-11-19,2002-11-20,2002-11-21],[2002-11-22,2002-11-23,2002-11-24,2002-11-25,2002-11-26,...,2021-03-08,2021-03-09,2021-03-10,2021-03-11,2021-03-12],...,[2009-08-31,2009-09-01,2009-09-02,2009-09-03,2009-09-04,...,2014-07-30,2014-07-31,2014-08-01,2014-08-02,2014-08-03],[2014-08-04,2014-08-05,2014-08-06,2014-08-07,2014-08-08,...,2012-10-12,2012-10-13,2012-10-14,2012-10-15,2012-10-16]]\n",
       "variable: [[\"T_MAX\",\"T_MAX\",\"T_MAX\",\"T_MAX\",\"T_MAX\",...,\"T_MAX\",\"T_MAX\",\"T_MAX\",\"T_MAX\",\"T_MAX\"],[\"T_MAX\",\"T_MAX\",\"T_MAX\",\"T_MAX\",\"T_MAX\",...,\"T_MAX\",\"T_MAX\",\"T_MAX\",\"T_MAX\",\"T_MAX\"],...,[\"T_MIN\",\"T_MIN\",\"T_MIN\",\"T_MIN\",\"T_MIN\",...,\"T_MIN\",\"T_MIN\",\"T_MIN\",\"T_MIN\",\"T_MIN\"],[\"T_MIN\",\"T_MIN\",\"T_MIN\",\"T_MIN\",\"T_MIN\",...,\"T_MIN\",\"T_MIN\",\"T_MIN\",\"T_MIN\",\"T_MIN\"]]\n",
       "flavor: [[\"qc_era5\",\"qc_era5\",\"qc_era5\",\"qc_era5\",\"qc_era5\",...,\"qc_era5\",\"qc_era5\",\"qc_era5\",\"qc_era5\",\"qc_era5\"],[\"qc_era5\",\"qc_era5\",\"qc_era5\",\"qc_era5\",\"qc_era5\",...,\"qc_era5\",\"qc_era5\",\"qc_era5\",\"qc_era5\",\"qc_era5\"],...,[\"raw\",\"raw\",\"raw\",\"raw\",\"raw\",...,\"raw\",\"raw\",\"raw\",\"raw\",\"raw\"],[\"raw\",\"raw\",\"raw\",\"raw\",\"raw\",...,\"raw\",\"raw\",\"raw\",\"raw\",\"raw\"]]\n",
       "dpc: [[false,false,false,false,false,...,false,false,false,false,false],[false,false,false,false,false,...,false,false,false,false,false],...,[true,true,true,true,true,...,true,true,true,true,true],[true,true,true,true,true,...,true,true,true,true,true]]"
      ]
     },
     "execution_count": 3,
     "metadata": {},
     "output_type": "execute_result"
    }
   ],
   "source": [
    "brun.cast(\n",
    "    pa.schema({\n",
    "        \"identifier\": pa.string(),\n",
    "        \n",
    "    })\n",
    ")"
   ]
  },
  {
   "cell_type": "code",
   "execution_count": null,
   "metadata": {},
   "outputs": [],
   "source": []
  }
 ],
 "metadata": {
  "kernelspec": {
   "display_name": "arrow",
   "language": "python",
   "name": "python3"
  },
  "language_info": {
   "codemirror_mode": {
    "name": "ipython",
    "version": 3
   },
   "file_extension": ".py",
   "mimetype": "text/x-python",
   "name": "python",
   "nbconvert_exporter": "python",
   "pygments_lexer": "ipython3",
   "version": "3.11.6"
  }
 },
 "nbformat": 4,
 "nbformat_minor": 2
}
