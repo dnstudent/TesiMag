{
 "cells": [
  {
   "cell_type": "code",
   "execution_count": 1,
   "metadata": {
    "vscode": {
     "languageId": "r"
    }
   },
   "outputs": [
    {
     "name": "stderr",
     "output_type": "stream",
     "text": [
      "Linking to GEOS 3.12.0, GDAL 3.7.3, PROJ 9.3.0; sf_use_s2() is TRUE\n",
      "\n",
      "terra 1.7.55\n",
      "\n"
     ]
    }
   ],
   "source": [
    "setwd(fs::path_abs(\"~/Local_Workspace/TesiMag\"))\n",
    "\n",
    "library(arrow, warn.conflicts = FALSE)\n",
    "library(dplyr, warn.conflicts = FALSE)\n",
    "library(tibble, warn.conflicts = FALSE)\n",
    "library(tidyr, warn.conflicts = FALSE)\n",
    "library(stringr, warn.conflicts = FALSE)\n",
    "\n",
    "source(\"src/paths/paths.R\")\n",
    "source(\"src/load/load.R\")\n",
    "\n",
    "start_date <- as.Date(\"2000-01-01\")\n"
   ]
  },
  {
   "cell_type": "code",
   "execution_count": 2,
   "metadata": {
    "vscode": {
     "languageId": "r"
    }
   },
   "outputs": [],
   "source": [
    "combos <- cross_join(tibble(variable = c(\"T_MAX\", \"T_MIN\")), tibble(flavor = c(\"raw\", \"qc_era5\", \"qc_homo\")))\n",
    "trascr_data <- function(variable_, flavor_, start_date) {\n",
    "    read.BRUN.series(variable_, flavor_) |>\n",
    "        filter(date >= start_date) |>\n",
    "        drop_na({{ variable_ }}) |>\n",
    "        left_join(read.BRUN.metadata(variable_, flavor_) |> mutate(dpc = (region_ == \"dpc\")) |> select(identifier, dpc), by = \"identifier\") |>\n",
    "        rename(value = {{ variable_ }}) |>\n",
    "        arrange(dpc, identifier, date) |>\n",
    "        mutate(variable = variable_, flavor = flavor_) |>\n",
    "        as_arrow_table(schema = schema(\n",
    "            identifier = utf8(),\n",
    "            value = float32(),\n",
    "            date = date32(),\n",
    "            dpc = bool(),\n",
    "            variable = utf8(),\n",
    "            flavor = utf8()\n",
    "        )) |>\n",
    "        write_feather(str_glue(\"brun_{flavor_}_{variable_}.arrow\"))\n",
    "}\n"
   ]
  },
  {
   "cell_type": "code",
   "execution_count": 7,
   "metadata": {
    "vscode": {
     "languageId": "r"
    }
   },
   "outputs": [],
   "source": [
    "combos |>\n",
    "    rowwise() |>\n",
    "    group_walk(~ trascr_data(.x[[\"variable\"]][1], .x[[\"flavor\"]][1], start_date))\n"
   ]
  },
  {
   "cell_type": "code",
   "execution_count": 3,
   "metadata": {
    "vscode": {
     "languageId": "r"
    }
   },
   "outputs": [],
   "source": [
    "ds <- open_dataset(fs::dir_ls(glob = \"*.arrow\"), format = \"feather\")\n"
   ]
  },
  {
   "cell_type": "code",
   "execution_count": 10,
   "metadata": {
    "vscode": {
     "languageId": "r"
    }
   },
   "outputs": [],
   "source": [
    "ds |> write_dataset(\"db/data/brun\", format = \"feather\", partitioning = c(\"flavor\", \"variable\"))\n"
   ]
  },
  {
   "cell_type": "code",
   "execution_count": 15,
   "metadata": {
    "vscode": {
     "languageId": "r"
    }
   },
   "outputs": [],
   "source": [
    "ld_meta <- function(variable_, flavor_) {\n",
    "    read.BRUN.metadata(variable_, flavor_) |> mutate(variable = variable_, flavor = flavor_)\n",
    "}\n",
    "\n",
    "# brun <- concat_tables(\n",
    "#     read_parquet(\"cache/metadata/BRUN/T_MAX/qc_era5.parquet\", as_data_frame = FALSE) |> mutate(variable = \"T_MAX\", flavor = \"qc_era5\") |> as_arrow_table(),\n",
    "#     read_parquet(\"cache/metadata/BRUN/T_MIN/qc_era5.parquet\", as_data_frame = FALSE) |> mutate(variable = \"T_MIN\", flavor = \"qc_era5\") |> as_arrow_table(),\n",
    "#     read_parquet(\"cache/metadata/BRUN/T_MAX/qc_homo.parquet\", as_data_frame = FALSE) |> mutate(variable = \"T_MAX\", flavor = \"qc_homo\") |> as_arrow_table(),\n",
    "#     read_parquet(\"cache/metadata/BRUN/T_MIN/qc_homo.parquet\", as_data_frame = FALSE) |> mutate(variable = \"T_MIN\", flavor = \"qc_homo\") |> as_arrow_table(),\n",
    "#     read_parquet(\"cache/metadata/BRUN/T_MAX/raw.parquet\", as_data_frame = FALSE) |> mutate(variable = \"T_MAX\", flavor = \"raw\") |> as_arrow_table(),\n",
    "#     read_parquet(\"cache/metadata/BRUN/T_MIN/raw.parquet\", as_data_frame = FALSE) |> mutate(variable = \"T_MIN\", flavor = \"raw\") |> as_arrow_table(),\n",
    "# )\n",
    "\n",
    "combos |>\n",
    "    rowwise() |>\n",
    "    reframe(data = ld_meta(variable, flavor)) |>\n",
    "    unnest_wider(data) |>\n",
    "    mutate(dpc = (region_ == \"dpc\")) |>\n",
    "    write_dataset(\"db/metadata/brun\", format = \"feather\", partitioning = c(\"flavor\", \"variable\"))\n"
   ]
  },
  {
   "cell_type": "code",
   "execution_count": 16,
   "metadata": {
    "vscode": {
     "languageId": "r"
    }
   },
   "outputs": [
    {
     "data": {
      "text/plain": [
       "FileSystemDataset (query)\n",
       "region_: dictionary<values=string, indices=int8>\n",
       "country: dictionary<values=string, indices=int8>\n",
       "anagrafica: string\n",
       "GSOD: bool\n",
       "user_code: string\n",
       "MG: bool\n",
       "identifier: string\n",
       "lon: double\n",
       "lat: double\n",
       "elevation: double\n",
       "province: dictionary<values=string, indices=int8>\n",
       "version: int32\n",
       "internal_id: int32\n",
       "state: string\n",
       "dpc: bool\n",
       "flavor: string\n",
       "variable: string\n",
       "\n",
       "* Filter: dpc\n",
       "See $.data for the source Arrow object"
      ]
     },
     "metadata": {},
     "output_type": "display_data"
    }
   ],
   "source": [
    "open.dataset(\"DPC\", \"metadata\")\n"
   ]
  },
  {
   "cell_type": "code",
   "execution_count": null,
   "metadata": {
    "vscode": {
     "languageId": "r"
    }
   },
   "outputs": [],
   "source": []
  }
 ],
 "metadata": {
  "kernelspec": {
   "display_name": "R",
   "language": "R",
   "name": "ir"
  },
  "language_info": {
   "codemirror_mode": "r",
   "file_extension": ".r",
   "mimetype": "text/x-r-source",
   "name": "R",
   "pygments_lexer": "r",
   "version": "4.3.2"
  }
 },
 "nbformat": 4,
 "nbformat_minor": 2
}
