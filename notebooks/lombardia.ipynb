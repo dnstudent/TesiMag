{
 "cells": [
  {
   "cell_type": "code",
   "execution_count": 1,
   "metadata": {
    "vscode": {
     "languageId": "r"
    }
   },
   "outputs": [],
   "source": [
    "setwd(fs::path_abs(\"~/Local_Workspace/TesiMag\"))\n",
    "# library(sf, warn.conflicts = FALSE)\n",
    "# library(vroom, warn.conflicts = FALSE)\n",
    "# library(tsibble, warn.conflicts = FALSE)\n",
    "# library(tidyr, warn.conflicts = FALSE)\n",
    "library(ggplot2, warn.conflicts = FALSE)\n",
    "# library(forcats, warn.conflicts = FALSE)\n",
    "library(arrow, warn.conflicts = FALSE)\n",
    "# library(data.table, warn.conflicts = FALSE)\n",
    "# library(dtplyr, warn.conflicts = FALSE)\n",
    "library(dplyr, warn.conflicts = FALSE)\n",
    "library(lubridate, warn.conflicts = FALSE)\n",
    "source(\"src/paths/paths.R\")\n",
    "# source(\"src/load/load.R\")\n",
    "# source(\"src/pairing/utils.R\")\n"
   ]
  },
  {
   "cell_type": "code",
   "execution_count": 2,
   "metadata": {
    "vscode": {
     "languageId": "r"
    }
   },
   "outputs": [],
   "source": [
    "path.lom <- file.path(path.ds, \"ARPA\", \"LOMBARDIA\")\n",
    "path.md <- file.path(path.lom, \"Stazioni_Meteorologiche.tsv\")\n",
    "\n",
    "metadata <- read_tsv_arrow(path.md,\n",
    "    col_types = schema(\n",
    "        IdSensore = uint32(),\n",
    "        IdStazione = uint32(),\n",
    "        Tipologia = dictionary(),\n",
    "        Provincia = dictionary(),\n",
    "        DataStart = timestamp(unit = \"s\"),\n",
    "        DataStop = timestamp(unit = \"s\"),\n",
    "        Quota = float(),\n",
    "        lng = float(),\n",
    "        lat = float()\n",
    "    ),\n",
    "    timestamp_parsers = \"%d/%m/%Y\",\n",
    "    as_data_frame = FALSE,\n",
    "    col_select = c(\"IdSensore\", \"IdStazione\", \"Tipologia\", \"Provincia\", \"DataStart\", \"DataStop\", \"Quota\", \"lng\", \"lat\")\n",
    ") |>\n",
    "    filter(Tipologia == \"Temperatura\") |>\n",
    "    select(-Tipologia) |>\n",
    "    mutate(across(starts_with(\"Data\"), ~ cast(., date32())))\n",
    "# filter(Tipologia == \"Temperatura\") |>\n",
    "# select(!c(Tipologia, starts_with(\"UTM\"), ends_with(\"Misura\"), location, Storico)) |>\n",
    "# mutate(DataStart = as.IDate(DataStart, format = \"%d/%m/%Y\"), DataStop = as.IDate(DataStop, format = \"%d/%m/%Y\"))\n"
   ]
  },
  {
   "cell_type": "code",
   "execution_count": 3,
   "metadata": {
    "vscode": {
     "languageId": "r"
    }
   },
   "outputs": [],
   "source": [
    "na_strings <- c(\"\", \"NA\", \"9999.0\", \"-9999.0\", \"-9999\", \"NV\", \"NC\", \"ND\")\n",
    "\n",
    "read_data.vroom <- function(file, ...) {\n",
    "    vroom(\n",
    "        file.path(path.lom, paste0(file, \".csv\")),\n",
    "        delim = \",\",\n",
    "        col_types = cols(),\n",
    "        na = na_strings,\n",
    "        ...\n",
    "    ) |> rename(Variable = idOperatore, Time = Data)\n",
    "}\n",
    "\n",
    "read_data.fread <- function(file, ...) {\n",
    "    fread(file.path(path.lom, paste0(file, \".csv\")),\n",
    "        sep = \",\",\n",
    "        colClasses = c(\n",
    "            \"IdSensore\" = \"integer\",\n",
    "            \"Data\" = \"character\",\n",
    "            \"Valore\" = \"double\",\n",
    "            \"Stato\" = \"factor\",\n",
    "            \"idOperatore\" = \"character\"\n",
    "        ),\n",
    "        na.strings = na_strings,\n",
    "        ...\n",
    "    )\n",
    "}\n",
    "\n",
    "read_data.arrow <- function(file, ...) {\n",
    "    read_csv_arrow(file.path(path.lom, paste0(file, \".csv\")),\n",
    "        schema = schema(\n",
    "            IdSensore = uint32(),\n",
    "            Data = timestamp(unit = \"s\"),\n",
    "            Valore = float(),\n",
    "            Stato = dictionary(),\n",
    "            idOperatore = uint8()\n",
    "        ),\n",
    "        timestamp_parsers = c(\"%d/%m/%Y %H:%M:%S\", \"%d/%m/%Y %H:%M:%S.000\"),\n",
    "        na = na_strings,\n",
    "        col_names = TRUE,\n",
    "        read_options = list(use_threads = TRUE, skip_rows = 0),\n",
    "        as_data_frame = FALSE,\n",
    "        ...\n",
    "    ) |> rename(Variabile = idOperatore, Time = Data)\n",
    "}\n",
    "\n",
    "load_data <- function(data, ...) {\n",
    "    data |>\n",
    "        semi_join(metadata, by = \"IdSensore\") |>\n",
    "        # drop_na(Stato) |>\n",
    "        mutate(Time = dmy_hms(Data), Variabile = fct(idOperatore, levels = c(\"2\", \"1\", \"3\", \"4\")) |> fct_recode(..., PRECIP = \"4\"), .keep = \"unused\") |>\n",
    "        arrange(IdSensore, Variabile, Time) |>\n",
    "        mutate(Time = lag(Time), .by = c(IdSensore, Variabile)) |>\n",
    "        # drop_na(Time) |>\n",
    "        arrange(IdSensore, Time, Variabile)\n",
    "}\n",
    "\n",
    "load_data.arrow <- function(data, ...) {\n",
    "    data |>\n",
    "        semi_join(metadata, by = \"IdSensore\") |>\n",
    "        arrange(IdSensore, Variabile, Time) |>\n",
    "        group_by(IdSensore, Variabile) |>\n",
    "        mutate(Time = Time + as.difftime(1, unit = \"secs\")) |>\n",
    "        arrange(IdSensore, Time, Variabile)\n",
    "}\n",
    "\n",
    "compute_daily_stats <- function(data, extremes) {\n",
    "    # if (extremes) {\n",
    "    #     tmin <- \"T_MIN\"\n",
    "    #     tmax <- \"T_MAX\"\n",
    "    # } else {\n",
    "    #     tmin <- \"T_AVG\"\n",
    "    #     tmax <- \"T_AVG\"\n",
    "    # }\n",
    "    data |>\n",
    "        # as_tsibble(key = IdSensore, index = Time) |>\n",
    "        # group_by_key() |>\n",
    "        # index_by(date = ~ lubridate::date(.)) |>\n",
    "        group_by(IdSensore, date = lubridate::date(Time)) |>\n",
    "        summarise(T_MIN = min(Valore, na.rm = TRUE), T_MAX = max(Valore, na.rm = TRUE), .groups = \"drop_last\")\n",
    "}\n"
   ]
  },
  {
   "cell_type": "code",
   "execution_count": 14,
   "metadata": {
    "vscode": {
     "languageId": "r"
    }
   },
   "outputs": [],
   "source": [
    "lom.schema <- schema(\n",
    "    IdSensore = uint32(),\n",
    "    Data = timestamp(unit = \"s\"),\n",
    "    Valore = float32(),\n",
    "    Stato = dictionary(),\n",
    "    idOperatore = uint8()\n",
    ")\n"
   ]
  },
  {
   "cell_type": "code",
   "execution_count": 9,
   "metadata": {
    "vscode": {
     "languageId": "r"
    }
   },
   "outputs": [],
   "source": [
    "# open_csv_dataset(fs::dir_ls(path.lom, glob = \"*.csv\"),\n",
    "#     hive_style = FALSE,\n",
    "#     schema = lom.schema,\n",
    "#     timestamp_parsers = c(\"%d/%m/%Y %H:%M:%S\", \"%d/%m/%Y %H:%M:%S.000\"),\n",
    "#     na = na_strings,\n",
    "#     col_names = TRUE,\n",
    "#     skip = 1\n",
    "# ) |>\n",
    "#     semi_join(metadata, by = \"IdSensore\") |>\n",
    "#     arrange(IdSensore, Data, idOperatore) |>\n",
    "#     collect() |>\n",
    "#     mutate(Stato = factor(Stato, levels = c(\"VA\"))) |>\n",
    "#     rename(Time = Data) |>\n",
    "#     write_dataset(file.path(path.lom, \"dataset\"),\n",
    "#         format = \"ipc\",\n",
    "#         partitioning = \"IdSensore\"\n",
    "#     )\n"
   ]
  },
  {
   "cell_type": "code",
   "execution_count": 6,
   "metadata": {
    "vscode": {
     "languageId": "r"
    }
   },
   "outputs": [],
   "source": [
    "# write_parquet(\n",
    "#     ds,\n",
    "#     file.path(path.lom, \"full.parquet\")\n",
    "# )\n"
   ]
  },
  {
   "cell_type": "code",
   "execution_count": 20,
   "metadata": {
    "vscode": {
     "languageId": "r"
    }
   },
   "outputs": [],
   "source": [
    "data <- open_dataset(file.path(path.lom, \"dataset\"),\n",
    "    format = \"ipc\"\n",
    ")\n"
   ]
  },
  {
   "cell_type": "code",
   "execution_count": null,
   "metadata": {
    "vscode": {
     "languageId": "r"
    }
   },
   "outputs": [],
   "source": []
  }
 ],
 "metadata": {
  "kernelspec": {
   "display_name": "R",
   "language": "R",
   "name": "ir"
  },
  "language_info": {
   "codemirror_mode": "r",
   "file_extension": ".r",
   "mimetype": "text/x-r-source",
   "name": "R",
   "pygments_lexer": "r",
   "version": "4.3.2"
  }
 },
 "nbformat": 4,
 "nbformat_minor": 2
}
