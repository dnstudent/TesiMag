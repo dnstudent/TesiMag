{
 "cells": [
  {
   "cell_type": "code",
   "execution_count": 2,
   "metadata": {},
   "outputs": [],
   "source": [
    "import requests\n",
    "import bs4\n",
    "import pandas as pd\n",
    "from pathlib import Path\n",
    "from tqdm.notebook import tqdm\n",
    "\n",
    "base = Path.home() / \"Local_Workspace\" / \"Datasets\" / \"ARPA\" / \"FVG\""
   ]
  },
  {
   "cell_type": "code",
   "execution_count": 3,
   "metadata": {},
   "outputs": [],
   "source": [
    "with open(base / \"page.html\") as f:\n",
    "    soup = bs4.BeautifulSoup(f, \"html.parser\")\n",
    "station_ids = [\n",
    "    line.attrs[\"value\"] for line in soup.find(id=\"stazione\").contents if line != \"\\n\"\n",
    "][1:]\n",
    "station_ids = sorted(station_ids)"
   ]
  },
  {
   "cell_type": "code",
   "execution_count": 4,
   "metadata": {},
   "outputs": [],
   "source": [
    "import json\n",
    "\n",
    "with open(base / \"test.har\") as test_req:\n",
    "    test_req = json.load(test_req)\n",
    "data = test_req[\"log\"][\"entries\"][0][\"request\"][\"postData\"][\"params\"]\n",
    "headers = test_req[\"log\"][\"entries\"][0][\"request\"][\"headers\"]"
   ]
  },
  {
   "cell_type": "code",
   "execution_count": null,
   "metadata": {},
   "outputs": [],
   "source": [
    "from time import sleep\n",
    "import random\n",
    "\n",
    "request_url = \"https://www.osmer.fvg.it/ajax/getStationData.php\"\n",
    "\n",
    "\n",
    "def req_data(station_id: str, year: str, session: requests.Session) -> str:\n",
    "    \"\"\"\n",
    "    Sends a POST request to retrieve data for a specific station and year.\n",
    "\n",
    "    Args:\n",
    "        station_id (str): The ID of the station.\n",
    "        year (int): The year for which data is requested.\n",
    "        session (requests.Session): The session object to use for the request.\n",
    "\n",
    "    Returns:\n",
    "        str: The response text of the request.\n",
    "    \"\"\"\n",
    "    r = session.get(\"https://www.osmer.fvg.it/archivio.php?ln=&p=dati\")\n",
    "    data = {\n",
    "        \"a\": f\"{year}\",\n",
    "        \"m\": \"99\",\n",
    "        \"g\": \"10\",\n",
    "        \"s\": station_id,\n",
    "        \"t\": \"H_3\",\n",
    "        \"o\": \"visualizza\",\n",
    "        \"ln\": \"\",\n",
    "    }\n",
    "    sleep(random.uniform(1, 3))\n",
    "    cookie = f\"SameSite=None; Secure=1; meteofvg_cookie=1; PHPSESSID={session.cookies['PHPSESSID']}\"\n",
    "    headers1 = {header[\"name\"]: header[\"value\"] for header in headers}\n",
    "    headers1.pop(\"Cookie\")\n",
    "    headers1[\"Cookie\"] = cookie\n",
    "    r = session.post(request_url, data=data, headers=headers1)\n",
    "    return r.text\n",
    "\n",
    "\n",
    "def stat_path(station_id):\n",
    "    return base / \"data\" / f\"{station_id.split('@')[0]}\"\n",
    "\n",
    "\n",
    "def file_path(station_id, year):\n",
    "    return stat_path(station_id) / f\"{year}.html\"\n",
    "\n",
    "# Downloading data\n",
    "for station_id in tqdm(station_ids):\n",
    "    skipped = True\n",
    "    if not stat_path(station_id).exists():\n",
    "        stat_path(station_id).mkdir(parents=True)\n",
    "    with requests.Session() as s:\n",
    "        for year in tqdm(range(1980, 2025), leave=False):\n",
    "            if not file_path(station_id, year).exists():\n",
    "                data = req_data(station_id, year, s)\n",
    "                skipped = False\n",
    "                with open(file_path(station_id, year), \"wt\") as f:\n",
    "                    f.write(data)\n",
    "                sleep(random.uniform(1, 2))\n",
    "    if not skipped:\n",
    "        sleep(random.uniform(10, 20))"
   ]
  },
  {
   "cell_type": "code",
   "execution_count": 5,
   "metadata": {},
   "outputs": [],
   "source": [
    "# Writing station metadata to CSV\n",
    "(\n",
    "    pd.Series(station_ids)\n",
    "    .str.split(\"@\", expand=True)\n",
    "    .rename(\n",
    "        columns={\n",
    "            0: \"station_code\",\n",
    "            1: \"station_name\",\n",
    "            2: \"station_kind\",\n",
    "            3: \"lat\",\n",
    "            4: \"lon\",\n",
    "            5: \"elevation\",\n",
    "        }\n",
    "    )\n",
    "    .astype(\n",
    "        {\n",
    "            \"station_code\": \"string\",\n",
    "            \"station_name\": \"string\",\n",
    "            \"station_kind\": \"string\",\n",
    "            \"lat\": \"float\",\n",
    "            \"lon\": \"float\",\n",
    "            \"elevation\": \"float\",\n",
    "        }\n",
    "    )\n",
    "    .to_csv(base / \"station_info.csv\", index=False)\n",
    ")"
   ]
  },
  {
   "cell_type": "code",
   "execution_count": null,
   "metadata": {},
   "outputs": [],
   "source": []
  }
 ],
 "metadata": {
  "kernelspec": {
   "display_name": "geopy",
   "language": "python",
   "name": "python3"
  },
  "language_info": {
   "codemirror_mode": {
    "name": "ipython",
    "version": 3
   },
   "file_extension": ".py",
   "mimetype": "text/x-python",
   "name": "python",
   "nbconvert_exporter": "python",
   "pygments_lexer": "ipython3",
   "version": "3.12.1"
  }
 },
 "nbformat": 4,
 "nbformat_minor": 2
}
