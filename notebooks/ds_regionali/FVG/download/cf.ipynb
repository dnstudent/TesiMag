version https://git-lfs.github.com/spec/v1
oid sha256:c73827c4c8fe601c48f193a7862158822cbe845b66009e08bc4cb9014f4f31d3
size 139115
