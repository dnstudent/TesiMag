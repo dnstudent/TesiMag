{
 "cells": [
  {
   "cell_type": "code",
   "execution_count": 1,
   "metadata": {},
   "outputs": [],
   "source": [
    "import requests\n",
    "from requests import Session\n",
    "import polars as pl\n",
    "from pathlib import Path\n",
    "from time import sleep\n",
    "from random import random\n",
    "from tqdm.notebook import tqdm\n",
    "\n",
    "base = Path.home() / \"Local_Workspace\" / \"Datasets\" / \"ARPA\" / \"TOSCANA\""
   ]
  },
  {
   "cell_type": "code",
   "execution_count": 2,
   "metadata": {},
   "outputs": [],
   "source": [
    "def dwn_url(id):\n",
    "    return f\"http://www.sir.toscana.it/archivio/download.php?IDST=termo_csv&IDS={id}\""
   ]
  },
  {
   "cell_type": "code",
   "execution_count": 7,
   "metadata": {},
   "outputs": [],
   "source": [
    "# All auto_sir stations are in automatiche.csv. All stations are in stazioni.csv\n",
    "auto_sir = pl.read_csv(\n",
    "    base / \"automatiche_sir.csv\",\n",
    "    encoding=\"iso-8859-1\",\n",
    "    separator=\";\",\n",
    "    dtypes={\"IDSensoreRete\": pl.Int64()},\n",
    ").with_columns(pl.lit(\"Automatiche SIR\").alias(\"network\"))\n",
    "auto = pl.read_csv(\n",
    "    base / \"automatiche.csv\", encoding=\"iso-8859-1\", separator=\";\"\n",
    ").with_columns(pl.lit(\"Automatiche\").alias(\"network\")).join(auto_sir, on=\"IDStazione\", how=\"anti\")\n",
    "trad = pl.read_csv(\n",
    "    base / \"tradizionali.csv\",\n",
    "    encoding=\"iso-8859-1\",\n",
    "    separator=\";\",\n",
    "    dtypes={\"IDSensoreRete\": pl.Int64()},\n",
    ").with_columns(pl.lit(\"Tradizionali\").alias(\"network\"))\n",
    "\n",
    "all_meta = pl.concat([auto, auto_sir, trad], how = \"vertical\")\n",
    "all_meta.write_csv(base / \"stazioni.csv\")\n",
    "station_ids = all_meta[\"IDStazione\"].to_list()"
   ]
  },
  {
   "cell_type": "code",
   "execution_count": 8,
   "metadata": {},
   "outputs": [],
   "source": [
    "headers_l = [\n",
    "\t\t\t{\n",
    "\t\t\t\t\"name\": \"Accept\",\n",
    "\t\t\t\t\"value\": \"text/html,application/xhtml+xml,application/xml;q=0.9,image/avif,image/webp,*/*;q=0.8\"\n",
    "\t\t\t},\n",
    "\t\t\t{\n",
    "\t\t\t\t\"name\": \"Accept-Encoding\",\n",
    "\t\t\t\t\"value\": \"gzip, deflate\"\n",
    "\t\t\t},\n",
    "\t\t\t{\n",
    "\t\t\t\t\"name\": \"Accept-Language\",\n",
    "\t\t\t\t\"value\": \"it-IT,it;q=0.8,en-US;q=0.5,en;q=0.3\"\n",
    "\t\t\t},\n",
    "\t\t\t{\n",
    "\t\t\t\t\"name\": \"Cache-Control\",\n",
    "\t\t\t\t\"value\": \"no-cache\"\n",
    "\t\t\t},\n",
    "\t\t\t{\n",
    "\t\t\t\t\"name\": \"Connection\",\n",
    "\t\t\t\t\"value\": \"keep-alive\"\n",
    "\t\t\t},\n",
    "\t\t\t{\n",
    "\t\t\t\t\"name\": \"Host\",\n",
    "\t\t\t\t\"value\": \"www.sir.toscana.it\"\n",
    "\t\t\t},\n",
    "\t\t\t{\n",
    "\t\t\t\t\"name\": \"Pragma\",\n",
    "\t\t\t\t\"value\": \"no-cache\"\n",
    "\t\t\t},\n",
    "\t\t\t{\n",
    "\t\t\t\t\"name\": \"Referer\",\n",
    "\t\t\t\t\"value\": \"http://www.sir.toscana.it/consistenza-rete\"\n",
    "\t\t\t},\n",
    "\t\t\t{\n",
    "\t\t\t\t\"name\": \"Upgrade-Insecure-Requests\",\n",
    "\t\t\t\t\"value\": \"1\"\n",
    "\t\t\t},\n",
    "\t\t\t{\n",
    "\t\t\t\t\"name\": \"User-Agent\",\n",
    "\t\t\t\t\"value\": \"Mozilla/5.0 (Macintosh; Intel Mac OS X 10.15; rv:121.0) Gecko/20100101 Firefox/121.0\"\n",
    "\t\t\t}\n",
    "\t\t]\n",
    "headers = {}\n",
    "for h in headers_l:\n",
    "\theaders[h[\"name\"]] = h[\"value\"]"
   ]
  },
  {
   "cell_type": "code",
   "execution_count": 10,
   "metadata": {},
   "outputs": [
    {
     "data": {
      "application/vnd.jupyter.widget-view+json": {
       "model_id": "01e8c0f50b9f4bcc8dbeeac0827946fb",
       "version_major": 2,
       "version_minor": 0
      },
      "text/plain": [
       "  0%|          | 0/513 [00:00<?, ?it/s]"
      ]
     },
     "metadata": {},
     "output_type": "display_data"
    }
   ],
   "source": [
    "# headers = {\n",
    "#     \"user-agent\": \"Mozilla/5.0 (Macintosh; Intel Mac OS X 10_15_7) AppleWebKit/605.1.15 (KHTML, like Gecko) Version/17.2.1 Safari/605.1.15\"\n",
    "# }\n",
    "def dwn(stat_id, session):\n",
    "    dwn_path = base / \"fragments\" / f\"{stat_id}.csv\"\n",
    "    present = dwn_path.exists() and (dwn_path.stat().st_size > 100)\n",
    "    if not present:\n",
    "        csv_url = dwn_url(stat_id)\n",
    "        dwn_path.write_text(\n",
    "            session.get(csv_url, headers=headers, cookies=session.cookies).text, encoding=\"utf-8\"\n",
    "        )\n",
    "    return present\n",
    "\n",
    "with Session() as session:\n",
    "    for stat_id in tqdm(station_ids):\n",
    "        if not dwn(stat_id, session):\n",
    "            sleep(3 * random())"
   ]
  },
  {
   "cell_type": "code",
   "execution_count": null,
   "metadata": {},
   "outputs": [],
   "source": []
  }
 ],
 "metadata": {
  "kernelspec": {
   "display_name": "geopy",
   "language": "python",
   "name": "python3"
  },
  "language_info": {
   "codemirror_mode": {
    "name": "ipython",
    "version": 3
   },
   "file_extension": ".py",
   "mimetype": "text/x-python",
   "name": "python",
   "nbconvert_exporter": "python",
   "pygments_lexer": "ipython3",
   "version": "3.12.1"
  }
 },
 "nbformat": 4,
 "nbformat_minor": 2
}
