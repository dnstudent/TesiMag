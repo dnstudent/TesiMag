{
 "cells": [
  {
   "cell_type": "code",
   "execution_count": 1,
   "metadata": {},
   "outputs": [],
   "source": [
    "import requests\n",
    "from requests import Session\n",
    "import polars as pl\n",
    "from pathlib import Path\n",
    "from time import sleep\n",
    "from random import random\n",
    "from tqdm.notebook import tqdm\n",
    "from pathlib import Path\n",
    "import os"
   ]
  },
  {
   "cell_type": "code",
   "execution_count": 2,
   "metadata": {},
   "outputs": [],
   "source": [
    "# termo_csv è temperature\n",
    "# pluvio0_24 è precipitazioni 0-24\n",
    "# pluvio è precipitazioni 9-9\n",
    "def download_payload(id, variable):\n",
    "    return {\n",
    "        \"IDST\": variable,\n",
    "        \"IDS\": id\n",
    "    }\n",
    "base_url = \"http://www.sir.toscana.it/archivio/download.php\""
   ]
  },
  {
   "cell_type": "code",
   "execution_count": 3,
   "metadata": {},
   "outputs": [],
   "source": [
    "# All auto_sir stations are in automatiche.csv. All stations are in stazioni.csv\n",
    "def read_metas(base: Path):\n",
    "    auto_sir = pl.read_csv(\n",
    "        base / \"automatiche_sir.csv\",\n",
    "        encoding=\"iso-8859-1\",\n",
    "        separator=\";\",\n",
    "        dtypes={\"IDSensoreRete\": pl.Int64()},\n",
    "    ).with_columns(pl.lit(\"Automatiche SIR\").alias(\"network\"))\n",
    "    auto = pl.read_csv(\n",
    "        base / \"automatiche.csv\", encoding=\"iso-8859-1\", separator=\";\"\n",
    "    ).with_columns(pl.lit(\"Automatiche\").alias(\"network\")).join(auto_sir, on=\"IDStazione\", how=\"anti\")\n",
    "    trad = pl.read_csv(\n",
    "        base / \"tradizionali.csv\",\n",
    "        encoding=\"iso-8859-1\",\n",
    "        separator=\";\",\n",
    "        dtypes={\"IDSensoreRete\": pl.Int64()},\n",
    "    ).with_columns(pl.lit(\"Tradizionali\").alias(\"network\"))\n",
    "\n",
    "    all_meta = pl.concat([auto, auto_sir, trad], how = \"vertical\")\n",
    "    all_meta.write_csv(base / \"stazioni.csv\")\n",
    "    station_ids = all_meta[\"IDStazione\"].to_list()\n",
    "    return station_ids"
   ]
  },
  {
   "cell_type": "code",
   "execution_count": 4,
   "metadata": {},
   "outputs": [],
   "source": [
    "headers_l = [\n",
    "\t\t\t{\n",
    "\t\t\t\t\"name\": \"Accept\",\n",
    "\t\t\t\t\"value\": \"text/html,application/xhtml+xml,application/xml;q=0.9,image/avif,image/webp,*/*;q=0.8\"\n",
    "\t\t\t},\n",
    "\t\t\t{\n",
    "\t\t\t\t\"name\": \"Accept-Encoding\",\n",
    "\t\t\t\t\"value\": \"gzip, deflate\"\n",
    "\t\t\t},\n",
    "\t\t\t{\n",
    "\t\t\t\t\"name\": \"Accept-Language\",\n",
    "\t\t\t\t\"value\": \"it-IT,it;q=0.8,en-US;q=0.5,en;q=0.3\"\n",
    "\t\t\t},\n",
    "\t\t\t{\n",
    "\t\t\t\t\"name\": \"Cache-Control\",\n",
    "\t\t\t\t\"value\": \"no-cache\"\n",
    "\t\t\t},\n",
    "\t\t\t{\n",
    "\t\t\t\t\"name\": \"Connection\",\n",
    "\t\t\t\t\"value\": \"keep-alive\"\n",
    "\t\t\t},\n",
    "\t\t\t{\n",
    "\t\t\t\t\"name\": \"Host\",\n",
    "\t\t\t\t\"value\": \"www.sir.toscana.it\"\n",
    "\t\t\t},\n",
    "\t\t\t{\n",
    "\t\t\t\t\"name\": \"Pragma\",\n",
    "\t\t\t\t\"value\": \"no-cache\"\n",
    "\t\t\t},\n",
    "\t\t\t{\n",
    "\t\t\t\t\"name\": \"Referer\",\n",
    "\t\t\t\t\"value\": \"http://www.sir.toscana.it/consistenza-rete\"\n",
    "\t\t\t},\n",
    "\t\t\t{\n",
    "\t\t\t\t\"name\": \"Upgrade-Insecure-Requests\",\n",
    "\t\t\t\t\"value\": \"1\"\n",
    "\t\t\t},\n",
    "\t\t\t{\n",
    "\t\t\t\t\"name\": \"User-Agent\",\n",
    "\t\t\t\t\"value\": \"Mozilla/5.0 (Macintosh; Intel Mac OS X 10.15; rv:121.0) Gecko/20100101 Firefox/121.0\"\n",
    "\t\t\t}\n",
    "\t\t]\n",
    "headers = {}\n",
    "for h in headers_l:\n",
    "\theaders[h[\"name\"]] = h[\"value\"]"
   ]
  },
  {
   "cell_type": "code",
   "execution_count": 8,
   "metadata": {},
   "outputs": [],
   "source": [
    "# Per 'variable':\n",
    "# - termo_csv è temperature\n",
    "# - pluvio0_24 è precipitazioni 0-24\n",
    "# - pluvio è precipitazioni 9-9\n",
    "def download_station(base_path, stat_id, session, variable, skip_existing = True, verbose = False):\n",
    "    if variable is list:\n",
    "        for v in variable:\n",
    "            try:\n",
    "                download_station(base_path, stat_id, session, v, skip_existing)\n",
    "            except:\n",
    "                if verbose:\n",
    "                    print(f\"Error downloading {v} for station {stat_id}\")\n",
    "            return True\n",
    "    dwn_path = base_path / \"fragments\" / f\"{stat_id}.csv\"\n",
    "    # Meccanismo di resume: se è già presente un file di almeno 100 byte, non lo scarico\n",
    "    present = dwn_path.exists() and (dwn_path.stat().st_size > 100)\n",
    "    if not present or not skip_existing:\n",
    "        csv_content = session.get(base_url, params=download_payload(stat_id, variable), headers=headers, cookies=session.cookies).text\n",
    "        dwn_path.write_text(\n",
    "            csv_content, encoding=\"utf-8\"\n",
    "        )\n",
    "    return present\n",
    "\n",
    "def download_dataset(base_path: Path, variable: str|list[str], max_pause = 3):\n",
    "    station_ids = read_metas(base_path)\n",
    "    os.makedirs(base_path / \"fragments\", exist_ok=True)\n",
    "    with Session() as session:\n",
    "        for stat_id in tqdm(station_ids):\n",
    "            if not download_station(base_path, stat_id, session, variable):\n",
    "                sleep(max_pause * random())"
   ]
  },
  {
   "cell_type": "code",
   "execution_count": null,
   "metadata": {},
   "outputs": [],
   "source": [
    "base = Path.home() / \"Local_Workspace\" / \"Datasets\" / \"ARPA\" / \"TOSCANA\" / \"pluvio\"\n",
    "download_dataset(base, [\"pluvio0_24\", \"pluvio\"])"
   ]
  },
  {
   "cell_type": "code",
   "execution_count": null,
   "metadata": {},
   "outputs": [],
   "source": []
  }
 ],
 "metadata": {
  "kernelspec": {
   "display_name": "geopy",
   "language": "python",
   "name": "python3"
  },
  "language_info": {
   "codemirror_mode": {
    "name": "ipython",
    "version": 3
   },
   "file_extension": ".py",
   "mimetype": "text/x-python",
   "name": "python",
   "nbconvert_exporter": "python",
   "pygments_lexer": "ipython3",
   "version": "3.12.2"
  }
 },
 "nbformat": 4,
 "nbformat_minor": 2
}
