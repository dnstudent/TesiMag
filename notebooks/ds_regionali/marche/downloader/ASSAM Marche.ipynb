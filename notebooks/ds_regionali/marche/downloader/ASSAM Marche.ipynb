{
 "cells": [
  {
   "cell_type": "code",
   "execution_count": 7,
   "metadata": {},
   "outputs": [],
   "source": [
    "import requests\n",
    "import json\n",
    "from datetime import date\n",
    "from time import sleep\n",
    "from pathlib import Path\n",
    "import polars as pl\n",
    "\n",
    "base = Path.home() / \"Local_Workspace\" / \"Datasets\" / \"ARPA\" / \"MARCHE\" / \"ASSAM\""
   ]
  },
  {
   "cell_type": "code",
   "execution_count": 2,
   "metadata": {},
   "outputs": [],
   "source": [
    "def request_data(province, date: date):\n",
    "  return {\n",
    "    \"Utente\": \"9\",\n",
    "    \"SiglaProv\": province,\n",
    "    \"Giorno\": date.strftime(r\"%d/%m/%Y\")\n",
    "  }\n",
    "headers = {\n",
    "  'Content-Type': 'application/json'\n",
    "}\n",
    "\n",
    "provinces = [\"AN\", \"AP\", \"FM\", \"MC\", \"PU\"]"
   ]
  },
  {
   "cell_type": "code",
   "execution_count": 10,
   "metadata": {},
   "outputs": [],
   "source": [
    "def download_date(date: date, session: requests.Session):\n",
    "  path = base / \"fragments\" / f\"{date.strftime(r\"%d-%m-%Y\")}.csv\"\n",
    "  path.parent.mkdir(exist_ok=True)\n",
    "  resps = []\n",
    "  for province in provinces:\n",
    "    data = request_data(province, date)\n",
    "    resp = session.post(\"http://meteo.marche.it/ws2009/DISPENSERservice.asmx/MisureGiornalierePerProvincia\", json=data).json()\n",
    "    for i in range(len(resp)):\n",
    "      resp[i][\"province_code\"] = province\n",
    "    resps.extend(resp)\n",
    "    sleep(0.2)\n",
    "  pl.from_dicts(resps).write_csv(path)\n",
    "\n"
   ]
  },
  {
   "cell_type": "code",
   "execution_count": 14,
   "metadata": {},
   "outputs": [],
   "source": [
    "with requests.Session() as session:\n",
    "    download_date(date(1994, 12, 29), session)"
   ]
  },
  {
   "cell_type": "code",
   "execution_count": null,
   "metadata": {},
   "outputs": [],
   "source": []
  }
 ],
 "metadata": {
  "kernelspec": {
   "display_name": "tesi",
   "language": "python",
   "name": "python3"
  },
  "language_info": {
   "codemirror_mode": {
    "name": "ipython",
    "version": 3
   },
   "file_extension": ".py",
   "mimetype": "text/x-python",
   "name": "python",
   "nbconvert_exporter": "python",
   "pygments_lexer": "ipython3",
   "version": "3.12.3"
  }
 },
 "nbformat": 4,
 "nbformat_minor": 2
}
