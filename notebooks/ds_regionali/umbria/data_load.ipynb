version https://git-lfs.github.com/spec/v1
oid sha256:7ea6f39ec75c57ed6914b06809bfc1c8451b1cf221f8aee7c57df9ec75b24d4d
size 1092577
