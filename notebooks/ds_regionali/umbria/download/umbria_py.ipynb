{
 "cells": [
  {
   "cell_type": "code",
   "execution_count": 28,
   "metadata": {},
   "outputs": [],
   "source": [
    "import requests\n",
    "import re\n",
    "from pathlib import Path\n",
    "\n",
    "arpa_path = (Path.home()\n",
    "    / \"Local_Workspace\"\n",
    "    / \"Datasets\"\n",
    "    / \"ARPA\"\n",
    "    / \"UMBRIA\")"
   ]
  },
  {
   "cell_type": "code",
   "execution_count": 29,
   "metadata": {},
   "outputs": [],
   "source": [
    "info_txt = (arpa_path / \"annali_page.html\").read_text()"
   ]
  },
  {
   "cell_type": "code",
   "execution_count": 22,
   "metadata": {},
   "outputs": [],
   "source": [
    "info_re = re.compile(\n",
    "    r'var info(?P<idx>\\d+) = {\\s+id: \\d+,\\s+idStazione: \"(?P<station_id>[^\"]+)\",\\s+coordinate: \"(?P<lat>[^,]+), (?P<lon>[^\"]+)\",\\s+nome: \"(?P<name>[^\"]+)\",\\s+provincia: \"(?P<province_code>[^\"]+)\",\\s+comune: \"(?P<town>[^\"]+)\",\\s+bacino: \"(?P<bacino>[^\"]+)\",\\s+quota: \"(?P<elevation>\\d+)(?:\\\\r)?\",\\s+tabella: \"(?P<table>[^\"]+)\",\\s+};'\n",
    ")\n",
    "stazioni_info = list(map(lambda match: match.groupdict(), info_re.finditer(info_txt)))"
   ]
  },
  {
   "cell_type": "code",
   "execution_count": 30,
   "metadata": {},
   "outputs": [],
   "source": [
    "import polars as pl\n",
    "pl.from_records(stazioni_info, schema_overrides={\"idx\": pl.Utf8(), \"station_id\": pl.Utf8()}).write_csv(arpa_path / \"stazioni_info.csv\")"
   ]
  },
  {
   "cell_type": "code",
   "execution_count": null,
   "metadata": {},
   "outputs": [],
   "source": []
  }
 ],
 "metadata": {
  "kernelspec": {
   "display_name": "tesi",
   "language": "python",
   "name": "python3"
  },
  "language_info": {
   "codemirror_mode": {
    "name": "ipython",
    "version": 3
   },
   "file_extension": ".py",
   "mimetype": "text/x-python",
   "name": "python",
   "nbconvert_exporter": "python",
   "pygments_lexer": "ipython3",
   "version": "3.12.1"
  }
 },
 "nbformat": 4,
 "nbformat_minor": 2
}
