{
 "cells": [
  {
   "cell_type": "code",
   "execution_count": 1,
   "metadata": {},
   "outputs": [],
   "source": [
    "import json\n",
    "import polars as pl\n",
    "from pathlib import Path\n",
    "\n",
    "base = Path(\"/Users/davidenicoli/Local_Workspace/Datasets/ARPA/VDA/\")"
   ]
  },
  {
   "cell_type": "code",
   "execution_count": 2,
   "metadata": {},
   "outputs": [],
   "source": [
    "with open(base / \"stations.json\", \"rt\") as f:\n",
    "    stations = json.load(f)[\"stations\"]"
   ]
  },
  {
   "cell_type": "code",
   "execution_count": 3,
   "metadata": {},
   "outputs": [],
   "source": [
    "cf_meta = pl.from_records(stations).select(pl.col(\"marker_name\").alias(\"name\"), pl.col(\"marker_lon\").alias(\"lon\"), pl.col(\"marker_lat\").alias(\"lat\"))"
   ]
  },
  {
   "cell_type": "code",
   "execution_count": 7,
   "metadata": {},
   "outputs": [],
   "source": [
    "import pandas as pd\n",
    "db_meta = pl.from_pandas(pd.read_excel(\"/Users/davidenicoli/Local_Workspace/TesiMag/external/correzioni/VDA_edit.xlsx\")[[\"name\"]])"
   ]
  },
  {
   "cell_type": "code",
   "execution_count": 10,
   "metadata": {},
   "outputs": [],
   "source": [
    "db_meta.join(cf_meta, on=\"name\", how=\"left\").to_pandas().to_excel(\"/Users/davidenicoli/Local_Workspace/TesiMag/external/correzioni/VDA_edit_locs.xlsx\", index=False) "
   ]
  },
  {
   "cell_type": "code",
   "execution_count": 13,
   "metadata": {},
   "outputs": [],
   "source": []
  },
  {
   "cell_type": "code",
   "execution_count": 22,
   "metadata": {},
   "outputs": [],
   "source": [
    "import geopandas as gpd\n",
    "import fiona\n",
    "\n",
    "md = cf_meta.to_pandas()\n",
    "gdf = gpd.GeoDataFrame(cf_meta.to_pandas(), geometry=gpd.points_from_xy(md.lon, md.lat))\n",
    "fiona.supported_drivers[\"KML\"] = \"raw\"\n",
    "gdf.to_file(\"/Users/davidenicoli/Local_Workspace/TesiMag/kml_metadata/Valle D'Aosta/cf.kml\", driver=\"KML\")"
   ]
  },
  {
   "cell_type": "code",
   "execution_count": null,
   "metadata": {},
   "outputs": [],
   "source": []
  }
 ],
 "metadata": {
  "kernelspec": {
   "display_name": "tesi",
   "language": "python",
   "name": "python3"
  },
  "language_info": {
   "codemirror_mode": {
    "name": "ipython",
    "version": 3
   },
   "file_extension": ".py",
   "mimetype": "text/x-python",
   "name": "python",
   "nbconvert_exporter": "python",
   "pygments_lexer": "ipython3",
   "version": "3.12.3"
  }
 },
 "nbformat": 4,
 "nbformat_minor": 2
}
