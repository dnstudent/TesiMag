version https://git-lfs.github.com/spec/v1
oid sha256:6a4e55e940d8cf431bfc47f98e15a9c3375730c2a07853c732eb2e22f2e2a10d
size 1351002
