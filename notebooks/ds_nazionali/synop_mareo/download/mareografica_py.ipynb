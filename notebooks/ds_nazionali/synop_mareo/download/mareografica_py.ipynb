{
 "cells": [
  {
   "cell_type": "code",
   "execution_count": 4,
   "metadata": {},
   "outputs": [],
   "source": [
    "import requests\n",
    "from bs4 import BeautifulSoup\n",
    "import re"
   ]
  },
  {
   "cell_type": "code",
   "execution_count": 2,
   "metadata": {},
   "outputs": [],
   "source": [
    "stazioni_url = \"https://www.mareografico.it/it/stazioni.html\"\n",
    "stazioni_page = BeautifulSoup(requests.get(stazioni_url).text, \"html.parser\")"
   ]
  },
  {
   "cell_type": "code",
   "execution_count": 11,
   "metadata": {},
   "outputs": [],
   "source": [
    "ids = [\n",
    "    tag.attrs[\"id\"]\n",
    "    for tag in stazioni_page.find_all(\"li\", attrs={\"id\": re.compile(r\"St-\\d+\")})\n",
    "]\n",
    "# Get the unique list of ids\n",
    "ids = list(set(ids))"
   ]
  },
  {
   "cell_type": "code",
   "execution_count": 64,
   "metadata": {},
   "outputs": [],
   "source": [
    "def data_payload(request_id, station_id):\n",
    "    return {\n",
    "        \"k\": request_id,\n",
    "        \"l\": \"it\",\n",
    "        \"id\": \"\",\n",
    "        \"w\": \"910\",\n",
    "        \"h\": \"445\",\n",
    "        \"o\": \"T\",\n",
    "        \"r\": \"1\",\n",
    "        \"s\": station_id.split(\"-\")[1],\n",
    "        \"t\": \"P195001010000202402031500\",\n",
    "        \"p\": \"|4|\",\n",
    "        \"mn\": \"\",\n",
    "        \"mx\": \"\",\n",
    "        \"mn2\": \"\",\n",
    "        \"mx2\": \"\",\n",
    "        \"run\": \"1\",\n",
    "        \"debug\": \"\",\n",
    "    }\n",
    "\n",
    "def data_cookie(session_cookies, station_id):\n",
    "    session_id = session_cookies.get(\"PHPSESSID\")\n",
    "    session_cookies.set(f\"MG{session_id}\", f\"][1][{station_id.split(\"-\")[1]}][][][][][][][1][1\")\n",
    "    session_cookies.set(\"A4IxScreenSize\", r\"1440%40783%402%40it\")\n",
    "    return session_cookies\n",
    "\n",
    "def download_station_data(station_id):\n",
    "    url = \"https://www.mareografico.it/APPS/mareo_data.php\"\n",
    "    with requests.Session() as s:\n",
    "        initial_req = s.get(stazioni_url)\n",
    "        session_id = initial_req.cookies[\"PHPSESSID\"]\n",
    "        station_resp = s.get(stazioni_url, cookies=data_cookie(s.cookies, station_id))\n",
    "        lat, lon = re.findall(r\"latitude=(\\d+\\.\\d+)&longitude=(\\d+\\.\\d+)\", station_resp.text)[0]\n",
    "        # name = re.findall(f\"<li id='St-{station_id.split(\"-\")[1]}' class='dMsel'>(.+?)</li>\", station_resp.text)[0]\n",
    "    return station_resp, session_id, s.cookies.get_dict(), lat, lon\n"
   ]
  },
  {
   "cell_type": "code",
   "execution_count": 65,
   "metadata": {},
   "outputs": [],
   "source": [
    "resp, sid, cookies, lat, lon = download_station_data(ids[0])"
   ]
  },
  {
   "cell_type": "code",
   "execution_count": 66,
   "metadata": {},
   "outputs": [
    {
     "data": {
      "text/plain": [
       "{'PHPSESSID': 'n4vhdi55fobp7e8t0oeqbiu10j',\n",
       " 'MGn4vhdi55fobp7e8t0oeqbiu10j': '][1][20][][][][][][][1][1',\n",
       " 'A4IxScreenSize': '1440%40783%402%40it'}"
      ]
     },
     "execution_count": 66,
     "metadata": {},
     "output_type": "execute_result"
    }
   ],
   "source": [
    "cookies"
   ]
  },
  {
   "cell_type": "code",
   "execution_count": 67,
   "metadata": {},
   "outputs": [
    {
     "data": {
      "text/plain": [
       "('43.624802', '13.50651')"
      ]
     },
     "execution_count": 67,
     "metadata": {},
     "output_type": "execute_result"
    }
   ],
   "source": [
    "re.findall(r\"latitude=(\\d+\\.\\d+)&longitude=(\\d+\\.\\d+)\", resp.text)[0]"
   ]
  },
  {
   "cell_type": "code",
   "execution_count": 68,
   "metadata": {},
   "outputs": [
    {
     "data": {
      "text/plain": [
       "\"<li id='St-20' class='dMsel'>(.+?)</li>\""
      ]
     },
     "execution_count": 68,
     "metadata": {},
     "output_type": "execute_result"
    }
   ],
   "source": [
    "f\"<li id='{ids[0]}' class='dMsel'>(.+?)</li>\""
   ]
  },
  {
   "cell_type": "code",
   "execution_count": 69,
   "metadata": {},
   "outputs": [
    {
     "data": {
      "text/plain": [
       "[('1', 'ANCONA')]"
      ]
     },
     "execution_count": 69,
     "metadata": {},
     "output_type": "execute_result"
    }
   ],
   "source": [
    "re.findall(f\"<li id='St-(\\\\d+)' class='dMsel'>(.+?)</li>\", resp.text)"
   ]
  },
  {
   "cell_type": "code",
   "execution_count": 24,
   "metadata": {},
   "outputs": [
    {
     "data": {
      "text/plain": [
       "'St-20'"
      ]
     },
     "execution_count": 24,
     "metadata": {},
     "output_type": "execute_result"
    }
   ],
   "source": [
    "ids[0]"
   ]
  },
  {
   "cell_type": "code",
   "execution_count": 20,
   "metadata": {},
   "outputs": [
    {
     "name": "stdout",
     "output_type": "stream",
     "text": [
      "<!DOCTYPE html>\n",
      "<html lang='it'>\n",
      "<head>\n",
      "<meta charset='UTF-8'>\n",
      "<meta http-equiv='Expires' content='Tue, 01 Jan 1970 00:00:00 GMT'>\n",
      "<meta http-equiv='Cache-Control' content='max-age=0'>\n",
      "<meta http-equiv='Cache-Control' content='no-store'>\n",
      "<meta http-equiv='Pragma' content='no-cache'>\n",
      "<title>stazioni</title>\n",
      "<meta name=\"viewport\" content=\"width=device-width, initial-scale=1.0\" / >\n",
      "<meta name=\"ROBOTS\" content=\"INDEX,FOLLOW\" >\n",
      "<meta name=\"description\" content=\"ISPRA Istituto Superiore per la Protezione e la Ricerca Ambientale - Reti di monitoraggio marino\" >\n",
      "<meta property='og:url' content='https://www.mareografico.it/it/stazioni.html'>\n",
      "<meta property='og:type' content='website'>\n",
      "<meta property='og:title' content='stazioni'>\n",
      "<link rel='canonical' href='https://www.mareografico.it/it/stazioni.html'>\n",
      "<link rel='shortcut icon' href='favicon.ico' type='image/x-icon'>\n",
      "<link rel='icon' type='image/png' sizes='16x16' href='/DATA/B239.png'>\n",
      "<link rel='icon' type='image/png' sizes='32x32' href='/DATA/B240.png'>\n",
      "<link rel='icon' type='image/png' sizes='192x192' href='/DATA/B241.png'>\n",
      "<link rel='icon' type='image/png' sizes='512x512' href='/DATA/B242.png'>\n",
      "<link rel='apple-touch-icon' sizes='57x57' href='/DATA/B244.png' >\n",
      "<link rel='apple-touch-icon' sizes='76x76' href='/DATA/B245.png'>\n",
      "<link rel='apple-touch-icon' sizes='120x120' href='/DATA/B246.png'>\n",
      "<link rel='apple-touch-icon' sizes='180x180' href='/DATA/B247.png'>\n",
      "<link rel='preload' href='/DATA/A4I.css?v=1665405039' as='style'>\n",
      "<link rel='stylesheet' href='/DATA/A4I.css?v=1665405039'>\n",
      "</head>\n",
      "<body class='C1'>\n",
      "<!-- start _L23 -->\n",
      "<div id='_L23' class='C2'><div id='_Ld23-0' class='_DTR'><div id='_Le23-0' class='C3'><div id='_Lf23-0' class='C4'>\n",
      "<!-- start _O17 -->\n",
      "<br>e la Ricerca Ambientale</h1></div></div>' class='C20'><div id='_Of17-0-0-250' class='C18'><a target='_blank' rel='noopener noreferrer' href='https://www.isprambiente.gov.it/it'><img id='__I-250-89' alt=\"ISPRA Istituto Superore per la Protezione e la Ricerca Ambientale\" title=\"ISPRA Istituto Superore per la Protezione e la Ricerca Ambientale\"  src='/DATA/B250.png' width='860' height='407' class='C19'></a></div></div><div id='_Ob17-1' class='C10'><div id='_Of17-1-0-251' class='C21'><a target='_blank' rel='noopener noreferrer' href='https://www.snpambiente.it/ '><img id='__I-251-22' alt=\"Sistema Nazionale per la Protezione dell'Ambiente\" title=\"Sistema Nazionale per la Protezione dell'Ambiente\"  src='/DATA/B251.png' width='658' height='407' class='C22'></a></div></div><div id='_Ob17-2' class='C13'><h1 class='ty13'>Istituto Superiore per la Protezione\n",
      "<!-- end _O17 -->\n",
      "</div></div></div><div id='_Ld23-1' class='_DTR'><div id='_Le23-1' class='C3'><div id='_Lf23-1' class='C4'>\n",
      "<!-- start _O27 -->\n",
      "<div id='_Oa27' class='C24'><div id='_Ob27-0' class='C26'><img id='_spc522' width='1' height='1' alt='space' src='/A4Ix/IMG/space.gif'></div><div id='_Ob27-1' class='C27'><img class='headerswitch' alt='NASCONDI LA BARRA SUPERIORE' txt='NASCONDI LA BARRA SUPERIORE' onclick='Htoggle()' src='/APPS/IMG/icoup.png'>\n",
      "<!-- start _M1 -->\n",
      "<!-- ddsmoothmenu -->\n",
      "<div id='_M1' class='C44'><ul><li><a href='/'>HOMEPAGE</a></li><li><a href='/it/ultime-news.html'>NEWS</a></li><li><a href='javascript:void(0)'>RETE MAREOGRAFICA NAZIONALE</a><ul><li><a href='/it/mappa-interattiva.html' onclick='SetR(1,\"MAP\")'>MAPPA INTERATTIVA</a></li><li><a href='/it/stazioni.html' onclick='SetR(1,\"STAZ\")'>STAZIONI DELLA RETE</a></li><li><a href='/it/confronto-stazioni.html' onclick='SetR(1,\"CONF\")'>CONFRONTO STAZIONI/PARAMETRI</a></li><li><a href='/it/archivio-dati.html' onclick='SetR(1,\"FILE\")'>ARCHIVIO DATI</a></li></ul></li><li><a href='javascript:void(0)'>RETE ONDAMETRICA NAZIONALE</a><ul><li><a href='/it/mappa-interattiva.html' onclick='SetR(4,\"MAP\")'>MAPPA INTERATTIVA</a></li><li><a href='/it/stazioni.html' onclick='SetR(4,\"STAZ\")'>STAZIONI DELLA RETE</a></li><li><a href='/it/confronto-stazioni.html' onclick='SetR(4,\"CONF\")'>CONFRONTO STAZIONI/PARAMETRI</a></li><li><a href='/it/archivio-dati.html' onclick='SetR(4,\"FILE\")'>ARCHIVIO DATI</a></li></ul></li><li><a href='javascript:void(0)'>RETE ADSP MAC</a><ul><li><a href='/it/stazioni.html' onclick='SetR(9,\"STAZ\")'>STAZIONI DELLA RETE</a></li></ul></li><li><a target='_blank' href='http://tsunami.isprambiente.it'>RETE DI SORVEGLIANZA PER IL SIAM</a></li><li><a target='_blank' href='https://videomonitoraggio.isprambiente.it/'>RETE DI VIDEOMONITORAGGIO COSTIERO</a></li></ul></div>\n",
      "<!-- end _M1 -->\n",
      "</div><div id='_Ob27-2' class='C13'><div class='__lang2'><a href='/en/stations.html'><img class='__flag' title='ENGLISH' alt='ENGLISH' width='25' height='17' src='data:image/gif;base64,R0lGODlhMgAiAOYAAP8AAP///wAAY0pKkri41f9KSv/T03Fxq/+4uP+FhQAAa/339/8uLv96ev/t7f8SEoWFtgAAWv9jYzg4hBMTc/8ICP+amsfH3ggIaykpfJ2dxtbW5+/v9/f3/+fn7xAQawAAAAAAAAAAAAAAAAAAAAAAAAAAAAAAAAAAAAAAAAAAAAAAAAAAAAAAAAAAAAAAAAAAAAAAAAAAAAAAAAAAAAAAAAAAAAAAAAAAAAAAAAAAAAAAAAAAAAAAAAAAAAAAAAAAAAAAAAAAAAAAAAAAAAAAAAAAAAAAAAAAAAAAAAAAAAAAAAAAAAAAAAAAAAAAAAAAAAAAAAAAAAAAAAAAAAAAAAAAAAAAAAAAAAAAAAAAAAAAAAAAAAAAAAAAAAAAAAAAAAAAAAAAAAAAAAAAAAAAAAAAAAAAAAAAAAAAAAAAAAAAAAAAAAAAAAAAAAAAAAAAAAAAAAAAAAAAAAAAAAAAAAAAAAAAAAAAAAAAAAAAAAAAAAAAAAAAAAAAAAAAACH5BAAAAAAALAAAAAAyACIAAAf/gA4Bg4MKAoeIiYgEAQkAjwAVAR2KlYcKFwEFkAAPhIMHEZaJjI6QkpSjhxEDg5AIAZASnwuqh4wNnKi2EYObAAWfEo+Snx6ilqW6k6MRGwEIkAafB9CQCZ8Bo8qnzJUTg8MADNkEAs4B4gzThBvIiwG53amkAQaQFtmihgIY0BWPGmQ7UM8UMW+HqsV6FOxThnf80P0CsODTBn7cDqaKkOneo2wBkCkYKYDkIVeP8n0aEAHXsg4RMqAEAMuhLX7VEAAEMItaxk4BOCgU15MQBEsRkipVymgiu0/yHnka5JEmLVFJFYHcyrURp6ldw4odazDS2LCc0qpdq7ZChQdu+N+6hRuXrt2dbPPq3cu3r9+/gAMLHky4sOHDiBMrTny2a1mwjSOTXSZZ39KlGrL9KlAxHuVP0R5hM3fT0EhwoInBIvBTEofMn36t6zDh0qWR/AzBHrRA1iBRrYOe8wB6p0ANJW8rYvSJwaOeA255heQpFYYOn6qOHqUAOyELqgOQlv54Ej8Bu8M9WqdtOS3nAASGTC49KtAOuYcXDyj+UKvUj0yTASLn/VRdfglpRowg/xECSUP70EfeV+bZFpF3DqYEYDED2iahS9RVmNx5/Sj40UIATINcJSQaKKJpikQAQTbrHRRAbSUhWOB0Ur0ooW0ZEEeIAYEAADs='></a></div></div><div id='_Ob27-3' class='C13'><div id='_Og27-3-0-M' class='C28'>\n",
      "<!-- start _M16 -->\n",
      "<div id='_M16' class='C64'><span class='C66'><a href='/login?xGo=23&xRet=23'><img id='__I-40-52' alt=\"AREA RISERVATA\" title=\"AREA RISERVATA\"  src='/DATA/B40.png' width='24' height='23'></a></span></div>\n",
      "<!-- end _M16 -->\n",
      "</div></div></div>\n",
      "<!-- end _O27 -->\n",
      "</div></div></div><div id='_Ld23-2' class='_DTR'><div id='_Le23-2' class='C5 C9'><div id='_Lf23-2' class='C4'>\n",
      "<!-- start _O32 -->\n",
      "<div id='_Oa32' class='C8'><div id='_Ob32-0' class='C10'><div class='_t0' ><div class='_tr'><div id='mS' class='dM'><table id='mSoff'><tr><td><b><font color='#571b26'>STAZIONI DELLA RETE</font></b></td><th><img onclick='LMtoggle()' alt='NASCONDI MENU' title='NASCONDI MENU' src='/APPS/IMG/icoleft2.png'></th></tr></table><ul><li id='St-1' class='dMsel'>ANCONA</li><li id='St-34'>ANZIO</li><li id='St-8'>BARI</li><li id='St-23'>CAGLIARI</li><li id='St-22'>CARLOFORTE</li><li id='St-24'>CATANIA</li><li id='St-17'>CIVITAVECCHIA</li><li id='St-11'>CROTONE</li><li id='St-31'>GAETA</li><li id='St-19'>GENOVA</li><li id='St-30'>GINOSTRA</li><li id='St-20'>IMPERIA</li><li id='St-27'>LA SPEZIA</li><li id='St-26'>LAMPEDUSA</li><li id='St-18'>LIVORNO</li><li id='St-33'>MARINA DI CAMPO</li><li id='St-13'>MESSINA</li><li id='St-16'>NAPOLI</li><li id='St-6'>ORTONA</li><li id='St-9'>OTRANTO</li><li id='St-2'>PALERMO</li><li id='St-14'>PALINURO</li><li id='St-32'>PONZA</li><li id='St-25'>PORTO EMPEDOCLE</li><li id='St-21'>PORTO TORRES</li><li id='St-5'>RAVENNA</li><li id='St-12'>REGGIO CALABRIA</li><li id='St-15'>SALERNO</li><li id='St-28'>SAN BENEDETTO DEL TRONTO</li><li id='St-35'>SCIACCA</li><li id='St-36'>STROMBOLICCHIO</li><li id='St-10'>TARANTO</li><li id='St-29'>TREMITI</li><li id='St-3'>TRIESTE</li><li id='St-4'>VENEZIA</li><li id='St-7'>VIESTE</li></ul></div><div class='staz'><h1 style='text-align:left'>STAZIONE DI&nbsp;<big><big>ANCONA</big></big><table class='stazright'><tr><td><table class='stazrightdata'><tr><td title='VISUALIZZA POSIZIONE SULLA MAPPA' onclick=\"jQopenmodal('/service.php?latitude=43.624802&longitude=13.50651&icon=BIG&zoom=16',800,600)\"><img src='/APPS/IMG/viewmap.png'></td><td onclick=\"jQopenmodal('/service.php?latitude=43.624802&longitude=13.50651&icon=BIG&zoom=16',800,600)\"><p>43° 37' 29.16\"N&nbsp;&nbsp;&nbsp;LAT<br>13° 30' 23.46\"E&nbsp;&nbsp;&nbsp;LON</p></td></tr></table><table class='stazrightdata'><tr><td onclick=\"$('#stzI').toggle()\" class='_pointer'><p>INFORMAZIONI STAZIONE<img class='_noRspace' src='/APPS/IMG/viewsx.png'></p></td></tr><tr><td colspan='2'><div id='stzI' class='minilist'><ul><li onclick=\"stazIMG(576,1024,'/DATA/B674.jpg')\">FOTO ANEMOMETRO ULTRASONICO</li><li onclick=\"stazIMG(576,1024,'/DATA/B669.jpg')\">FOTO ASTA IDROMETRICA</li><li onclick=\"stazIMG(400,500,'/DATA/B72.jpg')\">FOTO DELLA STAZIONE</li><li onclick=\"stazIMG(576,1024,'/DATA/B670.jpg')\">FOTO IDROMETRO A GALLEGGIANTE E TRASDUTTORE DI LIVELLO RADAR</li><li onclick=\"stazIMG(576,1024,'/DATA/B673.jpg')\">FOTO TRASDUTTORE DI TEMPERATURA ARIA E UMIDIT&Agrave; RELATIVA</li><li onclick=\"showPDF('/DATA/B193.pdf')\">LIVELLAZIONE DI ALTA PRECISIONE</li></ul></div></td></tr><tr><td onclick=\"$('#stzS').toggle()\"><p>DOTAZIONE STRUMENTALE<img class='_noRspace' src='/APPS/IMG/viewsx.png'></p></td></tr><tr><td colspan='2'><div id='stzS' class='minilist'><ul><li onclick=\"ShowSensoreStaz(10,'it')\">ANEMOMETRO ULTRASONICO</li><li onclick=\"ShowSensoreStaz(5,'it')\">ASTA IDROMETRICA</li><li onclick=\"ShowSensoreStaz(2,'it')\">BAROMETRO DIGITALE</li><li onclick=\"ShowSensoreStaz(7,'it')\">IDROMETRO A GALLEGGIANTE</li><li onclick=\"ShowSensoreStaz(6,'it')\">TRASDUTTORE DI LIVELLO RADAR</li><li onclick=\"ShowSensoreStaz(4,'it')\">TRASDUTTORE DI TEMPERATURA ACQUA</li><li onclick=\"ShowSensoreStaz(3,'it')\">TRASDUTTORE DI TEMPERATURA ARIA E UMIDITÀ RELATIVA</li></ul></div><td></tr></table></td></tr></table><br>RETE MAREOGRAFICA NAZIONALE</h1><h6>La stazione è ubicata presso la darsena di S.Primiano - Molo Nord.<br>Il palo meteorologico è ubicato presso il Porto turistico Marina Dorica (Lat  43° 36' 34.71\" Long 13° 28' 54.74\").</h6><h3>&nbsp;<br>DATI DISPONIBILI<big> 01/01/10&nbsp;00:00&nbsp;&divide;&nbsp;03/02/24&nbsp;15:20 <small>GMT</small></big></h3><table class='stazleft'><tr><td onclick=\"$('#lastriltab').toggle()\"><img src='/APPS/IMG/viewdx.png'></td><td onclick=\"$('#lastriltab').toggle()\">ULTIMO<br>RILEVAMENTO</td><td><table id='lastriltab' class='lastril'><caption><big>03/02/2024&nbsp;15:00&nbsp;<small>GMT</small></big></caption><tr><td>LIVELLO IDROMETRICO</td><th>-0.22</th><td>m</td></tr><tr><td>TEMPERATURA ACQUA</td><th>9.4</th><td>°C</td></tr><tr><td>TEMPERATURA ARIA</td><th>10.7</th><td>°C</td></tr><tr><td>UMIDITÀ RELATIVA</td><th>76.0</th><td>%</td></tr><tr><td>PRESSIONE ATMOSFERICA</td><th>1024.8</th><td>hPa</td></tr><tr><td>DIREZIONE VENTO</td><th>293.0</th><td>°N</td></tr><tr><td>VELOCITÀ VENTO</td><th>0.9</th><td>m/s</td></tr></table></td></tr></table><table><tr><td><h3>ESTRAZIONE DATI</h3><h4><span style='cursor:pointer;' onclick=\"$('#tempo_1').prop('checked','true');stazSetTime(1)\"\\><input type='radio' id='tempo_1' name='tempo' checked  value='1'\\> ULTIME 24 ORE</span><br><span style='cursor:pointer;' onclick=\"$('#tempo_2').prop('checked','true');stazSetTime(1)\"\\><input type='radio' id='tempo_2' name='tempo'  value='2'\\> ULTIME 48 ORE</span><br><span style='cursor:pointer;' onclick=\"$('#tempo_3').prop('checked','true');stazSetTime(1)\"\\><input type='radio' id='tempo_3' name='tempo'  value='3'\\> ULTIME 72 ORE</span><br><span style='cursor:pointer;' onclick=\"$('#tempo_7').prop('checked','true');stazSetTime(1)\"\\><input type='radio' id='tempo_7' name='tempo'  value='7'\\> ULTIMI 7 GIORNI</span><br><span style='cursor:pointer;' onclick=\"$('#tempo_P').prop('checked','true');stazSetTime(1)\"\\><input type='radio' id='tempo_P' name='tempo'  value='P'\\> PERIODO PERSONALIZZATO</span><table class='inpdate'><tr><td><h4>DAL</h4></td><td><h4><big><input type='text' id='dataini' name='dataini' size='12' value='01/02/2024'><input size='5' type='text' id='oraini' name='oraini'></big></h4></td></tr><tr><td><h4>AL</h4></td><td><h4><big><input type='text' id='datafin' name='datafin' size='12' value='03/02/2024'><input size='5' type='text' id='orafin' name='orafin'></big></h4></td></tr></table><h4><span style='cursor:pointer;' onclick=\"$('#TG_T').prop('checked','true');stazOut(1)\"\\><input type='radio' id='TG_T' name='TG'  value='T'\\> TABELLA DATI</span><br><span style='cursor:pointer;' onclick=\"$('#TG_G').prop('checked','true');stazOut(1)\"\\><input type='radio' id='TG_G' name='TG' checked  value='G'\\> GRAFICO</span></h4><div id='SEL-T'><h4><a href=\"javascript:ToggleCheckboxes('SelParTab-')\"><img src='/APPS/IMG/over.png' style='width:12px;vertical-align:middle'> <small>INVERTI SELEZIONE</small></a><br><input type='checkbox' id='SelParTab-1' name='SelParTab-1' checked > <span style='cursor:pointer' onclick=\"$('#SelParTab-1').prop('checked',!$('#SelParTab-1').prop('checked'));\"\\>LIVELLO IDROMETRICO</span><br><input type='checkbox' id='SelParTab-5' name='SelParTab-5' > <span style='cursor:pointer' onclick=\"$('#SelParTab-5').prop('checked',!$('#SelParTab-5').prop('checked'));\"\\>TEMPERATURA ACQUA</span><br><input type='checkbox' id='SelParTab-4' name='SelParTab-4' > <span style='cursor:pointer' onclick=\"$('#SelParTab-4').prop('checked',!$('#SelParTab-4').prop('checked'));\"\\>TEMPERATURA ARIA</span><br><input type='checkbox' id='SelParTab-10' name='SelParTab-10' > <span style='cursor:pointer' onclick=\"$('#SelParTab-10').prop('checked',!$('#SelParTab-10').prop('checked'));\"\\>UMIDITÀ RELATIVA</span><br><input type='checkbox' id='SelParTab-6' name='SelParTab-6' > <span style='cursor:pointer' onclick=\"$('#SelParTab-6').prop('checked',!$('#SelParTab-6').prop('checked'));\"\\>PRESSIONE ATMOSFERICA</span><br><input type='checkbox' id='SelParTab-3' name='SelParTab-3' > <span style='cursor:pointer' onclick=\"$('#SelParTab-3').prop('checked',!$('#SelParTab-3').prop('checked'));\"\\>DIREZIONE VENTO</span><br><input type='checkbox' id='SelParTab-2' name='SelParTab-2' > <span style='cursor:pointer' onclick=\"$('#SelParTab-2').prop('checked',!$('#SelParTab-2').prop('checked'));\"\\>VELOCITÀ VENTO</span><br></h4></div><div style='margin-left:17px;margin-top:-8px' id='SEL-G'><h4><small><b><span style='cursor:pointer;' onclick=\"$('#Gsel_GX').prop('checked','true');stazOut(1)\"\\><input type='radio' id='Gsel_GX' name='Gsel' checked  value='GX'\\> SERIE TEMPORALE</span></b></small><br><div style='margin-left:17px' id='SEL-GX'><h4><small>MASSIMO 2 PARAMETRI</small><br><input type='checkbox' id='SelParGX-1' name='SelParGX-1' checked > <span style='cursor:pointer' onclick=\"$('#SelParGX-1').prop('checked',!$('#SelParGX-1').prop('checked'));\"\\>LIVELLO IDROMETRICO</span><br><input type='checkbox' id='SelParGX-5' name='SelParGX-5' > <span style='cursor:pointer' onclick=\"$('#SelParGX-5').prop('checked',!$('#SelParGX-5').prop('checked'));\"\\>TEMPERATURA ACQUA</span><br><input type='checkbox' id='SelParGX-4' name='SelParGX-4' > <span style='cursor:pointer' onclick=\"$('#SelParGX-4').prop('checked',!$('#SelParGX-4').prop('checked'));\"\\>TEMPERATURA ARIA</span><br><input type='checkbox' id='SelParGX-10' name='SelParGX-10' > <span style='cursor:pointer' onclick=\"$('#SelParGX-10').prop('checked',!$('#SelParGX-10').prop('checked'));\"\\>UMIDITÀ RELATIVA</span><br><input type='checkbox' id='SelParGX-6' name='SelParGX-6' > <span style='cursor:pointer' onclick=\"$('#SelParGX-6').prop('checked',!$('#SelParGX-6').prop('checked'));\"\\>PRESSIONE ATMOSFERICA</span><br><input type='checkbox' id='SelParGX-3' name='SelParGX-3' > <span style='cursor:pointer' onclick=\"$('#SelParGX-3').prop('checked',!$('#SelParGX-3').prop('checked'));\"\\>DIREZIONE VENTO</span><br><input type='checkbox' id='SelParGX-2' name='SelParGX-2' > <span style='cursor:pointer' onclick=\"$('#SelParGX-2').prop('checked',!$('#SelParGX-2').prop('checked'));\"\\>VELOCITÀ VENTO</span><br></h4></div><small><b><span style='cursor:pointer;' onclick=\"$('#Gsel_GV').prop('checked','true');stazOut(1)\"\\><input type='radio' id='Gsel_GV' name='Gsel'  value='GV'\\> VELOCITA' E DIREZIONE VENTO</span></b></small><br><input style='display:none' type='radio' id='SelParGV' name='SelParGV' value='-2' checked><small><b><span style='cursor:pointer;' onclick=\"$('#Gsel_GN').prop('checked','true');stazOut(1)\"\\><input type='radio' id='Gsel_GN' name='Gsel'  value='GN'\\> CONFRONTO PARAMETRI</span></b></small><br><div style='margin-left:17px' id='SEL-GN'><h4><a href=\"javascript:ToggleCheckboxes('SelParGN-')\"><img src='/APPS/IMG/over.png' style='width:12px;vertical-align:middle'> <small>INVERTI SELEZIONE</small></a><br><input type='checkbox' id='SelParGN-1' name='SelParGN-1' checked > <span style='cursor:pointer' onclick=\"$('#SelParGN-1').prop('checked',!$('#SelParGN-1').prop('checked'));\"\\>LIVELLO IDROMETRICO</span><br><input type='checkbox' id='SelParGN-5' name='SelParGN-5' > <span style='cursor:pointer' onclick=\"$('#SelParGN-5').prop('checked',!$('#SelParGN-5').prop('checked'));\"\\>TEMPERATURA ACQUA</span><br><input type='checkbox' id='SelParGN-4' name='SelParGN-4' > <span style='cursor:pointer' onclick=\"$('#SelParGN-4').prop('checked',!$('#SelParGN-4').prop('checked'));\"\\>TEMPERATURA ARIA</span><br><input type='checkbox' id='SelParGN-10' name='SelParGN-10' > <span style='cursor:pointer' onclick=\"$('#SelParGN-10').prop('checked',!$('#SelParGN-10').prop('checked'));\"\\>UMIDITÀ RELATIVA</span><br><input type='checkbox' id='SelParGN-6' name='SelParGN-6' > <span style='cursor:pointer' onclick=\"$('#SelParGN-6').prop('checked',!$('#SelParGN-6').prop('checked'));\"\\>PRESSIONE ATMOSFERICA</span><br><input type='checkbox' id='SelParGN-3' name='SelParGN-3' > <span style='cursor:pointer' onclick=\"$('#SelParGN-3').prop('checked',!$('#SelParGN-3').prop('checked'));\"\\>DIREZIONE VENTO</span><br><input type='checkbox' id='SelParGN-2' name='SelParGN-2' > <span style='cursor:pointer' onclick=\"$('#SelParGN-2').prop('checked',!$('#SelParGN-2').prop('checked'));\"\\>VELOCITÀ VENTO</span><br></h4></div></h4></div><h4><big><button class='mybutt' type='button' onclick=\"stazGO('it')\">PROCEDI</button></big><br>&nbsp;</h4><h3 id='tabdown' class='download'><img style='width:42px' src='/APPS/IMG/bgloader.gif'>ATTENDERE</h3><h3 id='xlsx' class='download'><img alt='SCARICA I DATI IN FORMATO XLSX (EXCEL)' title='SCARICA I DATI IN FORMATO XLSX (EXCEL)' src='/APPS/IMG/download.png'>XLSX</h3><h3 id='csv' class='download'><img alt='SCARICA I DATI IN FORMATO CSV' title='SCARICA I DATI IN FORMATO CSV' src='/APPS/IMG/download.png'>CSV</h3></td><td><div id='messaggi'></div><iframe id='output' scrolling='no'></iframe></td></tr></table></div></div></div></div></div>\n",
      "<!-- end _O32 -->\n",
      "</div></div></div></div>\n",
      "<!-- start _O14 -->\n",
      "<br>Via Vitaliano Brancati, 48 00144 Roma - CF/PIVA 10125211002</h1></div><div id='_Ob14-2' class='C15'><h1 class='ty9'><a href='/it/privacy.html'>&nbsp;&nbsp;PRIVACY&nbsp;&nbsp;</a></h1></div><div id='_Ob14-3' class='C15'><h1 class='ty14'><a href='/it/notelegali.html'>&nbsp;&nbsp;NOTE LEGALI&nbsp;&nbsp;</a></h1></div></div>\n",
      "<!-- end _O14 -->\n",
      "<!-- end _L23 -->\n",
      "<div id='infoprivacy' class='privacy'><span>Informativa ai sensi della Direttiva 2009/136/CE: questo sito utilizza solo cookie tecnici necessari alla navigazione dell&#0039;utente, in assenza dei quali il sito non potrebbe funzionare correttamente.<img id='_IPrv' width='15' height='15' alt='privacy' src='/A4Ix/IMG/Xred.png'></span></div><script src='/A4Ix/xjs.js?v=1665405039'></script>\n",
      "<script src='https://ajax.googleapis.com/ajax/libs/jquery/1.11.2/jquery.min.js'></script>\n",
      "<script src='/A4Ix/xjq.js?v=1665405039'></script>\n",
      "<script src='/APPS/apps.js?v=1665405039'></script>\n",
      "<script src='/A4Ix/EXT/jQsmoothmenu.js'></script>\n",
      "<script src='/A4Ix/EXT/jQtimeselector.js'></script>\n",
      "<script src='/A4Ix/EXT/jQzebradatepicker_it.js'></script>\n",
      "<script>\n",
      "\n",
      "var lang=window.navigator.userLanguage || window.navigator.language;\n",
      "var language=lang.toLowerCase().substr(0,2); // supporto solo le lingue principali\n",
      "jScookie('A4IxScreenSize','WRITE',window.innerWidth+'@'+window.innerHeight+'@'+window.devicePixelRatio+'@'+language); location.reload();\n",
      "\n",
      "var lang=window.navigator.userLanguage || window.navigator.language;\n",
      "var language=lang.toLowerCase().substr(0,2); // supporto solo le lingue principali\n",
      "jScookie('A4IxScreenSize','WRITE',window.innerWidth+'@'+window.innerHeight+'@'+window.devicePixelRatio+'@'+language); location.reload();\n",
      "var Lang='it'; var cM=''; var cR='1'; var cS=''; var cP=''; var cP1=''; var cP2=''; var cP3=''; var cP4=''; var cP5=''; var header=1; var leftmenu=1;\n",
      "\n",
      "var lang=window.navigator.userLanguage || window.navigator.language;\n",
      "var language=lang.toLowerCase().substr(0,2); // supporto solo le lingue principali\n",
      "jScookie('A4IxScreenSize','WRITE',window.innerWidth+'@'+window.innerHeight+'@'+window.devicePixelRatio+'@'+language); location.reload();\n",
      "\n",
      "var lang=window.navigator.userLanguage || window.navigator.language;\n",
      "var language=lang.toLowerCase().substr(0,2); // supporto solo le lingue principali\n",
      "jScookie('A4IxScreenSize','WRITE',window.innerWidth+'@'+window.innerHeight+'@'+window.devicePixelRatio+'@'+language); location.reload();\n",
      "var myK='65be5e269ada9'; var HEAH=$('#_Oa17').height()+$('#_Oa27').height(); var FOOH=$('#_Oa14').height()+8; var HTOT=window.innerHeight-HEAH-FOOH-8*2;\n",
      "document.addEventListener('selectstart', () => { return false; }); document.addEventListener('contextmenu', (e) => {e.preventDefault()});\n",
      "ddsmoothmenu.init({ mainmenuid:'_M1',orientation:'h',classname:'C44'}); \n",
      "function framesizing() { var off=$('#output').offset(); $('#output').width(window.innerWidth-off.left-8*2-18);$('#output').height(window.innerHeight-off.top-FOOH-8*4);  }\n",
      "\n",
      "$(window).resize( function()\n",
      "{\n",
      "     if(this.resizeTO) clearTimeout(this.resizeTO);\n",
      "     this.resizeTO=setTimeout( function() { $(this).trigger('resizeEnd');} ,500);\n",
      "});\n",
      "$(window).bind('resizeEnd', function() { A4IScreenCookie(0);} );\n",
      "$(window).on('orientationchange', function(event) { A4IScreenCookie(1);} );\n",
      "function A4IScreenCookie(rotation)\n",
      "{\n",
      "     if(window.location==window.parent.location)\n",
      "     {\n",
      "          var now=jScookie('A4IxScreenSize').split('@');\n",
      "          if(rotation)\n",
      "          {\n",
      "              w=now[1];\n",
      "              h=now[0];\n",
      "          }\n",
      "          else\n",
      "          {\n",
      "              w=window.innerWidth;\n",
      "              h=window.innerHeight;\n",
      "          }\n",
      "          jScookie('A4IxScreenSize','WRITE',w+'@'+h+'@'+now[2]+'@'+now[3]);\n",
      "          \n",
      "     }\n",
      "}\n",
      "$(document).ready(function() {\n",
      "$('.ty13').css('margin','0 30px 0 0');\n",
      "$('.ty13').css('text-align','right !important');\n",
      "$('#_spc522').css({ 'width':'40px','height':'1px' });\n",
      "$('.__flag').css('cursor','pointer');\n",
      "$('#_M16').css('margin','0 0 0 auto');\n",
      "SetS(1,1);\n",
      "\n",
      "var HH=window.innerHeight-HEAH-FOOH-8-$('#mSoff').height();\n",
      "if($('#mS').height()>HH) { $('#mS ul').height(HH); $('#mS ul').css('overflow-y','auto'); } else $('#mS ul').height(HH);\n",
      "$('[id^=St-]').click(function() { var pars=$(this).prop('id').split('-'); SetP1('',1); SetP2('',1); SetP3('',1); SetP4('',1); SetS(pars[1]); SetP5part('S3',0);});\n",
      "const el=document.getElementById('St-1'); el.scrollIntoView({behavior:'smooth'});\n",
      "$('#mS').css('overflow-x','hidden');\n",
      "$('#dataini').Zebra_DatePicker({format: 'd/m/Y', onSelect: function () { stazSetTime(1); },show_icon:false, direction: ['01/01/2010','03/02/2024']});\n",
      "$('#datafin').Zebra_DatePicker({format: 'd/m/Y', onSelect: function () { stazSetTime(1); },show_icon:false, direction: ['01/01/2010','03/02/2024']});\n",
      "$('#oraini').timeselector({step:10}); $('#oraini').val('00:00').timeselector('refresh');\n",
      "$('#orafin').timeselector({step:10}); $('#orafin').val('15:20').timeselector('refresh');\n",
      "stazSetTime(0);stazOut(0);\n",
      "$('#messaggi').css('margin','100px 0 0 100px'); $('.staz').width(window.innerWidth-$('#mS').width()-8*5); \n",
      "$('.ty12').css('margin','0 0 0 0');\n",
      "$('.ty12').css('text-align','left !important');\n",
      "$('.ty8').css('margin','0 0 0 0');\n",
      "$('.ty8').css('text-align','right !important');\n",
      "$('.ty9').css('margin','8px 0 8px 8px');\n",
      "$('.ty9').css('text-align','left !important');\n",
      "$('.ty14').css('margin','8px 0 8px 0');\n",
      "$('.ty14').css('text-align','left !important');\n",
      "$('#_IPrv').on('click', function(){ jScookie('A4xPrivacy','WRITE','1'); document.getElementById('infoprivacy').style.display='none'; });\n",
      "jQsamewidthmulti('.__button');jQsamewidthmulti('._inverse');jQsamewidthmulti('._miniblink');\n",
      "stazGO('it');\n",
      "MessaggiFrame('output','xlsx','csv');\n",
      " });</script>\n",
      "</body></html>\n"
     ]
    }
   ],
   "source": [
    "print(resp.text)"
   ]
  },
  {
   "cell_type": "code",
   "execution_count": null,
   "metadata": {},
   "outputs": [],
   "source": []
  }
 ],
 "metadata": {
  "kernelspec": {
   "display_name": "tesi",
   "language": "python",
   "name": "python3"
  },
  "language_info": {
   "codemirror_mode": {
    "name": "ipython",
    "version": 3
   },
   "file_extension": ".py",
   "mimetype": "text/x-python",
   "name": "python",
   "nbconvert_exporter": "python",
   "pygments_lexer": "ipython3",
   "version": "3.12.1"
  }
 },
 "nbformat": 4,
 "nbformat_minor": 2
}
