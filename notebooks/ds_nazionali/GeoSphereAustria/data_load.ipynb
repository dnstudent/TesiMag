version https://git-lfs.github.com/spec/v1
oid sha256:17ac98047340e50dfdf4d7195be0a73b99625398ad1a3bcf471778302de5f12d
size 1475099
