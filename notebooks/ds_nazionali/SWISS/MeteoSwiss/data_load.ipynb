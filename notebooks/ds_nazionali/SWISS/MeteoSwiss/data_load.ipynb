version https://git-lfs.github.com/spec/v1
oid sha256:be8da1efa43c6bf5c01aec27edf67ce62dc1fdda489c573f1661c9ecfc0251d2
size 1248595
