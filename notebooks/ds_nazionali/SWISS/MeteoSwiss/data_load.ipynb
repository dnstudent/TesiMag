version https://git-lfs.github.com/spec/v1
oid sha256:f8dbc16cd9ef78a61e1102bf5d2d548261999ff56c45daeaed74b39632b31153
size 1029782
