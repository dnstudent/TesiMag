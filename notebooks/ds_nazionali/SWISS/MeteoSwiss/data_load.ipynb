version https://git-lfs.github.com/spec/v1
oid sha256:176e3daf5f1d6b260b49f50aa0e79f3f8c1438dd0c6cfac4ae49008943ee58e9
size 1355606
