version https://git-lfs.github.com/spec/v1
oid sha256:f7efc5a1f478f573fa772263945f62d75b311924dad0278511cd1ad20b22cf5c
size 1232075
