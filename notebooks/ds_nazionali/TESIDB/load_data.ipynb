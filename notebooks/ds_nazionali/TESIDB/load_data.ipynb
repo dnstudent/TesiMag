{
    "cells": [
        {
            "cell_type": "code",
            "execution_count": null,
            "metadata": {
                "vscode": {
                    "languageId": "r"
                }
            },
            "outputs": [],
            "source": [
                "setwd(fs::path_abs(\"~/Local_Workspace/TesiMag\"))\n",
                "library(dplyr, warn.conflicts = FALSE)\n",
                "library(stringr, warn.conflicts = FALSE)\n",
                "\n",
                "source(\"src/database/query/data.R\")\n",
                "source(\"src/database/startup.R\")\n",
                "source(\"src/load/tools.R\")\n",
                "source(\"src/load/ITA.R\")\n",
                "source(\"notebooks/ds_regionali/procedure/common_steps.R\")\n",
                "\n",
                "conns <- load_dbs()"
            ]
        },
        {
            "cell_type": "code",
            "execution_count": null,
            "metadata": {
                "vscode": {
                    "languageId": "r"
                }
            },
            "outputs": [],
            "source": [
                "load.italian_boundaries(\"state\")"
            ]
        },
        {
            "cell_type": "code",
            "execution_count": null,
            "metadata": {
                "vscode": {
                    "languageId": "r"
                }
            },
            "outputs": [],
            "source": [
                "regional_datasets <- tribble(\n",
                "    ~reference_state, ~original_dataset, ~merged_dataset,\n",
                "    \"Piemonte\", \"ARPAPiemonte\", \"PIE\",\n",
                "    \"Liguria\", \"ARPAL\", \"LIG\",\n",
                "    \"Lombardia\", \"ARPALombardia\", \"LOM\",\n",
                "    \"Veneto\", \"ARPAV\", \"VEN\",\n",
                "    \"Trentino-Alto Adige\", \"TAA\", \"TAA2\",\n",
                "    \"Friuli-Venezia Giulia\", \"ARPAFVG\", \"FVG\",\n",
                "    \"Emilia-Romagna\", \"ARPAE\", \"ER\",\n",
                "    \"Toscana\", \"SIRToscana\", \"TOS\",\n",
                "    \"Umbria\", \"ARPAUmbria\", \"UMB\",\n",
                "    \"Marche\", \"ARPAM\", \"MAR\",\n",
                "    \"Valle D'Aosta\", \"SCIA\", \"VDA\"\n",
                ")\n",
                "reg_boundaries <- load.italian_boundaries(\"state\") |> filter(shapeName %in% c(regional_datasets$reference_state, \"Friuli Venezia Giulia\"))\n"
            ]
        },
        {
            "cell_type": "code",
            "execution_count": null,
            "metadata": {
                "vscode": {
                    "languageId": "r"
                }
            },
            "outputs": [],
            "source": [
                "data <- query_checkpoint_data(regional_datasets$merged_dataset, \"merged\", conns$data)\n",
                "meta <- query_checkpoint_meta(regional_datasets$merged_dataset, \"merged\", conns$meta)"
            ]
        },
        {
            "cell_type": "code",
            "execution_count": null,
            "metadata": {
                "vscode": {
                    "languageId": "r"
                }
            },
            "outputs": [],
            "source": [
                "pd <- ymonthly_availabilities(data |> filter(year(date) >= 1990L), FALSE)\n",
                "ggsave(\"plots/state_availabilities.pdf\", pd$plot + facet_wrap(~ dataset, ncol = 3L), width = 12)\n",
                "pd$plot + facet_wrap(~ dataset, ncol = 3L)"
            ]
        },
        {
            "cell_type": "code",
            "execution_count": null,
            "metadata": {
                "vscode": {
                    "languageId": "r"
                }
            },
            "outputs": [],
            "source": [
                "ps <- spatial_availabilities(pd$data, meta, reg_boundaries, n_years_threshold = 5L)\n",
                "ggsave(\"plots/spatial_availability.pdf\", ps$plot)\n",
                "ps$plot"
            ]
        },
        {
            "cell_type": "code",
            "execution_count": null,
            "metadata": {
                "vscode": {
                    "languageId": "r"
                }
            },
            "outputs": [],
            "source": [
                "p <- plot_available_by_elevation(ps$data, meta |> collect()) + facet_wrap(~ dataset, ncol = 3L)\n",
                "ggsave(\"plots/availability_by_elevation.pdf\", p, width = 12, height = 8, units = \"in\", dpi = 300)\n",
                "p"
            ]
        },
        {
            "cell_type": "code",
            "execution_count": null,
            "metadata": {
                "vscode": {
                    "languageId": "r"
                }
            },
            "outputs": [],
            "source": [
                "p <- plot_available_by_elevation(ps$data, meta |> collect())\n",
                "p"
            ]
        },
        {
            "cell_type": "code",
            "execution_count": null,
            "metadata": {
                "vscode": {
                    "languageId": "r"
                }
            },
            "outputs": [],
            "source": [
                "scia_synop_mareo_meta <- query_checkpoint_meta(\"SCIA\", \"qc1\", conns$data) |> filter(network %in% c(\"Sinottica\", \"Mareografica\"), lat > 42, !(state %in% c(\"Abruzzo\", \"Lazio\")))\n",
                "scia_synop_mareo_data <- query_checkpoint_data(\"SCIA\", \"qc1\", conns$data) |> semi_join(scia_synop_mareo_meta, by = \"sensor_key\")\n",
                "pd <- ymonthly_availabilities(scia_synop_mareo_data |> filter(year(date) >= 1990L, valid), FALSE)\n",
                "pd$plot"
            ]
        },
        {
            "cell_type": "code",
            "execution_count": null,
            "metadata": {
                "vscode": {
                    "languageId": "r"
                }
            },
            "outputs": [],
            "source": [
                "ps <- spatial_availabilities(pd$data, scia_synop_mareo_meta, reg_boundaries, n_years_threshold = 5L)\n",
                "ps$plot"
            ]
        },
        {
            "cell_type": "code",
            "execution_count": null,
            "metadata": {
                "vscode": {
                    "languageId": "r"
                }
            },
            "outputs": [],
            "source": []
        }
    ],
    "metadata": {
        "kernelspec": {
            "display_name": "R",
            "language": "R",
            "name": "ir"
        },
        "language_info": {
            "codemirror_mode": "r",
            "file_extension": ".r",
            "mimetype": "text/x-r-source",
            "name": "R",
            "pygments_lexer": "r",
            "version": "4.3.3"
        }
    },
    "nbformat": 4,
    "nbformat_minor": 2
}
