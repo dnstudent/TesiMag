{
 "cells": [
  {
   "cell_type": "code",
   "execution_count": 1,
   "metadata": {},
   "outputs": [],
   "source": [
    "import pyarrow as pa\n",
    "import pyarrow.compute as pc\n",
    "import pyarrow.dataset as ds\n",
    "from pyarrow import csv\n",
    "from pathlib import Path\n",
    "\n",
    "base = Path(\"/Users/davidenicoli/Local_Workspace/Datasets/ARPA/LOMBARDIA/\")"
   ]
  },
  {
   "cell_type": "code",
   "execution_count": 2,
   "metadata": {},
   "outputs": [],
   "source": [
    "metadata = csv.read_csv(\n",
    "    base / \"Stazioni_Meteorologiche.tsv\",\n",
    "    parse_options=csv.ParseOptions(delimiter=\"\\t\"),\n",
    "    convert_options=csv.ConvertOptions(\n",
    "        column_types=pa.schema(\n",
    "            {\n",
    "                \"IdSensore\": pa.uint32(),\n",
    "                \"IdStazione\": pa.uint32(),\n",
    "                \"Tipologia\": pa.dictionary(pa.int32(), pa.utf8()),\n",
    "                \"Provincia\": pa.dictionary(pa.int32(), pa.utf8()),\n",
    "                \"DataStart\": pa.utf8(),\n",
    "                \"DataStop\": pa.utf8(),\n",
    "                \"Quota\": pa.float32(),\n",
    "                \"lng\": pa.float32(),\n",
    "                \"lat\": pa.float32(),\n",
    "            }\n",
    "        ),\n",
    "        timestamp_parsers=r\"%d/%m/%Y\",\n",
    "    ),\n",
    ").filter(pc.field(\"Tipologia\") == \"Temperatura\")\n",
    "ids = metadata.select([\"IdSensore\"])"
   ]
  },
  {
   "cell_type": "code",
   "execution_count": 4,
   "metadata": {},
   "outputs": [],
   "source": [
    "dataset = ds.dataset(\n",
    "    list(base.glob(\"*.csv\")),\n",
    "    schema=pa.schema(\n",
    "        {\n",
    "            \"IdSensore\": pa.uint32(),\n",
    "            \"Data\": pa.timestamp(unit=\"s\"),\n",
    "            \"Valore\": pa.float32(),\n",
    "            \"Stato\": pa.utf8(),\n",
    "            \"idOperatore\": pa.uint8(),\n",
    "        }\n",
    "    ),\n",
    "    format=ds.CsvFileFormat(\n",
    "        read_options=csv.ReadOptions(\n",
    "            column_names=[\"IdSensore\", \"Data\", \"Valore\", \"Stato\", \"idOperatore\"],\n",
    "            skip_rows = 1,\n",
    "            # use_threads = False\n",
    "        ),\n",
    "        convert_options=csv.ConvertOptions(\n",
    "            timestamp_parsers=[r\"%d/%m/%Y %H:%M:%S\", r\"%d/%m/%Y %H:%M:%S.000\"]\n",
    "        ),\n",
    "    ),\n",
    ").join(metadata, \"IdSensore\", join_type = \"left semi\")"
   ]
  },
  {
   "cell_type": "code",
   "execution_count": 5,
   "metadata": {},
   "outputs": [],
   "source": [
    "ds.write_dataset(\n",
    "    dataset,\n",
    "    base / \"dataset\",\n",
    "    format=\"parquet\",\n",
    "    # partitioning=[\"IdSensore\"],\n",
    "    # partitioning_flavor=\"hive\",\n",
    "    # max_partitions=1250,\n",
    "    max_open_files=1250,\n",
    ")"
   ]
  },
  {
   "cell_type": "code",
   "execution_count": 4,
   "metadata": {},
   "outputs": [],
   "source": [
    "reopen = ds.dataset(\n",
    "    base / \"dataset\"\n",
    ")"
   ]
  },
  {
   "cell_type": "code",
   "execution_count": 4,
   "metadata": {},
   "outputs": [],
   "source": [
    "ds.write_dataset(\n",
    "    reopen,\n",
    "    base / \"dataset2\",\n",
    "    format=\"feather\",\n",
    "    partitioning=[\"IdSensore\"],\n",
    "    partitioning_flavor=\"hive\"\n",
    ")"
   ]
  },
  {
   "cell_type": "code",
   "execution_count": 2,
   "metadata": {},
   "outputs": [],
   "source": [
    "import polars as pl\n",
    "plds = pl.scan_parquet(base / \"dataset\" / \"part-0.parquet\")"
   ]
  },
  {
   "cell_type": "code",
   "execution_count": 4,
   "metadata": {},
   "outputs": [],
   "source": [
    "plds.sort([\"IdSensore\", \"Data\", \"idOperatore\"]).sink_parquet(base / \"sorted.parquet\")"
   ]
  },
  {
   "cell_type": "code",
   "execution_count": 5,
   "metadata": {},
   "outputs": [],
   "source": [
    "pldss = pl.scan_parquet(base / \"sorted.parquet\")"
   ]
  },
  {
   "cell_type": "code",
   "execution_count": null,
   "metadata": {},
   "outputs": [],
   "source": [
    "pldss.group_by(\"IdSensore\")"
   ]
  }
 ],
 "metadata": {
  "kernelspec": {
   "display_name": "geopy",
   "language": "python",
   "name": "python3"
  },
  "language_info": {
   "codemirror_mode": {
    "name": "ipython",
    "version": 3
   },
   "file_extension": ".py",
   "mimetype": "text/x-python",
   "name": "python",
   "nbconvert_exporter": "python",
   "pygments_lexer": "ipython3",
   "version": "3.11.6"
  }
 },
 "nbformat": 4,
 "nbformat_minor": 2
}
