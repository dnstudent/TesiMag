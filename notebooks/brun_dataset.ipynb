{
 "cells": [
  {
   "cell_type": "code",
   "execution_count": 1,
   "metadata": {
    "vscode": {
     "languageId": "r"
    }
   },
   "outputs": [
    {
     "name": "stderr",
     "output_type": "stream",
     "text": [
      "Linking to GEOS 3.12.0, GDAL 3.7.3, PROJ 9.3.0; sf_use_s2() is TRUE\n",
      "\n",
      "terra 1.7.55\n",
      "\n"
     ]
    }
   ],
   "source": [
    "setwd(fs::path_abs(\"~/Local_Workspace/TesiMag\"))\n",
    "\n",
    "library(arrow, warn.conflicts = FALSE)\n",
    "library(dplyr, warn.conflicts = FALSE)\n",
    "library(tibble, warn.conflicts = FALSE)\n",
    "\n",
    "source(\"src/paths/paths.R\")\n",
    "source(\"src/load/load.R\")\n"
   ]
  },
  {
   "cell_type": "code",
   "execution_count": 2,
   "metadata": {
    "vscode": {
     "languageId": "r"
    }
   },
   "outputs": [],
   "source": [
    "start_date <- as.Date(\"2000-01-01\")\n",
    "brun <- concat_tables(\n",
    "    read_parquet(\"cache/series/BRUN/T_MAX/qc_era5.parquet\", as_data_frame = FALSE) |> filter(date >= start_date) |> mutate(variable = \"T_MAX\", flavor = \"qc_era5\") |> left_join(read_parquet(\"cache/metadata/BRUN/T_MAX/qc_era5.parquet\", as_data_frame = FALSE) |> select(identifier, section = region_)) |> rename(value = T_MAX) |> as_arrow_table(),\n",
    "    read_parquet(\"cache/series/BRUN/T_MIN/qc_era5.parquet\", as_data_frame = FALSE) |> filter(date >= start_date) |> mutate(variable = \"T_MIN\", flavor = \"qc_era5\") |> left_join(read_parquet(\"cache/metadata/BRUN/T_MIN/qc_era5.parquet\", as_data_frame = FALSE) |> select(identifier, section = region_)) |> rename(value = T_MIN) |> as_arrow_table(),\n",
    "    read_parquet(\"cache/series/BRUN/T_MAX/qc_homo.parquet\", as_data_frame = FALSE) |> filter(date >= start_date) |> mutate(variable = \"T_MAX\", flavor = \"qc_homo\") |> left_join(read_parquet(\"cache/metadata/BRUN/T_MAX/qc_homo.parquet\", as_data_frame = FALSE) |> select(identifier, section = region_)) |> rename(value = T_MAX) |> as_arrow_table(),\n",
    "    read_parquet(\"cache/series/BRUN/T_MIN/qc_homo.parquet\", as_data_frame = FALSE) |> filter(date >= start_date) |> mutate(variable = \"T_MIN\", flavor = \"qc_homo\") |> left_join(read_parquet(\"cache/metadata/BRUN/T_MIN/qc_homo.parquet\", as_data_frame = FALSE) |> select(identifier, section = region_)) |> rename(value = T_MIN) |> as_arrow_table(),\n",
    "    read_parquet(\"cache/series/BRUN/T_MAX/raw.parquet\", as_data_frame = FALSE) |> filter(date >= start_date) |> mutate(variable = \"T_MAX\", flavor = \"raw\") |> left_join(read_parquet(\"cache/metadata/BRUN/T_MAX/raw.parquet\", as_data_frame = FALSE) |> select(identifier, section = region_)) |> rename(value = T_MAX) |> as_arrow_table(),\n",
    "    read_parquet(\"cache/series/BRUN/T_MIN/raw.parquet\", as_data_frame = FALSE) |> filter(date >= start_date) |> mutate(variable = \"T_MIN\", flavor = \"raw\") |> left_join(read_parquet(\"cache/metadata/BRUN/T_MIN/raw.parquet\", as_data_frame = FALSE) |> select(identifier, section = region_)) |> rename(value = T_MIN) |> as_arrow_table(),\n",
    ") |> filter(!is.na(value)) |> mutate(\n",
    "        identifier = cast(identifier, utf8()),\n",
    "        value = cast(value, float32()),\n",
    "        variable = cast(variable, utf8()),\n",
    "        flavor = cast(flavor, utf8()),\n",
    "        section = cast(section, utf8())\n",
    ")\n"
   ]
  },
  {
   "cell_type": "code",
   "execution_count": 3,
   "metadata": {
    "vscode": {
     "languageId": "r"
    }
   },
   "outputs": [],
   "source": [
    "brun |>\n",
    "    mutate(dpc = (section == \"dpc\")) |>\n",
    "    select(-section) |>\n",
    "    collect() |>\n",
    "    arrange(flavor, variable, dpc, identifier, date) |>\n",
    "    write_dataset(file.path(\"db\", \"data\", \"brun\"), partitioning = c(\"flavor\", \"variable\"), format = \"feather\")\n"
   ]
  },
  {
   "cell_type": "code",
   "execution_count": 2,
   "metadata": {
    "vscode": {
     "languageId": "r"
    }
   },
   "outputs": [],
   "source": [
    "brun <- concat_tables(\n",
    "    read_parquet(\"cache/metadata/BRUN/T_MAX/qc_era5.parquet\", as_data_frame = FALSE) |> mutate(variable = \"T_MAX\", flavor = \"qc_era5\") |> as_arrow_table(),\n",
    "    read_parquet(\"cache/metadata/BRUN/T_MIN/qc_era5.parquet\", as_data_frame = FALSE) |> mutate(variable = \"T_MIN\", flavor = \"qc_era5\") |> as_arrow_table(),\n",
    "    read_parquet(\"cache/metadata/BRUN/T_MAX/qc_homo.parquet\", as_data_frame = FALSE) |> mutate(variable = \"T_MAX\", flavor = \"qc_homo\") |> as_arrow_table(),\n",
    "    read_parquet(\"cache/metadata/BRUN/T_MIN/qc_homo.parquet\", as_data_frame = FALSE) |> mutate(variable = \"T_MIN\", flavor = \"qc_homo\") |> as_arrow_table(),\n",
    "    read_parquet(\"cache/metadata/BRUN/T_MAX/raw.parquet\", as_data_frame = FALSE) |> mutate(variable = \"T_MAX\", flavor = \"raw\") |> as_arrow_table(),\n",
    "    read_parquet(\"cache/metadata/BRUN/T_MIN/raw.parquet\", as_data_frame = FALSE) |> mutate(variable = \"T_MIN\", flavor = \"raw\") |> as_arrow_table(),\n",
    ")\n"
   ]
  },
  {
   "cell_type": "code",
   "execution_count": 3,
   "metadata": {
    "vscode": {
     "languageId": "r"
    }
   },
   "outputs": [
    {
     "data": {
      "text/plain": [
       "Table\n",
       "22816 rows x 16 columns\n",
       "$region_ <dictionary<values=string, indices=int32>>\n",
       "$country <dictionary<values=string, indices=int32>>\n",
       "$anagrafica <string>\n",
       "$GSOD <bool>\n",
       "$user_code <string>\n",
       "$MG <bool>\n",
       "$identifier <string>\n",
       "$lon <double>\n",
       "$lat <double>\n",
       "$elevation <double>\n",
       "$province <dictionary<values=string, indices=int32>>\n",
       "$version <int32>\n",
       "$internal_id <int32>\n",
       "$state <string>\n",
       "$variable <string>\n",
       "$flavor <string>"
      ]
     },
     "metadata": {},
     "output_type": "display_data"
    }
   ],
   "source": [
    "brun"
   ]
  },
  {
   "cell_type": "code",
   "execution_count": 5,
   "metadata": {
    "vscode": {
     "languageId": "r"
    }
   },
   "outputs": [
    {
     "data": {
      "text/plain": [
       "FileSystemDataset (query)\n",
       "country: dictionary<values=string, indices=int32>\n",
       "anagrafica: string\n",
       "GSOD: bool\n",
       "user_code: string\n",
       "MG: bool\n",
       "identifier: string\n",
       "lon: double\n",
       "lat: double\n",
       "elevation: double\n",
       "province: dictionary<values=string, indices=int32>\n",
       "version: int32\n",
       "internal_id: int32\n",
       "state: string\n",
       "dpc: bool\n",
       "flavor: string\n",
       "variable: string\n",
       "\n",
       "* Filter: dpc\n",
       "See $.data for the source Arrow object"
      ]
     },
     "metadata": {},
     "output_type": "display_data"
    }
   ],
   "source": [
    "open.dataset(\"DPC\", \"metadata\")"
   ]
  },
  {
   "cell_type": "code",
   "execution_count": null,
   "metadata": {
    "vscode": {
     "languageId": "r"
    }
   },
   "outputs": [],
   "source": []
  }
 ],
 "metadata": {
  "kernelspec": {
   "display_name": "R",
   "language": "R",
   "name": "ir"
  },
  "language_info": {
   "codemirror_mode": "r",
   "file_extension": ".r",
   "mimetype": "text/x-r-source",
   "name": "R",
   "pygments_lexer": "r",
   "version": "4.3.2"
  }
 },
 "nbformat": 4,
 "nbformat_minor": 2
}
