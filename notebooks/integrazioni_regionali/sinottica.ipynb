{
 "cells": [
  {
   "cell_type": "code",
   "execution_count": 8,
   "metadata": {
    "vscode": {
     "languageId": "r"
    }
   },
   "outputs": [],
   "source": [
    "setwd(fs::path_abs(\"~/Local_Workspace/TesiMag\"))\n",
    "\n",
    "source(\"src/paths/paths.R\")\n",
    "\n",
    "library(arrow, warn.conflicts = FALSE)\n",
    "library(dplyr, warn.conflicts = FALSE)"
   ]
  },
  {
   "cell_type": "code",
   "execution_count": 10,
   "metadata": {
    "vscode": {
     "languageId": "r"
    }
   },
   "outputs": [],
   "source": [
    "path.sinottica <- file.path(path.ds, \"NOAA_GHCND\")\n",
    "ds.sinottica <- open_csv_dataset(path.sinottica) |> rename(identifier = STATION, anagrafica = NAME, lat = LATITUDE, lon = LONGITUDE, elevation = ELEVATION, date = DATE, T_MAX = TMAX, T_MIN = TMIN)"
   ]
  },
  {
   "cell_type": "code",
   "execution_count": 15,
   "metadata": {
    "vscode": {
     "languageId": "r"
    }
   },
   "outputs": [
    {
     "data": {
      "text/html": [
       "<table class=\"dataframe\">\n",
       "<caption>A tibble: 17 x 1</caption>\n",
       "<thead>\n",
       "\t<tr><th scope=col>TMAX_ATTRIBUTES</th></tr>\n",
       "\t<tr><th scope=col>&lt;chr&gt;</th></tr>\n",
       "</thead>\n",
       "<tbody>\n",
       "\t<tr><td>    </td></tr>\n",
       "\t<tr><td>,,S </td></tr>\n",
       "\t<tr><td>,,E </td></tr>\n",
       "\t<tr><td>,I,S</td></tr>\n",
       "\t<tr><td>,I,E</td></tr>\n",
       "\t<tr><td>,S,E</td></tr>\n",
       "\t<tr><td>,O,E</td></tr>\n",
       "\t<tr><td>,N,E</td></tr>\n",
       "\t<tr><td>,O,S</td></tr>\n",
       "\t<tr><td>,,Z </td></tr>\n",
       "\t<tr><td>,I,X</td></tr>\n",
       "\t<tr><td>,,G </td></tr>\n",
       "\t<tr><td>,X,G</td></tr>\n",
       "\t<tr><td>,I,G</td></tr>\n",
       "\t<tr><td>,,X </td></tr>\n",
       "\t<tr><td>,N,G</td></tr>\n",
       "\t<tr><td>,,I </td></tr>\n",
       "</tbody>\n",
       "</table>\n"
      ],
      "text/latex": [
       "A tibble: 17 x 1\n",
       "\\begin{tabular}{l}\n",
       " TMAX\\_ATTRIBUTES\\\\\n",
       " <chr>\\\\\n",
       "\\hline\n",
       "\t     \\\\\n",
       "\t ,,S \\\\\n",
       "\t ,,E \\\\\n",
       "\t ,I,S\\\\\n",
       "\t ,I,E\\\\\n",
       "\t ,S,E\\\\\n",
       "\t ,O,E\\\\\n",
       "\t ,N,E\\\\\n",
       "\t ,O,S\\\\\n",
       "\t ,,Z \\\\\n",
       "\t ,I,X\\\\\n",
       "\t ,,G \\\\\n",
       "\t ,X,G\\\\\n",
       "\t ,I,G\\\\\n",
       "\t ,,X \\\\\n",
       "\t ,N,G\\\\\n",
       "\t ,,I \\\\\n",
       "\\end{tabular}\n"
      ],
      "text/markdown": [
       "\n",
       "A tibble: 17 x 1\n",
       "\n",
       "| TMAX_ATTRIBUTES &lt;chr&gt; |\n",
       "|---|\n",
       "| <!----> |\n",
       "| ,,S  |\n",
       "| ,,E  |\n",
       "| ,I,S |\n",
       "| ,I,E |\n",
       "| ,S,E |\n",
       "| ,O,E |\n",
       "| ,N,E |\n",
       "| ,O,S |\n",
       "| ,,Z  |\n",
       "| ,I,X |\n",
       "| ,,G  |\n",
       "| ,X,G |\n",
       "| ,I,G |\n",
       "| ,,X  |\n",
       "| ,N,G |\n",
       "| ,,I  |\n",
       "\n"
      ],
      "text/plain": [
       "   TMAX_ATTRIBUTES\n",
       "1                 \n",
       "2  ,,S            \n",
       "3  ,,E            \n",
       "4  ,I,S           \n",
       "5  ,I,E           \n",
       "6  ,S,E           \n",
       "7  ,O,E           \n",
       "8  ,N,E           \n",
       "9  ,O,S           \n",
       "10 ,,Z            \n",
       "11 ,I,X           \n",
       "12 ,,G            \n",
       "13 ,X,G           \n",
       "14 ,I,G           \n",
       "15 ,,X            \n",
       "16 ,N,G           \n",
       "17 ,,I            "
      ]
     },
     "metadata": {},
     "output_type": "display_data"
    }
   ],
   "source": [
    "ds.sinottica  |> distinct(TMAX_ATTRIBUTES) |> collect()"
   ]
  },
  {
   "cell_type": "code",
   "execution_count": null,
   "metadata": {
    "vscode": {
     "languageId": "r"
    }
   },
   "outputs": [],
   "source": []
  }
 ],
 "metadata": {
  "kernelspec": {
   "display_name": "R",
   "language": "R",
   "name": "ir"
  },
  "language_info": {
   "codemirror_mode": "r",
   "file_extension": ".r",
   "mimetype": "text/x-r-source",
   "name": "R",
   "pygments_lexer": "r",
   "version": "4.3.2"
  }
 },
 "nbformat": 4,
 "nbformat_minor": 2
}
