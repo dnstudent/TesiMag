{
 "cells": [
  {
   "cell_type": "markdown",
   "metadata": {},
   "source": [
    "# Dataset [rete]\n",
    "Registrazione delle misure recuperate dal database x.\n",
    "\n",
    "La procedura si articola nei seguenti passaggi:\n",
    "1. [caricamento dei dati grezzi](#caricamento-da-frammenti) e uniformazione negli schemi esposti sotto;\n",
    "1. [primo quality check](#quality-check): controllo errori di consistenza nella singola serie e nelle coppie di serie della stessa stazione;\n",
    "1. [overview disponibilità dati](#overview-disponibilità-dati): plot che mostrano la disponibilità temporale e spaziale di serie;\n",
    "1. [merging](#merging) del dataset con SCIA.\n",
    "\n",
    "## Data model\n",
    "### Metadati\n",
    "| station_id | station_name | network | state | lon    | lat    | elevation | dataset_id | original_id |\n",
    "|------------|--------------|---------|-------|--------|--------|-----------|------------|-------------|\n",
    "| utf8()     | utf8()       | utf8()  | utf8()|double()|double()| double()  | utf8()     | utf8()      |\n",
    "| pkey       | obs          | obs     | obs   | obs    | obs    | obs       | fkey       | obs         |\n",
    "\n",
    "I metadati delle stazioni che non rientrano nelle tabelle elencate vanno in una tabella \"extra\" collegata tramite \"station_id\".\n",
    "\n",
    "### Dati\n",
    "|series_id|date|value|merged|variable|\n",
    "|---------|----|-----|------|--------|\n",
    "|utf8()|date()|double()|bool()|utf8()|\n",
    "| fkey    |obs | obs | obs  | obs    |\n",
    "\n",
    "Note:\n",
    "- `merged` indica se il valore in riga è il risultato di un merge.\n"
   ]
  },
  {
   "cell_type": "code",
   "execution_count": null,
   "metadata": {
    "vscode": {
     "languageId": "r"
    }
   },
   "outputs": [],
   "source": [
    "dataset_id <-\n",
    "state <-\n"
   ]
  },
  {
   "cell_type": "code",
   "execution_count": null,
   "metadata": {
    "vscode": {
     "languageId": "r"
    }
   },
   "outputs": [],
   "source": [
    "setwd(fs::path_abs(\"~/Local_Workspace/TesiMag\"))\n",
    "library(arrow, warn.conflicts = FALSE)\n",
    "library(dplyr, warn.conflicts = FALSE)\n",
    "library(zeallot, warn.conflicts = FALSE)\n",
    "library(stringr, warn.conflicts = FALSE)\n",
    "options(repr.plot.width = 9, repr.plot.res = 300)\n",
    "\n",
    "\n",
    "source(str_glue(\"notebooks/integrazioni_regionali/{str_to_lower(state)}/procedures/load_daily.R\"))\n",
    "source(\"notebooks/integrazioni_regionali/procedure/common_steps.R\")\n",
    "source(\"notebooks/integrazioni_regionali/procedure/checkpoint.R\")\n",
    "source(\"src/database/tools.R\")\n",
    "source(\"src/load/ITA.R\")\n",
    "\n",
    "first_date <- as.Date(\"2000-01-01\")\n",
    "last_date <- as.Date(\"2022-12-31\")\n",
    "state_boundaries <- load.italian_boundaries(\"state\") |> filter(shapeName == state)\n"
   ]
  },
  {
   "cell_type": "markdown",
   "metadata": {},
   "source": [
    "## Caricamento da frammenti\n",
    "Dati giornalieri come forniti dall'ente, in formato tabella Arrow\n"
   ]
  },
  {
   "cell_type": "code",
   "execution_count": null,
   "metadata": {
    "vscode": {
     "languageId": "r"
    }
   },
   "outputs": [],
   "source": [
    "c(full_stations_metadata, daily_data) %<-% (load_daily_data.() |> prepare_daily_data(first_date, last_date))\n",
    "c(stations_metadata, stations_extra_metadata) %<-% split_station_metadata(full_stations_metadata)\n"
   ]
  },
  {
   "cell_type": "code",
   "execution_count": null,
   "metadata": {
    "vscode": {
     "languageId": "r"
    }
   },
   "outputs": [],
   "source": [
    "checkpoint_database(daily_data, stations_metadata, dataset_id, \"raw\")\n",
    "write_extra_metadata(stations_extra_metadata, dataset_id, provisional = FALSE)\n"
   ]
  },
  {
   "cell_type": "markdown",
   "metadata": {},
   "source": [
    "## Quality check\n",
    "Controllo gross errors, dati ripetuti, T_MIN >= T_MAX, serie intere"
   ]
  },
  {
   "cell_type": "code",
   "execution_count": null,
   "metadata": {
    "vscode": {
     "languageId": "r"
    }
   },
   "outputs": [],
   "source": [
    "c(stations_metadata, daily_data) %<-% open_checkpoint(dataset_id, \"raw\")\n",
    "c(qc1_stations, qc1_data) %<-% qc1(stations_metadata, daily_data, stop_on_error = TRUE)\n",
    "\n",
    "checkpoint_database(qc1_data, qc1_stations, dataset_id, \"qc1\")\n"
   ]
  },
  {
   "cell_type": "markdown",
   "metadata": {},
   "source": [
    "## Overview disponibilità dati\n",
    "Grafici che mostrano la disponibilità di serie mese per mese e sul territorio"
   ]
  },
  {
   "cell_type": "code",
   "execution_count": null,
   "metadata": {
    "vscode": {
     "languageId": "r"
    }
   },
   "outputs": [],
   "source": [
    "c(qc1_stations, qc1_data) %<-% open_checkpoint(dataset_id, \"qc1\")\n",
    "c(p, ymonthly_avail) %<-% ymonthly_availabilities(qc1_stations, qc1_data, start_date = first_date, end_date = last_date)\n",
    "p\n"
   ]
  },
  {
   "cell_type": "code",
   "execution_count": null,
   "metadata": {
    "vscode": {
     "languageId": "r"
    }
   },
   "outputs": [],
   "source": [
    "c(p, climats) %<-% spatial_availabilities(ymonthly_avail |> filter(dataset_id == !!dataset_id), qc1_stations, state_boundaries)\n",
    "p\n"
   ]
  },
  {
   "cell_type": "markdown",
   "metadata": {},
   "source": [
    "## Merging\n",
    "Gap-filling con altri dataset"
   ]
  },
  {
   "cell_type": "code",
   "execution_count": null,
   "metadata": {
    "vscode": {
     "languageId": "r"
    }
   },
   "outputs": [],
   "source": []
  }
 ],
 "metadata": {
  "kernelspec": {
   "display_name": "R",
   "language": "R",
   "name": "ir"
  },
  "language_info": {
   "codemirror_mode": "r",
   "file_extension": ".r",
   "mimetype": "text/x-r-source",
   "name": "R",
   "pygments_lexer": "r",
   "version": "4.3.2"
  }
 },
 "nbformat": 4,
 "nbformat_minor": 2
}
