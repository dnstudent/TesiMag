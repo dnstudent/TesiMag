{
    "cells": [
        {
            "cell_type": "markdown",
            "metadata": {},
            "source": [
                "# Dataset X\n",
                "Registrazione delle misure recuperate dal database X.\n",
                "\n",
                "La procedura si articola nei seguenti passaggi:\n",
                "1. [caricamento dei dati grezzi](#caricamento-da-frammenti) e uniformazione negli schemi esposti sotto;\n",
                "1. [primo quality check](#quality-check): controllo errori di consistenza nella singola serie e nelle coppie di serie della stessa stazione;\n",
                "1. [overview disponibilità dati](#overview-disponibilità-dati): plot che mostrano la disponibilità temporale e spaziale di serie;\n",
                "1. [merging](#merging) del dataset con SCIA.\n",
                "\n",
                "## Data model\n",
                "### Metadati\n",
                "| station_id | station_name | network | state | lon    | lat    | elevation | dataset_id | original_id |\n",
                "|------------|--------------|---------|-------|--------|--------|-----------|------------|-------------|\n",
                "| utf8()     | utf8()       | utf8()  | utf8()|double()|double()| double()  | utf8()     | utf8()      |\n",
                "| pkey       | obs          | obs     | obs   | obs    | obs    | obs       | fkey       | obs         |\n",
                "\n",
                "I metadati delle stazioni che non rientrano nelle tabelle elencate vanno in una tabella \"extra\" collegata tramite \"station_id\".\n",
                "\n",
                "### Dati\n",
                "|series_id|date|value|merged|variable|\n",
                "|---------|----|-----|------|--------|\n",
                "|utf8()|date()|double()|bool()|utf8()|\n",
                "| fkey    |obs | obs | obs  | obs    |\n",
                "\n",
                "Note:\n",
                "- `merged` indica se il valore in riga è il risultato di un merge.\n"
            ]
        },
        {
            "cell_type": "code",
            "execution_count": null,
            "metadata": {
                "vscode": {
                    "languageId": "r"
                }
            },
            "outputs": [],
            "source": [
                "dataset_id <- \n",
                "state <- \n"
            ]
        },
        {
            "cell_type": "code",
            "execution_count": null,
            "metadata": {
                "vscode": {
                    "languageId": "r"
                }
            },
            "outputs": [],
            "source": [
                "setwd(fs::path_abs(\"~/Local_Workspace/TesiMag\"))\n",
                "library(arrow, warn.conflicts = FALSE)\n",
                "library(dplyr, warn.conflicts = FALSE)\n",
                "library(zeallot, warn.conflicts = FALSE)\n",
                "library(stringr, warn.conflicts = FALSE)\n",
                "library(DBI, warn.conflicts = FALSE)\n",
                "options(repr.plot.width = 9, repr.plot.res = 300)\n",
                "\n",
                "source(str_glue(\"notebooks/integrazioni_regionali/{str_to_lower(state)}/procedures/load_daily.R\"))\n",
                "source(str_glue(\"notebooks/integrazioni_regionali/{str_to_lower(state)}/procedures/match_taggers.R\"))\n",
                "source(\"notebooks/integrazioni_regionali/procedure/common_steps.R\")\n",
                "source(\"notebooks/integrazioni_regionali/procedure/checkpoint.R\")\n",
                "source(\"src/database/tools.R\")\n",
                "source(\"src/database/insert.R\")\n",
                "source(\"src/database/write.R\")\n",
                "source(\"src/database/startup.R\")\n",
                "source(\"src/database/query/spatial.R\")\n",
                "\n",
                "first_date <- as.Date(\"2000-01-01\")\n",
                "last_date <- as.Date(\"2022-12-31\")\n",
                "conns <- load_dbs()\n",
                "state_boundaries <- query_boundary(conns$stations, state, \"state\")\n",
                "add_ds_info(dataset_spec())\n"
            ]
        },
        {
            "cell_type": "markdown",
            "metadata": {},
            "source": [
                "## Caricamento da frammenti\n",
                "Dati giornalieri come forniti dall'ente, in formato tabella Arrow\n"
            ]
        },
        {
            "cell_type": "code",
            "execution_count": null,
            "metadata": {
                "vscode": {
                    "languageId": "r"
                }
            },
            "outputs": [],
            "source": [
                "daily_dataset <- load_daily_data.(first_date, last_date) |> prepare_daily_data(dataset_id)\n",
                "checkpoint_database(daily_dataset$database, dataset_id, \"raw\")\n",
                "write_extra_metadata(daily_dataset$extra_meta |> collect(), dataset_id, conns$stations)\n",
                "rm(daily_dataset)\n",
                "gc()\n"
            ]
        },
        {
            "cell_type": "markdown",
            "metadata": {},
            "source": [
                "## Quality check\n",
                "Controllo gross errors, dati ripetuti, T_MIN >= T_MAX, serie intere"
            ]
        },
        {
            "cell_type": "code",
            "execution_count": null,
            "metadata": {
                "vscode": {
                    "languageId": "r"
                }
            },
            "outputs": [],
            "source": [
                "raw_database <- open_checkpoint(dataset_id, \"raw\")\n",
                "qc_database <- qc1(raw_database, stop_on_error = TRUE)\n",
                "\n",
                "checkpoint_database(qc_database, dataset_id, \"qc1\")\n",
                "rm(raw_database)\n",
                "rm(qc_database)\n",
                "gc()\n"
            ]
        },
        {
            "cell_type": "markdown",
            "metadata": {},
            "source": [
                "## Overview disponibilità dati\n",
                "Grafici che mostrano la disponibilità di serie mese per mese e sul territorio"
            ]
        },
        {
            "cell_type": "code",
            "execution_count": null,
            "metadata": {
                "vscode": {
                    "languageId": "r"
                }
            },
            "outputs": [],
            "source": [
                "qc_database <- open_checkpoint(dataset_id, \"qc1\")\n",
                "others <- concat_databases(\n",
                "    open_checkpoint(\"SCIA\", \"qc1\") |> filter_checkpoint_inside(state_boundaries),\n",
                "    open_checkpoint(\"ISAC\", \"qc1\") |> filter_checkpoint_inside(state_boundaries)\n",
                ")\n",
                "c(p, ymonthly_avail) %<-% ymonthly_availabilities(qc_database,\n",
                "    against = others,\n",
                "    start_date = first_date,\n",
                "    end_date = last_date\n",
                ")\n",
                "p\n"
            ]
        },
        {
            "cell_type": "code",
            "execution_count": null,
            "metadata": {
                "vscode": {
                    "languageId": "r"
                }
            },
            "outputs": [],
            "source": [
                "c(p, climats) %<-% spatial_availabilities(ymonthly_avail, concat_tables(qc_database$meta, others$meta), state_boundaries)\n",
                "p\n"
            ]
        },
        {
            "cell_type": "code",
            "execution_count": null,
            "metadata": {
                "vscode": {
                    "languageId": "r"
                }
            },
            "outputs": [],
            "source": [
                "rm(qc_database)\n",
                "rm(ymonthly_avail)\n",
                "rm(climats)\n",
                "rm(p)\n",
                "gc()\n"
            ]
        },
        {
            "cell_type": "markdown",
            "metadata": {},
            "source": [
                "## Merging\n",
                "Gap-filling con altri dataset"
            ]
        },
        {
            "cell_type": "markdown",
            "metadata": {},
            "source": [
                "### Match stazioni\n",
                "Partendo dal file di analisi appena scritto preparo dei filtri che categorizzino il match.\n",
                "\n",
                "Le possibilità sono:\n",
                "- `tag_same_station`: il match indica una stessa stazione;\n",
                "- `tag_unusable`: il match è inutilizzabile;\n",
                "- `tag_pairable`: il match indica che le stazioni sono utilizzabili per fare gap-filling.\n",
                "\n",
                "Può essere che un match sia sulla stessa stazione ma che sia inutilizzabile; `tag_unusable` e `tag_pairable` invece si dovrebbero escludere vicendevolmente."
            ]
        },
        {
            "cell_type": "code",
            "execution_count": null,
            "metadata": {
                "vscode": {
                    "languageId": "r"
                }
            },
            "outputs": [],
            "source": [
                "qc_state <- open_checkpoint(dataset_id, \"qc1\")\n",
                "qc_scia <- open_checkpoint(\"SCIA\", \"qc1\") |> filter_checkpoint_inside(state_boundaries)\n",
                "analysis_results <- perform_analysis(\n",
                "    qc_state,\n",
                "    qc_scia,\n",
                "    dist_km = , # 10,\n",
                "    first_date,\n",
                "    last_date,\n",
                "    str_to_lower(state),\n",
                ")\n",
                "\n",
                "rm(qc_state)\n",
                "rm(qc_scia)\n",
                "gc()\n"
            ]
        },
        {
            "cell_type": "code",
            "execution_count": null,
            "metadata": {
                "vscode": {
                    "languageId": "r"
                }
            },
            "outputs": [],
            "source": [
                "analysis_results <- tag_analysis(analysis_results, list(\"same_station\" = tag_same_station, \"unusable\" = tag_unusable))\n",
                "analysis_results$analysis |>\n",
                "        group_by(same_station, unusable) |>\n",
                "        tally()\n",
                "filter(analysis_results$analysis, same_station) |>\n",
                "        group_by(station_id.x) |>\n",
                "        tally() |>\n",
                "        filter(n != 2L & n != 4L)\n",
                "filter(analysis_results$analysis, same_station) |>\n",
                "        group_by(station_id.y) |>\n",
                "        tally() |>\n",
                "        filter(n != 2L)\n"
            ]
        },
        {
            "cell_type": "code",
            "execution_count": null,
            "metadata": {
                "vscode": {
                    "languageId": "r"
                }
            },
            "outputs": [],
            "source": [
                "combination_results <- build_combined_database(analysis_results, use_corrections = TRUE, checks = TRUE, test_bounds = 1, match_selectors = NULL)\n",
                "checkpoint_database(combination_results$database, dataset_id, \"scia_merged\")\n",
                "save_match_list(combination_results$match_list, dataset_id, \"scia_merged\")\n"
            ]
        },
        {
            "cell_type": "code",
            "execution_count": null,
            "metadata": {
                "vscode": {
                    "languageId": "r"
                }
            },
            "outputs": [],
            "source": [
                "combined_database <- open_checkpoint(dataset_id, \"scia_merged\")\n",
                "c(p, ymonthly_avail) %<-% ymonthly_availabilities(combined_database,\n",
                "    start_date = first_date,\n",
                "    end_date = last_date\n",
                ")\n",
                "p\n"
            ]
        },
        {
            "cell_type": "code",
            "execution_count": null,
            "metadata": {
                "vscode": {
                    "languageId": "r"
                }
            },
            "outputs": [],
            "source": [
                "c(p, climats) %<-% spatial_availabilities(ymonthly_avail, combined_database$meta, state_boundaries)\n",
                "p\n"
            ]
        },
        {
            "cell_type": "code",
            "execution_count": null,
            "metadata": {
                "vscode": {
                    "languageId": "r"
                }
            },
            "outputs": [],
            "source": [
                "rm(ymonthly_avail)\n",
                "rm(climats)\n",
                "rm(combination_results)\n",
                "rm(combined_database)\n",
                "gc()"
            ]
        },
        {
            "cell_type": "markdown",
            "metadata": {},
            "source": [
                "### Merge interno"
            ]
        },
        {
            "cell_type": "code",
            "execution_count": null,
            "metadata": {
                "vscode": {
                    "languageId": "r"
                }
            },
            "outputs": [],
            "source": [
                "scia_merged <- open_checkpoint(dataset_id, \"scia_merged\")\n",
                "analysis_results <- perform_analysis_symmetric(\n",
                "    scia_merged,\n",
                "    dist_km = 6,\n",
                "    first_date,\n",
                "    last_date,\n",
                "    file.path(\"vda\", \"internal.xlsx\"),\n",
                "    default_symmetric_filter,\n",
                "    priority_table = NULL,\n",
                ")\n",
                "\n",
                "rm(scia_merged)\n",
                "gc()"
            ]
        },
        {
            "cell_type": "code",
            "execution_count": null,
            "metadata": {
                "vscode": {
                    "languageId": "r"
                }
            },
            "outputs": [],
            "source": [
                "analysis_results <- tag_analysis(analysis_results, list(\"same_station\" = tag_same_station_internal, \"unusable\" = tag_unusable_internal))\n",
                "analysis_results$analysis |>\n",
                "        group_by(same_station, unusable) |>\n",
                "        tally()\n",
                "filter(analysis_results$analysis, same_station) |>\n",
                "        group_by(station_id.x) |>\n",
                "        tally() |>\n",
                "        filter(n != 2L & n != 4L)\n",
                "filter(analysis_results$analysis, same_station) |>\n",
                "        group_by(station_id.y) |>\n",
                "        tally() |>\n",
                "        filter(n != 2L)\n"
            ]
        },
        {
            "cell_type": "code",
            "execution_count": null,
            "metadata": {
                "vscode": {
                    "languageId": "r"
                }
            },
            "outputs": [],
            "source": [
                "combination_results <- build_combined_database(analysis_results, use_corrections = TRUE, checks = TRUE, test_bounds = 1.5, match_selectors = NULL)\n",
                "checkpoint_database(combination_results$database, dataset_id, \"merged\")\n",
                "save_match_list(combination_results$match_list, dataset_id, \"merged\")\n",
                "rm(combination_results)\n",
                "gc()"
            ]
        },
        {
            "cell_type": "code",
            "execution_count": null,
            "metadata": {
                "vscode": {
                    "languageId": "r"
                }
            },
            "outputs": [],
            "source": [
                "combined_database <- open_checkpoint(dataset_id, \"merged\")\n",
                "c(p, ymonthly_avail) %<-% ymonthly_availabilities(combined_database,\n",
                "    start_date = first_date,\n",
                "    end_date = last_date\n",
                ")\n",
                "p\n"
            ]
        },
        {
            "cell_type": "code",
            "execution_count": null,
            "metadata": {
                "vscode": {
                    "languageId": "r"
                }
            },
            "outputs": [],
            "source": [
                "c(p, climats) %<-% spatial_availabilities(ymonthly_avail, combined_database$meta, state_boundaries)\n",
                "p\n"
            ]
        },
        {
            "cell_type": "code",
            "execution_count": null,
            "metadata": {
                "vscode": {
                    "languageId": "r"
                }
            },
            "outputs": [],
            "source": [
                "print(\"Available series per variable:\")\n",
                "climats |> as_tibble() |> group_by(variable, station_id) |> summarise(usable = all(clim_available), .groups = \"drop_last\") |> filter(usable) |> tally()"
            ]
        },
        {
            "cell_type": "code",
            "execution_count": null,
            "metadata": {
                "vscode": {
                    "languageId": "r"
                }
            },
            "outputs": [],
            "source": [
                "rm(ymonthly_avail)\n",
                "rm(climats)\n",
                "rm(combined_database)\n",
                "gc()"
            ]
        },
        {
            "cell_type": "code",
            "execution_count": null,
            "metadata": {
                "vscode": {
                    "languageId": "r"
                }
            },
            "outputs": [],
            "source": [
                "source(\"notebooks/integrazioni_regionali/procedure/checkpoint.R\")\n",
                "open_checkpoint(dataset_id, \"merged\")$data |> distinct(station_id, variable) |> compute() |> nrow()"
            ]
        },
        {
            "cell_type": "code",
            "execution_count": null,
            "metadata": {
                "vscode": {
                    "languageId": "r"
                }
            },
            "outputs": [],
            "source": [
                "# Lanciare da terminale\n",
                "source(\"src/pairing/displaying.R\")\n",
                "source(\"notebooks/integrazioni_regionali/procedure/checkpoint.R\")\n",
                "open_checkpoint(, \"merged\") |>\n",
                "    launch_leaflet()"
            ]
        }
    ],
    "metadata": {
        "kernelspec": {
            "display_name": "R",
            "language": "R",
            "name": "ir"
        },
        "language_info": {
            "codemirror_mode": "r",
            "file_extension": ".r",
            "mimetype": "text/x-r-source",
            "name": "R",
            "pygments_lexer": "r",
            "version": "4.3.2"
        }
    },
    "nbformat": 4,
    "nbformat_minor": 2
}
