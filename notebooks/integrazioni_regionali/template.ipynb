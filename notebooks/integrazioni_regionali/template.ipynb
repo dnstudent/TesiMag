{
 "cells": [
  {
   "cell_type": "markdown",
   "metadata": {},
   "source": [
    "# Dataset [rete]\n",
    "Registrazione delle misure recuperate dal database x"
   ]
  },
  {
   "cell_type": "code",
   "execution_count": null,
   "metadata": {
    "vscode": {
     "languageId": "r"
    }
   },
   "outputs": [],
   "source": [
    "setwd(fs::path_abs(\"~/Local_Workspace/TesiMag\"))\n",
    "library(arrow, warn.conflicts = FALSE)\n",
    "library(dplyr, warn.conflicts = FALSE)\n",
    "library(ggplot2, warn.conflicts = FALSE)\n",
    "library(tsibble, warn.conflicts = FALSE)\n",
    "library(zeallot, warn.conflicts = FALSE)\n",
    "library(sf, warn.conflicts = FALSE)\n",
    "library(tidyr, warn.conflicts = FALSE)\n",
    "library(assertr, warn.conflicts = FALSE)\n",
    "options(repr.plot.width = 9, repr.plot.res = 300)\n",
    "\n",
    "source(\"notebooks/integrazioni_regionali/nb_tools/state_avail.R\")\n",
    "source(\"notebooks/integrazioni_regionali/nb_tools/pairing_procedure.R\")\n",
    "source(\"src/load/load.R\")\n",
    "source(\"src/analysis/data/clim_availability.R\")\n",
    "source(\"src/analysis/data/quality_check.R\")\n",
    "source(\"src/pairing/analysis.R\")\n",
    "source(\"src/pairing/matching.R\")\n",
    "source(\"src/pairing/plots.R\")\n",
    "source(\"src/pairing/combining.R\")\n",
    "source(\"src/pairing/displaying.R\")\n",
    "source(\"src/plot/plot_helpers.R\")\n",
    "source(\"src/database/write.R\")\n",
    "source(\"src/database/open.R\")\n",
    "\n",
    "first_date <- as.Date(\"2000-01-01\")\n",
    "last_date <- as.Date(\"2022-12-31\")\n"
   ]
  },
  {
   "cell_type": "code",
   "execution_count": null,
   "metadata": {
    "vscode": {
     "languageId": "r"
    }
   },
   "outputs": [],
   "source": [
    "dataset_id <- \"x\"\n",
    "state <- \"x\"\n"
   ]
  },
  {
   "cell_type": "markdown",
   "metadata": {},
   "source": [
    "## Caricamento da frammenti"
   ]
  },
  {
   "cell_type": "code",
   "execution_count": null,
   "metadata": {
    "vscode": {
     "languageId": "r"
    }
   },
   "outputs": [],
   "source": []
  },
  {
   "cell_type": "markdown",
   "metadata": {},
   "source": [
    "## Metadati\n",
    "Produco le tabelle dei metadati del dataset e delle stazioni. Controllo con `assertr` e `tsibble` la consistenza delle tabelle.\n",
    "\n",
    "### Dataset\n",
    "| dataset_id | entity | reference | \n",
    "|------------|--------|-----------|\n",
    "| utf8()     | utf8() | utf8()    |\n",
    "| pkey       | obs    | obs       |\n",
    "\n",
    "### Stazioni\n",
    "| station_id | station_name | network | state | geometa |additional_meta | dataset_id | original_id |\n",
    "|------------|--------------|---------|-------|---------|----------------|------------|-------------|\n",
    "| utf8()     | utf8()       | utf8()  | utf8()|         | utf8()         | utf8()     | utf8()      |\n",
    "| pkey       | obs          | obs     | obs   |         | fkey           | fkey       | obs         |\n",
    "\n",
    "I metadati delle stazioni che non rientrano nelle tabelle elencate vanno in una tabella \"additional_meta\" alla quale puntare con un riferimento\n",
    "\n",
    "### Serie\n",
    "| series_id | station_id  | variable | qc_step | merged_from |\n",
    "|-----------|-------------|----------|---------|-------------|\n",
    "\n"
   ]
  },
  {
   "cell_type": "markdown",
   "metadata": {},
   "source": [
    "## Dati\n",
    "Produco la tabella delle misure. Il formato è row-records:\n",
    "\n",
    "|series_id|date|value|merged|\n",
    "|---------|----|-----|------|\n",
    "|utf8()|date()|float()|bool()|\n",
    "| fkey    |obs | obs | obs  |\n",
    "\n",
    "Note:\n",
    "- `merged` indica se il valore in riga è risultato di un merge. Le caratteristiche del merge sono riportate nella tabella delle stazioni.\n",
    "\n",
    "Effettuare controllo qualità"
   ]
  },
  {
   "cell_type": "code",
   "execution_count": null,
   "metadata": {
    "vscode": {
     "languageId": "r"
    }
   },
   "outputs": [],
   "source": []
  },
  {
   "cell_type": "code",
   "execution_count": null,
   "metadata": {
    "vscode": {
     "languageId": "r"
    }
   },
   "outputs": [],
   "source": [
    "data |>\n",
    "    as_tsibble(key = series_id, index = date) |>\n",
    "    gross_errors_check() |>\n",
    "    repeated_values_check() |>\n",
    "    verify(qc_gross, qc_repeated)\n"
   ]
  },
  {
   "cell_type": "markdown",
   "metadata": {},
   "source": [
    "## Analisi disponibilità dati\n",
    "Grafici che mostrano la disponibilità di serie mese per mese"
   ]
  },
  {
   "cell_type": "code",
   "execution_count": null,
   "metadata": {
    "vscode": {
     "languageId": "r"
    }
   },
   "outputs": [],
   "source": [
    "scia_stats <- open.dataset(\"SCIA\", \"metadata\") |> filter(state == state)\n",
    "scia_data <- open.dataset(\"SCIA\", \"data\") |>\n",
    "    semi_join(scia_stats, by = \"identifier\") |>\n",
    "    mutate(db = \"SCIA\", identifier = cast(identifier, utf8())) |>\n",
    "    collect()\n",
    "state_data <- data |>\n",
    "    left_join(series_table |> select(series_id, station_id, variable), by = \"series_id\") |>\n",
    "    collect() |>\n",
    "    rename(identifier = station_id) |>\n",
    "    mutate(db = dataset_id) |>\n",
    "    select(db, identifier, variable, date, value)\n",
    "state_data |>\n",
    "    bind_rows(scia_data) |>\n",
    "    plot_state_avail(first_date, last_date)\n"
   ]
  },
  {
   "cell_type": "code",
   "execution_count": null,
   "metadata": {
    "vscode": {
     "languageId": "r"
    }
   },
   "outputs": [],
   "source": [
    "state_boundaries <- load.italian_boundaries(\"state\") |> filter(shapeName == state)\n",
    "climats_comp <- is_climatology_computable(as_tsibble(state_data, key = c(identifier, variable), index = date), value, .start = first_date, .end = last_date) |>\n",
    "    left_join(stations_table |> select(station_id, lon, lat) |> collect(), by = join_by(identifier == station_id)) |>\n",
    "    st_md_to_sf()\n"
   ]
  },
  {
   "cell_type": "markdown",
   "metadata": {},
   "source": [
    "## Merging\n",
    "Gap-filling con altri dataset.\n",
    "Registrazione dell'esito."
   ]
  },
  {
   "cell_type": "code",
   "execution_count": null,
   "metadata": {
    "vscode": {
     "languageId": "r"
    }
   },
   "outputs": [],
   "source": []
  }
 ],
 "metadata": {
  "kernelspec": {
   "display_name": "R",
   "language": "R",
   "name": "ir"
  },
  "language_info": {
   "codemirror_mode": "r",
   "file_extension": ".r",
   "mimetype": "text/x-r-source",
   "name": "R",
   "pygments_lexer": "r",
   "version": "4.3.2"
  }
 },
 "nbformat": 4,
 "nbformat_minor": 2
}
