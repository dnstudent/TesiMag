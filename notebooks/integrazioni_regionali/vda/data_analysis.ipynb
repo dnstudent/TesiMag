{
 "cells": [
  {
   "cell_type": "code",
   "execution_count": 1,
   "metadata": {
    "vscode": {
     "languageId": "r"
    }
   },
   "outputs": [],
   "source": [
    "setwd(fs::path_abs(\"~/Local_Workspace/TesiMag\"))\n",
    "library(dplyr, warn.conflicts = FALSE)\n",
    "library(dbplyr, warn.conflicts = FALSE)\n",
    "library(DBI, warn.conflicts = FALSE)\n",
    "library(duckdb, warn.conflicts = FALSE)\n",
    "\n",
    "source(\"src/database/startup.R\")\n",
    "source(\"src/database/query/spatial.R\")\n",
    "\n",
    "conns <- load_dbs()"
   ]
  },
  {
   "cell_type": "markdown",
   "metadata": {},
   "source": [
    "## Quality check\n",
    "Controllo gross errors, dati ripetuti, $\\mathrm{T_{MIN} \\ge T_{MAX}}$ e serie intere. Effettuato batch sul database."
   ]
  },
  {
   "cell_type": "markdown",
   "metadata": {},
   "source": [
    "## Merging\n",
    "### Analisi match\n",
    "Statistica delle differenze tra serie coincidenti. Individuo se un dataset ha dei bias (e.g. DPC talvolta ha misure sistematicamente \"meno estreme\" di SCIA, probabilmente perché prende gli estremi delle medie orarie invece che gli estremi giornalieri)."
   ]
  },
  {
   "cell_type": "code",
   "execution_count": null,
   "metadata": {
    "vscode": {
     "languageId": "r"
    }
   },
   "outputs": [],
   "source": [
    "scia_stations <- dbGetQuery(\n",
    "    conns$stations,\n",
    "    \"\n",
    "    SELECT s.*\n",
    "    FROM stations s\n",
    "    WHERE s.dataset = 'SCIA'\n",
    "    JOIN\n",
    "    \"\n",
    ")"
   ]
  },
  {
   "cell_type": "markdown",
   "metadata": {},
   "source": [
    "### Match stazioni\n",
    "Partendo dal file di analisi appena scritto preparo dei filtri che categorizzino il match.\n",
    "\n",
    "Le possibilità sono:\n",
    "- `tag_same_station`: il match indica una stessa stazione;\n",
    "- `tag_unusable`: il match è inutilizzabile;\n",
    "- `tag_pairable`: il match indica che le stazioni sono utilizzabili per fare gap-filling.\n",
    "\n",
    "Può essere che un match sia sulla stessa stazione ma che sia inutilizzabile; `tag_unusable` e `tag_pairable` invece si dovrebbero escludere vicendevolmente."
   ]
  },
  {
   "cell_type": "code",
   "execution_count": null,
   "metadata": {
    "vscode": {
     "languageId": "r"
    }
   },
   "outputs": [],
   "source": [
    "qc_state <- open_checkpoint(dataset_id, \"qc1\")\n",
    "qc_scia <- open_checkpoint(\"SCIA\", \"qc1\") |> filter_checkpoint_inside(state_boundaries)\n",
    "analysis_results <- perform_analysis(\n",
    "    qc_state,\n",
    "    qc_scia,\n",
    "    dist_km = , # 10,\n",
    "    first_date,\n",
    "    last_date,\n",
    "    str_to_lower(state),\n",
    ")\n",
    "\n",
    "rm(qc_state)\n",
    "rm(qc_scia)\n",
    "gc()\n"
   ]
  },
  {
   "cell_type": "code",
   "execution_count": null,
   "metadata": {
    "vscode": {
     "languageId": "r"
    }
   },
   "outputs": [],
   "source": [
    "analysis_results <- tag_analysis(analysis_results, list(\"same_station\" = tag_same_station, \"unusable\" = tag_unusable))\n",
    "analysis_results$analysis |>\n",
    "        group_by(same_station, unusable) |>\n",
    "        tally()\n",
    "filter(analysis_results$analysis, same_station) |>\n",
    "        group_by(station_id.x) |>\n",
    "        tally() |>\n",
    "        filter(n != 2L & n != 4L)\n",
    "filter(analysis_results$analysis, same_station) |>\n",
    "        group_by(station_id.y) |>\n",
    "        tally() |>\n",
    "        filter(n != 2L)\n"
   ]
  },
  {
   "cell_type": "code",
   "execution_count": null,
   "metadata": {
    "vscode": {
     "languageId": "r"
    }
   },
   "outputs": [],
   "source": [
    "combination_results <- build_combined_database(analysis_results, use_corrections = TRUE, checks = TRUE, test_bounds = 1, match_selectors = NULL)\n",
    "checkpoint_database(combination_results$database, dataset_id, \"scia_merged\")\n",
    "save_match_list(combination_results$match_list, dataset_id, \"scia_merged\")\n"
   ]
  },
  {
   "cell_type": "code",
   "execution_count": null,
   "metadata": {
    "vscode": {
     "languageId": "r"
    }
   },
   "outputs": [],
   "source": [
    "stations <- open_metadata(c(dataset, \"SCIA\", \"ISAC\"), \"raw\", TRUE) |> filter_inside(state_boundaries)\n",
    "state_data <- query_from_checkpoint(c(dataset, \"SCIA\", \"ISAC\"), \"raw\") |>\n",
    "    semi_join.ddb(stations, join_by(dataset, station_id == id))\n",
    "\n",
    "c(p, ymonthly_avail) %<-% ymonthly_availabilities(state_data)\n",
    "p\n"
   ]
  },
  {
   "cell_type": "code",
   "execution_count": null,
   "metadata": {
    "vscode": {
     "languageId": "r"
    }
   },
   "outputs": [],
   "source": [
    "c(p, climats) %<-% spatial_availabilities(ymonthly_avail, stations, state_boundaries)\n",
    "p\n"
   ]
  },
  {
   "cell_type": "code",
   "execution_count": null,
   "metadata": {
    "vscode": {
     "languageId": "r"
    }
   },
   "outputs": [],
   "source": [
    "rm(stations, state_data, ymonthly_avail, climats, p)\n",
    "gc()"
   ]
  },
  {
   "cell_type": "markdown",
   "metadata": {},
   "source": [
    "### Merge interno"
   ]
  },
  {
   "cell_type": "code",
   "execution_count": null,
   "metadata": {
    "vscode": {
     "languageId": "r"
    }
   },
   "outputs": [],
   "source": [
    "scia_merged <- open_checkpoint(dataset_id, \"scia_merged\")\n",
    "analysis_results <- perform_analysis_symmetric(\n",
    "    scia_merged,\n",
    "    dist_km = 6,\n",
    "    first_date,\n",
    "    last_date,\n",
    "    file.path(\"vda\", \"internal.xlsx\"),\n",
    "    default_symmetric_filter,\n",
    "    priority_table = NULL,\n",
    ")\n",
    "\n",
    "rm(scia_merged)\n",
    "gc()"
   ]
  },
  {
   "cell_type": "code",
   "execution_count": null,
   "metadata": {
    "vscode": {
     "languageId": "r"
    }
   },
   "outputs": [],
   "source": [
    "analysis_results <- tag_analysis(analysis_results, list(\"same_station\" = tag_same_station_internal, \"unusable\" = tag_unusable_internal))\n",
    "analysis_results$analysis |>\n",
    "        group_by(same_station, unusable) |>\n",
    "        tally()\n",
    "filter(analysis_results$analysis, same_station) |>\n",
    "        group_by(station_id.x) |>\n",
    "        tally() |>\n",
    "        filter(n != 2L & n != 4L)\n",
    "filter(analysis_results$analysis, same_station) |>\n",
    "        group_by(station_id.y) |>\n",
    "        tally() |>\n",
    "        filter(n != 2L)\n"
   ]
  },
  {
   "cell_type": "code",
   "execution_count": null,
   "metadata": {
    "vscode": {
     "languageId": "r"
    }
   },
   "outputs": [],
   "source": [
    "combination_results <- build_combined_database(analysis_results, use_corrections = TRUE, checks = TRUE, test_bounds = 1.5, match_selectors = NULL)\n",
    "checkpoint_database(combination_results$database, dataset_id, \"merged\")\n",
    "save_match_list(combination_results$match_list, dataset_id, \"merged\")\n",
    "rm(combination_results)\n",
    "gc()"
   ]
  },
  {
   "cell_type": "code",
   "execution_count": null,
   "metadata": {
    "vscode": {
     "languageId": "r"
    }
   },
   "outputs": [],
   "source": [
    "combined_database <- open_checkpoint(dataset_id, \"merged\")\n",
    "c(p, ymonthly_avail) %<-% ymonthly_availabilities(combined_database,\n",
    "    start_date = first_date,\n",
    "    end_date = last_date\n",
    ")\n",
    "p\n"
   ]
  },
  {
   "cell_type": "code",
   "execution_count": null,
   "metadata": {
    "vscode": {
     "languageId": "r"
    }
   },
   "outputs": [],
   "source": [
    "c(p, climats) %<-% spatial_availabilities(ymonthly_avail, combined_database$meta, state_boundaries)\n",
    "p\n"
   ]
  },
  {
   "cell_type": "code",
   "execution_count": null,
   "metadata": {
    "vscode": {
     "languageId": "r"
    }
   },
   "outputs": [],
   "source": [
    "print(\"Available series per variable:\")\n",
    "climats |> as_tibble() |> group_by(variable, station_id) |> summarise(usable = all(clim_available), .groups = \"drop_last\") |> filter(usable) |> tally()"
   ]
  },
  {
   "cell_type": "code",
   "execution_count": null,
   "metadata": {
    "vscode": {
     "languageId": "r"
    }
   },
   "outputs": [],
   "source": [
    "rm(ymonthly_avail)\n",
    "rm(climats)\n",
    "rm(combined_database)\n",
    "gc()"
   ]
  },
  {
   "cell_type": "code",
   "execution_count": null,
   "metadata": {
    "vscode": {
     "languageId": "r"
    }
   },
   "outputs": [],
   "source": [
    "source(\"notebooks/integrazioni_regionali/procedure/checkpoint.R\")\n",
    "open_checkpoint(dataset_id, \"merged\")$data |> distinct(station_id, variable) |> compute() |> nrow()"
   ]
  }
 ],
 "metadata": {
  "kernelspec": {
   "display_name": "R",
   "language": "R",
   "name": "ir"
  },
  "language_info": {
   "codemirror_mode": "r",
   "file_extension": ".r",
   "mimetype": "text/x-r-source",
   "name": "R",
   "pygments_lexer": "r",
   "version": "4.3.2"
  }
 },
 "nbformat": 4,
 "nbformat_minor": 2
}
