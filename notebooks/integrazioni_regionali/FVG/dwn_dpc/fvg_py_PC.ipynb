{
 "cells": [
  {
   "cell_type": "markdown",
   "metadata": {},
   "source": [
    "# Nice try\n",
    "Però questa sorgente registra dati solo dal 2022-10-16 22:15:00, apparentemente"
   ]
  },
  {
   "cell_type": "code",
   "execution_count": 138,
   "metadata": {},
   "outputs": [],
   "source": [
    "import requests\n",
    "import bs4\n",
    "import pandas as pd\n",
    "import polars as pl\n",
    "from pathlib import Path\n",
    "from tqdm.notebook import tqdm\n",
    "import time\n",
    "from datetime import datetime\n",
    "\n",
    "base = Path.home() / \"Local_Workspace\" / \"Datasets\" / \"ARPA\" / \"FVG\" / \"DPC\"\n",
    "api_url = r\"https://monitor.protezionecivile.fvg.it/api/\""
   ]
  },
  {
   "cell_type": "code",
   "execution_count": 35,
   "metadata": {},
   "outputs": [],
   "source": [
    "stations = requests.get(f\"{api_url}/stations\").json()[\"stations\"]\n",
    "stations = pl.from_records(\n",
    "    stations,\n",
    "    schema={\n",
    "        \"id\": pl.Utf8(),\n",
    "        \"name\": pl.Utf8(),\n",
    "        \"istat\": pl.Utf8(),\n",
    "        \"lat\": pl.Float64(),\n",
    "        \"lon\": pl.Float64(),\n",
    "        \"alt\": pl.Float64(),\n",
    "        \"status\": pl.Utf8(),\n",
    "    },\n",
    ")\n",
    "\n",
    "sensors = requests.get(f\"{api_url}/sensors\").json()[\"sensors\"]\n",
    "sensors = pl.from_records(sensors)"
   ]
  },
  {
   "cell_type": "code",
   "execution_count": 39,
   "metadata": {},
   "outputs": [],
   "source": [
    "stations.write_csv(base / \"stations.csv\")\n",
    "sensors.write_csv(base / \"sensors.csv\")"
   ]
  },
  {
   "cell_type": "code",
   "execution_count": 57,
   "metadata": {},
   "outputs": [],
   "source": [
    "def get_station_sensors(station_id, session=None):\n",
    "    if session is None:\n",
    "        station_sensors = requests.get(\n",
    "            f\"{api_url}/stations/{station_id}/sensors\"\n",
    "        ).json()[\"sensors\"]\n",
    "    else:\n",
    "        station_sensors = session.get(\n",
    "            f\"{api_url}/stations/{station_id}/sensors\"\n",
    "        ).json()[\"sensors\"]\n",
    "    return pl.from_records(station_sensors)"
   ]
  },
  {
   "cell_type": "code",
   "execution_count": 186,
   "metadata": {},
   "outputs": [],
   "source": [
    "def get_measures(station_id, sensor_id, from_time, to_time, req):\n",
    "    payload = {\n",
    "        \"from\": from_time.strftime(r\"%Y-%m-%d %H:%M:%S\"),\n",
    "        \"to\": to_time.strftime(r\"%Y-%m-%d %H:%M:%S\"),\n",
    "    }\n",
    "    req = requests if req is None else req\n",
    "    response = req.get(\n",
    "        f\"{api_url}/stations/{station_id}/sensors/{sensor_id}/measures\",\n",
    "        params=payload,\n",
    "    ).json()\n",
    "    return {\n",
    "        key: response[key] for key in [\"result\", \"count\", \"total\"]\n",
    "    }, pl.from_records(\n",
    "        response[\"measures\"]\n",
    "    )\n",
    "\n",
    "def no_more(response):\n",
    "    return response[0][\"count\"] == 0\n",
    "\n",
    "\n",
    "def get_n_measures(station_id, sensor_id, from_time, to_time, session=None):\n",
    "    obj = requests if session is None else session\n",
    "    payload = {\n",
    "        \"last\": 1,\n",
    "        \"from\": from_time.strftime(r\"%Y-%m-%d %H:%M:%S\"),\n",
    "        \"to\": to_time.strftime(r\"%Y-%m-%d %H:%M:%S\"),\n",
    "    }\n",
    "    return obj.get(\n",
    "        f\"{api_url}/stations/{station_id}/sensors/{sensor_id}/measures\", params=payload\n",
    "    ).json()[\"total\"]"
   ]
  },
  {
   "cell_type": "code",
   "execution_count": 69,
   "metadata": {},
   "outputs": [
    {
     "data": {
      "application/vnd.jupyter.widget-view+json": {
       "model_id": "3dd52b1e4eea4623b7b852338db1bb73",
       "version_major": 2,
       "version_minor": 0
      },
      "text/plain": [
       "  0%|          | 0/327 [00:00<?, ?it/s]"
      ]
     },
     "metadata": {},
     "output_type": "display_data"
    }
   ],
   "source": [
    "stat_ids = stations[\"id\"]\n",
    "with requests.Session() as session:\n",
    "    sensors_data = [\n",
    "        get_station_sensors(stat_id, session) for stat_id in tqdm(stat_ids.to_list())\n",
    "    ]"
   ]
  },
  {
   "cell_type": "code",
   "execution_count": 80,
   "metadata": {},
   "outputs": [],
   "source": [
    "sensors_data = pl.concat(\n",
    "    list(filter(lambda tab: len(tab) > 0, sensors_data)), how=\"vertical\"\n",
    ")\n",
    "sensors_data.write_csv(base / \"sensors_data.csv\")"
   ]
  },
  {
   "cell_type": "code",
   "execution_count": 84,
   "metadata": {},
   "outputs": [],
   "source": [
    "stations_with_thermo = sensors_data.filter(pl.col(\"id\").eq(2))\n",
    "station_ids = stations_with_thermo[\"station_id\"].unique()"
   ]
  },
  {
   "cell_type": "code",
   "execution_count": 191,
   "metadata": {},
   "outputs": [
    {
     "data": {
      "text/html": [
       "<div><style>\n",
       ".dataframe > thead > tr,\n",
       ".dataframe > tbody > tr {\n",
       "  text-align: right;\n",
       "  white-space: pre-wrap;\n",
       "}\n",
       "</style>\n",
       "<small>shape: (190,)</small><table border=\"1\" class=\"dataframe\"><thead><tr><th>station_id</th></tr><tr><td>i64</td></tr></thead><tbody><tr><td>2</td></tr><tr><td>4</td></tr><tr><td>5</td></tr><tr><td>6</td></tr><tr><td>8</td></tr><tr><td>9</td></tr><tr><td>10</td></tr><tr><td>13</td></tr><tr><td>14</td></tr><tr><td>16</td></tr><tr><td>17</td></tr><tr><td>19</td></tr><tr><td>&hellip;</td></tr><tr><td>542</td></tr><tr><td>543</td></tr><tr><td>544</td></tr><tr><td>545</td></tr><tr><td>546</td></tr><tr><td>547</td></tr><tr><td>548</td></tr><tr><td>549</td></tr><tr><td>551</td></tr><tr><td>552</td></tr><tr><td>553</td></tr><tr><td>554</td></tr></tbody></table></div>"
      ],
      "text/plain": [
       "shape: (190,)\n",
       "Series: 'station_id' [i64]\n",
       "[\n",
       "\t2\n",
       "\t4\n",
       "\t5\n",
       "\t6\n",
       "\t8\n",
       "\t9\n",
       "\t10\n",
       "\t13\n",
       "\t14\n",
       "\t16\n",
       "\t17\n",
       "\t19\n",
       "\t…\n",
       "\t541\n",
       "\t542\n",
       "\t543\n",
       "\t544\n",
       "\t545\n",
       "\t546\n",
       "\t547\n",
       "\t548\n",
       "\t549\n",
       "\t551\n",
       "\t552\n",
       "\t553\n",
       "\t554\n",
       "]"
      ]
     },
     "execution_count": 191,
     "metadata": {},
     "output_type": "execute_result"
    }
   ],
   "source": [
    "station_ids[:-25]"
   ]
  },
  {
   "cell_type": "code",
   "execution_count": 187,
   "metadata": {},
   "outputs": [],
   "source": [
    "def measures_iter(station_id, start, end, session=None):\n",
    "    req = requests if session is None else session\n",
    "    \n",
    "    # Retrieve measures from last block by block. At each step read the oldest measure and use it as the new \"to\" parameter\n",
    "    # This is done to get around the 10000 measures limit\n",
    "    go_on = True\n",
    "    from_time = start\n",
    "    to_time = end\n",
    "    while go_on:\n",
    "        response, data = get_measures(station_id, sensor_id=\"2\", from_time=from_time, to_time=to_time, req=req)\n",
    "        if response[\"count\"] <= 1:\n",
    "            break\n",
    "        to_time = data[\"dt\"].str.to_datetime().min()\n",
    "        yield response, data\n",
    "\n",
    "def get_station_measures(station_id, start = datetime(2000, 1, 1), end = datetime(2023, 1, 1)):\n",
    "    with requests.Session() as session:\n",
    "        n_measures = get_n_measures(station_id, sensor_id=\"2\", from_time=start, to_time=end, session=session)\n",
    "        iter_length = n_measures // 10000 + 1\n",
    "        responses, data = zip(*list(tqdm(measures_iter(station_id, start, end, session=session), total=iter_length)))\n",
    "    return responses, data\n"
   ]
  },
  {
   "cell_type": "code",
   "execution_count": 193,
   "metadata": {},
   "outputs": [
    {
     "data": {
      "application/vnd.jupyter.widget-view+json": {
       "model_id": "56990a73bf7f40b5b6f136fd5eec003e",
       "version_major": 2,
       "version_minor": 0
      },
      "text/plain": [
       "  0%|          | 0/1 [00:00<?, ?it/s]"
      ]
     },
     "metadata": {},
     "output_type": "display_data"
    }
   ],
   "source": [
    "res5 = get_station_measures(\"553\", start = datetime(2018, 1, 1))"
   ]
  },
  {
   "cell_type": "code",
   "execution_count": 194,
   "metadata": {},
   "outputs": [
    {
     "data": {
      "text/plain": [
       "(shape: (7_304, 6)\n",
       " ┌────────────┬───────────┬───────────┬───────────┬─────────────────────┬──────────┐\n",
       " │ station_id ┆ sensor_id ┆ lat       ┆ lon       ┆ dt                  ┆ value    │\n",
       " │ ---        ┆ ---       ┆ ---       ┆ ---       ┆ ---                 ┆ ---      │\n",
       " │ i64        ┆ i64       ┆ f64       ┆ f64       ┆ str                 ┆ f64      │\n",
       " ╞════════════╪═══════════╪═══════════╪═══════════╪═════════════════════╪══════════╡\n",
       " │ 553        ┆ 2         ┆ 45.917922 ┆ 12.544995 ┆ 2022-10-16 22:15:00 ┆ 12.8     │\n",
       " │ 553        ┆ 2         ┆ 45.917922 ┆ 12.544995 ┆ 2022-10-16 22:30:00 ┆ 12.8     │\n",
       " │ 553        ┆ 2         ┆ 45.917922 ┆ 12.544995 ┆ 2022-10-16 22:45:00 ┆ 12.4     │\n",
       " │ 553        ┆ 2         ┆ 45.917922 ┆ 12.544995 ┆ 2022-10-16 23:00:00 ┆ 12.56    │\n",
       " │ …          ┆ …         ┆ …         ┆ …         ┆ …                   ┆ …        │\n",
       " │ 553        ┆ 2         ┆ 45.917922 ┆ 12.544995 ┆ 2022-12-31 23:15:00 ┆ 7.9      │\n",
       " │ 553        ┆ 2         ┆ 45.917922 ┆ 12.544995 ┆ 2022-12-31 23:30:00 ┆ 7.8      │\n",
       " │ 553        ┆ 2         ┆ 45.917922 ┆ 12.544995 ┆ 2022-12-31 23:45:00 ┆ 7.7      │\n",
       " │ 553        ┆ 2         ┆ 45.917922 ┆ 12.544995 ┆ 2023-01-01 00:00:00 ┆ 7.813333 │\n",
       " └────────────┴───────────┴───────────┴───────────┴─────────────────────┴──────────┘,)"
      ]
     },
     "execution_count": 194,
     "metadata": {},
     "output_type": "execute_result"
    }
   ],
   "source": [
    "res5[1]"
   ]
  },
  {
   "cell_type": "code",
   "execution_count": 185,
   "metadata": {},
   "outputs": [
    {
     "data": {
      "text/plain": [
       "(shape: (7_304, 6)\n",
       " ┌────────────┬───────────┬───────────┬───────────┬─────────────────────┬───────┐\n",
       " │ station_id ┆ sensor_id ┆ lat       ┆ lon       ┆ dt                  ┆ value │\n",
       " │ ---        ┆ ---       ┆ ---       ┆ ---       ┆ ---                 ┆ ---   │\n",
       " │ i64        ┆ i64       ┆ f64       ┆ f64       ┆ str                 ┆ f64   │\n",
       " ╞════════════╪═══════════╪═══════════╪═══════════╪═════════════════════╪═══════╡\n",
       " │ 2          ┆ 2         ┆ 46.309217 ┆ 13.055607 ┆ 2022-10-16 22:15:00 ┆ 13.3  │\n",
       " │ 2          ┆ 2         ┆ 46.309217 ┆ 13.055607 ┆ 2022-10-16 22:30:00 ┆ 13.8  │\n",
       " │ 2          ┆ 2         ┆ 46.309217 ┆ 13.055607 ┆ 2022-10-16 22:45:00 ┆ 13.8  │\n",
       " │ 2          ┆ 2         ┆ 46.309217 ┆ 13.055607 ┆ 2022-10-16 23:00:00 ┆ 13.7  │\n",
       " │ …          ┆ …         ┆ …         ┆ …         ┆ …                   ┆ …     │\n",
       " │ 2          ┆ 2         ┆ 46.309217 ┆ 13.055607 ┆ 2022-12-31 23:15:00 ┆ 9.5   │\n",
       " │ 2          ┆ 2         ┆ 46.309217 ┆ 13.055607 ┆ 2022-12-31 23:30:00 ┆ 9.7   │\n",
       " │ 2          ┆ 2         ┆ 46.309217 ┆ 13.055607 ┆ 2022-12-31 23:45:00 ┆ 9.4   │\n",
       " │ 2          ┆ 2         ┆ 46.309217 ┆ 13.055607 ┆ 2023-01-01 00:00:00 ┆ 9.2   │\n",
       " └────────────┴───────────┴───────────┴───────────┴─────────────────────┴───────┘,)"
      ]
     },
     "execution_count": 185,
     "metadata": {},
     "output_type": "execute_result"
    }
   ],
   "source": [
    "res2[1]"
   ]
  },
  {
   "cell_type": "code",
   "execution_count": null,
   "metadata": {},
   "outputs": [],
   "source": []
  }
 ],
 "metadata": {
  "kernelspec": {
   "display_name": "tesi",
   "language": "python",
   "name": "python3"
  },
  "language_info": {
   "codemirror_mode": {
    "name": "ipython",
    "version": 3
   },
   "file_extension": ".py",
   "mimetype": "text/x-python",
   "name": "python",
   "nbconvert_exporter": "python",
   "pygments_lexer": "ipython3",
   "version": "3.12.1"
  }
 },
 "nbformat": 4,
 "nbformat_minor": 2
}
