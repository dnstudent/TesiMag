{
 "cells": [
  {
   "cell_type": "code",
   "execution_count": 1,
   "metadata": {},
   "outputs": [],
   "source": [
    "import requests\n",
    "import bs4\n",
    "import polars as pl\n",
    "import pandas as pd\n",
    "from pathlib import Path\n",
    "from tqdm.notebook import tqdm\n",
    "\n",
    "base = Path.home() / \"Local_Workspace\" / \"Datasets\" / \"ARPA\" / \"FVG\""
   ]
  },
  {
   "cell_type": "code",
   "execution_count": 6,
   "metadata": {},
   "outputs": [],
   "source": [
    "with open(base / \"page.html\") as f:\n",
    "    soup = bs4.BeautifulSoup(f, \"html.parser\")\n",
    "station_ids = [\n",
    "    line.attrs[\"value\"] for line in soup.find(id=\"stazione\").contents if line != \"\\n\"\n",
    "][1:]\n",
    "station_ids = sorted(station_ids)"
   ]
  },
  {
   "cell_type": "code",
   "execution_count": 3,
   "metadata": {},
   "outputs": [],
   "source": [
    "import json\n",
    "\n",
    "with open(base / \"test.har\") as test_req:\n",
    "    test_req = json.load(test_req)\n",
    "data = test_req[\"log\"][\"entries\"][0][\"request\"][\"postData\"][\"params\"]\n",
    "headers = test_req[\"log\"][\"entries\"][0][\"request\"][\"headers\"]"
   ]
  },
  {
   "cell_type": "code",
   "execution_count": 22,
   "metadata": {},
   "outputs": [
    {
     "data": {
      "application/vnd.jupyter.widget-view+json": {
       "model_id": "652ad9798d674aed9dd7beeaf5a06083",
       "version_major": 2,
       "version_minor": 0
      },
      "text/plain": [
       "  0%|          | 0/49 [00:00<?, ?it/s]"
      ]
     },
     "metadata": {},
     "output_type": "display_data"
    },
    {
     "data": {
      "application/vnd.jupyter.widget-view+json": {
       "model_id": "d2e14276a3154c43a9058163fb051e4b",
       "version_major": 2,
       "version_minor": 0
      },
      "text/plain": [
       "  0%|          | 0/23 [00:00<?, ?it/s]"
      ]
     },
     "metadata": {},
     "output_type": "display_data"
    },
    {
     "data": {
      "application/vnd.jupyter.widget-view+json": {
       "model_id": "34c16d29be60437ba7e020a47645bcdb",
       "version_major": 2,
       "version_minor": 0
      },
      "text/plain": [
       "  0%|          | 0/23 [00:00<?, ?it/s]"
      ]
     },
     "metadata": {},
     "output_type": "display_data"
    },
    {
     "data": {
      "application/vnd.jupyter.widget-view+json": {
       "model_id": "030d13bfc10d44578ccdd62d2c4fc794",
       "version_major": 2,
       "version_minor": 0
      },
      "text/plain": [
       "  0%|          | 0/23 [00:00<?, ?it/s]"
      ]
     },
     "metadata": {},
     "output_type": "display_data"
    },
    {
     "data": {
      "application/vnd.jupyter.widget-view+json": {
       "model_id": "8ab1493f7a034a4c9587cbda06bbf156",
       "version_major": 2,
       "version_minor": 0
      },
      "text/plain": [
       "  0%|          | 0/23 [00:00<?, ?it/s]"
      ]
     },
     "metadata": {},
     "output_type": "display_data"
    },
    {
     "data": {
      "application/vnd.jupyter.widget-view+json": {
       "model_id": "fd7dc4ec9f1943aca382b35b5924906a",
       "version_major": 2,
       "version_minor": 0
      },
      "text/plain": [
       "  0%|          | 0/23 [00:00<?, ?it/s]"
      ]
     },
     "metadata": {},
     "output_type": "display_data"
    },
    {
     "data": {
      "application/vnd.jupyter.widget-view+json": {
       "model_id": "097e0b5a37494463abd0bc5f2a9ad78a",
       "version_major": 2,
       "version_minor": 0
      },
      "text/plain": [
       "  0%|          | 0/23 [00:00<?, ?it/s]"
      ]
     },
     "metadata": {},
     "output_type": "display_data"
    },
    {
     "data": {
      "application/vnd.jupyter.widget-view+json": {
       "model_id": "74e6a86a5cb142e784a449b035f04ac1",
       "version_major": 2,
       "version_minor": 0
      },
      "text/plain": [
       "  0%|          | 0/23 [00:00<?, ?it/s]"
      ]
     },
     "metadata": {},
     "output_type": "display_data"
    },
    {
     "data": {
      "application/vnd.jupyter.widget-view+json": {
       "model_id": "e3e7685260ed404ebf1ea6751443170b",
       "version_major": 2,
       "version_minor": 0
      },
      "text/plain": [
       "  0%|          | 0/23 [00:00<?, ?it/s]"
      ]
     },
     "metadata": {},
     "output_type": "display_data"
    },
    {
     "data": {
      "application/vnd.jupyter.widget-view+json": {
       "model_id": "b214d2321bc24a10a5c59e03d8400425",
       "version_major": 2,
       "version_minor": 0
      },
      "text/plain": [
       "  0%|          | 0/23 [00:00<?, ?it/s]"
      ]
     },
     "metadata": {},
     "output_type": "display_data"
    },
    {
     "ename": "KeyboardInterrupt",
     "evalue": "",
     "output_type": "error",
     "traceback": [
      "\u001b[0;31m---------------------------------------------------------------------------\u001b[0m",
      "\u001b[0;31mKeyboardInterrupt\u001b[0m                         Traceback (most recent call last)",
      "Cell \u001b[0;32mIn[22], line 43\u001b[0m\n\u001b[1;32m     41\u001b[0m \u001b[38;5;28;01mfor\u001b[39;00m year \u001b[38;5;129;01min\u001b[39;00m tqdm(\u001b[38;5;28mrange\u001b[39m(\u001b[38;5;241m2000\u001b[39m, \u001b[38;5;241m2023\u001b[39m), leave\u001b[38;5;241m=\u001b[39m\u001b[38;5;28;01mFalse\u001b[39;00m):\n\u001b[1;32m     42\u001b[0m     \u001b[38;5;28;01mif\u001b[39;00m \u001b[38;5;129;01mnot\u001b[39;00m file_path(station_id, year)\u001b[38;5;241m.\u001b[39mexists():\n\u001b[0;32m---> 43\u001b[0m         data \u001b[38;5;241m=\u001b[39m \u001b[43mreq_data\u001b[49m\u001b[43m(\u001b[49m\u001b[43mstation_id\u001b[49m\u001b[43m,\u001b[49m\u001b[43m \u001b[49m\u001b[43myear\u001b[49m\u001b[43m,\u001b[49m\u001b[43m \u001b[49m\u001b[43ms\u001b[49m\u001b[43m)\u001b[49m\n\u001b[1;32m     44\u001b[0m         skipped \u001b[38;5;241m=\u001b[39m \u001b[38;5;28;01mFalse\u001b[39;00m\n\u001b[1;32m     45\u001b[0m         \u001b[38;5;28;01mwith\u001b[39;00m \u001b[38;5;28mopen\u001b[39m(file_path(station_id, year), \u001b[38;5;124m\"\u001b[39m\u001b[38;5;124mwt\u001b[39m\u001b[38;5;124m\"\u001b[39m) \u001b[38;5;28;01mas\u001b[39;00m f:\n",
      "Cell \u001b[0;32mIn[22], line 19\u001b[0m, in \u001b[0;36mreq_data\u001b[0;34m(station_id, year, session)\u001b[0m\n\u001b[1;32m      9\u001b[0m r \u001b[38;5;241m=\u001b[39m session\u001b[38;5;241m.\u001b[39mget(\u001b[38;5;124m\"\u001b[39m\u001b[38;5;124mhttps://www.osmer.fvg.it/archivio.php?ln=&p=dati\u001b[39m\u001b[38;5;124m\"\u001b[39m)\n\u001b[1;32m     10\u001b[0m data \u001b[38;5;241m=\u001b[39m {\n\u001b[1;32m     11\u001b[0m     \u001b[38;5;124m\"\u001b[39m\u001b[38;5;124ma\u001b[39m\u001b[38;5;124m\"\u001b[39m: \u001b[38;5;124mf\u001b[39m\u001b[38;5;124m\"\u001b[39m\u001b[38;5;132;01m{\u001b[39;00myear\u001b[38;5;132;01m}\u001b[39;00m\u001b[38;5;124m\"\u001b[39m,\n\u001b[1;32m     12\u001b[0m     \u001b[38;5;124m\"\u001b[39m\u001b[38;5;124mm\u001b[39m\u001b[38;5;124m\"\u001b[39m: \u001b[38;5;124m\"\u001b[39m\u001b[38;5;124m99\u001b[39m\u001b[38;5;124m\"\u001b[39m,\n\u001b[0;32m   (...)\u001b[0m\n\u001b[1;32m     17\u001b[0m     \u001b[38;5;124m\"\u001b[39m\u001b[38;5;124mln\u001b[39m\u001b[38;5;124m\"\u001b[39m: \u001b[38;5;124m\"\u001b[39m\u001b[38;5;124m\"\u001b[39m,\n\u001b[1;32m     18\u001b[0m }\n\u001b[0;32m---> 19\u001b[0m \u001b[43msleep\u001b[49m\u001b[43m(\u001b[49m\u001b[43mrandom\u001b[49m\u001b[38;5;241;43m.\u001b[39;49m\u001b[43muniform\u001b[49m\u001b[43m(\u001b[49m\u001b[38;5;241;43m1\u001b[39;49m\u001b[43m,\u001b[49m\u001b[43m \u001b[49m\u001b[38;5;241;43m3\u001b[39;49m\u001b[43m)\u001b[49m\u001b[43m)\u001b[49m\n\u001b[1;32m     20\u001b[0m cookie \u001b[38;5;241m=\u001b[39m \u001b[38;5;124mf\u001b[39m\u001b[38;5;124m\"\u001b[39m\u001b[38;5;124mSameSite=None; Secure=1; meteofvg_cookie=1; PHPSESSID=\u001b[39m\u001b[38;5;132;01m{\u001b[39;00msession\u001b[38;5;241m.\u001b[39mcookies[\u001b[38;5;124m'\u001b[39m\u001b[38;5;124mPHPSESSID\u001b[39m\u001b[38;5;124m'\u001b[39m]\u001b[38;5;132;01m}\u001b[39;00m\u001b[38;5;124m\"\u001b[39m\n\u001b[1;32m     21\u001b[0m headers1 \u001b[38;5;241m=\u001b[39m {header[\u001b[38;5;124m\"\u001b[39m\u001b[38;5;124mname\u001b[39m\u001b[38;5;124m\"\u001b[39m]: header[\u001b[38;5;124m\"\u001b[39m\u001b[38;5;124mvalue\u001b[39m\u001b[38;5;124m\"\u001b[39m] \u001b[38;5;28;01mfor\u001b[39;00m header \u001b[38;5;129;01min\u001b[39;00m headers}\n",
      "\u001b[0;31mKeyboardInterrupt\u001b[0m: "
     ]
    }
   ],
   "source": [
    "from time import sleep\n",
    "import random\n",
    "import time\n",
    "\n",
    "request_url = \"https://www.osmer.fvg.it/ajax/getStationData.php\"\n",
    "\n",
    "\n",
    "def req_data(station_id, year, session: requests.Session):\n",
    "    r = session.get(\"https://www.osmer.fvg.it/archivio.php?ln=&p=dati\")\n",
    "    data = {\n",
    "        \"a\": f\"{year}\",\n",
    "        \"m\": \"99\",\n",
    "        \"g\": \"10\",\n",
    "        \"s\": station_id,\n",
    "        \"t\": \"H_3\",\n",
    "        \"o\": \"visualizza\",\n",
    "        \"ln\": \"\",\n",
    "    }\n",
    "    sleep(random.uniform(1, 3))\n",
    "    cookie = f\"SameSite=None; Secure=1; meteofvg_cookie=1; PHPSESSID={session.cookies['PHPSESSID']}\"\n",
    "    headers1 = {header[\"name\"]: header[\"value\"] for header in headers}\n",
    "    headers1.pop(\"Cookie\")\n",
    "    headers1[\"Cookie\"] = cookie\n",
    "    r = session.post(request_url, data=data, headers=headers1)\n",
    "    return r.text\n",
    "\n",
    "\n",
    "def stat_path(station_id):\n",
    "    return base / \"data\" / f\"{station_id.split('@')[0]}\"\n",
    "\n",
    "\n",
    "def file_path(station_id, year):\n",
    "    return stat_path(station_id) / f\"{year}.html\"\n",
    "\n",
    "\n",
    "for station_id in tqdm(station_ids):\n",
    "    with requests.Session() as s:\n",
    "        skipped = True\n",
    "        if not stat_path(station_id).exists():\n",
    "            stat_path(station_id).mkdir(parents=True)\n",
    "        for year in tqdm(range(2000, 2023), leave=False):\n",
    "            if not file_path(station_id, year).exists():\n",
    "                data = req_data(station_id, year, s)\n",
    "                skipped = False\n",
    "                with open(file_path(station_id, year), \"wt\") as f:\n",
    "                    f.write(data)\n",
    "                sleep(random.uniform(0.1, 0.5))\n",
    "    if not skipped:\n",
    "        sleep(random.uniform(1, 2))"
   ]
  },
  {
   "cell_type": "code",
   "execution_count": 20,
   "metadata": {},
   "outputs": [],
   "source": [
    "(\n",
    "    pd.Series(station_ids)\n",
    "    .str.split(\"@\", expand=True)\n",
    "    .rename(\n",
    "        columns={\n",
    "            0: \"station_code\",\n",
    "            1: \"station_name\",\n",
    "            2: \"station_kind\",\n",
    "            3: \"lat\",\n",
    "            4: \"lon\",\n",
    "            5: \"elevation\",\n",
    "        }\n",
    "    )\n",
    "    .astype(\n",
    "        {\n",
    "            \"station_code\": \"string\",\n",
    "            \"station_name\": \"string\",\n",
    "            \"station_kind\": \"string\",\n",
    "            \"lat\": \"float\",\n",
    "            \"lon\": \"float\",\n",
    "            \"elevation\": \"float\",\n",
    "        }\n",
    "    )\n",
    "    .to_csv(base / \"station_info.csv\", index=False)\n",
    ")"
   ]
  },
  {
   "cell_type": "code",
   "execution_count": null,
   "metadata": {},
   "outputs": [],
   "source": []
  }
 ],
 "metadata": {
  "kernelspec": {
   "display_name": "geopy",
   "language": "python",
   "name": "python3"
  },
  "language_info": {
   "codemirror_mode": {
    "name": "ipython",
    "version": 3
   },
   "file_extension": ".py",
   "mimetype": "text/x-python",
   "name": "python",
   "nbconvert_exporter": "python",
   "pygments_lexer": "ipython3",
   "version": "3.12.0"
  }
 },
 "nbformat": 4,
 "nbformat_minor": 2
}
