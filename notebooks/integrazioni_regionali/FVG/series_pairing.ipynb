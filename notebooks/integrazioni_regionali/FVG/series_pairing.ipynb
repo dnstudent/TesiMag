{
 "cells": [
  {
   "cell_type": "code",
   "execution_count": 1,
   "metadata": {
    "vscode": {
     "languageId": "r"
    }
   },
   "outputs": [],
   "source": [
    "dataset <- \"ARPAFVG\"\n",
    "state <- \"Friuli-Venezia Giulia\"\n",
    "match_dist <- 15000\n"
   ]
  },
  {
   "cell_type": "code",
   "execution_count": 2,
   "metadata": {
    "vscode": {
     "languageId": "r"
    }
   },
   "outputs": [
    {
     "name": "stderr",
     "output_type": "stream",
     "text": [
      "Linking to GEOS 3.11.0, GDAL 3.5.3, PROJ 9.1.0; sf_use_s2() is TRUE\n",
      "\n"
     ]
    }
   ],
   "source": [
    "setwd(fs::path_abs(\"~/Local_Workspace/TesiMag\"))\n",
    "library(arrow, warn.conflicts = FALSE)\n",
    "library(dplyr, warn.conflicts = FALSE)\n",
    "\n",
    "source(\"src/database/tools.R\")\n",
    "source(\"src/database/insert.R\")\n",
    "source(\"src/database/write.R\")\n",
    "source(\"src/database/startup.R\")\n",
    "source(\"src/database/plot.R\")\n",
    "source(\"src/database/query/spatial.R\")\n",
    "source(\"src/database/query/data.R\")\n",
    "source(\"src/merging/analysis.R\")\n",
    "source(\"src/merging/display.R\")\n",
    "source(\"src/merging/combining.R\")\n",
    "source(\"src/merging/tagging.R\")\n",
    "\n",
    "conns <- load_dbs()\n",
    "state_boundaries <- query_boundary(conns$stations, state, \"state\")\n"
   ]
  },
  {
   "cell_type": "code",
   "execution_count": 3,
   "metadata": {
    "vscode": {
     "languageId": "r"
    }
   },
   "outputs": [],
   "source": [
    "ds_meta <- query_checkpoint_meta(dataset, \"qc1\", conns$data) |>\n",
    "    collect()\n",
    "nat_meta <- query_checkpoint_meta(c(\"SCIA\", \"ISAC\"), \"qc1\", conns$data) |>\n",
    "    collect() |>\n",
    "    st_md_to_sf() |>\n",
    "    st_filter(state_boundaries |> st_buffer(dist = 1000), .predicate = st_within) |>\n",
    "    st_drop_geometry() |>\n",
    "    filter(!state %in% c(\"Veneto\"), !(network %in% c(\"Sinottica\", \"Mareografica\")))\n",
    "metadata <- bind_rows(ds_meta, nat_meta) |>\n",
    "    arrange(dataset, sensor_key) |>\n",
    "    mutate(key = row_number())\n",
    "metadata_db <- copy_to(conns$data, metadata, \"metas_tmp\", overwrite = TRUE)\n",
    "\n",
    "sensor_matches <- close_matches(metadata_db, match_dist, conns$stations)\n",
    "\n",
    "data <- query_checkpoint_data(c(dataset, \"SCIA\", \"ISAC\"), \"qc1\", conns$data) |>\n",
    "    filter(valid) |>\n",
    "    inner_join(metadata_db |> select(dataset, sensor_key, key), by = c(\"dataset\", \"sensor_key\")) |>\n",
    "    select(!c(starts_with(\"qc_\"), valid))\n",
    "\n",
    "var_matches <- series_matches(data, sensor_matches, metadata_db)\n"
   ]
  },
  {
   "cell_type": "code",
   "execution_count": 4,
   "metadata": {
    "vscode": {
     "languageId": "r"
    }
   },
   "outputs": [],
   "source": [
    "analysis <- series_matches_analysis(var_matches, data, metadata_db, matches_offsets = c(0L))\n",
    "analysis |> write_xlsx_analysis(file.path(\"notebooks\", \"integrazioni_regionali\", \"FVG\", \"raw_analysis.xlsx\"))\n"
   ]
  },
  {
   "cell_type": "code",
   "execution_count": 18,
   "metadata": {
    "vscode": {
     "languageId": "r"
    }
   },
   "outputs": [],
   "source": [
    "source(\"notebooks/integrazioni_regionali/FVG/procedures/match_taggers.R\")\n",
    "analysis |>\n",
    "    tag_same_series() |>\n",
    "    default_logic(FALSE) |> \n",
    "    write_xlsx_analysis(file.path(\"notebooks\", \"integrazioni_regionali\", \"FVG\", \"tagged_analysis.xlsx\"), starts_with(\"tag_\"))\n"
   ]
  },
  {
   "cell_type": "code",
   "execution_count": 12,
   "metadata": {
    "vscode": {
     "languageId": "r"
    }
   },
   "outputs": [
    {
     "name": "stdout",
     "output_type": "stream",
     "text": [
      "\u001b[90m# A tibble: 861 x 4\u001b[39m\n",
      "   dataset sensor_key variable data                \n",
      "   \u001b[3m\u001b[90m<chr>\u001b[39m\u001b[23m        \u001b[3m\u001b[90m<int>\u001b[39m\u001b[23m    \u001b[3m\u001b[90m<int>\u001b[39m\u001b[23m \u001b[3m\u001b[90m<list>\u001b[39m\u001b[23m              \n",
      "\u001b[90m 1\u001b[39m ARPAFVG          1       -\u001b[31m1\u001b[39m \u001b[90m<tibble [5,487 x 3]>\u001b[39m\n",
      "\u001b[90m 2\u001b[39m ARPAFVG          1        1 \u001b[90m<tibble [5,482 x 3]>\u001b[39m\n",
      "\u001b[90m 3\u001b[39m ARPAFVG          2       -\u001b[31m1\u001b[39m \u001b[90m<tibble [5,487 x 3]>\u001b[39m\n",
      "\u001b[90m 4\u001b[39m ARPAFVG          2        1 \u001b[90m<tibble [5,483 x 3]>\u001b[39m\n",
      "\u001b[90m 5\u001b[39m ARPAFVG          4       -\u001b[31m1\u001b[39m \u001b[90m<tibble [5,436 x 3]>\u001b[39m\n",
      "\u001b[90m 6\u001b[39m ARPAFVG          4        1 \u001b[90m<tibble [5,435 x 3]>\u001b[39m\n",
      "\u001b[90m 7\u001b[39m ARPAFVG          5       -\u001b[31m1\u001b[39m \u001b[90m<tibble [3,643 x 3]>\u001b[39m\n",
      "\u001b[90m 8\u001b[39m ARPAFVG          5        1 \u001b[90m<tibble [3,643 x 3]>\u001b[39m\n",
      "\u001b[90m 9\u001b[39m ARPAFVG          6       -\u001b[31m1\u001b[39m \u001b[90m<tibble [5,900 x 3]>\u001b[39m\n",
      "\u001b[90m10\u001b[39m ARPAFVG          6        1 \u001b[90m<tibble [5,890 x 3]>\u001b[39m\n",
      "\u001b[90m# i 851 more rows\u001b[39m\n"
     ]
    }
   ],
   "source": [
    "library(tidyr, warn.conflicts = FALSE)\n",
    "data |> arrange(dataset, sensor_key, variable, date) |> collect() |> nest(.by = c(dataset, sensor_key, variable)) |> print()"
   ]
  },
  {
   "cell_type": "code",
   "execution_count": null,
   "metadata": {
    "vscode": {
     "languageId": "r"
    }
   },
   "outputs": [],
   "source": []
  }
 ],
 "metadata": {
  "kernelspec": {
   "display_name": "R",
   "language": "R",
   "name": "ir"
  },
  "language_info": {
   "codemirror_mode": "r",
   "file_extension": ".r",
   "mimetype": "text/x-r-source",
   "name": "R",
   "pygments_lexer": "r",
   "version": "4.3.2"
  }
 },
 "nbformat": 4,
 "nbformat_minor": 2
}
