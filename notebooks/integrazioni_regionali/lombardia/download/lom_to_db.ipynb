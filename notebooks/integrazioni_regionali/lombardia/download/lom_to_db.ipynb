{
 "cells": [
  {
   "cell_type": "code",
   "execution_count": 1,
   "metadata": {
    "vscode": {
     "languageId": "r"
    }
   },
   "outputs": [
    {
     "name": "stderr",
     "output_type": "stream",
     "text": [
      "Caricamento del pacchetto richiesto: DBI\n",
      "\n"
     ]
    }
   ],
   "source": [
    "setwd(fs::path_abs(\"~/Local_Workspace/TesiMag\"))\n",
    "library(dplyr, warn.conflicts = FALSE)\n",
    "library(arrow, warn.conflicts = FALSE)\n",
    "library(duckdb, warn.conflicts = FALSE)\n",
    "library(DBI, warn.conflicts = FALSE)\n",
    "\n",
    "path.lom <- file.path(\"/Users/davidenicoli/Local_Workspace/Datasets/ARPA/LOMBARDIA\")"
   ]
  },
  {
   "cell_type": "code",
   "execution_count": 2,
   "metadata": {
    "vscode": {
     "languageId": "r"
    }
   },
   "outputs": [],
   "source": [
    "open_orig_ds.arpalombardia <- function() {\n",
    "    path.fragments <- file.path(path.lom, \"fragments\")\n",
    "\n",
    "    read_conf <- list(\n",
    "        \"schema\" = schema(\n",
    "            IdSensore = int32(),\n",
    "            Data = timestamp(unit = \"s\"),\n",
    "            Valore = float64(),\n",
    "            Stato = utf8(),\n",
    "            idOperatore = int8()\n",
    "        ),\n",
    "        \"ts_parsers\" = csv_timestamp_parsers <- c(\"%d/%m/%Y %H:%M:%S\", \"%d/%m/%Y %H:%M:%S.000\"),\n",
    "        \"nas\" = na_strings <- c(\"\", \"NA\", \"9999.0\", \"-9999.0\", \"-9999\", \"NV\", \"NC\", \"ND\")\n",
    "    )\n",
    "\n",
    "    open_csv_dataset(fs::dir_ls(path.fragments, glob = \"*.csv\"),\n",
    "        hive_style = FALSE,\n",
    "        schema = read_conf$schema,\n",
    "        timestamp_parsers = read_conf$ts_parsers,\n",
    "        na = read_conf$nas,\n",
    "        col_names = TRUE,\n",
    "        skip = 1\n",
    "    ) |>\n",
    "        rename(station_id = IdSensore, time = Data, value = Valore)\n",
    "}"
   ]
  },
  {
   "cell_type": "code",
   "execution_count": 7,
   "metadata": {
    "vscode": {
     "languageId": "r"
    }
   },
   "outputs": [],
   "source": [
    "conn <- dbConnect(duckdb::duckdb(), file.path(path.lom,\"lombardia.db\"))\n",
    "dbWriteTableArrow(conn, \"full_tmp\", open_orig_ds.arpalombardia())"
   ]
  },
  {
   "cell_type": "code",
   "execution_count": 8,
   "metadata": {
    "vscode": {
     "languageId": "r"
    }
   },
   "outputs": [
    {
     "data": {
      "text/html": [
       "<table class=\"dataframe\">\n",
       "<caption>A matrix: 2 x 7 of type dbl</caption>\n",
       "<thead>\n",
       "\t<tr><th></th><th scope=col>used</th><th scope=col>(Mb)</th><th scope=col>gc trigger</th><th scope=col>(Mb)</th><th scope=col>limit (Mb)</th><th scope=col>max used</th><th scope=col>(Mb)</th></tr>\n",
       "</thead>\n",
       "<tbody>\n",
       "\t<tr><th scope=row>Ncells</th><td>1388814</td><td>74.2</td><td>2874520</td><td>153.6</td><td>   NA</td><td>2499901</td><td>133.6</td></tr>\n",
       "\t<tr><th scope=row>Vcells</th><td>2564212</td><td>19.6</td><td>8982499</td><td> 68.6</td><td>16384</td><td>8982499</td><td> 68.6</td></tr>\n",
       "</tbody>\n",
       "</table>\n"
      ],
      "text/latex": [
       "A matrix: 2 x 7 of type dbl\n",
       "\\begin{tabular}{r|lllllll}\n",
       "  & used & (Mb) & gc trigger & (Mb) & limit (Mb) & max used & (Mb)\\\\\n",
       "\\hline\n",
       "\tNcells & 1388814 & 74.2 & 2874520 & 153.6 &    NA & 2499901 & 133.6\\\\\n",
       "\tVcells & 2564212 & 19.6 & 8982499 &  68.6 & 16384 & 8982499 &  68.6\\\\\n",
       "\\end{tabular}\n"
      ],
      "text/markdown": [
       "\n",
       "A matrix: 2 x 7 of type dbl\n",
       "\n",
       "| <!--/--> | used | (Mb) | gc trigger | (Mb) | limit (Mb) | max used | (Mb) |\n",
       "|---|---|---|---|---|---|---|---|\n",
       "| Ncells | 1388814 | 74.2 | 2874520 | 153.6 |    NA | 2499901 | 133.6 |\n",
       "| Vcells | 2564212 | 19.6 | 8982499 |  68.6 | 16384 | 8982499 |  68.6 |\n",
       "\n"
      ],
      "text/plain": [
       "       used    (Mb) gc trigger (Mb)  limit (Mb) max used (Mb) \n",
       "Ncells 1388814 74.2 2874520    153.6    NA      2499901  133.6\n",
       "Vcells 2564212 19.6 8982499     68.6 16384      8982499   68.6"
      ]
     },
     "metadata": {},
     "output_type": "display_data"
    }
   ],
   "source": [
    "gc()"
   ]
  },
  {
   "cell_type": "code",
   "execution_count": 3,
   "metadata": {
    "vscode": {
     "languageId": "r"
    }
   },
   "outputs": [],
   "source": [
    "library(lubridate, warn.conflicts = FALSE)\n",
    "open_orig_ds.arpalombardia() |> write_dataset(file.path(path.lom, \"dataset\"))"
   ]
  },
  {
   "cell_type": "code",
   "execution_count": 4,
   "metadata": {
    "vscode": {
     "languageId": "r"
    }
   },
   "outputs": [
    {
     "data": {
      "text/plain": [
       "FileSystemDataset (query)\n",
       "station_id: int32\n",
       "time: timestamp[s]\n",
       "value: double\n",
       "Stato: string\n",
       "idOperatore: int8\n",
       "\n",
       "See $.data for the source Arrow object"
      ]
     },
     "metadata": {},
     "output_type": "display_data"
    }
   ],
   "source": [
    "open_orig_ds.arpalombardia()"
   ]
  },
  {
   "cell_type": "code",
   "execution_count": null,
   "metadata": {
    "vscode": {
     "languageId": "r"
    }
   },
   "outputs": [],
   "source": []
  }
 ],
 "metadata": {
  "kernelspec": {
   "display_name": "R",
   "language": "R",
   "name": "ir"
  },
  "language_info": {
   "codemirror_mode": "r",
   "file_extension": ".r",
   "mimetype": "text/x-r-source",
   "name": "R",
   "pygments_lexer": "r",
   "version": "4.3.2"
  }
 },
 "nbformat": 4,
 "nbformat_minor": 2
}
