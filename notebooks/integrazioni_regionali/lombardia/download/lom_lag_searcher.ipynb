{
 "cells": [
  {
   "cell_type": "code",
   "execution_count": 47,
   "metadata": {
    "vscode": {
     "languageId": "r"
    }
   },
   "outputs": [],
   "source": [
    "setwd(fs::path_abs(\"~/Local_Workspace/TesiMag\"))\n",
    "library(arrow, warn.conflicts = FALSE)\n",
    "library(dplyr, warn.conflicts = FALSE)\n",
    "library(zeallot, warn.conflicts = FALSE)\n",
    "library(stringr, warn.conflicts = FALSE)\n",
    "options(repr.plot.width = 9, repr.plot.res = 300)\n",
    "dataset_id <- \"ARPALombardia\"\n",
    "state <- \"Lombardia\"\n",
    "source(str_glue(\"notebooks/integrazioni_regionali/{str_to_lower(state)}/procedures/load_daily.R\"))\n",
    "source(\"notebooks/integrazioni_regionali/procedure/common_steps.R\")\n",
    "source(\"notebooks/integrazioni_regionali/procedure/checkpoint.R\")\n",
    "source(\"notebooks/integrazioni_regionali/procedure/tools.R\")\n",
    "source(\"src/database/tools.R\")\n",
    "source(\"src/load/ITA.R\")\n",
    "\n",
    "reference_series <- \"a6938c17247455675e4a906599885058\"\n",
    "scia <- open_checkpoint(\"SCIA\", \"qc1\")$data |>\n",
    "    filter(station_id == reference_series, variable == \"T_MIN\") |>\n",
    "    arrange(date) |>\n",
    "    collect()"
   ]
  },
  {
   "cell_type": "code",
   "execution_count": 48,
   "metadata": {
    "vscode": {
     "languageId": "r"
    }
   },
   "outputs": [],
   "source": [
    "lomb <- open_dataset(file.path(path.lom, \"cache\")) |>\n",
    "    filter(original_id == 5922) |>\n",
    "    arrange(time) |>\n",
    "    compute()\n"
   ]
  },
  {
   "cell_type": "code",
   "execution_count": 52,
   "metadata": {
    "vscode": {
     "languageId": "r"
    }
   },
   "outputs": [],
   "source": [
    "f0 <- function(lag) {\n",
    "    daily_min <- lomb |>\n",
    "        mutate(date = date(time - as.difftime(lag * 60, unit = \"secs\"))) |>\n",
    "        group_by(date) |>\n",
    "        summarise(value = min(value, na.rm = TRUE)) |>\n",
    "        arrange(date) |>\n",
    "        collect()\n",
    "    \n",
    "    adiffs <- inner_join(scia, daily_min, by = \"date\") |> mutate(diff = abs(value.x - value.y)) |> pull(diff)\n",
    "    mean(adiffs < 1e-4, na.rm = TRUE)\n",
    "}\n"
   ]
  },
  {
   "cell_type": "code",
   "execution_count": 53,
   "metadata": {
    "vscode": {
     "languageId": "r"
    }
   },
   "outputs": [],
   "source": [
    "lags <- tibble(lag = -(6*24):(6*24)) |> mutate(lag_s = lag * 60, f0 = vapply(lag, f0, FUN.VALUE = 0))"
   ]
  },
  {
   "cell_type": "code",
   "execution_count": 56,
   "metadata": {
    "vscode": {
     "languageId": "r"
    }
   },
   "outputs": [
    {
     "data": {
      "text/html": [
       "<table class=\"dataframe\">\n",
       "<caption>A tibble: 60 x 3</caption>\n",
       "<thead>\n",
       "\t<tr><th scope=col>lag</th><th scope=col>lag_s</th><th scope=col>f0</th></tr>\n",
       "\t<tr><th scope=col>&lt;int&gt;</th><th scope=col>&lt;dbl&gt;</th><th scope=col>&lt;dbl&gt;</th></tr>\n",
       "</thead>\n",
       "<tbody>\n",
       "\t<tr><td> 1</td><td>  60</td><td>0.7465995</td></tr>\n",
       "\t<tr><td> 2</td><td> 120</td><td>0.7465995</td></tr>\n",
       "\t<tr><td> 3</td><td> 180</td><td>0.7465995</td></tr>\n",
       "\t<tr><td> 4</td><td> 240</td><td>0.7465995</td></tr>\n",
       "\t<tr><td> 5</td><td> 300</td><td>0.7465995</td></tr>\n",
       "\t<tr><td> 6</td><td> 360</td><td>0.7465995</td></tr>\n",
       "\t<tr><td> 7</td><td> 420</td><td>0.7465995</td></tr>\n",
       "\t<tr><td> 8</td><td> 480</td><td>0.7465995</td></tr>\n",
       "\t<tr><td> 9</td><td> 540</td><td>0.7465995</td></tr>\n",
       "\t<tr><td>10</td><td> 600</td><td>0.7465995</td></tr>\n",
       "\t<tr><td>11</td><td> 660</td><td>0.7445844</td></tr>\n",
       "\t<tr><td>12</td><td> 720</td><td>0.7445844</td></tr>\n",
       "\t<tr><td>13</td><td> 780</td><td>0.7445844</td></tr>\n",
       "\t<tr><td>14</td><td> 840</td><td>0.7445844</td></tr>\n",
       "\t<tr><td>15</td><td> 900</td><td>0.7445844</td></tr>\n",
       "\t<tr><td>16</td><td> 960</td><td>0.7445844</td></tr>\n",
       "\t<tr><td>17</td><td>1020</td><td>0.7445844</td></tr>\n",
       "\t<tr><td>18</td><td>1080</td><td>0.7445844</td></tr>\n",
       "\t<tr><td>19</td><td>1140</td><td>0.7445844</td></tr>\n",
       "\t<tr><td>20</td><td>1200</td><td>0.7445844</td></tr>\n",
       "\t<tr><td>21</td><td>1260</td><td>0.7445844</td></tr>\n",
       "\t<tr><td>22</td><td>1320</td><td>0.7445844</td></tr>\n",
       "\t<tr><td>23</td><td>1380</td><td>0.7445844</td></tr>\n",
       "\t<tr><td>24</td><td>1440</td><td>0.7445844</td></tr>\n",
       "\t<tr><td>25</td><td>1500</td><td>0.7445844</td></tr>\n",
       "\t<tr><td>26</td><td>1560</td><td>0.7445844</td></tr>\n",
       "\t<tr><td>27</td><td>1620</td><td>0.7445844</td></tr>\n",
       "\t<tr><td>28</td><td>1680</td><td>0.7445844</td></tr>\n",
       "\t<tr><td>29</td><td>1740</td><td>0.7445844</td></tr>\n",
       "\t<tr><td>30</td><td>1800</td><td>0.7445844</td></tr>\n",
       "\t<tr><td>31</td><td>1860</td><td>0.7440806</td></tr>\n",
       "\t<tr><td>32</td><td>1920</td><td>0.7440806</td></tr>\n",
       "\t<tr><td>33</td><td>1980</td><td>0.7440806</td></tr>\n",
       "\t<tr><td>34</td><td>2040</td><td>0.7440806</td></tr>\n",
       "\t<tr><td>35</td><td>2100</td><td>0.7440806</td></tr>\n",
       "\t<tr><td>36</td><td>2160</td><td>0.7440806</td></tr>\n",
       "\t<tr><td>37</td><td>2220</td><td>0.7440806</td></tr>\n",
       "\t<tr><td>38</td><td>2280</td><td>0.7440806</td></tr>\n",
       "\t<tr><td>39</td><td>2340</td><td>0.7440806</td></tr>\n",
       "\t<tr><td>40</td><td>2400</td><td>0.7440806</td></tr>\n",
       "\t<tr><td>41</td><td>2460</td><td>0.7440806</td></tr>\n",
       "\t<tr><td>42</td><td>2520</td><td>0.7440806</td></tr>\n",
       "\t<tr><td>43</td><td>2580</td><td>0.7440806</td></tr>\n",
       "\t<tr><td>44</td><td>2640</td><td>0.7440806</td></tr>\n",
       "\t<tr><td>45</td><td>2700</td><td>0.7440806</td></tr>\n",
       "\t<tr><td>46</td><td>2760</td><td>0.7440806</td></tr>\n",
       "\t<tr><td>47</td><td>2820</td><td>0.7440806</td></tr>\n",
       "\t<tr><td>48</td><td>2880</td><td>0.7440806</td></tr>\n",
       "\t<tr><td>49</td><td>2940</td><td>0.7440806</td></tr>\n",
       "\t<tr><td>50</td><td>3000</td><td>0.7440806</td></tr>\n",
       "\t<tr><td>51</td><td>3060</td><td>0.7430730</td></tr>\n",
       "\t<tr><td>52</td><td>3120</td><td>0.7430730</td></tr>\n",
       "\t<tr><td>53</td><td>3180</td><td>0.7430730</td></tr>\n",
       "\t<tr><td>54</td><td>3240</td><td>0.7430730</td></tr>\n",
       "\t<tr><td>55</td><td>3300</td><td>0.7430730</td></tr>\n",
       "\t<tr><td>56</td><td>3360</td><td>0.7430730</td></tr>\n",
       "\t<tr><td>57</td><td>3420</td><td>0.7430730</td></tr>\n",
       "\t<tr><td>58</td><td>3480</td><td>0.7430730</td></tr>\n",
       "\t<tr><td>59</td><td>3540</td><td>0.7430730</td></tr>\n",
       "\t<tr><td>60</td><td>3600</td><td>0.7430730</td></tr>\n",
       "</tbody>\n",
       "</table>\n"
      ],
      "text/latex": [
       "A tibble: 60 x 3\n",
       "\\begin{tabular}{lll}\n",
       " lag & lag\\_s & f0\\\\\n",
       " <int> & <dbl> & <dbl>\\\\\n",
       "\\hline\n",
       "\t  1 &   60 & 0.7465995\\\\\n",
       "\t  2 &  120 & 0.7465995\\\\\n",
       "\t  3 &  180 & 0.7465995\\\\\n",
       "\t  4 &  240 & 0.7465995\\\\\n",
       "\t  5 &  300 & 0.7465995\\\\\n",
       "\t  6 &  360 & 0.7465995\\\\\n",
       "\t  7 &  420 & 0.7465995\\\\\n",
       "\t  8 &  480 & 0.7465995\\\\\n",
       "\t  9 &  540 & 0.7465995\\\\\n",
       "\t 10 &  600 & 0.7465995\\\\\n",
       "\t 11 &  660 & 0.7445844\\\\\n",
       "\t 12 &  720 & 0.7445844\\\\\n",
       "\t 13 &  780 & 0.7445844\\\\\n",
       "\t 14 &  840 & 0.7445844\\\\\n",
       "\t 15 &  900 & 0.7445844\\\\\n",
       "\t 16 &  960 & 0.7445844\\\\\n",
       "\t 17 & 1020 & 0.7445844\\\\\n",
       "\t 18 & 1080 & 0.7445844\\\\\n",
       "\t 19 & 1140 & 0.7445844\\\\\n",
       "\t 20 & 1200 & 0.7445844\\\\\n",
       "\t 21 & 1260 & 0.7445844\\\\\n",
       "\t 22 & 1320 & 0.7445844\\\\\n",
       "\t 23 & 1380 & 0.7445844\\\\\n",
       "\t 24 & 1440 & 0.7445844\\\\\n",
       "\t 25 & 1500 & 0.7445844\\\\\n",
       "\t 26 & 1560 & 0.7445844\\\\\n",
       "\t 27 & 1620 & 0.7445844\\\\\n",
       "\t 28 & 1680 & 0.7445844\\\\\n",
       "\t 29 & 1740 & 0.7445844\\\\\n",
       "\t 30 & 1800 & 0.7445844\\\\\n",
       "\t 31 & 1860 & 0.7440806\\\\\n",
       "\t 32 & 1920 & 0.7440806\\\\\n",
       "\t 33 & 1980 & 0.7440806\\\\\n",
       "\t 34 & 2040 & 0.7440806\\\\\n",
       "\t 35 & 2100 & 0.7440806\\\\\n",
       "\t 36 & 2160 & 0.7440806\\\\\n",
       "\t 37 & 2220 & 0.7440806\\\\\n",
       "\t 38 & 2280 & 0.7440806\\\\\n",
       "\t 39 & 2340 & 0.7440806\\\\\n",
       "\t 40 & 2400 & 0.7440806\\\\\n",
       "\t 41 & 2460 & 0.7440806\\\\\n",
       "\t 42 & 2520 & 0.7440806\\\\\n",
       "\t 43 & 2580 & 0.7440806\\\\\n",
       "\t 44 & 2640 & 0.7440806\\\\\n",
       "\t 45 & 2700 & 0.7440806\\\\\n",
       "\t 46 & 2760 & 0.7440806\\\\\n",
       "\t 47 & 2820 & 0.7440806\\\\\n",
       "\t 48 & 2880 & 0.7440806\\\\\n",
       "\t 49 & 2940 & 0.7440806\\\\\n",
       "\t 50 & 3000 & 0.7440806\\\\\n",
       "\t 51 & 3060 & 0.7430730\\\\\n",
       "\t 52 & 3120 & 0.7430730\\\\\n",
       "\t 53 & 3180 & 0.7430730\\\\\n",
       "\t 54 & 3240 & 0.7430730\\\\\n",
       "\t 55 & 3300 & 0.7430730\\\\\n",
       "\t 56 & 3360 & 0.7430730\\\\\n",
       "\t 57 & 3420 & 0.7430730\\\\\n",
       "\t 58 & 3480 & 0.7430730\\\\\n",
       "\t 59 & 3540 & 0.7430730\\\\\n",
       "\t 60 & 3600 & 0.7430730\\\\\n",
       "\\end{tabular}\n"
      ],
      "text/markdown": [
       "\n",
       "A tibble: 60 x 3\n",
       "\n",
       "| lag &lt;int&gt; | lag_s &lt;dbl&gt; | f0 &lt;dbl&gt; |\n",
       "|---|---|---|\n",
       "|  1 |   60 | 0.7465995 |\n",
       "|  2 |  120 | 0.7465995 |\n",
       "|  3 |  180 | 0.7465995 |\n",
       "|  4 |  240 | 0.7465995 |\n",
       "|  5 |  300 | 0.7465995 |\n",
       "|  6 |  360 | 0.7465995 |\n",
       "|  7 |  420 | 0.7465995 |\n",
       "|  8 |  480 | 0.7465995 |\n",
       "|  9 |  540 | 0.7465995 |\n",
       "| 10 |  600 | 0.7465995 |\n",
       "| 11 |  660 | 0.7445844 |\n",
       "| 12 |  720 | 0.7445844 |\n",
       "| 13 |  780 | 0.7445844 |\n",
       "| 14 |  840 | 0.7445844 |\n",
       "| 15 |  900 | 0.7445844 |\n",
       "| 16 |  960 | 0.7445844 |\n",
       "| 17 | 1020 | 0.7445844 |\n",
       "| 18 | 1080 | 0.7445844 |\n",
       "| 19 | 1140 | 0.7445844 |\n",
       "| 20 | 1200 | 0.7445844 |\n",
       "| 21 | 1260 | 0.7445844 |\n",
       "| 22 | 1320 | 0.7445844 |\n",
       "| 23 | 1380 | 0.7445844 |\n",
       "| 24 | 1440 | 0.7445844 |\n",
       "| 25 | 1500 | 0.7445844 |\n",
       "| 26 | 1560 | 0.7445844 |\n",
       "| 27 | 1620 | 0.7445844 |\n",
       "| 28 | 1680 | 0.7445844 |\n",
       "| 29 | 1740 | 0.7445844 |\n",
       "| 30 | 1800 | 0.7445844 |\n",
       "| 31 | 1860 | 0.7440806 |\n",
       "| 32 | 1920 | 0.7440806 |\n",
       "| 33 | 1980 | 0.7440806 |\n",
       "| 34 | 2040 | 0.7440806 |\n",
       "| 35 | 2100 | 0.7440806 |\n",
       "| 36 | 2160 | 0.7440806 |\n",
       "| 37 | 2220 | 0.7440806 |\n",
       "| 38 | 2280 | 0.7440806 |\n",
       "| 39 | 2340 | 0.7440806 |\n",
       "| 40 | 2400 | 0.7440806 |\n",
       "| 41 | 2460 | 0.7440806 |\n",
       "| 42 | 2520 | 0.7440806 |\n",
       "| 43 | 2580 | 0.7440806 |\n",
       "| 44 | 2640 | 0.7440806 |\n",
       "| 45 | 2700 | 0.7440806 |\n",
       "| 46 | 2760 | 0.7440806 |\n",
       "| 47 | 2820 | 0.7440806 |\n",
       "| 48 | 2880 | 0.7440806 |\n",
       "| 49 | 2940 | 0.7440806 |\n",
       "| 50 | 3000 | 0.7440806 |\n",
       "| 51 | 3060 | 0.7430730 |\n",
       "| 52 | 3120 | 0.7430730 |\n",
       "| 53 | 3180 | 0.7430730 |\n",
       "| 54 | 3240 | 0.7430730 |\n",
       "| 55 | 3300 | 0.7430730 |\n",
       "| 56 | 3360 | 0.7430730 |\n",
       "| 57 | 3420 | 0.7430730 |\n",
       "| 58 | 3480 | 0.7430730 |\n",
       "| 59 | 3540 | 0.7430730 |\n",
       "| 60 | 3600 | 0.7430730 |\n",
       "\n"
      ],
      "text/plain": [
       "   lag lag_s f0       \n",
       "1   1    60  0.7465995\n",
       "2   2   120  0.7465995\n",
       "3   3   180  0.7465995\n",
       "4   4   240  0.7465995\n",
       "5   5   300  0.7465995\n",
       "6   6   360  0.7465995\n",
       "7   7   420  0.7465995\n",
       "8   8   480  0.7465995\n",
       "9   9   540  0.7465995\n",
       "10 10   600  0.7465995\n",
       "11 11   660  0.7445844\n",
       "12 12   720  0.7445844\n",
       "13 13   780  0.7445844\n",
       "14 14   840  0.7445844\n",
       "15 15   900  0.7445844\n",
       "16 16   960  0.7445844\n",
       "17 17  1020  0.7445844\n",
       "18 18  1080  0.7445844\n",
       "19 19  1140  0.7445844\n",
       "20 20  1200  0.7445844\n",
       "21 21  1260  0.7445844\n",
       "22 22  1320  0.7445844\n",
       "23 23  1380  0.7445844\n",
       "24 24  1440  0.7445844\n",
       "25 25  1500  0.7445844\n",
       "26 26  1560  0.7445844\n",
       "27 27  1620  0.7445844\n",
       "28 28  1680  0.7445844\n",
       "29 29  1740  0.7445844\n",
       "30 30  1800  0.7445844\n",
       "31 31  1860  0.7440806\n",
       "32 32  1920  0.7440806\n",
       "33 33  1980  0.7440806\n",
       "34 34  2040  0.7440806\n",
       "35 35  2100  0.7440806\n",
       "36 36  2160  0.7440806\n",
       "37 37  2220  0.7440806\n",
       "38 38  2280  0.7440806\n",
       "39 39  2340  0.7440806\n",
       "40 40  2400  0.7440806\n",
       "41 41  2460  0.7440806\n",
       "42 42  2520  0.7440806\n",
       "43 43  2580  0.7440806\n",
       "44 44  2640  0.7440806\n",
       "45 45  2700  0.7440806\n",
       "46 46  2760  0.7440806\n",
       "47 47  2820  0.7440806\n",
       "48 48  2880  0.7440806\n",
       "49 49  2940  0.7440806\n",
       "50 50  3000  0.7440806\n",
       "51 51  3060  0.7430730\n",
       "52 52  3120  0.7430730\n",
       "53 53  3180  0.7430730\n",
       "54 54  3240  0.7430730\n",
       "55 55  3300  0.7430730\n",
       "56 56  3360  0.7430730\n",
       "57 57  3420  0.7430730\n",
       "58 58  3480  0.7430730\n",
       "59 59  3540  0.7430730\n",
       "60 60  3600  0.7430730"
      ]
     },
     "metadata": {},
     "output_type": "display_data"
    }
   ],
   "source": [
    "lags |> slice_max(f0, n = 60)"
   ]
  },
  {
   "cell_type": "code",
   "execution_count": 18,
   "metadata": {
    "vscode": {
     "languageId": "r"
    }
   },
   "outputs": [],
   "source": [
    "library(tsibble)\n",
    "tl <- lomb |> collect() |> as_tsibble(index = time)"
   ]
  },
  {
   "cell_type": "code",
   "execution_count": 22,
   "metadata": {
    "vscode": {
     "languageId": "r"
    }
   },
   "outputs": [
    {
     "data": {
      "text/plain": [
       "[1] \"2015-11-24 11:20:00 CET\""
      ]
     },
     "metadata": {},
     "output_type": "display_data"
    }
   ],
   "source": [
    "tl$time |> max()"
   ]
  },
  {
   "cell_type": "code",
   "execution_count": null,
   "metadata": {
    "vscode": {
     "languageId": "r"
    }
   },
   "outputs": [],
   "source": []
  }
 ],
 "metadata": {
  "kernelspec": {
   "display_name": "R",
   "language": "R",
   "name": "ir"
  },
  "language_info": {
   "codemirror_mode": "r",
   "file_extension": ".r",
   "mimetype": "text/x-r-source",
   "name": "R",
   "pygments_lexer": "r",
   "version": "4.3.2"
  }
 },
 "nbformat": 4,
 "nbformat_minor": 2
}
