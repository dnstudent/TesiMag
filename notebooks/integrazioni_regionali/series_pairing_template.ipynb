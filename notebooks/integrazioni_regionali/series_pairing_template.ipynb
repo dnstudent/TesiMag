{
 "cells": [
  {
   "cell_type": "code",
   "execution_count": null,
   "metadata": {
    "vscode": {
     "languageId": "r"
    }
   },
   "outputs": [],
   "source": [
    "dataset <- \n",
    "state <- \n",
    "match_dist <- 10000"
   ]
  },
  {
   "cell_type": "code",
   "execution_count": null,
   "metadata": {
    "vscode": {
     "languageId": "r"
    }
   },
   "outputs": [],
   "source": [
    "setwd(fs::path_abs(\"~/Local_Workspace/TesiMag\"))\n",
    "library(arrow, warn.conflicts = FALSE)\n",
    "library(dplyr, warn.conflicts = FALSE)\n",
    "\n",
    "source(\"src/database/tools.R\")\n",
    "source(\"src/database/insert.R\")\n",
    "source(\"src/database/write.R\")\n",
    "source(\"src/database/startup.R\")\n",
    "source(\"src/database/plot.R\")\n",
    "source(\"src/database/query/spatial.R\")\n",
    "source(\"src/database/query/data.R\")\n",
    "source(\"src/merging/analysis.R\")\n",
    "source(\"src/merging/display.R\")\n",
    "source(\"src/merging/combining.R\")\n",
    "\n",
    "conns <- load_dbs()\n",
    "state_boundaries <- query_boundary(conns$stations, state, \"state\") "
   ]
  },
  {
   "cell_type": "code",
   "execution_count": null,
   "metadata": {
    "vscode": {
     "languageId": "r"
    }
   },
   "outputs": [],
   "source": [
    "ds_meta <- query_checkpoint_meta(dataset, \"qc1\", conns$data) |>\n",
    "    collect()\n",
    "scia_meta <- query_checkpoint_meta(\"SCIA\", \"qc1\", conns$data) |>\n",
    "    collect() |>\n",
    "    st_md_to_sf() |>\n",
    "    st_filter(state_boundaries |> st_buffer(dist = 1000), .predicate = st_within) |>\n",
    "    st_drop_geometry() |>\n",
    "    filter(!state %in% c(), !(network %in% c(\"Sinottica\", \"Mareografica\")))\n",
    "metadata <- bind_rows(ds_meta, scia_meta) |> mutate(key = row_number())\n",
    "metadata_db <- copy_to(conns$data, metas, \"metas_tmp\", overwrite = TRUE)\n",
    "\n",
    "sensor_matches <- close_matches(metadata_db, match_dist, conns$stations)\n",
    "\n",
    "data <- query_checkpoint_data(c(dataset, \"SCIA\"), \"qc1\", conns$data) |>\n",
    "    filter(valid) |>\n",
    "    left_join(metas |> select(dataset, sensor_key, key), by = c(\"dataset\", \"sensor_key\"))\n",
    "\n",
    "var_matches <- series_matches(data, sensor_matches, metas)\n"
   ]
  },
  {
   "cell_type": "code",
   "execution_count": null,
   "metadata": {
    "vscode": {
     "languageId": "r"
    }
   },
   "outputs": [],
   "source": [
    "analysis <- series_matches_analysis(var_matches, data, metas)\n",
    "analysis |> write_xlsx_analysis(file.path(\"notebooks\", \"integrazioni_regionali\", state, \"raw_analysis.xlsx\"))"
   ]
  },
  {
   "cell_type": "code",
   "execution_count": null,
   "metadata": {
    "vscode": {
     "languageId": "r"
    }
   },
   "outputs": [],
   "source": [
    "source(file.path(\"notebooks\", \"integrazioni_regionali\", state, \"procedures\", \"match_taggers.R\"))\n",
    "source(\"src/merging/tagging.R\")\n",
    "tagged_analysis <- tag_same_series(analysis) |>\n",
    "    tag_mergeable() |>\n",
    "    default_logic(require_all = TRUE)\n",
    "tagged_analysis |> write_xlsx_analysis(file.path(\"notebooks\", \"integrazioni_regionali\", state, \"tagged_analysis.xlsx\"), starts_with(\"tag_\"))\n"
   ]
  }
 ],
 "metadata": {
  "kernelspec": {
   "display_name": "R",
   "language": "R",
   "name": "ir"
  },
  "language_info": {
   "name": "R"
  }
 },
 "nbformat": 4,
 "nbformat_minor": 2
}
