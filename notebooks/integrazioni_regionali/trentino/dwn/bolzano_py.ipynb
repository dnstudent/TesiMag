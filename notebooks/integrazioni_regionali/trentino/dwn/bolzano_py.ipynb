{
 "cells": [
  {
   "cell_type": "code",
   "execution_count": 1,
   "metadata": {},
   "outputs": [],
   "source": [
    "import requests\n",
    "import polars as pl\n",
    "import pandas as pd\n",
    "from pathlib import Path\n",
    "import geopandas as gpd\n",
    "from tqdm.notebook import tqdm\n",
    "from bs4 import BeautifulSoup\n",
    "\n",
    "from datetime import datetime"
   ]
  },
  {
   "cell_type": "code",
   "execution_count": 2,
   "metadata": {},
   "outputs": [],
   "source": [
    "base = Path.home() / \"Local_Workspace\" / \"Datasets\" / \"ARPA\" / \"TRENTINO\" / \"bolzano\""
   ]
  },
  {
   "cell_type": "markdown",
   "metadata": {},
   "source": [
    "## OpenData Bolzano\n",
    "Stazioni recuperabili tramite API. Solo dal 2014."
   ]
  },
  {
   "cell_type": "code",
   "execution_count": 3,
   "metadata": {},
   "outputs": [],
   "source": [
    "sensors = pl.read_json(base / \"sensors.json\")\n",
    "sensors.write_csv(base / \"sensors.csv\")\n",
    "stations = gpd.read_file(base / \"stations.geojson\")"
   ]
  },
  {
   "cell_type": "code",
   "execution_count": 5,
   "metadata": {},
   "outputs": [],
   "source": [
    "def query_payload(station_code, from_date: datetime, to_date: datetime):\n",
    "    return {\n",
    "        \"station_code\": station_code,\n",
    "        \"sensor_code\": \"LT\",\n",
    "        \"date_from\": from_date.strftime(r\"%Y%m%d\"),\n",
    "        \"date_to\": to_date.strftime(r\"%Y%m%d\"),\n",
    "        \"output_format\": \"CSV\",\n",
    "    }"
   ]
  },
  {
   "cell_type": "code",
   "execution_count": 6,
   "metadata": {},
   "outputs": [],
   "source": [
    "stat_ids = sensors.filter(pl.col(\"TYPE\").eq(\"LT\"))[\"SCODE\"].to_list()"
   ]
  },
  {
   "cell_type": "code",
   "execution_count": 23,
   "metadata": {},
   "outputs": [],
   "source": [
    "from time import sleep\n",
    "from random import uniform\n",
    "\n",
    "\n",
    "def file_path(station_id, year):\n",
    "    path = base / \"fragments\" / f\"{station_id}/{year}.csv\"\n",
    "    if not path.parent.exists():\n",
    "        path.parent.mkdir(parents=True)\n",
    "    return path\n",
    "\n",
    "\n",
    "def get_year_data(station_id, year):\n",
    "    try:\n",
    "        r = requests.get(\n",
    "            \"http://daten.buergernetz.bz.it/services/meteo/v1/timeseries\",\n",
    "            params=query_payload(\n",
    "                station_id, datetime(year, 1, 1), datetime(year + 1, 1, 1)\n",
    "            ),\n",
    "        )\n",
    "        if r.status_code != 200:\n",
    "            sleep(uniform(3, 5))\n",
    "            raise\n",
    "        return r.text\n",
    "    except:\n",
    "        print(f\"There was an error: {r.status_code}. Continuing...\")\n",
    "        return False\n",
    "\n",
    "\n",
    "def get_station_data(station_id, bar: tqdm):\n",
    "    for year in range(2000, 2023):\n",
    "        path = file_path(station_id, year)\n",
    "        if path.exists():\n",
    "            bar.update()\n",
    "            continue\n",
    "        data = get_year_data(station_id, year)\n",
    "        if not data:\n",
    "            bar.update()\n",
    "            continue\n",
    "        if data.strip() == \"\":\n",
    "            bar.update()\n",
    "            continue\n",
    "        with open(path, \"wt\") as file:\n",
    "            file.write(data)\n",
    "        bar.update()\n",
    "        sleep(uniform(0.5, 1.5))\n",
    "\n",
    "    bar.reset(total=2023 - 2000)"
   ]
  },
  {
   "cell_type": "code",
   "execution_count": null,
   "metadata": {},
   "outputs": [],
   "source": [
    "for station_id in tqdm(stat_ids):\n",
    "    with tqdm(total=2023 - 2000, leave=True) as bar:\n",
    "        get_station_data(station_id, bar)"
   ]
  },
  {
   "cell_type": "code",
   "execution_count": 26,
   "metadata": {},
   "outputs": [],
   "source": [
    "for file in (base / \"fragments\").glob(\"**/*.csv\"):\n",
    "    station_id = file.parent.stem\n",
    "    file_path = base / \"dataset\" / f\"{station_id}\" / f\"{file.stem}.parquet\"\n",
    "    if not file_path.parent.exists():\n",
    "        file_path.parent.mkdir(parents=True)\n",
    "    pl.read_csv(file, try_parse_dates=False).with_columns(\n",
    "        pl.col(\"DATE\").str.to_datetime(format=r\"%Y-%m-%dT%H:%M:%S%Z\"),\n",
    "        pl.lit(station_id).alias(\"original_id\"),\n",
    "    ).write_parquet(file_path)"
   ]
  },
  {
   "cell_type": "code",
   "execution_count": 4,
   "metadata": {},
   "outputs": [],
   "source": [
    "page = (base / \"opendata\" / \"xlsx_datastore.html\").read_text()\n",
    "landing_page = BeautifulSoup(page, \"html.parser\")"
   ]
  },
  {
   "cell_type": "code",
   "execution_count": 5,
   "metadata": {},
   "outputs": [],
   "source": [
    "def li_class_resource_item(li):\n",
    "    return li.has_attr(\"class\") and \"resource-item\" in li[\"class\"]\n",
    "\n",
    "\n",
    "ids = [tag[\"data-id\"] for tag in landing_page.find_all(li_class_resource_item)]"
   ]
  },
  {
   "cell_type": "code",
   "execution_count": 6,
   "metadata": {},
   "outputs": [],
   "source": [
    "import re\n",
    "\n",
    "files = list(map(lambda m: m.group(0), re.finditer(r\"http://[^\\\"]+\\.xlsx\", page)))"
   ]
  },
  {
   "cell_type": "code",
   "execution_count": 8,
   "metadata": {},
   "outputs": [],
   "source": [
    "import urllib\n",
    "\n",
    "with requests.Session() as session:\n",
    "    for url in files:\n",
    "        r = session.get(url)\n",
    "        with open(\n",
    "            base / \"opendata\" / urllib.parse.unquote(url.split(\"/\")[-1]), \"wb\"\n",
    "        ) as file:\n",
    "            file.write(r.content)"
   ]
  },
  {
   "cell_type": "code",
   "execution_count": 52,
   "metadata": {},
   "outputs": [],
   "source": [
    "def payload(data_id, n, offset):\n",
    "    return {\n",
    "        \"resource_id\": data_id,\n",
    "        \"limit\": n,\n",
    "        \"offset\": offset,\n",
    "    }\n",
    "\n",
    "\n",
    "def get_data(data_id, n, offset):\n",
    "    return requests.get(\n",
    "        \"https://data.civis.bz.it/api/action/datastore_search\",\n",
    "        params=payload(data_id, n, offset),\n",
    "    ).json()"
   ]
  },
  {
   "cell_type": "code",
   "execution_count": 64,
   "metadata": {},
   "outputs": [],
   "source": [
    "excels_path = base / \"opendata\"\n",
    "xlsx_files = list(excels_path.glob(\"*.xlsx\"))"
   ]
  },
  {
   "cell_type": "code",
   "execution_count": 71,
   "metadata": {},
   "outputs": [],
   "source": [
    "def get_meta(path):\n",
    "    # ETRS89/UTM32N\n",
    "    coords = pd.read_excel(path, usecols=[7], skiprows=7, nrows=3, header=None)\n",
    "    meta = coords.iloc[:, 0].str.split(\" \").explode().iloc[[1, 3, 4]]\n",
    "    meta.index = [\"x\", \"y\", \"elevation\"]\n",
    "    return meta"
   ]
  },
  {
   "cell_type": "code",
   "execution_count": 75,
   "metadata": {},
   "outputs": [],
   "source": [
    "def read_bz_excel(path):\n",
    "    original_id, station_name = path.stem.split(\"-\", maxsplit=1)\n",
    "    station_name = station_name.replace(\"-\", \" \")\n",
    "\n",
    "    meta = get_meta(path)\n",
    "    meta[\"original_id\"] = original_id\n",
    "    meta[\"station_name\"] = station_name\n",
    "\n",
    "    data = pd.read_excel(\n",
    "        path,\n",
    "        skiprows=13,\n",
    "        usecols=[2, 4, 5],\n",
    "        names=[\"date\", \"T_MIN\", \"T_MAX\"],\n",
    "        na_values=\"---\",\n",
    "        dtype={\"T_MIN\": \"float\", \"T_MAX\": \"float\"},\n",
    "        skipfooter=1,\n",
    "    )\n",
    "    data = pl.from_pandas(data).with_columns(\n",
    "        pl.col(\"date\").str.to_date(format=r\"%d.%m.%Y\"),\n",
    "        pl.lit(original_id).alias(\"original_id\"),\n",
    "        pl.lit(station_name).alias(\"station_name\"),\n",
    "    )\n",
    "    return data, meta"
   ]
  },
  {
   "cell_type": "code",
   "execution_count": 62,
   "metadata": {},
   "outputs": [
    {
     "name": "stdout",
     "output_type": "stream",
     "text": [
      "Could not open /Users/davidenicoli/Local_Workspace/Datasets/ARPA/TRENTINO/bolzano/opendata/~$27100MS-Gargazon-Gargazzone-multiannual-LT-N-daily-temperature-precipitation.xlsx\n"
     ]
    }
   ],
   "source": [
    "for path in xlsx_files:\n",
    "    try:\n",
    "        read_bz_excel(path)\n",
    "    except:\n",
    "        print(f\"Could not open {path}\")"
   ]
  },
  {
   "cell_type": "code",
   "execution_count": 76,
   "metadata": {},
   "outputs": [],
   "source": [
    "all_things = [read_bz_excel(path) for path in xlsx_files]"
   ]
  },
  {
   "cell_type": "code",
   "execution_count": 92,
   "metadata": {},
   "outputs": [],
   "source": [
    "data, meta = zip(*all_things)"
   ]
  },
  {
   "cell_type": "code",
   "execution_count": 93,
   "metadata": {},
   "outputs": [],
   "source": [
    "data = pl.concat(data, how=\"vertical\")\n",
    "meta = pl.concat(\n",
    "    [pl.from_pandas(pd.DataFrame(m).transpose()) for m in meta], how=\"vertical\"\n",
    ")"
   ]
  },
  {
   "cell_type": "code",
   "execution_count": 105,
   "metadata": {},
   "outputs": [],
   "source": [
    "meta = meta.with_columns(\n",
    "    pl.col(\"x\").str.to_integer(),\n",
    "    pl.col(\"y\").str.to_integer(),\n",
    "    pl.col(\"elevation\").str.to_integer(),\n",
    ")"
   ]
  },
  {
   "cell_type": "code",
   "execution_count": 107,
   "metadata": {},
   "outputs": [],
   "source": [
    "meta.write_csv(base / \"opendata\" / \"meta.csv\")"
   ]
  },
  {
   "cell_type": "code",
   "execution_count": 108,
   "metadata": {},
   "outputs": [],
   "source": [
    "data.write_parquet(base / \"opendata\" / \"data.parquet\")"
   ]
  },
  {
   "cell_type": "code",
   "execution_count": null,
   "metadata": {},
   "outputs": [],
   "source": []
  }
 ],
 "metadata": {
  "kernelspec": {
   "display_name": "tesi",
   "language": "python",
   "name": "python3"
  },
  "language_info": {
   "codemirror_mode": {
    "name": "ipython",
    "version": 3
   },
   "file_extension": ".py",
   "mimetype": "text/x-python",
   "name": "python",
   "nbconvert_exporter": "python",
   "pygments_lexer": "ipython3",
   "version": "3.12.0"
  }
 },
 "nbformat": 4,
 "nbformat_minor": 2
}
