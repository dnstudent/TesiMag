{
 "cells": [
  {
   "cell_type": "code",
   "execution_count": null,
   "metadata": {},
   "outputs": [],
   "source": [
    "import pandas as pd\n",
    "import polars as pl\n",
    "import requests\n",
    "from bs4 import BeautifulSoup\n",
    "from pathlib import Path\n",
    "import re\n",
    "from tqdm.notebook import tqdm\n",
    "from time import sleep\n",
    "from random import uniform\n",
    "from zipfile import is_zipfile\n",
    "\n",
    "base = Path.home() / \"Local_Workspace\" / \"Datasets\" / \"ARPA\" / \"TRENTINO\" / \"trento\""
   ]
  },
  {
   "cell_type": "code",
   "execution_count": 2,
   "metadata": {},
   "outputs": [],
   "source": [
    "stat1 = pd.read_xml(base / \"meteostations.xml\")\n",
    "stat2 = pd.read_xml(base / \"meteostations2.xml\")"
   ]
  },
  {
   "cell_type": "code",
   "execution_count": 3,
   "metadata": {},
   "outputs": [],
   "source": [
    "stat_ids = stat2[\"codice\"].str.lower().to_list()"
   ]
  },
  {
   "cell_type": "code",
   "execution_count": 6,
   "metadata": {},
   "outputs": [],
   "source": [
    "def payload(cod_stazione, data_inizio=\"01/01/2000\", data_fine=\"01/01/2023\"):\n",
    "    return {\n",
    "        \"co\": cod_stazione,\n",
    "        \"v\": \"400.00_400.00,400.55_400.55,400.56_400.56\",\n",
    "        \"vn\": \"Temperatura aria (gradi Celsius),Temperatura aria (gradi Celsius) Min da Annale Idrologico,Temperatura aria (gradi Celsius) Max da Annale Idrologico\",\n",
    "        \"p\": \"Altro,1,1,custom,1\",\n",
    "        \"o\": \"Download,download\",\n",
    "        \"i\": \"Giornaliera,Day,1\",\n",
    "        \"cat\": \"rs\",\n",
    "        \"d1\": data_inizio,\n",
    "        \"d2\": data_fine,\n",
    "    }\n",
    "\n",
    "base_url = \"http://storico.meteotrentino.it/cgi/webhyd.pl\"\n",
    "\n",
    "def download_data(cod_stazione, path, data_inizio=\"01/01/2000\", data_fine=\"01/01/2023\"):\n",
    "    with requests.Session() as s:\n",
    "        r = s.get(base_url, params=payload(cod_stazione, data_inizio, data_fine))\n",
    "        archive_url = re.search(r\"(http://.+.zip\\?\\d+)\", r.text).group(0)\n",
    "        with s.get(archive_url, stream=True) as archive:\n",
    "            with open(path, \"wb\") as f:\n",
    "                for chunk in archive.iter_content(chunk_size=1024*1024):\n",
    "                    if chunk:\n",
    "                        f.write(chunk)\n"
   ]
  },
  {
   "cell_type": "code",
   "execution_count": 7,
   "metadata": {},
   "outputs": [
    {
     "data": {
      "application/vnd.jupyter.widget-view+json": {
       "model_id": "bb1cc39f323a4a06b81d9f1c505fe7c9",
       "version_major": 2,
       "version_minor": 0
      },
      "text/plain": [
       "  0%|          | 0/207 [00:00<?, ?it/s]"
      ]
     },
     "metadata": {},
     "output_type": "display_data"
    }
   ],
   "source": [
    "def fragment_path(cod_stazione):\n",
    "    path =  base / \"fragments\" / f\"{cod_stazione}.zip\"\n",
    "    if not path.parent.exists():\n",
    "        path.parent.mkdir(parents=True)\n",
    "    return path\n",
    "\n",
    "for sid in tqdm(stat_ids):\n",
    "    path = fragment_path(sid)\n",
    "    if path.exists() and is_zipfile(path):\n",
    "        continue\n",
    "    try:\n",
    "        download_data(sid, path, \"01/01/2000\", \"01/01/2023\")\n",
    "    except:\n",
    "        print(f\"Error with {sid}. Continuing...\")\n",
    "    sleep(uniform(1, 5))"
   ]
  },
  {
   "cell_type": "code",
   "execution_count": 55,
   "metadata": {},
   "outputs": [],
   "source": [
    "download_data(\"t0308\", \"01/01/2000\", \"01/01/2001\")"
   ]
  },
  {
   "cell_type": "code",
   "execution_count": 14,
   "metadata": {},
   "outputs": [],
   "source": [
    "html = BeautifulSoup(r.text, \"html.parser\")"
   ]
  },
  {
   "cell_type": "code",
   "execution_count": 22,
   "metadata": {},
   "outputs": [],
   "source": [
    "scripts = html.find_all(\"script\")"
   ]
  },
  {
   "cell_type": "code",
   "execution_count": 50,
   "metadata": {},
   "outputs": [
    {
     "data": {
      "text/plain": [
       "'http://storico.meteotrentino.it/wgen/users//545074462/t0367_20231220.zip?20231220224120'"
      ]
     },
     "execution_count": 50,
     "metadata": {},
     "output_type": "execute_result"
    }
   ],
   "source": [
    "import re\n",
    "rgx = r\"(http://.+.zip\\?\\d+)\"\n",
    "re.search(rgx, r.text).group(0)"
   ]
  },
  {
   "cell_type": "code",
   "execution_count": null,
   "metadata": {},
   "outputs": [],
   "source": [
    "\"'http://storico.meteotrentino.it/wgen/users//545074462/t0367_20231220.zip?20231220224120\\';\"\n"
   ]
  },
  {
   "cell_type": "code",
   "execution_count": null,
   "metadata": {},
   "outputs": [],
   "source": [
    "\"http://storico.meteotrentino.it/cgi/webhyd.pl?co=t0308&v=400.00_400.00&vn=Temperatura aria (gradi Celsius) &p=Tutti i dati,01/01/1800,01/01/1800,period,1&o=Download,download&i=Giornaliera,Day,1&cat=rs&1703107276110=\""
   ]
  },
  {
   "cell_type": "code",
   "execution_count": null,
   "metadata": {},
   "outputs": [],
   "source": [
    "\"http://storico.meteotrentino.it/cgi/webhyd.pl?co=t0367&v=400.55_400.55,400.56_400.56&vn=Temperatura aria (gradi Celsius) Min da Annale Idrologico,\"\n"
   ]
  },
  {
   "cell_type": "code",
   "execution_count": null,
   "metadata": {},
   "outputs": [],
   "source": [
    "\"Temperatura aria (gradi Celsius) Max da Annale Idrologico&p=Altro,1,1,custom,1&o=Download,download&i=Giornaliera,Day,1&cat=rs&d1=01/01/2000&d2=01/01/2023&1703107710318=\""
   ]
  }
 ],
 "metadata": {
  "kernelspec": {
   "display_name": "tesi",
   "language": "python",
   "name": "python3"
  },
  "language_info": {
   "codemirror_mode": {
    "name": "ipython",
    "version": 3
   },
   "file_extension": ".py",
   "mimetype": "text/x-python",
   "name": "python",
   "nbconvert_exporter": "python",
   "pygments_lexer": "ipython3",
   "version": "3.12.0"
  }
 },
 "nbformat": 4,
 "nbformat_minor": 2
}
