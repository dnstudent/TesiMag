{
 "cells": [
  {
   "cell_type": "code",
   "execution_count": 3,
   "metadata": {},
   "outputs": [],
   "source": [
    "import pandas as pd\n",
    "import polars as pl\n",
    "import polars.selectors as cs\n",
    "import requests\n",
    "from bs4 import BeautifulSoup\n",
    "from pathlib import Path\n",
    "import re\n",
    "from tqdm.notebook import tqdm\n",
    "from time import sleep\n",
    "from random import uniform\n",
    "from zipfile import is_zipfile\n",
    "\n",
    "base = Path.home() / \"Local_Workspace\" / \"Datasets\" / \"ARPA\" / \"TRENTINO\" / \"trento\""
   ]
  },
  {
   "cell_type": "code",
   "execution_count": 40,
   "metadata": {},
   "outputs": [],
   "source": [
    "stat2 = pd.read_xml(base / \"meteostations2.xml\")\n",
    "stat2[\"codice\"] = stat2[\"codice\"].str.upper().str.strip()"
   ]
  },
  {
   "cell_type": "code",
   "execution_count": 42,
   "metadata": {},
   "outputs": [
    {
     "data": {
      "text/html": [
       "<div><style>\n",
       ".dataframe > thead > tr,\n",
       ".dataframe > tbody > tr {\n",
       "  text-align: right;\n",
       "  white-space: pre-wrap;\n",
       "}\n",
       "</style>\n",
       "<small>shape: (0, 10)</small><table border=\"1\" class=\"dataframe\"><thead><tr><th>codice</th><th>nome</th><th>nomebreve</th><th>quota</th><th>latitudine</th><th>longitudine</th><th>est</th><th>north</th><th>inizio</th><th>fine</th></tr><tr><td>str</td><td>str</td><td>str</td><td>i64</td><td>f64</td><td>f64</td><td>f64</td><td>f64</td><td>str</td><td>str</td></tr></thead><tbody></tbody></table></div>"
      ],
      "text/plain": [
       "shape: (0, 10)\n",
       "┌────────┬──────┬───────────┬───────┬───┬─────┬───────┬────────┬──────┐\n",
       "│ codice ┆ nome ┆ nomebreve ┆ quota ┆ … ┆ est ┆ north ┆ inizio ┆ fine │\n",
       "│ ---    ┆ ---  ┆ ---       ┆ ---   ┆   ┆ --- ┆ ---   ┆ ---    ┆ ---  │\n",
       "│ str    ┆ str  ┆ str       ┆ i64   ┆   ┆ f64 ┆ f64   ┆ str    ┆ str  │\n",
       "╞════════╪══════╪═══════════╪═══════╪═══╪═════╪═══════╪════════╪══════╡\n",
       "└────────┴──────┴───────────┴───────┴───┴─────┴───────┴────────┴──────┘"
      ]
     },
     "execution_count": 42,
     "metadata": {},
     "output_type": "execute_result"
    }
   ],
   "source": [
    "pl.from_pandas(stat2).filter(pl.col(\"codice\").is_duplicated())"
   ]
  },
  {
   "cell_type": "code",
   "execution_count": 3,
   "metadata": {},
   "outputs": [],
   "source": [
    "stat2.to_csv(base / \"meta.csv\", index=False)"
   ]
  },
  {
   "cell_type": "code",
   "execution_count": 4,
   "metadata": {},
   "outputs": [],
   "source": [
    "stat_ids = stat2[\"codice\"].str.lower().to_list()"
   ]
  },
  {
   "cell_type": "code",
   "execution_count": 26,
   "metadata": {},
   "outputs": [],
   "source": [
    "tvar_params = {\n",
    "    \"tmin\": {\"vn\": \"Temperatura aria (gradi Celsius) Min da Annale Idrologico\", \"v\": \"400.55_400.55\", \"conv\": \"T_MIN\"},\n",
    "    \"tmax\": {\"vn\": \"Temperatura aria (gradi Celsius) Max da Annale Idrologico\", \"v\": \"400.56_400.56\", \"conv\": \"T_MAX\"},\n",
    "    \"t\": {\"vn\": \"Temperatura aria (gradi Celsius) \", \"v\": \"400.00_400.00\"},\n",
    "}\n",
    "\n",
    "def payload(cod_stazione, tvar, data_inizio=\"01/01/2000\", data_fine=\"01/01/2023\"):\n",
    "    return {\n",
    "        \"co\": cod_stazione,\n",
    "        \"v\": tvar_params[tvar][\"v\"],\n",
    "        \"vn\": tvar_params[tvar][\"vn\"],\n",
    "        \"p\": \"Tutti i dati,01/01/1800,01/01/1800,period,1\",\n",
    "        \"o\": \"Download,download\",\n",
    "        \"i\": \"Giornaliera,Day,1\",\n",
    "        \"cat\": \"rs\"\n",
    "    }\n",
    "\n",
    "\n",
    "def payload_subhour(cod_stazione, tvar, data_inizio=\"01/01/2000\", data_fine=\"01/01/2023\"):\n",
    "    return {\n",
    "        \"co\": cod_stazione,\n",
    "        \"v\": tvar_params[\"t\"][\"v\"],\n",
    "        \"vn\": tvar_params[\"t\"][\"vn\"],\n",
    "        \"p\": \"Tutti i dati,01/01/1800,01/01/1800,period,1\",\n",
    "        \"o\": \"Download,download\",\n",
    "        \"i\": \"Tutte le misure,Point,1\",\n",
    "        \"cat\": \"rs\",\n",
    "        # \"d1\": data_inizio,\n",
    "        # \"d2\": data_fine,\n",
    "    }\n",
    "\n",
    "\n",
    "base_url = \"http://storico.meteotrentino.it/cgi/webhyd.pl\"\n",
    "\n",
    "\n",
    "def download_data(\n",
    "    cod_stazione,\n",
    "    tvar,\n",
    "    path,\n",
    "    data_inizio=\"01/01/2000\",\n",
    "    data_fine=\"01/01/2023\",\n",
    "    payload_fn=payload,\n",
    "    tout=120,\n",
    "):\n",
    "    with requests.Session() as s:\n",
    "        r = s.get(\n",
    "            base_url,\n",
    "            params=payload_fn(cod_stazione, tvar, data_inizio, data_fine),\n",
    "            timeout=tout,\n",
    "        )\n",
    "        archive_url = re.search(r\"(http://.+.zip\\?\\d+)\", r.text).group(0)\n",
    "        with s.get(archive_url, stream=True) as archive:\n",
    "            with open(path, \"wb\") as f:\n",
    "                for chunk in archive.iter_content(chunk_size=1024 * 1024):\n",
    "                    if chunk:\n",
    "                        f.write(chunk)\n",
    "\n",
    "\n",
    "def fragment_path(cod_stazione, tvar):\n",
    "    path = base / \"fragments\" / tvar / f\"{cod_stazione}.zip\"\n",
    "    if not path.parent.exists():\n",
    "        path.parent.mkdir(parents=True)\n",
    "    return path\n",
    "\n",
    "\n",
    "def subhour_fragment_path(cod_stazione):\n",
    "    path = base / \"fragments_subhour\" / f\"{cod_stazione}.zip\"\n",
    "    if not path.parent.exists():\n",
    "        path.parent.mkdir(parents=True)\n",
    "    return path"
   ]
  },
  {
   "cell_type": "code",
   "execution_count": null,
   "metadata": {},
   "outputs": [],
   "source": [
    "for sid in tqdm(stat_ids):\n",
    "    for tvar in [\"tmin\", \"tmax\", \"t\"]:\n",
    "        path = fragment_path(sid, tvar)\n",
    "        if path.exists() and is_zipfile(path):\n",
    "            continue\n",
    "        if path.exists():\n",
    "            path.unlink()\n",
    "        try:\n",
    "            download_data(sid, tvar, path)\n",
    "        except Exception as e:\n",
    "            print(f\"Error with {sid} {tvar}: {e}. Continuing...\")\n",
    "        sleep(uniform(0.2, 2))"
   ]
  },
  {
   "cell_type": "code",
   "execution_count": 18,
   "metadata": {},
   "outputs": [],
   "source": [
    "def pl_read_t(path):\n",
    "    stat_id = path.stem\n",
    "    data = pd.read_csv(\n",
    "        path,\n",
    "        encoding=\"iso-8859-1\",\n",
    "        skiprows=3,\n",
    "        usecols=range(7),\n",
    "        header=0,\n",
    "        names=[\n",
    "            \"time\",\n",
    "            \"value_TAVG\",\n",
    "            \"valid_TAVG\",\n",
    "            \"value_TMIN\",\n",
    "            \"valid_TMIN\",\n",
    "            \"value_TMAX\",\n",
    "            \"valid_TMAX\",\n",
    "        ],\n",
    "    )\n",
    "    # data[\"time\"] = pd.to_datetime(data[\"time\"], format=r\"%H:%M:%S %d/%m/%Y\") #.dt.tz_localize(\"Europe/Rome\")\n",
    "    data = (\n",
    "        pl.from_pandas(\n",
    "            data,\n",
    "            schema_overrides={\n",
    "                \"time\": pl.Utf8(),\n",
    "                \"value_TAVG\": pl.Float64(),\n",
    "                \"valid_TAVG\": pl.Int32(),\n",
    "                \"value_TMIN\": pl.Float64(),\n",
    "                \"valid_TMIN\": pl.Int32(),\n",
    "                \"value_TMAX\": pl.Float64(),\n",
    "                \"valid_TMAX\": pl.Int32(),\n",
    "            },\n",
    "        ).with_columns(\n",
    "            pl.lit(stat_id).str.to_uppercase().str.strip_chars().alias(\"original_id\"),\n",
    "            pl.col(\"time\").str.to_datetime(format=r\"%H:%M:%S %d/%m/%Y\").alias(\"time\"),\n",
    "        ).with_columns(\n",
    "            pl.col(\"time\").dt.date().alias(\"date\"),\n",
    "        )\n",
    "        # .select(~cs.ends_with(\"TAVG\"))\n",
    "        .filter(\n",
    "            pl.col(\"value_TAVG\").is_not_null()\n",
    "            | pl.col(\"value_TMIN\").is_not_null()\n",
    "            | pl.col(\"value_TMAX\").is_not_null()\n",
    "        )\n",
    "    )\n",
    "    return data\n",
    "\n",
    "def pl_read_annali(path):\n",
    "    stat_id = path.stem\n",
    "    tvar = path.parent.stem\n",
    "    data = pd.read_csv(\n",
    "        path,\n",
    "        encoding=\"iso-8859-1\",\n",
    "        skiprows=3,\n",
    "        usecols=range(3),\n",
    "        header=0,\n",
    "        names=[\n",
    "            \"time\",\n",
    "            \"value\",\n",
    "            \"valid\"\n",
    "        ],\n",
    "    )\n",
    "    # data[\"time\"] = pd.to_datetime(data[\"time\"], format=r\"%H:%M:%S %d/%m/%Y\") #.dt.tz_localize(\"Europe/Rome\")\n",
    "    data = (\n",
    "        pl.from_pandas(\n",
    "            data,\n",
    "            schema_overrides={\n",
    "                \"time\": pl.Utf8(),\n",
    "                \"value\": pl.Float64(),\n",
    "                \"valid\": pl.Int32()\n",
    "            },\n",
    "        ).with_columns(\n",
    "            pl.lit(stat_id).str.to_uppercase().str.strip_chars().alias(\"original_id\"),\n",
    "            pl.lit(tvar_params[tvar][\"conv\"]).str.to_uppercase().str.strip_chars().alias(\"variable\"),\n",
    "            (pl.col(\"time\") + \"+0100\").str.to_datetime(format=r\"%H:%M:%S %d/%m/%Y%z\", time_zone=\"UTC\").dt.convert_time_zone(\"CET\").alias(\"time\"),\n",
    "        )\n",
    "        # .select(~cs.ends_with(\"TAVG\"))\n",
    "        .filter(\n",
    "            pl.col(\"value\").is_not_null()\n",
    "        )\n",
    "    )\n",
    "    return data\n",
    "\n",
    "def pl_read_subhour(path):\n",
    "    stat_id = path.stem\n",
    "    data = pd.read_csv(\n",
    "        path,\n",
    "        encoding=\"iso-8859-1\",\n",
    "        skiprows=3,\n",
    "        usecols=[0, 1, 2],\n",
    "        header=0,\n",
    "        names=[\"time\", \"value\", \"valid\"],\n",
    "    )\n",
    "    # data[\"time\"] = pd.to_datetime(data[\"time\"], format=r\"%H:%M:%S %d/%m/%Y\").dt.tz_localize(\"CET\")\n",
    "    data = (\n",
    "        pl.from_pandas(\n",
    "            data,\n",
    "            schema_overrides={\n",
    "                \"time\": pl.Utf8(),\n",
    "                \"value\": pl.Float64(),\n",
    "                \"valid\": pl.Int32(),\n",
    "            },\n",
    "        )\n",
    "        .with_columns(\n",
    "            pl.lit(stat_id).str.to_uppercase().str.strip_chars().alias(\"original_id\"),\n",
    "            (pl.col(\"time\") + \"+0100\")\n",
    "            .str.to_datetime(format=r\"%H:%M:%S %d/%m/%Y%z\")\n",
    "            .dt.convert_time_zone(\"CET\")\n",
    "            .alias(\"time\")\n",
    "        )\n",
    "        .filter(pl.col(\"value\").is_not_null() & pl.col(\"valid\").lt(150))\n",
    "        .sort(\"time\")\n",
    "    )\n",
    "    return data"
   ]
  },
  {
   "cell_type": "code",
   "execution_count": 43,
   "metadata": {},
   "outputs": [],
   "source": [
    "# for file in list((base / \"fragments\" / \"t\").glob(\"*.zip\")):\n",
    "#     if not is_zipfile(file):\n",
    "#         print(f\"Error in {file}\")\n",
    "# pl.concat(\n",
    "#     [pl_read_t(file) for file in (base / \"fragments\" / \"t\").glob(\"*.zip\")], how=\"vertical\"\n",
    "# ).write_parquet(base / \"fragments\" / \"t\" / \"data.parquet\")\n",
    "data = pl.read_parquet(base / \"fragments\" / \"t\" / \"data.parquet\")"
   ]
  },
  {
   "cell_type": "code",
   "execution_count": 38,
   "metadata": {},
   "outputs": [],
   "source": [
    "for file in list((base / \"fragments\" / \"tmax\").glob(\"*.zip\")) + list((base / \"fragments\" / \"tmin\").glob(\"*.zip\")):\n",
    "    if not is_zipfile(file):\n",
    "        print(f\"Error in {file}\")\n",
    "pl.concat(\n",
    "    [pl_read_annali(file) for file in list((base / \"fragments\" / \"tmax\").glob(\"*.zip\")) + list((base / \"fragments\" / \"tmin\").glob(\"*.zip\"))], how=\"vertical\"\n",
    ").write_parquet(base / \"fragments\" / \"annali.parquet\")\n",
    "data = pl.read_parquet(base / \"fragments\" / \"annali.parquet\")"
   ]
  },
  {
   "cell_type": "code",
   "execution_count": 10,
   "metadata": {},
   "outputs": [],
   "source": [
    "frags = list((base / \"fragments\").glob(\"*.zip\"))"
   ]
  },
  {
   "cell_type": "code",
   "execution_count": 57,
   "metadata": {},
   "outputs": [],
   "source": [
    "for file in list((base / \"fragments_subhour\").glob(\"*.zip\")):\n",
    "    if not is_zipfile(file):\n",
    "        print(f\"Error in {file}\")\n",
    "    pl_read_subhour(file).write_parquet(\n",
    "        base / \"fragments_subhour\" / \"dataset\" / f\"{file.stem}.parquet\"\n",
    "    )\n",
    "\n",
    "# pl.concat(\n",
    "#     [pl_read_subhour(file) for file in (base / \"fragments\").glob(\"*.zip\")], how=\"vertical\"\n",
    "# ).write_parquet(base / \"fragments\" / \"data.parquet\")"
   ]
  },
  {
   "cell_type": "code",
   "execution_count": 27,
   "metadata": {},
   "outputs": [],
   "source": [
    "to_redwn = (\n",
    "    data.filter(\n",
    "        ((pl.col(\"value_TMIN\").is_null() & pl.col(\"value_TMAX\").is_null())\n",
    "        & pl.col(\"value_TAVG\").is_not_null()) | (pl.col(\"value_TMIN\") >= pl.col(\"value_TMAX\"))\n",
    "    )[\"original_id\"]\n",
    "    .unique()\n",
    "    .to_list()\n",
    ")"
   ]
  },
  {
   "cell_type": "code",
   "execution_count": 31,
   "metadata": {},
   "outputs": [
    {
     "data": {
      "application/vnd.jupyter.widget-view+json": {
       "model_id": "282d16efa2ff4d5381470f18eba6c051",
       "version_major": 2,
       "version_minor": 0
      },
      "text/plain": [
       "  0%|          | 0/44 [00:00<?, ?it/s]"
      ]
     },
     "metadata": {},
     "output_type": "display_data"
    },
    {
     "ename": "KeyboardInterrupt",
     "evalue": "",
     "output_type": "error",
     "traceback": [
      "\u001b[0;31m---------------------------------------------------------------------------\u001b[0m",
      "\u001b[0;31mKeyboardInterrupt\u001b[0m                         Traceback (most recent call last)",
      "Cell \u001b[0;32mIn[31], line 6\u001b[0m\n\u001b[1;32m      4\u001b[0m     \u001b[38;5;28;01mcontinue\u001b[39;00m\n\u001b[1;32m      5\u001b[0m \u001b[38;5;28;01mtry\u001b[39;00m:\n\u001b[0;32m----> 6\u001b[0m     \u001b[43mdownload_data\u001b[49m\u001b[43m(\u001b[49m\n\u001b[1;32m      7\u001b[0m \u001b[43m        \u001b[49m\u001b[43msid\u001b[49m\u001b[43m,\u001b[49m\u001b[43m \u001b[49m\u001b[38;5;124;43m\"\u001b[39;49m\u001b[38;5;124;43mt\u001b[39;49m\u001b[38;5;124;43m\"\u001b[39;49m\u001b[43m,\u001b[49m\u001b[43m \u001b[49m\u001b[43mpath\u001b[49m\u001b[43m,\u001b[49m\u001b[43m \u001b[49m\u001b[38;5;124;43m\"\u001b[39;49m\u001b[38;5;124;43m01/01/2000\u001b[39;49m\u001b[38;5;124;43m\"\u001b[39;49m\u001b[43m,\u001b[49m\u001b[43m \u001b[49m\u001b[38;5;124;43m\"\u001b[39;49m\u001b[38;5;124;43m01/01/2023\u001b[39;49m\u001b[38;5;124;43m\"\u001b[39;49m\u001b[43m,\u001b[49m\u001b[43m \u001b[49m\u001b[43mpayload_fn\u001b[49m\u001b[38;5;241;43m=\u001b[39;49m\u001b[43mpayload_subhour\u001b[49m\u001b[43m,\u001b[49m\u001b[43m \u001b[49m\u001b[43mtout\u001b[49m\u001b[38;5;241;43m=\u001b[39;49m\u001b[38;5;241;43m300\u001b[39;49m\n\u001b[1;32m      8\u001b[0m \u001b[43m    \u001b[49m\u001b[43m)\u001b[49m\n\u001b[1;32m      9\u001b[0m \u001b[38;5;28;01mexcept\u001b[39;00m \u001b[38;5;167;01mException\u001b[39;00m \u001b[38;5;28;01mas\u001b[39;00m e:\n\u001b[1;32m     10\u001b[0m     \u001b[38;5;28mprint\u001b[39m(\u001b[38;5;124mf\u001b[39m\u001b[38;5;124m\"\u001b[39m\u001b[38;5;124mError with \u001b[39m\u001b[38;5;132;01m{\u001b[39;00msid\u001b[38;5;132;01m}\u001b[39;00m\u001b[38;5;124m: \u001b[39m\u001b[38;5;132;01m{\u001b[39;00me\u001b[38;5;132;01m}\u001b[39;00m\u001b[38;5;124m. Continuing...\u001b[39m\u001b[38;5;124m\"\u001b[39m)\n",
      "Cell \u001b[0;32mIn[26], line 46\u001b[0m, in \u001b[0;36mdownload_data\u001b[0;34m(cod_stazione, tvar, path, data_inizio, data_fine, payload_fn, tout)\u001b[0m\n\u001b[1;32m     36\u001b[0m \u001b[38;5;28;01mdef\u001b[39;00m \u001b[38;5;21mdownload_data\u001b[39m(\n\u001b[1;32m     37\u001b[0m     cod_stazione,\n\u001b[1;32m     38\u001b[0m     tvar,\n\u001b[0;32m   (...)\u001b[0m\n\u001b[1;32m     43\u001b[0m     tout\u001b[38;5;241m=\u001b[39m\u001b[38;5;241m120\u001b[39m,\n\u001b[1;32m     44\u001b[0m ):\n\u001b[1;32m     45\u001b[0m     \u001b[38;5;28;01mwith\u001b[39;00m requests\u001b[38;5;241m.\u001b[39mSession() \u001b[38;5;28;01mas\u001b[39;00m s:\n\u001b[0;32m---> 46\u001b[0m         r \u001b[38;5;241m=\u001b[39m \u001b[43ms\u001b[49m\u001b[38;5;241;43m.\u001b[39;49m\u001b[43mget\u001b[49m\u001b[43m(\u001b[49m\n\u001b[1;32m     47\u001b[0m \u001b[43m            \u001b[49m\u001b[43mbase_url\u001b[49m\u001b[43m,\u001b[49m\n\u001b[1;32m     48\u001b[0m \u001b[43m            \u001b[49m\u001b[43mparams\u001b[49m\u001b[38;5;241;43m=\u001b[39;49m\u001b[43mpayload_fn\u001b[49m\u001b[43m(\u001b[49m\u001b[43mcod_stazione\u001b[49m\u001b[43m,\u001b[49m\u001b[43m \u001b[49m\u001b[43mtvar\u001b[49m\u001b[43m,\u001b[49m\u001b[43m \u001b[49m\u001b[43mdata_inizio\u001b[49m\u001b[43m,\u001b[49m\u001b[43m \u001b[49m\u001b[43mdata_fine\u001b[49m\u001b[43m)\u001b[49m\u001b[43m,\u001b[49m\n\u001b[1;32m     49\u001b[0m \u001b[43m            \u001b[49m\u001b[43mtimeout\u001b[49m\u001b[38;5;241;43m=\u001b[39;49m\u001b[43mtout\u001b[49m\u001b[43m,\u001b[49m\n\u001b[1;32m     50\u001b[0m \u001b[43m        \u001b[49m\u001b[43m)\u001b[49m\n\u001b[1;32m     51\u001b[0m         archive_url \u001b[38;5;241m=\u001b[39m re\u001b[38;5;241m.\u001b[39msearch(\u001b[38;5;124mr\u001b[39m\u001b[38;5;124m\"\u001b[39m\u001b[38;5;124m(http://.+.zip\u001b[39m\u001b[38;5;124m\\\u001b[39m\u001b[38;5;124m?\u001b[39m\u001b[38;5;124m\\\u001b[39m\u001b[38;5;124md+)\u001b[39m\u001b[38;5;124m\"\u001b[39m, r\u001b[38;5;241m.\u001b[39mtext)\u001b[38;5;241m.\u001b[39mgroup(\u001b[38;5;241m0\u001b[39m)\n\u001b[1;32m     52\u001b[0m         \u001b[38;5;28;01mwith\u001b[39;00m s\u001b[38;5;241m.\u001b[39mget(archive_url, stream\u001b[38;5;241m=\u001b[39m\u001b[38;5;28;01mTrue\u001b[39;00m) \u001b[38;5;28;01mas\u001b[39;00m archive:\n",
      "File \u001b[0;32m~/mambaforge/envs/tesi/lib/python3.12/site-packages/requests/sessions.py:602\u001b[0m, in \u001b[0;36mSession.get\u001b[0;34m(self, url, **kwargs)\u001b[0m\n\u001b[1;32m    594\u001b[0m \u001b[38;5;250m\u001b[39m\u001b[38;5;124mr\u001b[39m\u001b[38;5;124;03m\"\"\"Sends a GET request. Returns :class:`Response` object.\u001b[39;00m\n\u001b[1;32m    595\u001b[0m \n\u001b[1;32m    596\u001b[0m \u001b[38;5;124;03m:param url: URL for the new :class:`Request` object.\u001b[39;00m\n\u001b[1;32m    597\u001b[0m \u001b[38;5;124;03m:param \\*\\*kwargs: Optional arguments that ``request`` takes.\u001b[39;00m\n\u001b[1;32m    598\u001b[0m \u001b[38;5;124;03m:rtype: requests.Response\u001b[39;00m\n\u001b[1;32m    599\u001b[0m \u001b[38;5;124;03m\"\"\"\u001b[39;00m\n\u001b[1;32m    601\u001b[0m kwargs\u001b[38;5;241m.\u001b[39msetdefault(\u001b[38;5;124m\"\u001b[39m\u001b[38;5;124mallow_redirects\u001b[39m\u001b[38;5;124m\"\u001b[39m, \u001b[38;5;28;01mTrue\u001b[39;00m)\n\u001b[0;32m--> 602\u001b[0m \u001b[38;5;28;01mreturn\u001b[39;00m \u001b[38;5;28;43mself\u001b[39;49m\u001b[38;5;241;43m.\u001b[39;49m\u001b[43mrequest\u001b[49m\u001b[43m(\u001b[49m\u001b[38;5;124;43m\"\u001b[39;49m\u001b[38;5;124;43mGET\u001b[39;49m\u001b[38;5;124;43m\"\u001b[39;49m\u001b[43m,\u001b[49m\u001b[43m \u001b[49m\u001b[43murl\u001b[49m\u001b[43m,\u001b[49m\u001b[43m \u001b[49m\u001b[38;5;241;43m*\u001b[39;49m\u001b[38;5;241;43m*\u001b[39;49m\u001b[43mkwargs\u001b[49m\u001b[43m)\u001b[49m\n",
      "File \u001b[0;32m~/mambaforge/envs/tesi/lib/python3.12/site-packages/requests/sessions.py:589\u001b[0m, in \u001b[0;36mSession.request\u001b[0;34m(self, method, url, params, data, headers, cookies, files, auth, timeout, allow_redirects, proxies, hooks, stream, verify, cert, json)\u001b[0m\n\u001b[1;32m    584\u001b[0m send_kwargs \u001b[38;5;241m=\u001b[39m {\n\u001b[1;32m    585\u001b[0m     \u001b[38;5;124m\"\u001b[39m\u001b[38;5;124mtimeout\u001b[39m\u001b[38;5;124m\"\u001b[39m: timeout,\n\u001b[1;32m    586\u001b[0m     \u001b[38;5;124m\"\u001b[39m\u001b[38;5;124mallow_redirects\u001b[39m\u001b[38;5;124m\"\u001b[39m: allow_redirects,\n\u001b[1;32m    587\u001b[0m }\n\u001b[1;32m    588\u001b[0m send_kwargs\u001b[38;5;241m.\u001b[39mupdate(settings)\n\u001b[0;32m--> 589\u001b[0m resp \u001b[38;5;241m=\u001b[39m \u001b[38;5;28;43mself\u001b[39;49m\u001b[38;5;241;43m.\u001b[39;49m\u001b[43msend\u001b[49m\u001b[43m(\u001b[49m\u001b[43mprep\u001b[49m\u001b[43m,\u001b[49m\u001b[43m \u001b[49m\u001b[38;5;241;43m*\u001b[39;49m\u001b[38;5;241;43m*\u001b[39;49m\u001b[43msend_kwargs\u001b[49m\u001b[43m)\u001b[49m\n\u001b[1;32m    591\u001b[0m \u001b[38;5;28;01mreturn\u001b[39;00m resp\n",
      "File \u001b[0;32m~/mambaforge/envs/tesi/lib/python3.12/site-packages/requests/sessions.py:703\u001b[0m, in \u001b[0;36mSession.send\u001b[0;34m(self, request, **kwargs)\u001b[0m\n\u001b[1;32m    700\u001b[0m start \u001b[38;5;241m=\u001b[39m preferred_clock()\n\u001b[1;32m    702\u001b[0m \u001b[38;5;66;03m# Send the request\u001b[39;00m\n\u001b[0;32m--> 703\u001b[0m r \u001b[38;5;241m=\u001b[39m \u001b[43madapter\u001b[49m\u001b[38;5;241;43m.\u001b[39;49m\u001b[43msend\u001b[49m\u001b[43m(\u001b[49m\u001b[43mrequest\u001b[49m\u001b[43m,\u001b[49m\u001b[43m \u001b[49m\u001b[38;5;241;43m*\u001b[39;49m\u001b[38;5;241;43m*\u001b[39;49m\u001b[43mkwargs\u001b[49m\u001b[43m)\u001b[49m\n\u001b[1;32m    705\u001b[0m \u001b[38;5;66;03m# Total elapsed time of the request (approximately)\u001b[39;00m\n\u001b[1;32m    706\u001b[0m elapsed \u001b[38;5;241m=\u001b[39m preferred_clock() \u001b[38;5;241m-\u001b[39m start\n",
      "File \u001b[0;32m~/mambaforge/envs/tesi/lib/python3.12/site-packages/requests/adapters.py:486\u001b[0m, in \u001b[0;36mHTTPAdapter.send\u001b[0;34m(self, request, stream, timeout, verify, cert, proxies)\u001b[0m\n\u001b[1;32m    483\u001b[0m     timeout \u001b[38;5;241m=\u001b[39m TimeoutSauce(connect\u001b[38;5;241m=\u001b[39mtimeout, read\u001b[38;5;241m=\u001b[39mtimeout)\n\u001b[1;32m    485\u001b[0m \u001b[38;5;28;01mtry\u001b[39;00m:\n\u001b[0;32m--> 486\u001b[0m     resp \u001b[38;5;241m=\u001b[39m \u001b[43mconn\u001b[49m\u001b[38;5;241;43m.\u001b[39;49m\u001b[43murlopen\u001b[49m\u001b[43m(\u001b[49m\n\u001b[1;32m    487\u001b[0m \u001b[43m        \u001b[49m\u001b[43mmethod\u001b[49m\u001b[38;5;241;43m=\u001b[39;49m\u001b[43mrequest\u001b[49m\u001b[38;5;241;43m.\u001b[39;49m\u001b[43mmethod\u001b[49m\u001b[43m,\u001b[49m\n\u001b[1;32m    488\u001b[0m \u001b[43m        \u001b[49m\u001b[43murl\u001b[49m\u001b[38;5;241;43m=\u001b[39;49m\u001b[43murl\u001b[49m\u001b[43m,\u001b[49m\n\u001b[1;32m    489\u001b[0m \u001b[43m        \u001b[49m\u001b[43mbody\u001b[49m\u001b[38;5;241;43m=\u001b[39;49m\u001b[43mrequest\u001b[49m\u001b[38;5;241;43m.\u001b[39;49m\u001b[43mbody\u001b[49m\u001b[43m,\u001b[49m\n\u001b[1;32m    490\u001b[0m \u001b[43m        \u001b[49m\u001b[43mheaders\u001b[49m\u001b[38;5;241;43m=\u001b[39;49m\u001b[43mrequest\u001b[49m\u001b[38;5;241;43m.\u001b[39;49m\u001b[43mheaders\u001b[49m\u001b[43m,\u001b[49m\n\u001b[1;32m    491\u001b[0m \u001b[43m        \u001b[49m\u001b[43mredirect\u001b[49m\u001b[38;5;241;43m=\u001b[39;49m\u001b[38;5;28;43;01mFalse\u001b[39;49;00m\u001b[43m,\u001b[49m\n\u001b[1;32m    492\u001b[0m \u001b[43m        \u001b[49m\u001b[43massert_same_host\u001b[49m\u001b[38;5;241;43m=\u001b[39;49m\u001b[38;5;28;43;01mFalse\u001b[39;49;00m\u001b[43m,\u001b[49m\n\u001b[1;32m    493\u001b[0m \u001b[43m        \u001b[49m\u001b[43mpreload_content\u001b[49m\u001b[38;5;241;43m=\u001b[39;49m\u001b[38;5;28;43;01mFalse\u001b[39;49;00m\u001b[43m,\u001b[49m\n\u001b[1;32m    494\u001b[0m \u001b[43m        \u001b[49m\u001b[43mdecode_content\u001b[49m\u001b[38;5;241;43m=\u001b[39;49m\u001b[38;5;28;43;01mFalse\u001b[39;49;00m\u001b[43m,\u001b[49m\n\u001b[1;32m    495\u001b[0m \u001b[43m        \u001b[49m\u001b[43mretries\u001b[49m\u001b[38;5;241;43m=\u001b[39;49m\u001b[38;5;28;43mself\u001b[39;49m\u001b[38;5;241;43m.\u001b[39;49m\u001b[43mmax_retries\u001b[49m\u001b[43m,\u001b[49m\n\u001b[1;32m    496\u001b[0m \u001b[43m        \u001b[49m\u001b[43mtimeout\u001b[49m\u001b[38;5;241;43m=\u001b[39;49m\u001b[43mtimeout\u001b[49m\u001b[43m,\u001b[49m\n\u001b[1;32m    497\u001b[0m \u001b[43m        \u001b[49m\u001b[43mchunked\u001b[49m\u001b[38;5;241;43m=\u001b[39;49m\u001b[43mchunked\u001b[49m\u001b[43m,\u001b[49m\n\u001b[1;32m    498\u001b[0m \u001b[43m    \u001b[49m\u001b[43m)\u001b[49m\n\u001b[1;32m    500\u001b[0m \u001b[38;5;28;01mexcept\u001b[39;00m (ProtocolError, \u001b[38;5;167;01mOSError\u001b[39;00m) \u001b[38;5;28;01mas\u001b[39;00m err:\n\u001b[1;32m    501\u001b[0m     \u001b[38;5;28;01mraise\u001b[39;00m \u001b[38;5;167;01mConnectionError\u001b[39;00m(err, request\u001b[38;5;241m=\u001b[39mrequest)\n",
      "File \u001b[0;32m~/mambaforge/envs/tesi/lib/python3.12/site-packages/urllib3/connectionpool.py:790\u001b[0m, in \u001b[0;36mHTTPConnectionPool.urlopen\u001b[0;34m(self, method, url, body, headers, retries, redirect, assert_same_host, timeout, pool_timeout, release_conn, chunked, body_pos, preload_content, decode_content, **response_kw)\u001b[0m\n\u001b[1;32m    787\u001b[0m response_conn \u001b[38;5;241m=\u001b[39m conn \u001b[38;5;28;01mif\u001b[39;00m \u001b[38;5;129;01mnot\u001b[39;00m release_conn \u001b[38;5;28;01melse\u001b[39;00m \u001b[38;5;28;01mNone\u001b[39;00m\n\u001b[1;32m    789\u001b[0m \u001b[38;5;66;03m# Make the request on the HTTPConnection object\u001b[39;00m\n\u001b[0;32m--> 790\u001b[0m response \u001b[38;5;241m=\u001b[39m \u001b[38;5;28;43mself\u001b[39;49m\u001b[38;5;241;43m.\u001b[39;49m\u001b[43m_make_request\u001b[49m\u001b[43m(\u001b[49m\n\u001b[1;32m    791\u001b[0m \u001b[43m    \u001b[49m\u001b[43mconn\u001b[49m\u001b[43m,\u001b[49m\n\u001b[1;32m    792\u001b[0m \u001b[43m    \u001b[49m\u001b[43mmethod\u001b[49m\u001b[43m,\u001b[49m\n\u001b[1;32m    793\u001b[0m \u001b[43m    \u001b[49m\u001b[43murl\u001b[49m\u001b[43m,\u001b[49m\n\u001b[1;32m    794\u001b[0m \u001b[43m    \u001b[49m\u001b[43mtimeout\u001b[49m\u001b[38;5;241;43m=\u001b[39;49m\u001b[43mtimeout_obj\u001b[49m\u001b[43m,\u001b[49m\n\u001b[1;32m    795\u001b[0m \u001b[43m    \u001b[49m\u001b[43mbody\u001b[49m\u001b[38;5;241;43m=\u001b[39;49m\u001b[43mbody\u001b[49m\u001b[43m,\u001b[49m\n\u001b[1;32m    796\u001b[0m \u001b[43m    \u001b[49m\u001b[43mheaders\u001b[49m\u001b[38;5;241;43m=\u001b[39;49m\u001b[43mheaders\u001b[49m\u001b[43m,\u001b[49m\n\u001b[1;32m    797\u001b[0m \u001b[43m    \u001b[49m\u001b[43mchunked\u001b[49m\u001b[38;5;241;43m=\u001b[39;49m\u001b[43mchunked\u001b[49m\u001b[43m,\u001b[49m\n\u001b[1;32m    798\u001b[0m \u001b[43m    \u001b[49m\u001b[43mretries\u001b[49m\u001b[38;5;241;43m=\u001b[39;49m\u001b[43mretries\u001b[49m\u001b[43m,\u001b[49m\n\u001b[1;32m    799\u001b[0m \u001b[43m    \u001b[49m\u001b[43mresponse_conn\u001b[49m\u001b[38;5;241;43m=\u001b[39;49m\u001b[43mresponse_conn\u001b[49m\u001b[43m,\u001b[49m\n\u001b[1;32m    800\u001b[0m \u001b[43m    \u001b[49m\u001b[43mpreload_content\u001b[49m\u001b[38;5;241;43m=\u001b[39;49m\u001b[43mpreload_content\u001b[49m\u001b[43m,\u001b[49m\n\u001b[1;32m    801\u001b[0m \u001b[43m    \u001b[49m\u001b[43mdecode_content\u001b[49m\u001b[38;5;241;43m=\u001b[39;49m\u001b[43mdecode_content\u001b[49m\u001b[43m,\u001b[49m\n\u001b[1;32m    802\u001b[0m \u001b[43m    \u001b[49m\u001b[38;5;241;43m*\u001b[39;49m\u001b[38;5;241;43m*\u001b[39;49m\u001b[43mresponse_kw\u001b[49m\u001b[43m,\u001b[49m\n\u001b[1;32m    803\u001b[0m \u001b[43m\u001b[49m\u001b[43m)\u001b[49m\n\u001b[1;32m    805\u001b[0m \u001b[38;5;66;03m# Everything went great!\u001b[39;00m\n\u001b[1;32m    806\u001b[0m clean_exit \u001b[38;5;241m=\u001b[39m \u001b[38;5;28;01mTrue\u001b[39;00m\n",
      "File \u001b[0;32m~/mambaforge/envs/tesi/lib/python3.12/site-packages/urllib3/connectionpool.py:536\u001b[0m, in \u001b[0;36mHTTPConnectionPool._make_request\u001b[0;34m(self, conn, method, url, body, headers, retries, timeout, chunked, response_conn, preload_content, decode_content, enforce_content_length)\u001b[0m\n\u001b[1;32m    534\u001b[0m \u001b[38;5;66;03m# Receive the response from the server\u001b[39;00m\n\u001b[1;32m    535\u001b[0m \u001b[38;5;28;01mtry\u001b[39;00m:\n\u001b[0;32m--> 536\u001b[0m     response \u001b[38;5;241m=\u001b[39m \u001b[43mconn\u001b[49m\u001b[38;5;241;43m.\u001b[39;49m\u001b[43mgetresponse\u001b[49m\u001b[43m(\u001b[49m\u001b[43m)\u001b[49m\n\u001b[1;32m    537\u001b[0m \u001b[38;5;28;01mexcept\u001b[39;00m (BaseSSLError, \u001b[38;5;167;01mOSError\u001b[39;00m) \u001b[38;5;28;01mas\u001b[39;00m e:\n\u001b[1;32m    538\u001b[0m     \u001b[38;5;28mself\u001b[39m\u001b[38;5;241m.\u001b[39m_raise_timeout(err\u001b[38;5;241m=\u001b[39me, url\u001b[38;5;241m=\u001b[39murl, timeout_value\u001b[38;5;241m=\u001b[39mread_timeout)\n",
      "File \u001b[0;32m~/mambaforge/envs/tesi/lib/python3.12/site-packages/urllib3/connection.py:461\u001b[0m, in \u001b[0;36mHTTPConnection.getresponse\u001b[0;34m(self)\u001b[0m\n\u001b[1;32m    458\u001b[0m \u001b[38;5;28;01mfrom\u001b[39;00m \u001b[38;5;21;01m.\u001b[39;00m\u001b[38;5;21;01mresponse\u001b[39;00m \u001b[38;5;28;01mimport\u001b[39;00m HTTPResponse\n\u001b[1;32m    460\u001b[0m \u001b[38;5;66;03m# Get the response from http.client.HTTPConnection\u001b[39;00m\n\u001b[0;32m--> 461\u001b[0m httplib_response \u001b[38;5;241m=\u001b[39m \u001b[38;5;28;43msuper\u001b[39;49m\u001b[43m(\u001b[49m\u001b[43m)\u001b[49m\u001b[38;5;241;43m.\u001b[39;49m\u001b[43mgetresponse\u001b[49m\u001b[43m(\u001b[49m\u001b[43m)\u001b[49m\n\u001b[1;32m    463\u001b[0m \u001b[38;5;28;01mtry\u001b[39;00m:\n\u001b[1;32m    464\u001b[0m     assert_header_parsing(httplib_response\u001b[38;5;241m.\u001b[39mmsg)\n",
      "File \u001b[0;32m~/mambaforge/envs/tesi/lib/python3.12/http/client.py:1419\u001b[0m, in \u001b[0;36mHTTPConnection.getresponse\u001b[0;34m(self)\u001b[0m\n\u001b[1;32m   1417\u001b[0m \u001b[38;5;28;01mtry\u001b[39;00m:\n\u001b[1;32m   1418\u001b[0m     \u001b[38;5;28;01mtry\u001b[39;00m:\n\u001b[0;32m-> 1419\u001b[0m         \u001b[43mresponse\u001b[49m\u001b[38;5;241;43m.\u001b[39;49m\u001b[43mbegin\u001b[49m\u001b[43m(\u001b[49m\u001b[43m)\u001b[49m\n\u001b[1;32m   1420\u001b[0m     \u001b[38;5;28;01mexcept\u001b[39;00m \u001b[38;5;167;01mConnectionError\u001b[39;00m:\n\u001b[1;32m   1421\u001b[0m         \u001b[38;5;28mself\u001b[39m\u001b[38;5;241m.\u001b[39mclose()\n",
      "File \u001b[0;32m~/mambaforge/envs/tesi/lib/python3.12/http/client.py:331\u001b[0m, in \u001b[0;36mHTTPResponse.begin\u001b[0;34m(self)\u001b[0m\n\u001b[1;32m    329\u001b[0m \u001b[38;5;66;03m# read until we get a non-100 response\u001b[39;00m\n\u001b[1;32m    330\u001b[0m \u001b[38;5;28;01mwhile\u001b[39;00m \u001b[38;5;28;01mTrue\u001b[39;00m:\n\u001b[0;32m--> 331\u001b[0m     version, status, reason \u001b[38;5;241m=\u001b[39m \u001b[38;5;28;43mself\u001b[39;49m\u001b[38;5;241;43m.\u001b[39;49m\u001b[43m_read_status\u001b[49m\u001b[43m(\u001b[49m\u001b[43m)\u001b[49m\n\u001b[1;32m    332\u001b[0m     \u001b[38;5;28;01mif\u001b[39;00m status \u001b[38;5;241m!=\u001b[39m CONTINUE:\n\u001b[1;32m    333\u001b[0m         \u001b[38;5;28;01mbreak\u001b[39;00m\n",
      "File \u001b[0;32m~/mambaforge/envs/tesi/lib/python3.12/http/client.py:292\u001b[0m, in \u001b[0;36mHTTPResponse._read_status\u001b[0;34m(self)\u001b[0m\n\u001b[1;32m    291\u001b[0m \u001b[38;5;28;01mdef\u001b[39;00m \u001b[38;5;21m_read_status\u001b[39m(\u001b[38;5;28mself\u001b[39m):\n\u001b[0;32m--> 292\u001b[0m     line \u001b[38;5;241m=\u001b[39m \u001b[38;5;28mstr\u001b[39m(\u001b[38;5;28;43mself\u001b[39;49m\u001b[38;5;241;43m.\u001b[39;49m\u001b[43mfp\u001b[49m\u001b[38;5;241;43m.\u001b[39;49m\u001b[43mreadline\u001b[49m\u001b[43m(\u001b[49m\u001b[43m_MAXLINE\u001b[49m\u001b[43m \u001b[49m\u001b[38;5;241;43m+\u001b[39;49m\u001b[43m \u001b[49m\u001b[38;5;241;43m1\u001b[39;49m\u001b[43m)\u001b[49m, \u001b[38;5;124m\"\u001b[39m\u001b[38;5;124miso-8859-1\u001b[39m\u001b[38;5;124m\"\u001b[39m)\n\u001b[1;32m    293\u001b[0m     \u001b[38;5;28;01mif\u001b[39;00m \u001b[38;5;28mlen\u001b[39m(line) \u001b[38;5;241m>\u001b[39m _MAXLINE:\n\u001b[1;32m    294\u001b[0m         \u001b[38;5;28;01mraise\u001b[39;00m LineTooLong(\u001b[38;5;124m\"\u001b[39m\u001b[38;5;124mstatus line\u001b[39m\u001b[38;5;124m\"\u001b[39m)\n",
      "File \u001b[0;32m~/mambaforge/envs/tesi/lib/python3.12/socket.py:707\u001b[0m, in \u001b[0;36mSocketIO.readinto\u001b[0;34m(self, b)\u001b[0m\n\u001b[1;32m    705\u001b[0m \u001b[38;5;28;01mwhile\u001b[39;00m \u001b[38;5;28;01mTrue\u001b[39;00m:\n\u001b[1;32m    706\u001b[0m     \u001b[38;5;28;01mtry\u001b[39;00m:\n\u001b[0;32m--> 707\u001b[0m         \u001b[38;5;28;01mreturn\u001b[39;00m \u001b[38;5;28;43mself\u001b[39;49m\u001b[38;5;241;43m.\u001b[39;49m\u001b[43m_sock\u001b[49m\u001b[38;5;241;43m.\u001b[39;49m\u001b[43mrecv_into\u001b[49m\u001b[43m(\u001b[49m\u001b[43mb\u001b[49m\u001b[43m)\u001b[49m\n\u001b[1;32m    708\u001b[0m     \u001b[38;5;28;01mexcept\u001b[39;00m timeout:\n\u001b[1;32m    709\u001b[0m         \u001b[38;5;28mself\u001b[39m\u001b[38;5;241m.\u001b[39m_timeout_occurred \u001b[38;5;241m=\u001b[39m \u001b[38;5;28;01mTrue\u001b[39;00m\n",
      "\u001b[0;31mKeyboardInterrupt\u001b[0m: "
     ]
    }
   ],
   "source": [
    "for sid in tqdm(to_redwn):\n",
    "    path = subhour_fragment_path(sid)\n",
    "    if path.exists() and is_zipfile(path):\n",
    "        continue\n",
    "    try:\n",
    "        download_data(\n",
    "            sid, \"t\", path, \"01/01/2000\", \"01/01/2023\", payload_fn=payload_subhour, tout=300\n",
    "        )\n",
    "    except Exception as e:\n",
    "        print(f\"Error with {sid}: {e}. Continuing...\")\n",
    "    sleep(uniform(0.2, 1))"
   ]
  },
  {
   "cell_type": "code",
   "execution_count": null,
   "metadata": {},
   "outputs": [],
   "source": []
  }
 ],
 "metadata": {
  "kernelspec": {
   "display_name": "tesi",
   "language": "python",
   "name": "python3"
  },
  "language_info": {
   "codemirror_mode": {
    "name": "ipython",
    "version": 3
   },
   "file_extension": ".py",
   "mimetype": "text/x-python",
   "name": "python",
   "nbconvert_exporter": "python",
   "pygments_lexer": "ipython3",
   "version": "3.12.1"
  }
 },
 "nbformat": 4,
 "nbformat_minor": 2
}
