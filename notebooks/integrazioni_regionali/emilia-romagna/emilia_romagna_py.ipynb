{
 "cells": [
  {
   "cell_type": "code",
   "execution_count": null,
   "metadata": {},
   "outputs": [],
   "source": [
    "import json\n",
    "import polars as pl\n",
    "import polars.selectors as cs\n",
    "import pandas as pd\n",
    "from requests import Session\n",
    "from tqdm.notebook import tqdm, trange\n",
    "\n",
    "from pathlib import Path"
   ]
  },
  {
   "cell_type": "code",
   "execution_count": null,
   "metadata": {},
   "outputs": [],
   "source": [
    "base = Path(\"/Users/davidenicoli/Local_Workspace/Datasets/ARPA/EMILIA-ROMAGNA\")\n",
    "test = base / \"2016-01.json.gz\""
   ]
  },
  {
   "cell_type": "code",
   "execution_count": null,
   "metadata": {},
   "outputs": [],
   "source": [
    "def dwn_url(year, month):\n",
    "    return f\"https://dati-simc.arpae.it/opendata/osservati/meteo/storico/{year}-{month:02d}.json.gz\"\n",
    "\n",
    "\n",
    "def dwn_gen(session: Session):\n",
    "    for year in range(2006, 2024):\n",
    "        for month in range(1, 13):\n",
    "            tarball_url = dwn_url(year, month)\n",
    "            tarball_content = session.get(tarball_url).content\n",
    "            tarball_path = base / f\"{year}-{month:02d}.json.gz\"\n",
    "            with open(tarball_path, \"wb\") as tarball:\n",
    "                tarball.write(tarball_content)\n",
    "            yield tarball_path"
   ]
  },
  {
   "cell_type": "code",
   "execution_count": null,
   "metadata": {},
   "outputs": [],
   "source": [
    "with Session() as session:\n",
    "    dwned = list(dwn_gen(session))"
   ]
  },
  {
   "cell_type": "code",
   "execution_count": null,
   "metadata": {},
   "outputs": [],
   "source": [
    "import pyarrow.json as pjson\n",
    "\n",
    "d = pjson.read_json(test)"
   ]
  },
  {
   "cell_type": "code",
   "execution_count": null,
   "metadata": {},
   "outputs": [],
   "source": [
    "tab = pl.from_arrow(d)"
   ]
  },
  {
   "cell_type": "code",
   "execution_count": null,
   "metadata": {},
   "outputs": [],
   "source": [
    "exp = tab.explode(\"data\")"
   ]
  },
  {
   "cell_type": "code",
   "execution_count": null,
   "metadata": {},
   "outputs": [],
   "source": [
    "pl.from_arrow(pjson.read_json(test)).explode(\"data\").unnest(\"data\").unnest(\"vars\")"
   ]
  },
  {
   "cell_type": "code",
   "execution_count": null,
   "metadata": {},
   "outputs": [],
   "source": [
    "def decent_table(year, month):\n",
    "    tarball = base / f\"{year}-{month:02d}.json.gz\"\n",
    "    data = pl.from_arrow(pjson.read_json(tarball))\n",
    "    return (\n",
    "        data.explode(\"data\")\n",
    "        .unnest(\"data\")\n",
    "        .unnest(\"vars\")\n",
    "        .with_columns(\n",
    "            pl.col(\"B01019\").struct.field(\"v\").alias(\"name\"),\n",
    "            pl.col(\"B12101\").struct.field(\"v\").alias(\"T\"),\n",
    "            pl.col(\"B01001\").struct.field(\"v\").alias(\"WMO_block\"),\n",
    "            pl.col(\"B01002\").struct.field(\"v\").alias(\"WMO_num\"),\n",
    "            # pl.col(\"B05001\").struct.field(\"v\").alias(\"lat\"),\n",
    "            # pl.col(\"B06001\").struct.field(\"v\").alias(\"lon\"),\n",
    "            pl.col(\"B07030\").struct.field(\"v\").alias(\"elevation\"),\n",
    "        )\n",
    "        .select(\n",
    "            \"network\",\n",
    "            \"lon\",\n",
    "            \"lat\",\n",
    "            \"elevation\",\n",
    "            \"date\",\n",
    "            \"name\",\n",
    "            \"T\",\n",
    "            cs.starts_with(\"WMO\"),\n",
    "            \"timerange\",\n",
    "            \"level\",\n",
    "        )\n",
    "        .drop(\"B01019\", \"B12101\")\n",
    "        .filter(pl.col(\"name\").is_not_null() | pl.col(\"T\").is_not_null())\n",
    "        .with_columns(\n",
    "            cs.by_name(\"name\", \"T\").fill_null(strategy=\"forward\"),\n",
    "        )\n",
    "        .drop_nulls(\"T\")\n",
    "        .with_columns(\n",
    "            pl.col(\"level\").list.first().alias(\"level_code\"),\n",
    "            pl.col(\"level\").list.get(1).alias(\"level_value\"),\n",
    "            pl.col(\"timerange\").list.first().alias(\"variable\"),\n",
    "            pl.col(\"timerange\").list.get(1).alias(\"delValidity\"),\n",
    "            pl.col(\"timerange\").list.get(2).alias(\"statDuration\"),\n",
    "        )\n",
    "        .drop(\"level\", \"timerange\")\n",
    "        .group_by(\"network\", \"name\", pl.col(\"date\").dt.date())\n",
    "        .agg(\n",
    "            pl.col(\"T\").min().alias(\"T_MIN\"),\n",
    "            pl.col(\"T\").max().alias(\"T_MAX\"),\n",
    "            pl.col(\"lon\").drop_nulls().mode(),\n",
    "            pl.col(\"lat\").drop_nulls().mode(),\n",
    "            pl.col(\"elevation\").drop_nulls().mode(),\n",
    "            pl.col(\"WMO_block\").drop_nulls().first(),\n",
    "            pl.col(\"WMO_num\").drop_nulls().first()\n",
    "        )\n",
    "        .sort(\"name\", \"date\")\n",
    "        .melt(\n",
    "            id_vars=[\n",
    "                cs.starts_with(\"WMO\"),\n",
    "                \"lon\",\n",
    "                \"lat\",\n",
    "                \"elevation\",\n",
    "                \"name\",\n",
    "                \"network\",\n",
    "                \"date\",\n",
    "            ],\n",
    "            value_vars=[\"T_MIN\", \"T_MAX\"],\n",
    "        )\n",
    "    )"
   ]
  },
  {
   "cell_type": "code",
   "execution_count": null,
   "metadata": {},
   "outputs": [],
   "source": [
    "for year in trange(2006, 2024):\n",
    "    for month in trange(1, 13, leave=False):\n",
    "        if not (base / \"dataset\" / f\"{year}-{month:02d}.arrow\").exists():\n",
    "            (\n",
    "                decent_table(year, month)\n",
    "                .with_columns(\n",
    "                    pl.col(\"lon\").list.first(),\n",
    "                    pl.col(\"lat\").list.first(),\n",
    "                    pl.col(\"elevation\").list.first(),\n",
    "                )\n",
    "                .cast(\n",
    "                    {\n",
    "                        \"lon\": pl.Int32(),\n",
    "                        \"lat\": pl.Int32(),\n",
    "                        \"elevation\": pl.Float32(),\n",
    "                        \"name\": pl.Utf8(),\n",
    "                        \"network\": pl.Utf8(),\n",
    "                        \"variable\": pl.Utf8(),\n",
    "                        \"value\": pl.Float32(),\n",
    "                    }\n",
    "                )\n",
    "                .write_ipc(base / \"dataset\" / f\"{year}-{month:02d}.arrow\")\n",
    "            )"
   ]
  },
  {
   "cell_type": "code",
   "execution_count": null,
   "metadata": {},
   "outputs": [],
   "source": [
    "dt = decent_table(2006, 1).sort(\"name\", \"date\")"
   ]
  },
  {
   "cell_type": "code",
   "execution_count": null,
   "metadata": {},
   "outputs": [],
   "source": []
  }
 ],
 "metadata": {
  "kernelspec": {
   "display_name": "arrow",
   "language": "python",
   "name": "python3"
  },
  "language_info": {
   "codemirror_mode": {
    "name": "ipython",
    "version": 3
   },
   "file_extension": ".py",
   "mimetype": "text/x-python",
   "name": "python",
   "nbconvert_exporter": "python",
   "pygments_lexer": "ipython3",
   "version": "3.11.6"
  }
 },
 "nbformat": 4,
 "nbformat_minor": 2
}
