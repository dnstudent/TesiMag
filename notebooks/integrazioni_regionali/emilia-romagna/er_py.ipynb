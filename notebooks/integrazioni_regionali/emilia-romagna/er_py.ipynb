{
 "cells": [
  {
   "cell_type": "code",
   "execution_count": 2,
   "metadata": {},
   "outputs": [],
   "source": [
    "import json\n",
    "import polars as pl\n",
    "import pandas as pd\n",
    "\n",
    "from pathlib import Path"
   ]
  },
  {
   "cell_type": "code",
   "execution_count": 6,
   "metadata": {},
   "outputs": [],
   "source": [
    "base = Path(\"/Users/davidenicoli/Local_Workspace/Datasets/ARPA/EMILIA-ROMAGNA\")\n",
    "test = base / \"2016-01.json\""
   ]
  },
  {
   "cell_type": "code",
   "execution_count": 9,
   "metadata": {},
   "outputs": [],
   "source": [
    "with open(test, \"rt\") as f:\n",
    "    content = f.readlines()"
   ]
  },
  {
   "cell_type": "code",
   "execution_count": 16,
   "metadata": {},
   "outputs": [
    {
     "ename": "RuntimeError",
     "evalue": "BindingsError: \"InternalError at character 1535 ('}')\"",
     "output_type": "error",
     "traceback": [
      "\u001b[0;31m---------------------------------------------------------------------------\u001b[0m",
      "\u001b[0;31mRuntimeError\u001b[0m                              Traceback (most recent call last)",
      "\u001b[0;32m/var/folders/v8/rkcmmnk1069061z11pxj_qzr0000gn/T/ipykernel_11363/1003258672.py\u001b[0m in \u001b[0;36m?\u001b[0;34m()\u001b[0m\n\u001b[1;32m      1\u001b[0m \u001b[0;32mfrom\u001b[0m \u001b[0mio\u001b[0m \u001b[0;32mimport\u001b[0m \u001b[0mStringIO\u001b[0m\u001b[0;34m\u001b[0m\u001b[0;34m\u001b[0m\u001b[0m\n\u001b[0;32m----> 2\u001b[0;31m \u001b[0mpl\u001b[0m\u001b[0;34m.\u001b[0m\u001b[0mread_json\u001b[0m\u001b[0;34m(\u001b[0m\u001b[0mtest\u001b[0m\u001b[0;34m)\u001b[0m\u001b[0;34m\u001b[0m\u001b[0;34m\u001b[0m\u001b[0m\n\u001b[0m",
      "\u001b[0;32m~/mambaforge/envs/arrow/lib/python3.11/site-packages/polars/io/json.py\u001b[0m in \u001b[0;36m?\u001b[0;34m(source, infer_schema_length, schema, schema_overrides)\u001b[0m\n\u001b[1;32m     50\u001b[0m     \u001b[0;34m-\u001b[0m\u001b[0;34m-\u001b[0m\u001b[0;34m-\u001b[0m\u001b[0;34m-\u001b[0m\u001b[0;34m-\u001b[0m\u001b[0;34m-\u001b[0m\u001b[0;34m-\u001b[0m\u001b[0;34m-\u001b[0m\u001b[0;34m\u001b[0m\u001b[0;34m\u001b[0m\u001b[0m\n\u001b[1;32m     51\u001b[0m     \u001b[0mread_ndjson\u001b[0m\u001b[0;34m\u001b[0m\u001b[0;34m\u001b[0m\u001b[0m\n\u001b[1;32m     52\u001b[0m \u001b[0;34m\u001b[0m\u001b[0m\n\u001b[1;32m     53\u001b[0m     \"\"\"\n\u001b[0;32m---> 54\u001b[0;31m     return pl.DataFrame._read_json(\n\u001b[0m\u001b[1;32m     55\u001b[0m         \u001b[0msource\u001b[0m\u001b[0;34m,\u001b[0m\u001b[0;34m\u001b[0m\u001b[0;34m\u001b[0m\u001b[0m\n\u001b[1;32m     56\u001b[0m         \u001b[0minfer_schema_length\u001b[0m\u001b[0;34m=\u001b[0m\u001b[0minfer_schema_length\u001b[0m\u001b[0;34m,\u001b[0m\u001b[0;34m\u001b[0m\u001b[0;34m\u001b[0m\u001b[0m\n\u001b[1;32m     57\u001b[0m         \u001b[0mschema\u001b[0m\u001b[0;34m=\u001b[0m\u001b[0mschema\u001b[0m\u001b[0;34m,\u001b[0m\u001b[0;34m\u001b[0m\u001b[0;34m\u001b[0m\u001b[0m\n",
      "\u001b[0;32m~/mambaforge/envs/arrow/lib/python3.11/site-packages/polars/dataframe/frame.py\u001b[0m in \u001b[0;36m?\u001b[0;34m(cls, source, infer_schema_length, schema, schema_overrides)\u001b[0m\n\u001b[1;32m   1057\u001b[0m         \u001b[0;32melif\u001b[0m \u001b[0misinstance\u001b[0m\u001b[0;34m(\u001b[0m\u001b[0msource\u001b[0m\u001b[0;34m,\u001b[0m \u001b[0;34m(\u001b[0m\u001b[0mstr\u001b[0m\u001b[0;34m,\u001b[0m \u001b[0mPath\u001b[0m\u001b[0;34m)\u001b[0m\u001b[0;34m)\u001b[0m\u001b[0;34m:\u001b[0m\u001b[0;34m\u001b[0m\u001b[0;34m\u001b[0m\u001b[0m\n\u001b[1;32m   1058\u001b[0m             \u001b[0msource\u001b[0m \u001b[0;34m=\u001b[0m \u001b[0mnormalize_filepath\u001b[0m\u001b[0;34m(\u001b[0m\u001b[0msource\u001b[0m\u001b[0;34m)\u001b[0m\u001b[0;34m\u001b[0m\u001b[0;34m\u001b[0m\u001b[0m\n\u001b[1;32m   1059\u001b[0m \u001b[0;34m\u001b[0m\u001b[0m\n\u001b[1;32m   1060\u001b[0m         \u001b[0mself\u001b[0m \u001b[0;34m=\u001b[0m \u001b[0mcls\u001b[0m\u001b[0;34m.\u001b[0m\u001b[0m__new__\u001b[0m\u001b[0;34m(\u001b[0m\u001b[0mcls\u001b[0m\u001b[0;34m)\u001b[0m\u001b[0;34m\u001b[0m\u001b[0;34m\u001b[0m\u001b[0m\n\u001b[0;32m-> 1061\u001b[0;31m         self._df = PyDataFrame.read_json(\n\u001b[0m\u001b[1;32m   1062\u001b[0m             \u001b[0msource\u001b[0m\u001b[0;34m,\u001b[0m\u001b[0;34m\u001b[0m\u001b[0;34m\u001b[0m\u001b[0m\n\u001b[1;32m   1063\u001b[0m             \u001b[0minfer_schema_length\u001b[0m\u001b[0;34m=\u001b[0m\u001b[0minfer_schema_length\u001b[0m\u001b[0;34m,\u001b[0m\u001b[0;34m\u001b[0m\u001b[0;34m\u001b[0m\u001b[0m\n\u001b[1;32m   1064\u001b[0m             \u001b[0mschema\u001b[0m\u001b[0;34m=\u001b[0m\u001b[0mschema\u001b[0m\u001b[0;34m,\u001b[0m\u001b[0;34m\u001b[0m\u001b[0;34m\u001b[0m\u001b[0m\n",
      "\u001b[0;31mRuntimeError\u001b[0m: BindingsError: \"InternalError at character 1535 ('}')\""
     ]
    }
   ],
   "source": [
    "from io import StringIO\n",
    "pl.read_json(test)"
   ]
  },
  {
   "cell_type": "code",
   "execution_count": 13,
   "metadata": {},
   "outputs": [
    {
     "data": {
      "text/plain": [
       "{'version': '0.1',\n",
       " 'network': 'agrmet',\n",
       " 'ident': None,\n",
       " 'lon': 1050865,\n",
       " 'lat': 4447562,\n",
       " 'date': '2016-01-01T00:00:00Z',\n",
       " 'data': [{'vars': {'B01019': {'v': 'Carpineti'},\n",
       "    'B01194': {'v': 'agrmet'},\n",
       "    'B04001': {'v': 2016},\n",
       "    'B04002': {'v': 1},\n",
       "    'B04003': {'v': 1},\n",
       "    'B04004': {'v': 0},\n",
       "    'B04005': {'v': 0},\n",
       "    'B04006': {'v': 0},\n",
       "    'B05001': {'v': 44.47562},\n",
       "    'B06001': {'v': 10.50865},\n",
       "    'B07030': {'v': 580.0},\n",
       "    'B07031': {'v': 580.0}}},\n",
       "  {'timerange': [1, 0, 900],\n",
       "   'level': [1, None, None, None],\n",
       "   'vars': {'B13011': {'v': 0.0}}},\n",
       "  {'timerange': [1, 0, 3600],\n",
       "   'level': [1, None, None, None],\n",
       "   'vars': {'B13011': {'v': 0.0}}},\n",
       "  {'timerange': [1, 0, 86400],\n",
       "   'level': [1, None, None, None],\n",
       "   'vars': {'B13011': {'v': 0.2}}},\n",
       "  {'timerange': [0, 0, 3600],\n",
       "   'level': [103, 2000, None, None],\n",
       "   'vars': {'B12101': {'v': 273.85}, 'B13003': {'v': 87}}},\n",
       "  {'timerange': [0, 0, 86400],\n",
       "   'level': [103, 2000, None, None],\n",
       "   'vars': {'B12101': {'v': 275.21}, 'B13003': {'v': 85}}},\n",
       "  {'timerange': [2, 0, 3600],\n",
       "   'level': [103, 2000, None, None],\n",
       "   'vars': {'B12101': {'v': 274.25}, 'B13003': {'v': 89}}},\n",
       "  {'timerange': [2, 0, 86400],\n",
       "   'level': [103, 2000, None, None],\n",
       "   'vars': {'B12101': {'v': 277.75}, 'B13003': {'v': 97}}},\n",
       "  {'timerange': [3, 0, 3600],\n",
       "   'level': [103, 2000, None, None],\n",
       "   'vars': {'B12101': {'v': 273.45}, 'B13003': {'v': 86}}},\n",
       "  {'timerange': [3, 0, 86400],\n",
       "   'level': [103, 2000, None, None],\n",
       "   'vars': {'B12101': {'v': 272.75}, 'B13003': {'v': 61}}},\n",
       "  {'timerange': [254, 0, 0],\n",
       "   'level': [103, 2000, None, None],\n",
       "   'vars': {'B12101': {'v': 273.75}, 'B13003': {'v': 87}}}]}"
      ]
     },
     "execution_count": 13,
     "metadata": {},
     "output_type": "execute_result"
    }
   ],
   "source": [
    "json.loads(content[0])"
   ]
  },
  {
   "cell_type": "code",
   "execution_count": 17,
   "metadata": {},
   "outputs": [],
   "source": [
    "import pyarrow.json as pjson"
   ]
  },
  {
   "cell_type": "code",
   "execution_count": 18,
   "metadata": {},
   "outputs": [],
   "source": [
    "d = pjson.read_json(test)"
   ]
  },
  {
   "cell_type": "code",
   "execution_count": 24,
   "metadata": {},
   "outputs": [
    {
     "data": {
      "text/plain": [
       "0          [{'vars': {'B01019': {'v': 'Carpineti'}, 'B011...\n",
       "1          [{'vars': {'B01019': {'v': 'Carpineti'}, 'B011...\n",
       "2          [{'vars': {'B01019': {'v': 'Carpineti'}, 'B011...\n",
       "3          [{'vars': {'B01019': {'v': 'Carpineti'}, 'B011...\n",
       "4          [{'vars': {'B01019': {'v': 'Carpineti'}, 'B011...\n",
       "                                 ...                        \n",
       "1121644    [{'vars': {'B01019': {'v': 'Trebbio'}, 'B01194...\n",
       "1121645    [{'vars': {'B01019': {'v': 'Trebbio'}, 'B01194...\n",
       "1121646    [{'vars': {'B01019': {'v': 'Trebbio'}, 'B01194...\n",
       "1121647    [{'vars': {'B01019': {'v': 'Trebbio'}, 'B01194...\n",
       "1121648    [{'vars': {'B01019': {'v': 'Trebbio'}, 'B01194...\n",
       "Name: data, Length: 1121649, dtype: object"
      ]
     },
     "execution_count": 24,
     "metadata": {},
     "output_type": "execute_result"
    }
   ],
   "source": [
    "d.select([\"data\"])[0].to_pandas()"
   ]
  },
  {
   "cell_type": "code",
   "execution_count": null,
   "metadata": {},
   "outputs": [],
   "source": []
  }
 ],
 "metadata": {
  "kernelspec": {
   "display_name": "arrow",
   "language": "python",
   "name": "python3"
  },
  "language_info": {
   "codemirror_mode": {
    "name": "ipython",
    "version": 3
   },
   "file_extension": ".py",
   "mimetype": "text/x-python",
   "name": "python",
   "nbconvert_exporter": "python",
   "pygments_lexer": "ipython3",
   "version": "3.11.6"
  }
 },
 "nbformat": 4,
 "nbformat_minor": 2
}
