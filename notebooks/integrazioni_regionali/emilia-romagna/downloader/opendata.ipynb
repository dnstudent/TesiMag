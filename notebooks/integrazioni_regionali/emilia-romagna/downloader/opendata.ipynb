{
 "cells": [
  {
   "cell_type": "code",
   "execution_count": 1,
   "metadata": {},
   "outputs": [],
   "source": [
    "import polars as pl\n",
    "from requests import Session\n",
    "from tqdm.notebook import tqdm, trange\n",
    "import pyarrow.json as pjson\n",
    "from datetime import date, timedelta\n",
    "\n",
    "from pathlib import Path"
   ]
  },
  {
   "cell_type": "code",
   "execution_count": 2,
   "metadata": {},
   "outputs": [],
   "source": [
    "base = Path(\"/Users/davidenicoli/Local_Workspace/Datasets/ARPA/EMILIA-ROMAGNA/OpenData/\")\n",
    "fragments = base / \"fragments\"\n",
    "sub_fragments = base / \"fragments.subhour/\"\n",
    "arr_fragments = base / \"fragments.arrow/\""
   ]
  },
  {
   "cell_type": "code",
   "execution_count": 4,
   "metadata": {},
   "outputs": [],
   "source": [
    "def dwn_url(year, month):\n",
    "    return f\"https://dati-simc.arpae.it/opendata/osservati/meteo/storico/{year}-{month:02d}.json.gz\"\n",
    "\n",
    "\n",
    "def dwn_gen(session: Session):\n",
    "    for year in range(2006, 2025):\n",
    "        for month in range(1, 13):\n",
    "            tarball_path = fragments / f\"{year}-{month:02d}.json.gz\"\n",
    "            if tarball_path.exists() or date(year, month, 1) > date.today():\n",
    "                continue\n",
    "            tarball_url = dwn_url(year, month)\n",
    "            tarball_content = session.get(tarball_url).content\n",
    "            with open(tarball_path, \"wb\") as tarball:\n",
    "                tarball.write(tarball_content)\n",
    "            yield tarball_path"
   ]
  },
  {
   "cell_type": "code",
   "execution_count": 5,
   "metadata": {},
   "outputs": [],
   "source": [
    "with Session() as session:\n",
    "    dwned = list(dwn_gen(session))\n",
    "    "
   ]
  },
  {
   "cell_type": "code",
   "execution_count": 3,
   "metadata": {},
   "outputs": [],
   "source": [
    "def extract_value(var_code):\n",
    "    return (\n",
    "        pl.col(\"data\")\n",
    "        .list.first()\n",
    "        .struct.field(\"vars\")\n",
    "        .struct.field(var_code)\n",
    "        .struct.field(\"v\")\n",
    "    )\n",
    "\n",
    "\n",
    "def extract_station_props(data):\n",
    "    return data.with_columns(\n",
    "        extract_value(\"B01019\").alias(\"name\"),\n",
    "        extract_value(\"B07030\").alias(\"elevation\"),\n",
    "        extract_value(\"B01001\").alias(\"WMO_block\"),\n",
    "        extract_value(\"B01002\").alias(\"WMO_num\"),\n",
    "    )\n",
    "\n",
    "\n",
    "def timerange_level_to_struct(data):\n",
    "    return data.with_columns(\n",
    "        pl.col(\"timerange\").list.first().alias(\"variable\"),\n",
    "        pl.col(\"timerange\").list.get(1).alias(\"P1\"),\n",
    "        pl.col(\"timerange\").list.get(2).alias(\"agg_period\"),\n",
    "        pl.col(\"level\").list.first().alias(\"level_code\"),\n",
    "        pl.col(\"level\").list.get(1).alias(\"level_value\"),\n",
    "    ).drop(\"timerange\", \"level\")\n",
    "\n",
    "\n",
    "def load_data(year, month):\n",
    "    tarball = fragments / f\"{year}-{month:02d}.json.gz\"\n",
    "    return (\n",
    "        pl.from_arrow(pjson.read_json(tarball))\n",
    "        # pl.read_ipc(tarball, memory_map=False)\n",
    "        .pipe(extract_station_props)\n",
    "        .explode(\"data\")\n",
    "        .unnest(\"data\")\n",
    "        .drop_nulls(\"timerange\")\n",
    "        .unnest(\"vars\")\n",
    "        .select(\n",
    "            \"lon\",\n",
    "            \"lat\",\n",
    "            \"elevation\",\n",
    "            \"WMO_block\",\n",
    "            \"WMO_num\",\n",
    "            \"name\",\n",
    "            \"network\",\n",
    "            \"date\",\n",
    "            \"B12101\",\n",
    "            \"timerange\",\n",
    "            \"level\",\n",
    "        )\n",
    "        .with_columns(pl.col(\"B12101\").struct.field(\"v\").alias(\"T\"))\n",
    "        .drop_nulls(\"T\")\n",
    "        .drop(\"B12101\")\n",
    "        .pipe(timerange_level_to_struct)\n",
    "    )\n",
    "\n",
    "# def collect_all_data(year, month):\n",
    "#     cdate = date(year, month, 1)\n",
    "#     pdate = cdate + timedelta(days=-1)\n",
    "#     ndate = date(year, month, 28) + timedelta(weeks=1)\n",
    "#     ndate = date(ndate.year, ndate.month, 1)\n",
    "#     data = pl.concat([\n",
    "#         pl.from_arrow(\n",
    "#             pjson.read_json(fragments / f\"{date.year}-{date.month:02d}.json.gz\")\n",
    "#         ).filter(pl.col(\"date\").is_between(pdate, ndate))\n",
    "#         for date in [pdate, cdate, ndate]\n",
    "#     ])\n",
    "#     return data\n",
    "\n",
    "# def process_temp(data):\n",
    "#     return (\n",
    "#         data.group_by(\"name\", \"network\", pl.col(\"date\").dt.date())\n",
    "#         .agg(\n",
    "#             pl.col(\"T\").min().alias(\"T_MIN\"),\n",
    "#             pl.col(\"T\").max().alias(\"T_MAX\"),\n",
    "#             pl.col(\"lon\").drop_nulls().mode(),\n",
    "#             pl.col(\"lat\").drop_nulls().mode(),\n",
    "#             pl.col(\"elevation\").drop_nulls().mode(),\n",
    "#         )\n",
    "#         .melt(\n",
    "#             id_vars=[\"network\", \"name\", \"date\", \"lon\", \"lat\", \"elevation\"],\n",
    "#             value_vars=[\"T_MIN\", \"T_MAX\"],\n",
    "#         )\n",
    "#         .sort(\"variable\", \"network\", \"name\", \"date\")\n",
    "#     )\n",
    "\n",
    "\n",
    "# def decent_table(year, month):\n",
    "#     return (\n",
    "#         load_data(year, month)\n",
    "#         .pipe(process_temp)\n",
    "#         .with_columns(\n",
    "#             pl.col(\"lon\").list.first() / 100000,\n",
    "#             pl.col(\"lat\").list.first() / 100000,\n",
    "#             pl.col(\"elevation\").list.first(),\n",
    "#         )\n",
    "#     )"
   ]
  },
  {
   "cell_type": "code",
   "execution_count": 7,
   "metadata": {},
   "outputs": [],
   "source": [
    "tarball = fragments / f\"{2011}-{2:02d}.json.gz\"\n",
    "raw = pl.from_arrow(pjson.read_json(tarball))"
   ]
  },
  {
   "cell_type": "code",
   "execution_count": 13,
   "metadata": {},
   "outputs": [
    {
     "data": {
      "text/html": [
       "<div><style>\n",
       ".dataframe > thead > tr,\n",
       ".dataframe > tbody > tr {\n",
       "  text-align: right;\n",
       "  white-space: pre-wrap;\n",
       "}\n",
       "</style>\n",
       "<small>shape: (2_860_613, 43)</small><table border=\"1\" class=\"dataframe\"><thead><tr><th>version</th><th>network</th><th>ident</th><th>lon</th><th>lat</th><th>date</th><th>B01019</th><th>B01194</th><th>B04001</th><th>B04002</th><th>B04003</th><th>B04004</th><th>B04005</th><th>B04006</th><th>B05001</th><th>B06001</th><th>B07030</th><th>B07031</th><th>B13011</th><th>B12101</th><th>B13003</th><th>B11002</th><th>B11041</th><th>B11001</th><th>B14198</th><th>B10004</th><th>B13013</th><th>B13215</th><th>B11043</th><th>B13082</th><th>B22001</th><th>B22070</th><th>B22074</th><th>B22071</th><th>B22043</th><th>B01001</th><th>B01002</th><th>B13080</th><th>B13083</th><th>B13231</th><th>B22062</th><th>timerange</th><th>level</th></tr><tr><td>str</td><td>str</td><td>null</td><td>i64</td><td>i64</td><td>datetime[ms]</td><td>struct[1]</td><td>struct[1]</td><td>struct[1]</td><td>struct[1]</td><td>struct[1]</td><td>struct[1]</td><td>struct[1]</td><td>struct[1]</td><td>struct[1]</td><td>struct[1]</td><td>struct[1]</td><td>struct[1]</td><td>struct[2]</td><td>struct[2]</td><td>struct[2]</td><td>struct[2]</td><td>struct[2]</td><td>struct[2]</td><td>struct[2]</td><td>struct[2]</td><td>struct[2]</td><td>struct[2]</td><td>struct[2]</td><td>struct[1]</td><td>struct[1]</td><td>struct[1]</td><td>struct[1]</td><td>struct[1]</td><td>struct[2]</td><td>struct[1]</td><td>struct[1]</td><td>struct[2]</td><td>struct[2]</td><td>struct[1]</td><td>struct[2]</td><td>list[i64]</td><td>list[i64]</td></tr></thead><tbody><tr><td>&quot;0.1&quot;</td><td>&quot;agrmet&quot;</td><td>null</td><td>1050865</td><td>4447562</td><td>2011-02-01 00:00:00</td><td>{&quot;Carpineti&quot;}</td><td>{&quot;agrmet&quot;}</td><td>{2011}</td><td>{2}</td><td>{1}</td><td>{0}</td><td>{0}</td><td>{0}</td><td>{44.47562}</td><td>{10.50865}</td><td>{580.0}</td><td>{580.0}</td><td>{null,{null}}</td><td>{null,{null}}</td><td>{null,{null}}</td><td>{null,{null}}</td><td>{null,{null}}</td><td>{null,{null}}</td><td>{null,{null}}</td><td>{null,{null}}</td><td>{null,{null}}</td><td>{null,{null}}</td><td>{null,{null}}</td><td>{null}</td><td>{null}</td><td>{null}</td><td>{null}</td><td>{null}</td><td>{null,{null}}</td><td>{null}</td><td>{null}</td><td>{null,{null}}</td><td>{null,{null}}</td><td>{null}</td><td>{null,{null}}</td><td>null</td><td>null</td></tr><tr><td>&quot;0.1&quot;</td><td>&quot;agrmet&quot;</td><td>null</td><td>1050865</td><td>4447562</td><td>2011-02-01 00:00:00</td><td>{null}</td><td>{null}</td><td>{null}</td><td>{null}</td><td>{null}</td><td>{null}</td><td>{null}</td><td>{null}</td><td>{null}</td><td>{null}</td><td>{null}</td><td>{null}</td><td>{0.0,{null}}</td><td>{null,{null}}</td><td>{null,{null}}</td><td>{null,{null}}</td><td>{null,{null}}</td><td>{null,{null}}</td><td>{null,{null}}</td><td>{null,{null}}</td><td>{null,{null}}</td><td>{null,{null}}</td><td>{null,{null}}</td><td>{null}</td><td>{null}</td><td>{null}</td><td>{null}</td><td>{null}</td><td>{null,{null}}</td><td>{null}</td><td>{null}</td><td>{null,{null}}</td><td>{null,{null}}</td><td>{null}</td><td>{null,{null}}</td><td>[1, 0, 900]</td><td>[1, null, … null]</td></tr><tr><td>&quot;0.1&quot;</td><td>&quot;agrmet&quot;</td><td>null</td><td>1050865</td><td>4447562</td><td>2011-02-01 00:00:00</td><td>{null}</td><td>{null}</td><td>{null}</td><td>{null}</td><td>{null}</td><td>{null}</td><td>{null}</td><td>{null}</td><td>{null}</td><td>{null}</td><td>{null}</td><td>{null}</td><td>{0.2,{null}}</td><td>{null,{null}}</td><td>{null,{null}}</td><td>{null,{null}}</td><td>{null,{null}}</td><td>{null,{null}}</td><td>{null,{null}}</td><td>{null,{null}}</td><td>{null,{null}}</td><td>{null,{null}}</td><td>{null,{null}}</td><td>{null}</td><td>{null}</td><td>{null}</td><td>{null}</td><td>{null}</td><td>{null,{null}}</td><td>{null}</td><td>{null}</td><td>{null,{null}}</td><td>{null,{null}}</td><td>{null}</td><td>{null,{null}}</td><td>[1, 0, 3600]</td><td>[1, null, … null]</td></tr><tr><td>&quot;0.1&quot;</td><td>&quot;agrmet&quot;</td><td>null</td><td>1050865</td><td>4447562</td><td>2011-02-01 00:00:00</td><td>{null}</td><td>{null}</td><td>{null}</td><td>{null}</td><td>{null}</td><td>{null}</td><td>{null}</td><td>{null}</td><td>{null}</td><td>{null}</td><td>{null}</td><td>{null}</td><td>{13.2,{null}}</td><td>{null,{null}}</td><td>{null,{null}}</td><td>{null,{null}}</td><td>{null,{null}}</td><td>{null,{null}}</td><td>{null,{null}}</td><td>{null,{null}}</td><td>{null,{null}}</td><td>{null,{null}}</td><td>{null,{null}}</td><td>{null}</td><td>{null}</td><td>{null}</td><td>{null}</td><td>{null}</td><td>{null,{null}}</td><td>{null}</td><td>{null}</td><td>{null,{null}}</td><td>{null,{null}}</td><td>{null}</td><td>{null,{null}}</td><td>[1, 0, 86400]</td><td>[1, null, … null]</td></tr><tr><td>&quot;0.1&quot;</td><td>&quot;agrmet&quot;</td><td>null</td><td>1050865</td><td>4447562</td><td>2011-02-01 00:00:00</td><td>{null}</td><td>{null}</td><td>{null}</td><td>{null}</td><td>{null}</td><td>{null}</td><td>{null}</td><td>{null}</td><td>{null}</td><td>{null}</td><td>{null}</td><td>{null}</td><td>{null,{null}}</td><td>{273.85,{null}}</td><td>{97,{null}}</td><td>{null,{null}}</td><td>{null,{null}}</td><td>{null,{null}}</td><td>{null,{null}}</td><td>{null,{null}}</td><td>{null,{null}}</td><td>{null,{null}}</td><td>{null,{null}}</td><td>{null}</td><td>{null}</td><td>{null}</td><td>{null}</td><td>{null}</td><td>{null,{null}}</td><td>{null}</td><td>{null}</td><td>{null,{null}}</td><td>{null,{null}}</td><td>{null}</td><td>{null,{null}}</td><td>[0, 0, 3600]</td><td>[103, 2000, … null]</td></tr><tr><td>&quot;0.1&quot;</td><td>&quot;agrmet&quot;</td><td>null</td><td>1050865</td><td>4447562</td><td>2011-02-01 00:00:00</td><td>{null}</td><td>{null}</td><td>{null}</td><td>{null}</td><td>{null}</td><td>{null}</td><td>{null}</td><td>{null}</td><td>{null}</td><td>{null}</td><td>{null}</td><td>{null}</td><td>{null,{null}}</td><td>{274.27,{null}}</td><td>{95,{null}}</td><td>{null,{null}}</td><td>{null,{null}}</td><td>{null,{null}}</td><td>{null,{null}}</td><td>{null,{null}}</td><td>{null,{null}}</td><td>{null,{null}}</td><td>{null,{null}}</td><td>{null}</td><td>{null}</td><td>{null}</td><td>{null}</td><td>{null}</td><td>{null,{null}}</td><td>{null}</td><td>{null}</td><td>{null,{null}}</td><td>{null,{null}}</td><td>{null}</td><td>{null,{null}}</td><td>[0, 0, 86400]</td><td>[103, 2000, … null]</td></tr><tr><td>&quot;0.1&quot;</td><td>&quot;agrmet&quot;</td><td>null</td><td>1050865</td><td>4447562</td><td>2011-02-01 00:00:00</td><td>{null}</td><td>{null}</td><td>{null}</td><td>{null}</td><td>{null}</td><td>{null}</td><td>{null}</td><td>{null}</td><td>{null}</td><td>{null}</td><td>{null}</td><td>{null}</td><td>{null,{null}}</td><td>{274.35,{null}}</td><td>{98,{null}}</td><td>{null,{null}}</td><td>{null,{null}}</td><td>{null,{null}}</td><td>{null,{null}}</td><td>{null,{null}}</td><td>{null,{null}}</td><td>{null,{null}}</td><td>{null,{null}}</td><td>{null}</td><td>{null}</td><td>{null}</td><td>{null}</td><td>{null}</td><td>{null,{null}}</td><td>{null}</td><td>{null}</td><td>{null,{null}}</td><td>{null,{null}}</td><td>{null}</td><td>{null,{null}}</td><td>[2, 0, 3600]</td><td>[103, 2000, … null]</td></tr><tr><td>&quot;0.1&quot;</td><td>&quot;agrmet&quot;</td><td>null</td><td>1050865</td><td>4447562</td><td>2011-02-01 00:00:00</td><td>{null}</td><td>{null}</td><td>{null}</td><td>{null}</td><td>{null}</td><td>{null}</td><td>{null}</td><td>{null}</td><td>{null}</td><td>{null}</td><td>{null}</td><td>{null}</td><td>{null,{null}}</td><td>{276.95,{null}}</td><td>{99,{null}}</td><td>{null,{null}}</td><td>{null,{null}}</td><td>{null,{null}}</td><td>{null,{null}}</td><td>{null,{null}}</td><td>{null,{null}}</td><td>{null,{null}}</td><td>{null,{null}}</td><td>{null}</td><td>{null}</td><td>{null}</td><td>{null}</td><td>{null}</td><td>{null,{null}}</td><td>{null}</td><td>{null}</td><td>{null,{null}}</td><td>{null,{null}}</td><td>{null}</td><td>{null,{null}}</td><td>[2, 0, 86400]</td><td>[103, 2000, … null]</td></tr><tr><td>&quot;0.1&quot;</td><td>&quot;agrmet&quot;</td><td>null</td><td>1050865</td><td>4447562</td><td>2011-02-01 00:00:00</td><td>{null}</td><td>{null}</td><td>{null}</td><td>{null}</td><td>{null}</td><td>{null}</td><td>{null}</td><td>{null}</td><td>{null}</td><td>{null}</td><td>{null}</td><td>{null}</td><td>{null,{null}}</td><td>{273.55,{null}}</td><td>{97,{null}}</td><td>{null,{null}}</td><td>{null,{null}}</td><td>{null,{null}}</td><td>{null,{null}}</td><td>{null,{null}}</td><td>{null,{null}}</td><td>{null,{null}}</td><td>{null,{null}}</td><td>{null}</td><td>{null}</td><td>{null}</td><td>{null}</td><td>{null}</td><td>{null,{null}}</td><td>{null}</td><td>{null}</td><td>{null,{null}}</td><td>{null,{null}}</td><td>{null}</td><td>{null,{null}}</td><td>[3, 0, 3600]</td><td>[103, 2000, … null]</td></tr><tr><td>&quot;0.1&quot;</td><td>&quot;agrmet&quot;</td><td>null</td><td>1050865</td><td>4447562</td><td>2011-02-01 00:00:00</td><td>{null}</td><td>{null}</td><td>{null}</td><td>{null}</td><td>{null}</td><td>{null}</td><td>{null}</td><td>{null}</td><td>{null}</td><td>{null}</td><td>{null}</td><td>{null}</td><td>{null,{null}}</td><td>{271.75,{null}}</td><td>{84,{null}}</td><td>{null,{null}}</td><td>{null,{null}}</td><td>{null,{null}}</td><td>{null,{null}}</td><td>{null,{null}}</td><td>{null,{null}}</td><td>{null,{null}}</td><td>{null,{null}}</td><td>{null}</td><td>{null}</td><td>{null}</td><td>{null}</td><td>{null}</td><td>{null,{null}}</td><td>{null}</td><td>{null}</td><td>{null,{null}}</td><td>{null,{null}}</td><td>{null}</td><td>{null,{null}}</td><td>[3, 0, 86400]</td><td>[103, 2000, … null]</td></tr><tr><td>&quot;0.1&quot;</td><td>&quot;agrmet&quot;</td><td>null</td><td>1050865</td><td>4447562</td><td>2011-02-01 00:00:00</td><td>{null}</td><td>{null}</td><td>{null}</td><td>{null}</td><td>{null}</td><td>{null}</td><td>{null}</td><td>{null}</td><td>{null}</td><td>{null}</td><td>{null}</td><td>{null}</td><td>{null,{null}}</td><td>{273.85,{null}}</td><td>{98,{null}}</td><td>{null,{null}}</td><td>{null,{null}}</td><td>{null,{null}}</td><td>{null,{null}}</td><td>{null,{null}}</td><td>{null,{null}}</td><td>{null,{null}}</td><td>{null,{null}}</td><td>{null}</td><td>{null}</td><td>{null}</td><td>{null}</td><td>{null}</td><td>{null,{null}}</td><td>{null}</td><td>{null}</td><td>{null,{null}}</td><td>{null,{null}}</td><td>{null}</td><td>{null,{null}}</td><td>[254, 0, 0]</td><td>[103, 2000, … null]</td></tr><tr><td>&quot;0.1&quot;</td><td>&quot;agrmet&quot;</td><td>null</td><td>1050865</td><td>4447562</td><td>2011-02-01 00:15:00</td><td>{&quot;Carpineti&quot;}</td><td>{&quot;agrmet&quot;}</td><td>{2011}</td><td>{2}</td><td>{1}</td><td>{0}</td><td>{15}</td><td>{0}</td><td>{44.47562}</td><td>{10.50865}</td><td>{580.0}</td><td>{580.0}</td><td>{null,{null}}</td><td>{null,{null}}</td><td>{null,{null}}</td><td>{null,{null}}</td><td>{null,{null}}</td><td>{null,{null}}</td><td>{null,{null}}</td><td>{null,{null}}</td><td>{null,{null}}</td><td>{null,{null}}</td><td>{null,{null}}</td><td>{null}</td><td>{null}</td><td>{null}</td><td>{null}</td><td>{null}</td><td>{null,{null}}</td><td>{null}</td><td>{null}</td><td>{null,{null}}</td><td>{null,{null}}</td><td>{null}</td><td>{null,{null}}</td><td>null</td><td>null</td></tr><tr><td>&hellip;</td><td>&hellip;</td><td>&hellip;</td><td>&hellip;</td><td>&hellip;</td><td>&hellip;</td><td>&hellip;</td><td>&hellip;</td><td>&hellip;</td><td>&hellip;</td><td>&hellip;</td><td>&hellip;</td><td>&hellip;</td><td>&hellip;</td><td>&hellip;</td><td>&hellip;</td><td>&hellip;</td><td>&hellip;</td><td>&hellip;</td><td>&hellip;</td><td>&hellip;</td><td>&hellip;</td><td>&hellip;</td><td>&hellip;</td><td>&hellip;</td><td>&hellip;</td><td>&hellip;</td><td>&hellip;</td><td>&hellip;</td><td>&hellip;</td><td>&hellip;</td><td>&hellip;</td><td>&hellip;</td><td>&hellip;</td><td>&hellip;</td><td>&hellip;</td><td>&hellip;</td><td>&hellip;</td><td>&hellip;</td><td>&hellip;</td><td>&hellip;</td><td>&hellip;</td><td>&hellip;</td></tr><tr><td>&quot;0.1&quot;</td><td>&quot;spdsra&quot;</td><td>null</td><td>1234962</td><td>4419069</td><td>2011-02-28 22:45:00</td><td>{null}</td><td>{null}</td><td>{null}</td><td>{null}</td><td>{null}</td><td>{null}</td><td>{null}</td><td>{null}</td><td>{null}</td><td>{null}</td><td>{null}</td><td>{null}</td><td>{0.4,{null}}</td><td>{null,{null}}</td><td>{null,{null}}</td><td>{null,{null}}</td><td>{null,{null}}</td><td>{null,{null}}</td><td>{null,{null}}</td><td>{null,{null}}</td><td>{null,{null}}</td><td>{null,{null}}</td><td>{null,{null}}</td><td>{null}</td><td>{null}</td><td>{null}</td><td>{null}</td><td>{null}</td><td>{null,{null}}</td><td>{null}</td><td>{null}</td><td>{null,{null}}</td><td>{null,{null}}</td><td>{null}</td><td>{null,{null}}</td><td>[1, 0, 900]</td><td>[1, null, … null]</td></tr><tr><td>&quot;0.1&quot;</td><td>&quot;spdsra&quot;</td><td>null</td><td>1234962</td><td>4419069</td><td>2011-02-28 23:00:00</td><td>{&quot;Mesola&quot;}</td><td>{&quot;spdsra&quot;}</td><td>{2011}</td><td>{2}</td><td>{28}</td><td>{23}</td><td>{0}</td><td>{0}</td><td>{44.19069}</td><td>{12.34962}</td><td>{6.0}</td><td>{7.0}</td><td>{null,{null}}</td><td>{null,{null}}</td><td>{null,{null}}</td><td>{null,{null}}</td><td>{null,{null}}</td><td>{null,{null}}</td><td>{null,{null}}</td><td>{null,{null}}</td><td>{null,{null}}</td><td>{null,{null}}</td><td>{null,{null}}</td><td>{null}</td><td>{null}</td><td>{null}</td><td>{null}</td><td>{null}</td><td>{null,{null}}</td><td>{null}</td><td>{null}</td><td>{null,{null}}</td><td>{null,{null}}</td><td>{null}</td><td>{null,{null}}</td><td>null</td><td>null</td></tr><tr><td>&quot;0.1&quot;</td><td>&quot;spdsra&quot;</td><td>null</td><td>1234962</td><td>4419069</td><td>2011-02-28 23:00:00</td><td>{null}</td><td>{null}</td><td>{null}</td><td>{null}</td><td>{null}</td><td>{null}</td><td>{null}</td><td>{null}</td><td>{null}</td><td>{null}</td><td>{null}</td><td>{null}</td><td>{0.2,{null}}</td><td>{null,{null}}</td><td>{null,{null}}</td><td>{null,{null}}</td><td>{null,{null}}</td><td>{null,{null}}</td><td>{null,{null}}</td><td>{null,{null}}</td><td>{null,{null}}</td><td>{null,{null}}</td><td>{null,{null}}</td><td>{null}</td><td>{null}</td><td>{null}</td><td>{null}</td><td>{null}</td><td>{null,{null}}</td><td>{null}</td><td>{null}</td><td>{null,{null}}</td><td>{null,{null}}</td><td>{null}</td><td>{null,{null}}</td><td>[1, 0, 900]</td><td>[1, null, … null]</td></tr><tr><td>&quot;0.1&quot;</td><td>&quot;spdsra&quot;</td><td>null</td><td>1234962</td><td>4419069</td><td>2011-02-28 23:00:00</td><td>{null}</td><td>{null}</td><td>{null}</td><td>{null}</td><td>{null}</td><td>{null}</td><td>{null}</td><td>{null}</td><td>{null}</td><td>{null}</td><td>{null}</td><td>{null}</td><td>{0.6,{null}}</td><td>{null,{null}}</td><td>{null,{null}}</td><td>{null,{null}}</td><td>{null,{null}}</td><td>{null,{null}}</td><td>{null,{null}}</td><td>{null,{null}}</td><td>{null,{null}}</td><td>{null,{null}}</td><td>{null,{null}}</td><td>{null}</td><td>{null}</td><td>{null}</td><td>{null}</td><td>{null}</td><td>{null,{null}}</td><td>{null}</td><td>{null}</td><td>{null,{null}}</td><td>{null,{null}}</td><td>{null}</td><td>{null,{null}}</td><td>[1, 0, 1800]</td><td>[1, null, … null]</td></tr><tr><td>&quot;0.1&quot;</td><td>&quot;spdsra&quot;</td><td>null</td><td>1234962</td><td>4419069</td><td>2011-02-28 23:00:00</td><td>{null}</td><td>{null}</td><td>{null}</td><td>{null}</td><td>{null}</td><td>{null}</td><td>{null}</td><td>{null}</td><td>{null}</td><td>{null}</td><td>{null}</td><td>{null}</td><td>{1.2,{null}}</td><td>{null,{null}}</td><td>{null,{null}}</td><td>{null,{null}}</td><td>{null,{null}}</td><td>{null,{null}}</td><td>{null,{null}}</td><td>{null,{null}}</td><td>{null,{null}}</td><td>{null,{null}}</td><td>{null,{null}}</td><td>{null}</td><td>{null}</td><td>{null}</td><td>{null}</td><td>{null}</td><td>{null,{null}}</td><td>{null}</td><td>{null}</td><td>{null,{null}}</td><td>{null,{null}}</td><td>{null}</td><td>{null,{null}}</td><td>[1, 0, 3600]</td><td>[1, null, … null]</td></tr><tr><td>&quot;0.1&quot;</td><td>&quot;spdsra&quot;</td><td>null</td><td>1234962</td><td>4419069</td><td>2011-02-28 23:15:00</td><td>{&quot;Mesola&quot;}</td><td>{&quot;spdsra&quot;}</td><td>{2011}</td><td>{2}</td><td>{28}</td><td>{23}</td><td>{15}</td><td>{0}</td><td>{44.19069}</td><td>{12.34962}</td><td>{6.0}</td><td>{7.0}</td><td>{null,{null}}</td><td>{null,{null}}</td><td>{null,{null}}</td><td>{null,{null}}</td><td>{null,{null}}</td><td>{null,{null}}</td><td>{null,{null}}</td><td>{null,{null}}</td><td>{null,{null}}</td><td>{null,{null}}</td><td>{null,{null}}</td><td>{null}</td><td>{null}</td><td>{null}</td><td>{null}</td><td>{null}</td><td>{null,{null}}</td><td>{null}</td><td>{null}</td><td>{null,{null}}</td><td>{null,{null}}</td><td>{null}</td><td>{null,{null}}</td><td>null</td><td>null</td></tr><tr><td>&quot;0.1&quot;</td><td>&quot;spdsra&quot;</td><td>null</td><td>1234962</td><td>4419069</td><td>2011-02-28 23:15:00</td><td>{null}</td><td>{null}</td><td>{null}</td><td>{null}</td><td>{null}</td><td>{null}</td><td>{null}</td><td>{null}</td><td>{null}</td><td>{null}</td><td>{null}</td><td>{null}</td><td>{0.2,{null}}</td><td>{null,{null}}</td><td>{null,{null}}</td><td>{null,{null}}</td><td>{null,{null}}</td><td>{null,{null}}</td><td>{null,{null}}</td><td>{null,{null}}</td><td>{null,{null}}</td><td>{null,{null}}</td><td>{null,{null}}</td><td>{null}</td><td>{null}</td><td>{null}</td><td>{null}</td><td>{null}</td><td>{null,{null}}</td><td>{null}</td><td>{null}</td><td>{null,{null}}</td><td>{null,{null}}</td><td>{null}</td><td>{null,{null}}</td><td>[1, 0, 900]</td><td>[1, null, … null]</td></tr><tr><td>&quot;0.1&quot;</td><td>&quot;spdsra&quot;</td><td>null</td><td>1234962</td><td>4419069</td><td>2011-02-28 23:30:00</td><td>{&quot;Mesola&quot;}</td><td>{&quot;spdsra&quot;}</td><td>{2011}</td><td>{2}</td><td>{28}</td><td>{23}</td><td>{30}</td><td>{0}</td><td>{44.19069}</td><td>{12.34962}</td><td>{6.0}</td><td>{7.0}</td><td>{null,{null}}</td><td>{null,{null}}</td><td>{null,{null}}</td><td>{null,{null}}</td><td>{null,{null}}</td><td>{null,{null}}</td><td>{null,{null}}</td><td>{null,{null}}</td><td>{null,{null}}</td><td>{null,{null}}</td><td>{null,{null}}</td><td>{null}</td><td>{null}</td><td>{null}</td><td>{null}</td><td>{null}</td><td>{null,{null}}</td><td>{null}</td><td>{null}</td><td>{null,{null}}</td><td>{null,{null}}</td><td>{null}</td><td>{null,{null}}</td><td>null</td><td>null</td></tr><tr><td>&quot;0.1&quot;</td><td>&quot;spdsra&quot;</td><td>null</td><td>1234962</td><td>4419069</td><td>2011-02-28 23:30:00</td><td>{null}</td><td>{null}</td><td>{null}</td><td>{null}</td><td>{null}</td><td>{null}</td><td>{null}</td><td>{null}</td><td>{null}</td><td>{null}</td><td>{null}</td><td>{null}</td><td>{0.2,{null}}</td><td>{null,{null}}</td><td>{null,{null}}</td><td>{null,{null}}</td><td>{null,{null}}</td><td>{null,{null}}</td><td>{null,{null}}</td><td>{null,{null}}</td><td>{null,{null}}</td><td>{null,{null}}</td><td>{null,{null}}</td><td>{null}</td><td>{null}</td><td>{null}</td><td>{null}</td><td>{null}</td><td>{null,{null}}</td><td>{null}</td><td>{null}</td><td>{null,{null}}</td><td>{null,{null}}</td><td>{null}</td><td>{null,{null}}</td><td>[1, 0, 900]</td><td>[1, null, … null]</td></tr><tr><td>&quot;0.1&quot;</td><td>&quot;spdsra&quot;</td><td>null</td><td>1234962</td><td>4419069</td><td>2011-02-28 23:30:00</td><td>{null}</td><td>{null}</td><td>{null}</td><td>{null}</td><td>{null}</td><td>{null}</td><td>{null}</td><td>{null}</td><td>{null}</td><td>{null}</td><td>{null}</td><td>{null}</td><td>{0.4,{null}}</td><td>{null,{null}}</td><td>{null,{null}}</td><td>{null,{null}}</td><td>{null,{null}}</td><td>{null,{null}}</td><td>{null,{null}}</td><td>{null,{null}}</td><td>{null,{null}}</td><td>{null,{null}}</td><td>{null,{null}}</td><td>{null}</td><td>{null}</td><td>{null}</td><td>{null}</td><td>{null}</td><td>{null,{null}}</td><td>{null}</td><td>{null}</td><td>{null,{null}}</td><td>{null,{null}}</td><td>{null}</td><td>{null,{null}}</td><td>[1, 0, 1800]</td><td>[1, null, … null]</td></tr><tr><td>&quot;0.1&quot;</td><td>&quot;spdsra&quot;</td><td>null</td><td>1234962</td><td>4419069</td><td>2011-02-28 23:45:00</td><td>{&quot;Mesola&quot;}</td><td>{&quot;spdsra&quot;}</td><td>{2011}</td><td>{2}</td><td>{28}</td><td>{23}</td><td>{45}</td><td>{0}</td><td>{44.19069}</td><td>{12.34962}</td><td>{6.0}</td><td>{7.0}</td><td>{null,{null}}</td><td>{null,{null}}</td><td>{null,{null}}</td><td>{null,{null}}</td><td>{null,{null}}</td><td>{null,{null}}</td><td>{null,{null}}</td><td>{null,{null}}</td><td>{null,{null}}</td><td>{null,{null}}</td><td>{null,{null}}</td><td>{null}</td><td>{null}</td><td>{null}</td><td>{null}</td><td>{null}</td><td>{null,{null}}</td><td>{null}</td><td>{null}</td><td>{null,{null}}</td><td>{null,{null}}</td><td>{null}</td><td>{null,{null}}</td><td>null</td><td>null</td></tr><tr><td>&quot;0.1&quot;</td><td>&quot;spdsra&quot;</td><td>null</td><td>1234962</td><td>4419069</td><td>2011-02-28 23:45:00</td><td>{null}</td><td>{null}</td><td>{null}</td><td>{null}</td><td>{null}</td><td>{null}</td><td>{null}</td><td>{null}</td><td>{null}</td><td>{null}</td><td>{null}</td><td>{null}</td><td>{0.4,{null}}</td><td>{null,{null}}</td><td>{null,{null}}</td><td>{null,{null}}</td><td>{null,{null}}</td><td>{null,{null}}</td><td>{null,{null}}</td><td>{null,{null}}</td><td>{null,{null}}</td><td>{null,{null}}</td><td>{null,{null}}</td><td>{null}</td><td>{null}</td><td>{null}</td><td>{null}</td><td>{null}</td><td>{null,{null}}</td><td>{null}</td><td>{null}</td><td>{null,{null}}</td><td>{null,{null}}</td><td>{null}</td><td>{null,{null}}</td><td>[1, 0, 900]</td><td>[1, null, … null]</td></tr></tbody></table></div>"
      ],
      "text/plain": [
       "shape: (2_860_613, 43)\n",
       "┌─────────┬─────────┬───────┬─────────┬───┬───────────┬──────────────┬──────────────┬──────────────┐\n",
       "│ version ┆ network ┆ ident ┆ lon     ┆ … ┆ B13231    ┆ B22062       ┆ timerange    ┆ level        │\n",
       "│ ---     ┆ ---     ┆ ---   ┆ ---     ┆   ┆ ---       ┆ ---          ┆ ---          ┆ ---          │\n",
       "│ str     ┆ str     ┆ null  ┆ i64     ┆   ┆ struct[1] ┆ struct[2]    ┆ list[i64]    ┆ list[i64]    │\n",
       "╞═════════╪═════════╪═══════╪═════════╪═══╪═══════════╪══════════════╪══════════════╪══════════════╡\n",
       "│ 0.1     ┆ agrmet  ┆ null  ┆ 1050865 ┆ … ┆ {null}    ┆ {null,{null} ┆ null         ┆ null         │\n",
       "│         ┆         ┆       ┆         ┆   ┆           ┆ }            ┆              ┆              │\n",
       "│ 0.1     ┆ agrmet  ┆ null  ┆ 1050865 ┆ … ┆ {null}    ┆ {null,{null} ┆ [1, 0, 900]  ┆ [1, null, …  │\n",
       "│         ┆         ┆       ┆         ┆   ┆           ┆ }            ┆              ┆ null]        │\n",
       "│ 0.1     ┆ agrmet  ┆ null  ┆ 1050865 ┆ … ┆ {null}    ┆ {null,{null} ┆ [1, 0, 3600] ┆ [1, null, …  │\n",
       "│         ┆         ┆       ┆         ┆   ┆           ┆ }            ┆              ┆ null]        │\n",
       "│ 0.1     ┆ agrmet  ┆ null  ┆ 1050865 ┆ … ┆ {null}    ┆ {null,{null} ┆ [1, 0,       ┆ [1, null, …  │\n",
       "│         ┆         ┆       ┆         ┆   ┆           ┆ }            ┆ 86400]       ┆ null]        │\n",
       "│ 0.1     ┆ agrmet  ┆ null  ┆ 1050865 ┆ … ┆ {null}    ┆ {null,{null} ┆ [0, 0, 3600] ┆ [103, 2000,  │\n",
       "│         ┆         ┆       ┆         ┆   ┆           ┆ }            ┆              ┆ … null]      │\n",
       "│ …       ┆ …       ┆ …     ┆ …       ┆ … ┆ …         ┆ …            ┆ …            ┆ …            │\n",
       "│ 0.1     ┆ spdsra  ┆ null  ┆ 1234962 ┆ … ┆ {null}    ┆ {null,{null} ┆ null         ┆ null         │\n",
       "│         ┆         ┆       ┆         ┆   ┆           ┆ }            ┆              ┆              │\n",
       "│ 0.1     ┆ spdsra  ┆ null  ┆ 1234962 ┆ … ┆ {null}    ┆ {null,{null} ┆ [1, 0, 900]  ┆ [1, null, …  │\n",
       "│         ┆         ┆       ┆         ┆   ┆           ┆ }            ┆              ┆ null]        │\n",
       "│ 0.1     ┆ spdsra  ┆ null  ┆ 1234962 ┆ … ┆ {null}    ┆ {null,{null} ┆ [1, 0, 1800] ┆ [1, null, …  │\n",
       "│         ┆         ┆       ┆         ┆   ┆           ┆ }            ┆              ┆ null]        │\n",
       "│ 0.1     ┆ spdsra  ┆ null  ┆ 1234962 ┆ … ┆ {null}    ┆ {null,{null} ┆ null         ┆ null         │\n",
       "│         ┆         ┆       ┆         ┆   ┆           ┆ }            ┆              ┆              │\n",
       "│ 0.1     ┆ spdsra  ┆ null  ┆ 1234962 ┆ … ┆ {null}    ┆ {null,{null} ┆ [1, 0, 900]  ┆ [1, null, …  │\n",
       "│         ┆         ┆       ┆         ┆   ┆           ┆ }            ┆              ┆ null]        │\n",
       "└─────────┴─────────┴───────┴─────────┴───┴───────────┴──────────────┴──────────────┴──────────────┘"
      ]
     },
     "execution_count": 13,
     "metadata": {},
     "output_type": "execute_result"
    }
   ],
   "source": [
    "raw.explode(\"data\").unnest(\"data\").unnest(\"vars\")"
   ]
  },
  {
   "cell_type": "code",
   "execution_count": null,
   "metadata": {},
   "outputs": [],
   "source": [
    "for year in trange(2006, 2025):\n",
    "    for month in trange(1, 13, leave=False):\n",
    "        archive_path = base / \"tables\" / f\"{year}-{month:02d}.parquet\"\n",
    "        if archive_path.exists() or date(year, month, 1) > date.today():\n",
    "            continue\n",
    "        load_data(year, month).write_parquet(archive_path)"
   ]
  },
  {
   "cell_type": "code",
   "execution_count": 4,
   "metadata": {},
   "outputs": [
    {
     "data": {
      "text/html": [
       "<div><style>\n",
       ".dataframe > thead > tr,\n",
       ".dataframe > tbody > tr {\n",
       "  text-align: right;\n",
       "  white-space: pre-wrap;\n",
       "}\n",
       "</style>\n",
       "<small>shape: (606_935, 14)</small><table border=\"1\" class=\"dataframe\"><thead><tr><th>lon</th><th>lat</th><th>elevation</th><th>WMO_block</th><th>WMO_num</th><th>name</th><th>network</th><th>date</th><th>T</th><th>variable</th><th>P1</th><th>agg_period</th><th>level_code</th><th>level_value</th></tr><tr><td>i64</td><td>i64</td><td>f64</td><td>i64</td><td>i64</td><td>str</td><td>str</td><td>datetime[ms]</td><td>f64</td><td>i64</td><td>i64</td><td>i64</td><td>i64</td><td>i64</td></tr></thead><tbody><tr><td>958959</td><td>4504139</td><td>68.0</td><td>null</td><td>null</td><td>&quot;S. Nicolo&#x27;&quot;</td><td>&quot;agrmet&quot;</td><td>2022-11-01 00:00:00</td><td>283.95</td><td>0</td><td>0</td><td>3600</td><td>103</td><td>2000</td></tr><tr><td>958959</td><td>4504139</td><td>68.0</td><td>null</td><td>null</td><td>&quot;S. Nicolo&#x27;&quot;</td><td>&quot;agrmet&quot;</td><td>2022-11-01 00:00:00</td><td>287.81</td><td>0</td><td>0</td><td>86400</td><td>103</td><td>2000</td></tr><tr><td>958959</td><td>4504139</td><td>68.0</td><td>null</td><td>null</td><td>&quot;S. Nicolo&#x27;&quot;</td><td>&quot;agrmet&quot;</td><td>2022-11-01 00:00:00</td><td>284.65</td><td>2</td><td>0</td><td>3600</td><td>103</td><td>2000</td></tr><tr><td>958959</td><td>4504139</td><td>68.0</td><td>null</td><td>null</td><td>&quot;S. Nicolo&#x27;&quot;</td><td>&quot;agrmet&quot;</td><td>2022-11-01 00:00:00</td><td>298.45</td><td>2</td><td>0</td><td>86400</td><td>103</td><td>2000</td></tr><tr><td>958959</td><td>4504139</td><td>68.0</td><td>null</td><td>null</td><td>&quot;S. Nicolo&#x27;&quot;</td><td>&quot;agrmet&quot;</td><td>2022-11-01 00:00:00</td><td>282.65</td><td>3</td><td>0</td><td>3600</td><td>103</td><td>2000</td></tr><tr><td>958959</td><td>4504139</td><td>68.0</td><td>null</td><td>null</td><td>&quot;S. Nicolo&#x27;&quot;</td><td>&quot;agrmet&quot;</td><td>2022-11-01 00:00:00</td><td>280.75</td><td>3</td><td>0</td><td>86400</td><td>103</td><td>2000</td></tr><tr><td>958959</td><td>4504139</td><td>68.0</td><td>null</td><td>null</td><td>&quot;S. Nicolo&#x27;&quot;</td><td>&quot;agrmet&quot;</td><td>2022-11-01 00:00:00</td><td>284.05</td><td>254</td><td>0</td><td>0</td><td>103</td><td>2000</td></tr><tr><td>1000494</td><td>4500253</td><td>41.0</td><td>null</td><td>null</td><td>&quot;Castellazzo Vi…</td><td>&quot;agrmet&quot;</td><td>2022-11-01 00:00:00</td><td>282.95</td><td>0</td><td>0</td><td>3600</td><td>103</td><td>2000</td></tr><tr><td>1000494</td><td>4500253</td><td>41.0</td><td>null</td><td>null</td><td>&quot;Castellazzo Vi…</td><td>&quot;agrmet&quot;</td><td>2022-11-01 00:00:00</td><td>287.99</td><td>0</td><td>0</td><td>86400</td><td>103</td><td>2000</td></tr><tr><td>1000494</td><td>4500253</td><td>41.0</td><td>null</td><td>null</td><td>&quot;Castellazzo Vi…</td><td>&quot;agrmet&quot;</td><td>2022-11-01 00:00:00</td><td>283.95</td><td>2</td><td>0</td><td>3600</td><td>103</td><td>2000</td></tr><tr><td>1000494</td><td>4500253</td><td>41.0</td><td>null</td><td>null</td><td>&quot;Castellazzo Vi…</td><td>&quot;agrmet&quot;</td><td>2022-11-01 00:00:00</td><td>298.65</td><td>2</td><td>0</td><td>86400</td><td>103</td><td>2000</td></tr><tr><td>1000494</td><td>4500253</td><td>41.0</td><td>null</td><td>null</td><td>&quot;Castellazzo Vi…</td><td>&quot;agrmet&quot;</td><td>2022-11-01 00:00:00</td><td>281.85</td><td>3</td><td>0</td><td>3600</td><td>103</td><td>2000</td></tr><tr><td>&hellip;</td><td>&hellip;</td><td>&hellip;</td><td>&hellip;</td><td>&hellip;</td><td>&hellip;</td><td>&hellip;</td><td>&hellip;</td><td>&hellip;</td><td>&hellip;</td><td>&hellip;</td><td>&hellip;</td><td>&hellip;</td><td>&hellip;</td></tr><tr><td>1188483</td><td>4471096</td><td>-3.0</td><td>null</td><td>null</td><td>&quot;MARTINELLA&quot;</td><td>&quot;locali&quot;</td><td>2022-11-30 23:45:00</td><td>276.63</td><td>0</td><td>0</td><td>900</td><td>103</td><td>2000</td></tr><tr><td>1188483</td><td>4471096</td><td>-3.0</td><td>null</td><td>null</td><td>&quot;MARTINELLA&quot;</td><td>&quot;locali&quot;</td><td>2022-11-30 23:45:00</td><td>276.66</td><td>2</td><td>0</td><td>900</td><td>103</td><td>2000</td></tr><tr><td>1188483</td><td>4471096</td><td>-3.0</td><td>null</td><td>null</td><td>&quot;MARTINELLA&quot;</td><td>&quot;locali&quot;</td><td>2022-11-30 23:45:00</td><td>276.59</td><td>3</td><td>0</td><td>900</td><td>103</td><td>2000</td></tr><tr><td>1188483</td><td>4471096</td><td>-3.0</td><td>null</td><td>null</td><td>&quot;MARTINELLA&quot;</td><td>&quot;locali&quot;</td><td>2022-11-30 23:45:00</td><td>276.59</td><td>254</td><td>0</td><td>0</td><td>103</td><td>2000</td></tr><tr><td>1224834</td><td>4481376</td><td>-1.0</td><td>null</td><td>null</td><td>&quot;GIRALDA&quot;</td><td>&quot;locali&quot;</td><td>2022-11-30 23:45:00</td><td>277.2</td><td>0</td><td>0</td><td>900</td><td>103</td><td>2000</td></tr><tr><td>1224834</td><td>4481376</td><td>-1.0</td><td>null</td><td>null</td><td>&quot;GIRALDA&quot;</td><td>&quot;locali&quot;</td><td>2022-11-30 23:45:00</td><td>277.22</td><td>2</td><td>0</td><td>900</td><td>103</td><td>2000</td></tr><tr><td>1224834</td><td>4481376</td><td>-1.0</td><td>null</td><td>null</td><td>&quot;GIRALDA&quot;</td><td>&quot;locali&quot;</td><td>2022-11-30 23:45:00</td><td>277.18</td><td>3</td><td>0</td><td>900</td><td>103</td><td>2000</td></tr><tr><td>1224834</td><td>4481376</td><td>-1.0</td><td>null</td><td>null</td><td>&quot;GIRALDA&quot;</td><td>&quot;locali&quot;</td><td>2022-11-30 23:45:00</td><td>277.21</td><td>254</td><td>0</td><td>0</td><td>103</td><td>2000</td></tr><tr><td>1224944</td><td>4467667</td><td>0.0</td><td>null</td><td>null</td><td>&quot;Porto Garibald…</td><td>&quot;marefe&quot;</td><td>2022-11-30 23:45:00</td><td>279.4</td><td>0</td><td>0</td><td>900</td><td>103</td><td>2000</td></tr><tr><td>1224944</td><td>4467667</td><td>0.0</td><td>null</td><td>null</td><td>&quot;Porto Garibald…</td><td>&quot;marefe&quot;</td><td>2022-11-30 23:45:00</td><td>279.55</td><td>2</td><td>0</td><td>900</td><td>103</td><td>2000</td></tr><tr><td>1224944</td><td>4467667</td><td>0.0</td><td>null</td><td>null</td><td>&quot;Porto Garibald…</td><td>&quot;marefe&quot;</td><td>2022-11-30 23:45:00</td><td>279.28</td><td>3</td><td>0</td><td>900</td><td>103</td><td>2000</td></tr><tr><td>1224944</td><td>4467667</td><td>0.0</td><td>null</td><td>null</td><td>&quot;Porto Garibald…</td><td>&quot;marefe&quot;</td><td>2022-11-30 23:45:00</td><td>279.35</td><td>254</td><td>0</td><td>0</td><td>103</td><td>2000</td></tr></tbody></table></div>"
      ],
      "text/plain": [
       "shape: (606_935, 14)\n",
       "┌─────────┬─────────┬───────────┬───────────┬───┬─────┬────────────┬────────────┬─────────────┐\n",
       "│ lon     ┆ lat     ┆ elevation ┆ WMO_block ┆ … ┆ P1  ┆ agg_period ┆ level_code ┆ level_value │\n",
       "│ ---     ┆ ---     ┆ ---       ┆ ---       ┆   ┆ --- ┆ ---        ┆ ---        ┆ ---         │\n",
       "│ i64     ┆ i64     ┆ f64       ┆ i64       ┆   ┆ i64 ┆ i64        ┆ i64        ┆ i64         │\n",
       "╞═════════╪═════════╪═══════════╪═══════════╪═══╪═════╪════════════╪════════════╪═════════════╡\n",
       "│ 958959  ┆ 4504139 ┆ 68.0      ┆ null      ┆ … ┆ 0   ┆ 3600       ┆ 103        ┆ 2000        │\n",
       "│ 958959  ┆ 4504139 ┆ 68.0      ┆ null      ┆ … ┆ 0   ┆ 86400      ┆ 103        ┆ 2000        │\n",
       "│ 958959  ┆ 4504139 ┆ 68.0      ┆ null      ┆ … ┆ 0   ┆ 3600       ┆ 103        ┆ 2000        │\n",
       "│ 958959  ┆ 4504139 ┆ 68.0      ┆ null      ┆ … ┆ 0   ┆ 86400      ┆ 103        ┆ 2000        │\n",
       "│ 958959  ┆ 4504139 ┆ 68.0      ┆ null      ┆ … ┆ 0   ┆ 3600       ┆ 103        ┆ 2000        │\n",
       "│ …       ┆ …       ┆ …         ┆ …         ┆ … ┆ …   ┆ …          ┆ …          ┆ …           │\n",
       "│ 1224834 ┆ 4481376 ┆ -1.0      ┆ null      ┆ … ┆ 0   ┆ 0          ┆ 103        ┆ 2000        │\n",
       "│ 1224944 ┆ 4467667 ┆ 0.0       ┆ null      ┆ … ┆ 0   ┆ 900        ┆ 103        ┆ 2000        │\n",
       "│ 1224944 ┆ 4467667 ┆ 0.0       ┆ null      ┆ … ┆ 0   ┆ 900        ┆ 103        ┆ 2000        │\n",
       "│ 1224944 ┆ 4467667 ┆ 0.0       ┆ null      ┆ … ┆ 0   ┆ 900        ┆ 103        ┆ 2000        │\n",
       "│ 1224944 ┆ 4467667 ┆ 0.0       ┆ null      ┆ … ┆ 0   ┆ 0          ┆ 103        ┆ 2000        │\n",
       "└─────────┴─────────┴───────────┴───────────┴───┴─────┴────────────┴────────────┴─────────────┘"
      ]
     },
     "execution_count": 4,
     "metadata": {},
     "output_type": "execute_result"
    }
   ],
   "source": [
    "load_data(2022, 11).sort(\"date\")"
   ]
  },
  {
   "cell_type": "code",
   "execution_count": null,
   "metadata": {},
   "outputs": [],
   "source": []
  }
 ],
 "metadata": {
  "kernelspec": {
   "display_name": "arrow",
   "language": "python",
   "name": "python3"
  },
  "language_info": {
   "codemirror_mode": {
    "name": "ipython",
    "version": 3
   },
   "file_extension": ".py",
   "mimetype": "text/x-python",
   "name": "python",
   "nbconvert_exporter": "python",
   "pygments_lexer": "ipython3",
   "version": "3.12.1"
  }
 },
 "nbformat": 4,
 "nbformat_minor": 2
}
