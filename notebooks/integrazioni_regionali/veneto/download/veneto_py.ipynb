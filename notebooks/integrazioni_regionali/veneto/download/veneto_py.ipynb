{
 "cells": [
  {
   "cell_type": "code",
   "execution_count": 1,
   "metadata": {},
   "outputs": [],
   "source": [
    "import requests\n",
    "import json\n",
    "import polars as pl\n",
    "from pathlib import Path\n",
    "\n",
    "address_stazioni = \"https://api.arpa.veneto.it/REST/v1/meteo_storici\"\n",
    "def payload_stazioni(year, coords = 18):\n",
    "    return {\"coordcd\": str(coords), \"anno\": str(year)}"
   ]
  },
  {
   "cell_type": "code",
   "execution_count": 7,
   "metadata": {},
   "outputs": [],
   "source": [
    "with requests.Session() as s:\n",
    "    metas = [pl.from_records(s.get(address_stazioni, params=payload_stazioni(year)).json()[\"data\"]) for year in range(2010, 2024)]"
   ]
  },
  {
   "cell_type": "code",
   "execution_count": 56,
   "metadata": {},
   "outputs": [],
   "source": [
    "pl.concat(metas, how='vertical').unique([\"codice_stazione\", \"codseq\", \"longitudine\", \"latitudine\"]).drop(\"point\").write_csv(Path.home()/\"Local_Workspace\"/\"Datasets\"/\"ARPA\"/\"VENETO\"/\"metadata.csv\") #.filter(pl.struct(pl.col(\"codice_stazione\", \"codseq\")))"
   ]
  },
  {
   "cell_type": "code",
   "execution_count": 36,
   "metadata": {},
   "outputs": [],
   "source": [
    "metadata2015 = pl.from_records(metadata2015)\n",
    "metadata2023 = pl.from_records(metadata2023)"
   ]
  },
  {
   "cell_type": "code",
   "execution_count": 37,
   "metadata": {},
   "outputs": [
    {
     "data": {
      "text/html": [
       "<div><style>\n",
       ".dataframe > thead > tr,\n",
       ".dataframe > tbody > tr {\n",
       "  text-align: right;\n",
       "  white-space: pre-wrap;\n",
       "}\n",
       "</style>\n",
       "<small>shape: (6, 10)</small><table border=\"1\" class=\"dataframe\"><thead><tr><th>codice_stazione</th><th>codseq</th><th>nome_stazione</th><th>point</th><th>longitudine</th><th>latitudine</th><th>altitude</th><th>tipo</th><th>comune</th><th>provincia</th></tr><tr><td>i64</td><td>i64</td><td>str</td><td>str</td><td>f64</td><td>f64</td><td>f64</td><td>str</td><td>str</td><td>str</td></tr></thead><tbody><tr><td>180</td><td>300001336</td><td>&quot;Este - Calaone…</td><td>&quot;{&quot;type&quot;: &quot;Poin…</td><td>11.654774</td><td>45.242011</td><td>104.0</td><td>&quot;TARIA2M&quot;</td><td>&quot;ESTE&quot;</td><td>&quot;PADOVA&quot;</td></tr><tr><td>33</td><td>300001827</td><td>&quot;Follina antinc…</td><td>&quot;{&quot;type&quot;: &quot;Poin…</td><td>12.117079</td><td>45.957034</td><td>311.0</td><td>&quot;TARIA2M&quot;</td><td>&quot;FOLLINA&quot;</td><td>&quot;TREVISO&quot;</td></tr><tr><td>130</td><td>300000602</td><td>&quot;Montecchia di …</td><td>&quot;{&quot;type&quot;: &quot;Poin…</td><td>11.283676</td><td>45.468706</td><td>51.0</td><td>&quot;TARIA2M&quot;</td><td>&quot;MONTECCHIA DI …</td><td>&quot;VERONA&quot;</td></tr><tr><td>150</td><td>300000965</td><td>&quot;Noventa Vicent…</td><td>&quot;{&quot;type&quot;: &quot;Poin…</td><td>11.566576</td><td>45.26457</td><td>13.0</td><td>&quot;TARIA2M&quot;</td><td>&quot;NOVENTA VICENT…</td><td>&quot;VICENZA&quot;</td></tr><tr><td>153</td><td>300001011</td><td>&quot;Quinto Vicenti…</td><td>&quot;{&quot;type&quot;: &quot;Poin…</td><td>11.630334</td><td>45.569169</td><td>34.0</td><td>&quot;TARIA2M&quot;</td><td>&quot;QUINTO VICENTI…</td><td>&quot;VICENZA&quot;</td></tr><tr><td>452</td><td>300008310</td><td>&quot;Verona - Parco…</td><td>&quot;{&quot;type&quot;: &quot;Poin…</td><td>10.953863</td><td>45.462095</td><td>67.0</td><td>&quot;TARIA2M&quot;</td><td>&quot;VERONA&quot;</td><td>&quot;VERONA&quot;</td></tr></tbody></table></div>"
      ],
      "text/plain": [
       "shape: (6, 10)\n",
       "┌────────────┬───────────┬────────────┬───────────┬───┬──────────┬─────────┬───────────┬───────────┐\n",
       "│ codice_sta ┆ codseq    ┆ nome_stazi ┆ point     ┆ … ┆ altitude ┆ tipo    ┆ comune    ┆ provincia │\n",
       "│ zione      ┆ ---       ┆ one        ┆ ---       ┆   ┆ ---      ┆ ---     ┆ ---       ┆ ---       │\n",
       "│ ---        ┆ i64       ┆ ---        ┆ str       ┆   ┆ f64      ┆ str     ┆ str       ┆ str       │\n",
       "│ i64        ┆           ┆ str        ┆           ┆   ┆          ┆         ┆           ┆           │\n",
       "╞════════════╪═══════════╪════════════╪═══════════╪═══╪══════════╪═════════╪═══════════╪═══════════╡\n",
       "│ 180        ┆ 300001336 ┆ Este -     ┆ {\"type\":  ┆ … ┆ 104.0    ┆ TARIA2M ┆ ESTE      ┆ PADOVA    │\n",
       "│            ┆           ┆ Calaone    ┆ \"Point\",  ┆   ┆          ┆         ┆           ┆           │\n",
       "│            ┆           ┆            ┆ \"coordina ┆   ┆          ┆         ┆           ┆           │\n",
       "│            ┆           ┆            ┆ tes\":…    ┆   ┆          ┆         ┆           ┆           │\n",
       "│ 33         ┆ 300001827 ┆ Follina    ┆ {\"type\":  ┆ … ┆ 311.0    ┆ TARIA2M ┆ FOLLINA   ┆ TREVISO   │\n",
       "│            ┆           ┆ antincendi ┆ \"Point\",  ┆   ┆          ┆         ┆           ┆           │\n",
       "│            ┆           ┆ o          ┆ \"coordina ┆   ┆          ┆         ┆           ┆           │\n",
       "│            ┆           ┆            ┆ tes\":…    ┆   ┆          ┆         ┆           ┆           │\n",
       "│ 130        ┆ 300000602 ┆ Montecchia ┆ {\"type\":  ┆ … ┆ 51.0     ┆ TARIA2M ┆ MONTECCHI ┆ VERONA    │\n",
       "│            ┆           ┆ di Crosara ┆ \"Point\",  ┆   ┆          ┆         ┆ A DI      ┆           │\n",
       "│            ┆           ┆            ┆ \"coordina ┆   ┆          ┆         ┆ CROSARA   ┆           │\n",
       "│            ┆           ┆            ┆ tes\":…    ┆   ┆          ┆         ┆           ┆           │\n",
       "│ 150        ┆ 300000965 ┆ Noventa    ┆ {\"type\":  ┆ … ┆ 13.0     ┆ TARIA2M ┆ NOVENTA   ┆ VICENZA   │\n",
       "│            ┆           ┆ Vicentina  ┆ \"Point\",  ┆   ┆          ┆         ┆ VICENTINA ┆           │\n",
       "│            ┆           ┆            ┆ \"coordina ┆   ┆          ┆         ┆           ┆           │\n",
       "│            ┆           ┆            ┆ tes\":…    ┆   ┆          ┆         ┆           ┆           │\n",
       "│ 153        ┆ 300001011 ┆ Quinto     ┆ {\"type\":  ┆ … ┆ 34.0     ┆ TARIA2M ┆ QUINTO    ┆ VICENZA   │\n",
       "│            ┆           ┆ Vicentino  ┆ \"Point\",  ┆   ┆          ┆         ┆ VICENTINO ┆           │\n",
       "│            ┆           ┆            ┆ \"coordina ┆   ┆          ┆         ┆           ┆           │\n",
       "│            ┆           ┆            ┆ tes\":…    ┆   ┆          ┆         ┆           ┆           │\n",
       "│ 452        ┆ 300008310 ┆ Verona -   ┆ {\"type\":  ┆ … ┆ 67.0     ┆ TARIA2M ┆ VERONA    ┆ VERONA    │\n",
       "│            ┆           ┆ Parco      ┆ \"Point\",  ┆   ┆          ┆         ┆           ┆           │\n",
       "│            ┆           ┆ Adige Nord ┆ \"coordina ┆   ┆          ┆         ┆           ┆           │\n",
       "│            ┆           ┆            ┆ tes\":…    ┆   ┆          ┆         ┆           ┆           │\n",
       "└────────────┴───────────┴────────────┴───────────┴───┴──────────┴─────────┴───────────┴───────────┘"
      ]
     },
     "execution_count": 37,
     "metadata": {},
     "output_type": "execute_result"
    }
   ],
   "source": [
    "metadata2015.join(metadata2023, on=\"codice_stazione\", how=\"anti\")"
   ]
  },
  {
   "cell_type": "code",
   "execution_count": null,
   "metadata": {},
   "outputs": [],
   "source": []
  }
 ],
 "metadata": {
  "kernelspec": {
   "display_name": "tesi",
   "language": "python",
   "name": "python3"
  },
  "language_info": {
   "codemirror_mode": {
    "name": "ipython",
    "version": 3
   },
   "file_extension": ".py",
   "mimetype": "text/x-python",
   "name": "python",
   "nbconvert_exporter": "python",
   "pygments_lexer": "ipython3",
   "version": "3.12.1"
  }
 },
 "nbformat": 4,
 "nbformat_minor": 2
}
