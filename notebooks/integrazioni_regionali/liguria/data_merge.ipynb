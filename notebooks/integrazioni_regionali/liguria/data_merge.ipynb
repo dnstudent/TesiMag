{
 "cells": [
  {
   "cell_type": "code",
   "execution_count": 1,
   "metadata": {
    "vscode": {
     "languageId": "r"
    }
   },
   "outputs": [],
   "source": [
    "dataset <- \"ARPAL\"\n",
    "state <- \"Liguria\"\n"
   ]
  },
  {
   "cell_type": "code",
   "execution_count": 2,
   "metadata": {
    "vscode": {
     "languageId": "r"
    }
   },
   "outputs": [
    {
     "name": "stderr",
     "output_type": "stream",
     "text": [
      "Linking to GEOS 3.11.0, GDAL 3.5.3, PROJ 9.1.0; sf_use_s2() is TRUE\n",
      "\n"
     ]
    }
   ],
   "source": [
    "setwd(fs::path_abs(\"~/Local_Workspace/TesiMag\"))\n",
    "library(arrow, warn.conflicts = FALSE)\n",
    "library(dplyr, warn.conflicts = FALSE)\n",
    "\n",
    "source(\"src/database/tools.R\")\n",
    "source(\"src/database/insert.R\")\n",
    "source(\"src/database/write.R\")\n",
    "source(\"src/database/startup.R\")\n",
    "source(\"src/database/plot.R\")\n",
    "source(\"src/database/query/spatial.R\")\n",
    "source(\"src/database/query/data.R\")\n",
    "source(\"src/merging/analysis.R\")\n",
    "source(\"src/merging/display.R\")\n",
    "source(\"src/merging/combining.R\")\n",
    "\n",
    "conns <- load_dbs()\n",
    "state_boundaries <- query_boundary(conns$stations, state, \"state\")\n"
   ]
  },
  {
   "cell_type": "code",
   "execution_count": 3,
   "metadata": {
    "vscode": {
     "languageId": "r"
    }
   },
   "outputs": [],
   "source": [
    "ds_meta <- query_checkpoint_meta(dataset, \"qc1\", conns$data) |>\n",
    "    collect()\n",
    "scia_meta <- query_checkpoint_meta(\"SCIA\", \"qc1\", conns$data) |>\n",
    "    collect() |>\n",
    "    st_md_to_sf() |>\n",
    "    st_filter(state_boundaries |> st_buffer(dist = 1000), .predicate = st_within) |>\n",
    "    st_drop_geometry() |>\n",
    "    filter(!state %in% c(\"Piemonte\", \"Emilia-Romagna\", \"Toscana\"), !(network %in% c(\"Sinottica\", \"Mareografica\")))\n",
    "\n",
    "metadata <- bind_rows(ds_meta, scia_meta) |> mutate(key = row_number()) #|> mutate(dataset = if_else(dataset == \"SCIA\", 2L, 1L))\n",
    "metadata_db <- copy_to(conns$data, metas, \"metas_tmp\", overwrite = TRUE)\n",
    "matches <- close_matches(metas, 10000, conns$stations)\n",
    "\n",
    "data <- query_checkpoint_data(c(dataset, \"SCIA\"), \"qc1\", conns$data) |>\n",
    "    filter(valid) |>\n",
    "    select(-starts_with(\"qc_\"), -valid) |>\n",
    "    left_join(metas |> select(dataset, sensor_key, key), by = c(\"dataset\", \"sensor_key\"))\n",
    "\n",
    "smatches <- series_matches(data, matches, metas)\n"
   ]
  },
  {
   "cell_type": "code",
   "execution_count": 4,
   "metadata": {
    "vscode": {
     "languageId": "r"
    }
   },
   "outputs": [],
   "source": [
    "analysis1 <- series_matches_analysis(smatches, data, metas)\n",
    "write_xlsx_analysis(analysis1, \"notebooks/integrazioni_regionali/liguria/analysis.xlsx\", starts_with(\"user_code\"), starts_with(\"sensor_id\"))\n"
   ]
  },
  {
   "cell_type": "code",
   "execution_count": 5,
   "metadata": {
    "vscode": {
     "languageId": "r"
    }
   },
   "outputs": [],
   "source": [
    "source(\"notebooks/integrazioni_regionali/liguria/procedures/match_taggers.R\")\n",
    "source(\"src/merging/tagging.R\")\n",
    "tagged_analysis <- tag_same_series(analysis1) |>\n",
    "    tag_manual() |>\n",
    "    tag_mergeable() |>\n",
    "    default_logic(require_all = TRUE)\n",
    "tagged_analysis |> write_xlsx_analysis(\"notebooks/integrazioni_regionali/liguria/same_series_analysis.xlsx\", starts_with(\"user_code\"), starts_with(\"sensor_id\"), starts_with(\"tag_\"))\n"
   ]
  },
  {
   "cell_type": "code",
   "execution_count": 6,
   "metadata": {
    "vscode": {
     "languageId": "r"
    }
   },
   "outputs": [
    {
     "ename": "ERROR",
     "evalue": "Error in eval(expr, envir, enclos): oggetto 'metadata' non trovato\n",
     "output_type": "error",
     "traceback": [
      "Error in eval(expr, envir, enclos): oggetto 'metadata' non trovato\nTraceback:\n",
      "1. series_groups(tagged_analysis, metadata, data, tag_same_series)",
      "2. add_nonmatching(graph_from_isedge(graph_edgelist, {\n .     {\n .         tag\n .     }\n . }, FALSE), metadata)",
      "3. anti_join(distinct(metadata, key), tibble(key = already_there), \n .     by = \"key\")",
      "4. distinct(metadata, key)"
     ]
    }
   ],
   "source": [
    "gs <- series_groups(tagged_analysis, metadata, data, tag_same_series)\n",
    "ranked_series_groups <- rank_series_groups(gs$table, metadata, merging_datasets, desc(dataset), desc(sensor_last))\n",
    "incomp <- incompatible_merges(data, ranked_series_groups, tagged_analysis, 1L, 0.5)\n"
   ]
  },
  {
   "cell_type": "code",
   "execution_count": null,
   "metadata": {
    "vscode": {
     "languageId": "r"
    }
   },
   "outputs": [],
   "source": [
    "incomp |>\n",
    "    left_join(metadata |> select(key, name, dataset, sensor_key), by = c(\"key_x\" = \"key\")) |>\n",
    "    left_join(metadata |> select(key, name, dataset, sensor_key), by = c(\"key_y\" = \"key\")) |>\n",
    "    arrange(desc(abs(k0)))\n"
   ]
  },
  {
   "cell_type": "code",
   "execution_count": null,
   "metadata": {
    "vscode": {
     "languageId": "r"
    }
   },
   "outputs": [],
   "source": [
    "merge_results <- dynamic_merge(data, ranked_series_groups, metadata, tagged_analysis, 1)\n",
    "db <- merged_checkpoint(merge_results, metadata, \"FVG\")\n",
    "rm(merge_results)\n",
    "gc()"
   ]
  },
  {
   "cell_type": "code",
   "execution_count": null,
   "metadata": {
    "vscode": {
     "languageId": "r"
    }
   },
   "outputs": [],
   "source": [
    "db <- query_checkpoint(\"FVG\", \"merged\", conns$data, all_stations = FALSE)\n",
    "pd <- ymonthly_availabilities(db$data)\n",
    "pd$plot + facet_grid(variable ~ .)"
   ]
  },
  {
   "cell_type": "code",
   "execution_count": null,
   "metadata": {
    "vscode": {
     "languageId": "r"
    }
   },
   "outputs": [],
   "source": [
    "pd <- spatial_availabilities(pd[[2]], db$metadata, state_boundaries)\n",
    "pd$plot + facet_grid(variable ~ .)"
   ]
  }
 ],
 "metadata": {
  "kernelspec": {
   "display_name": "R",
   "language": "R",
   "name": "ir"
  },
  "language_info": {
   "codemirror_mode": "r",
   "file_extension": ".r",
   "mimetype": "text/x-r-source",
   "name": "R",
   "pygments_lexer": "r",
   "version": "4.3.2"
  }
 },
 "nbformat": 4,
 "nbformat_minor": 2
}
