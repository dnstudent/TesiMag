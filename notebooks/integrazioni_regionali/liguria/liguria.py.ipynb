{
 "cells": [
  {
   "cell_type": "code",
   "execution_count": 31,
   "metadata": {},
   "outputs": [],
   "source": [
    "from pathlib import Path\n",
    "import re\n",
    "import pandas as pd\n",
    "from io import StringIO\n",
    "import polars as pl\n",
    "from tqdm.notebook import tqdm\n",
    "from requests import Session\n",
    "from datetime import datetime, date\n",
    "\n",
    "\n",
    "liguria_path = Path.home() / \"Local_Workspace/Datasets/ARPA/LIGURIA\"\n",
    "# meta = pl.from_pandas(pd.read_html(liguria_path / \"Lista Stazioni.html\", header=0, extract_links=\"all\")[0].iloc[::2])\n",
    "meta = pl.read_ipc(\"../../../db/metadata/ARPA Liguria.arrow\")"
   ]
  },
  {
   "cell_type": "code",
   "execution_count": 18,
   "metadata": {},
   "outputs": [],
   "source": [
    "input_schema = {\n",
    "    \"Inizio rilevazione\": pl.Date(),\n",
    "    \"Fine rilevazione\": pl.Date(),\n",
    "    \"Valore\": pl.Float32(),\n",
    "    \"Dataset\": pl.Utf8(),\n",
    "    \"Valido\": pl.Utf8(),\n",
    "}\n",
    "\n",
    "output_schema = {\n",
    "    \"date\": pl.Date(),\n",
    "    \"value\": pl.Float32(),\n",
    "    \"Dataset\": pl.Utf8(),\n",
    "    \"valid\": pl.Boolean(),\n",
    "}\n",
    "\n",
    "\n",
    "def parse_table(text: str):\n",
    "    if text.startswith(\"Nessun dato\"):\n",
    "        table = pl.DataFrame(schema=output_schema)\n",
    "        dati_info = {\"read\": 0, \"valid\": 0}\n",
    "    else:\n",
    "        table, dati_info = text.strip().split(\"\\n\\n\")\n",
    "        table = (\n",
    "            pl.read_csv(StringIO(table), schema=input_schema)\n",
    "            .rename({\"Inizio rilevazione\": \"date\", \"Valore\": \"value\"})\n",
    "            .select(\n",
    "                \"date\", \"value\", \"Dataset\", pl.col(\"Valido\").eq(\"Sì\").alias(\"valid\")\n",
    "            )\n",
    "        )\n",
    "        dati_info = list(map(lambda line: line.split(\",\")[1], dati_info.split(\"\\n\")))\n",
    "        dati_info = {\"read\": dati_info[0], \"valid\": dati_info[1]}\n",
    "    return table, dati_info\n",
    "\n",
    "\n",
    "tvars = {\"MASSIMA\": \"T_MAX\", \"MINIMA\": \"T_MIN\"}\n",
    "\n",
    "\n",
    "class StationData:\n",
    "    def __init__(self, line: str):\n",
    "        parts = line.split(\"\\n\", maxsplit=3)\n",
    "        self.anagrafica = parts[0].strip()\n",
    "        self.variable = tvars[re.search(\"MASSIMA|MINIMA\", parts[1]).group(0)]\n",
    "        self.table, self.dati_info = parse_table(parts[3])\n",
    "        self.table = self.table.with_columns(\n",
    "            pl.lit(self.anagrafica).alias(\"anagrafica\"),\n",
    "            pl.lit(self.variable).alias(\"variable\"),\n",
    "        )"
   ]
  },
  {
   "cell_type": "code",
   "execution_count": 19,
   "metadata": {},
   "outputs": [],
   "source": [
    "data_tables = {}\n",
    "for fragment_path in liguria_path.glob(\"*.csv\"):\n",
    "    with open(fragment_path, \"rt\", encoding=\"iso-8859-1\") as fragment_handle:\n",
    "        fragments = fragment_handle.read().split('\"Stazione\",')\n",
    "    fragments = [block.strip() for block in fragments if block.strip()]\n",
    "    for fragment in fragments:\n",
    "        sd = StationData(fragment)\n",
    "        data_tables[sd.anagrafica].appstop(sd.table)\n",
    "full_data = pl.concat(data_tables).sort(\"variable\", \"anagrafica\", \"date\")\n",
    "full_data.drop(\"Dataset\").write_ipc(liguria_path / \"dataset.arrow\")"
   ]
  },
  {
   "cell_type": "code",
   "execution_count": 3,
   "metadata": {},
   "outputs": [],
   "source": [
    "full_data = pl.read_ipc(liguria_path / \"dataset.arrow\")"
   ]
  },
  {
   "cell_type": "code",
   "execution_count": 6,
   "metadata": {},
   "outputs": [],
   "source": [
    "stations_info = (\n",
    "    pl.from_records(\n",
    "        pd.read_html(\n",
    "            liguria_path / \"Lista Stazioni.html\", header=0, extract_links=\"all\"\n",
    "        )[0].iloc[::2, 0]\n",
    "    )\n",
    "    .rename({\"column_0\": \"identifier\", \"column_1\": \"url\"})\n",
    "    .with_columns(\n",
    "        pl.col(\"url\").str.replace(\n",
    "            r\"../\", \"https://ambientepub.regione.liguria.it/SiraQualMeteo/\"\n",
    "        )\n",
    "    )\n",
    ")\n",
    "\n",
    "\n",
    "# with Session() as session:\n",
    "#     for identifier, url in tqdm(stations_info.iter_rows(), total = len(stations_info)):\n",
    "#         with open(liguria_path / \"stazioni\" / f\"{identifier}.html\", \"wt\") as station_file:\n",
    "#             station_file.write(session.get(url).text)"
   ]
  },
  {
   "cell_type": "code",
   "execution_count": 32,
   "metadata": {},
   "outputs": [],
   "source": [
    "def parse_meta(table):\n",
    "    start_date = re.search(r\"\\d{2}/\\d{4}\", table.iloc[6, 2])\n",
    "    if start_date:\n",
    "        start_date = datetime.strptime(start_date.group(0), \"%m/%Y\").date()\n",
    "    else:\n",
    "        start_date = None\n",
    "    return pl.from_dict(\n",
    "        {\n",
    "            \"lon\": float(table.iloc[3, 4]),\n",
    "            \"lat\": float(table.iloc[4, 4]),\n",
    "            \"start_date\": start_date,\n",
    "        },\n",
    "        schema_overrides={\"start_date\": pl.Date()},\n",
    "    )\n",
    "\n",
    "\n",
    "def retr_data(identifiers):\n",
    "    tables = pl.concat(\n",
    "        [\n",
    "            parse_meta(\n",
    "                pd.read_html(\n",
    "                    liguria_path / \"stazioni\" / f\"{identifier}.html\", encoding=\"utf-8\"\n",
    "                )[0]\n",
    "            )\n",
    "            for identifier in identifiers\n",
    "        ]\n",
    "    )\n",
    "\n",
    "    return pl.concat(\n",
    "        [pl.DataFrame({\"identifier\": identifiers}), tables], how=\"horizontal\"\n",
    "    )"
   ]
  },
  {
   "cell_type": "code",
   "execution_count": 33,
   "metadata": {},
   "outputs": [],
   "source": [
    "meta = (\n",
    "    meta.join(\n",
    "        retr_data(stations_info[\"identifier\"].to_list()),\n",
    "        on=\"identifier\",\n",
    "        how=\"left\",\n",
    "        validate=\"1:1\",\n",
    "    )\n",
    "    .sort(\"anagrafica\", \"start_date\")\n",
    "    .with_columns(\n",
    "        pl.col(\"start_date\")\n",
    "        .shift(-1)\n",
    "        .over(\"anagrafica\")\n",
    "        .alias(\"stop_date\")\n",
    "        .dt.offset_by(\"-1d\")\n",
    "    )\n",
    "    .with_columns(\n",
    "        pl.col(\"start_date\").fill_null(date(2000, 1, 1)),\n",
    "        pl.col(\"stop_date\").fill_null(date(2023, 12, 31)),\n",
    "    )\n",
    "    .filter(\n",
    "        pl.col(\"anagrafica\").ne(\"BOLSINE\")\n",
    "        | pl.col(\"start_date\").ne(date(2000, 1, 1))\n",
    "        | pl.col(\"stop_date\").ne(date(2023, 12, 31))\n",
    "    )\n",
    ")"
   ]
  },
  {
   "cell_type": "code",
   "execution_count": 8,
   "metadata": {},
   "outputs": [],
   "source": [
    "fd1 = (\n",
    "    full_data.join(\n",
    "        meta[[\"identifier\", \"anagrafica\", \"start_date\", \"stop_date\"]], on=\"anagrafica\"\n",
    "    )\n",
    "    .filter(\n",
    "        (pl.col(\"start_date\") <= pl.col(\"date\"))\n",
    "        & (pl.col(\"date\") <= pl.col(\"stop_date\"))\n",
    "    )\n",
    "    .drop(\"start_date\", \"stop_date\")\n",
    ")"
   ]
  },
  {
   "cell_type": "code",
   "execution_count": 11,
   "metadata": {},
   "outputs": [
    {
     "data": {
      "text/html": [
       "<div><style>\n",
       ".dataframe > thead > tr,\n",
       ".dataframe > tbody > tr {\n",
       "  text-align: right;\n",
       "  white-space: pre-wrap;\n",
       "}\n",
       "</style>\n",
       "<small>shape: (10_854, 6)</small><table border=\"1\" class=\"dataframe\"><thead><tr><th>date</th><th>value</th><th>valid</th><th>anagrafica</th><th>variable</th><th>identifier</th></tr><tr><td>date</td><td>f32</td><td>bool</td><td>str</td><td>str</td><td>str</td></tr></thead><tbody><tr><td>2015-07-14</td><td>34.0</td><td>true</td><td>&quot;AIROLE&quot;</td><td>&quot;T_MAX&quot;</td><td>&quot;AIROL&quot;</td></tr><tr><td>2015-07-14</td><td>32.400002</td><td>true</td><td>&quot;AIROLE&quot;</td><td>&quot;T_MAX&quot;</td><td>&quot;AIROL&quot;</td></tr><tr><td>2015-07-14</td><td>22.0</td><td>true</td><td>&quot;AIROLE&quot;</td><td>&quot;T_MIN&quot;</td><td>&quot;AIROL&quot;</td></tr><tr><td>2015-07-14</td><td>20.0</td><td>true</td><td>&quot;AIROLE&quot;</td><td>&quot;T_MIN&quot;</td><td>&quot;AIROL&quot;</td></tr><tr><td>2015-07-15</td><td>32.099998</td><td>true</td><td>&quot;AIROLE&quot;</td><td>&quot;T_MAX&quot;</td><td>&quot;AIROL&quot;</td></tr><tr><td>2015-07-15</td><td>31.0</td><td>true</td><td>&quot;AIROLE&quot;</td><td>&quot;T_MAX&quot;</td><td>&quot;AIROL&quot;</td></tr><tr><td>2015-07-15</td><td>22.0</td><td>true</td><td>&quot;AIROLE&quot;</td><td>&quot;T_MIN&quot;</td><td>&quot;AIROL&quot;</td></tr><tr><td>2015-07-15</td><td>20.299999</td><td>true</td><td>&quot;AIROLE&quot;</td><td>&quot;T_MIN&quot;</td><td>&quot;AIROL&quot;</td></tr><tr><td>2015-07-16</td><td>31.799999</td><td>true</td><td>&quot;AIROLE&quot;</td><td>&quot;T_MAX&quot;</td><td>&quot;AIROL&quot;</td></tr><tr><td>2015-07-16</td><td>31.9</td><td>true</td><td>&quot;AIROLE&quot;</td><td>&quot;T_MAX&quot;</td><td>&quot;AIROL&quot;</td></tr><tr><td>2015-07-16</td><td>21.799999</td><td>true</td><td>&quot;AIROLE&quot;</td><td>&quot;T_MIN&quot;</td><td>&quot;AIROL&quot;</td></tr><tr><td>2015-07-16</td><td>19.6</td><td>true</td><td>&quot;AIROLE&quot;</td><td>&quot;T_MIN&quot;</td><td>&quot;AIROL&quot;</td></tr><tr><td>&hellip;</td><td>&hellip;</td><td>&hellip;</td><td>&hellip;</td><td>&hellip;</td><td>&hellip;</td></tr><tr><td>2015-12-29</td><td>15.0</td><td>true</td><td>&quot;VERZI LOANO&quot;</td><td>&quot;T_MAX&quot;</td><td>&quot;VERZI&quot;</td></tr><tr><td>2015-12-29</td><td>14.3</td><td>true</td><td>&quot;VERZI LOANO&quot;</td><td>&quot;T_MAX&quot;</td><td>&quot;VERZI&quot;</td></tr><tr><td>2015-12-29</td><td>6.5</td><td>true</td><td>&quot;VERZI LOANO&quot;</td><td>&quot;T_MIN&quot;</td><td>&quot;VERZI&quot;</td></tr><tr><td>2015-12-29</td><td>6.1</td><td>true</td><td>&quot;VERZI LOANO&quot;</td><td>&quot;T_MIN&quot;</td><td>&quot;VERZI&quot;</td></tr><tr><td>2015-12-30</td><td>14.0</td><td>true</td><td>&quot;VERZI LOANO&quot;</td><td>&quot;T_MAX&quot;</td><td>&quot;VERZI&quot;</td></tr><tr><td>2015-12-30</td><td>12.1</td><td>true</td><td>&quot;VERZI LOANO&quot;</td><td>&quot;T_MAX&quot;</td><td>&quot;VERZI&quot;</td></tr><tr><td>2015-12-30</td><td>5.0</td><td>true</td><td>&quot;VERZI LOANO&quot;</td><td>&quot;T_MIN&quot;</td><td>&quot;VERZI&quot;</td></tr><tr><td>2015-12-30</td><td>6.0</td><td>true</td><td>&quot;VERZI LOANO&quot;</td><td>&quot;T_MIN&quot;</td><td>&quot;VERZI&quot;</td></tr><tr><td>2015-12-31</td><td>12.0</td><td>true</td><td>&quot;VERZI LOANO&quot;</td><td>&quot;T_MAX&quot;</td><td>&quot;VERZI&quot;</td></tr><tr><td>2015-12-31</td><td>8.3</td><td>true</td><td>&quot;VERZI LOANO&quot;</td><td>&quot;T_MAX&quot;</td><td>&quot;VERZI&quot;</td></tr><tr><td>2015-12-31</td><td>3.0</td><td>true</td><td>&quot;VERZI LOANO&quot;</td><td>&quot;T_MIN&quot;</td><td>&quot;VERZI&quot;</td></tr><tr><td>2015-12-31</td><td>3.3</td><td>true</td><td>&quot;VERZI LOANO&quot;</td><td>&quot;T_MIN&quot;</td><td>&quot;VERZI&quot;</td></tr></tbody></table></div>"
      ],
      "text/plain": [
       "shape: (10_854, 6)\n",
       "┌────────────┬───────────┬───────┬─────────────┬──────────┬────────────┐\n",
       "│ date       ┆ value     ┆ valid ┆ anagrafica  ┆ variable ┆ identifier │\n",
       "│ ---        ┆ ---       ┆ ---   ┆ ---         ┆ ---      ┆ ---        │\n",
       "│ date       ┆ f32       ┆ bool  ┆ str         ┆ str      ┆ str        │\n",
       "╞════════════╪═══════════╪═══════╪═════════════╪══════════╪════════════╡\n",
       "│ 2015-07-14 ┆ 34.0      ┆ true  ┆ AIROLE      ┆ T_MAX    ┆ AIROL      │\n",
       "│ 2015-07-14 ┆ 32.400002 ┆ true  ┆ AIROLE      ┆ T_MAX    ┆ AIROL      │\n",
       "│ 2015-07-14 ┆ 22.0      ┆ true  ┆ AIROLE      ┆ T_MIN    ┆ AIROL      │\n",
       "│ 2015-07-14 ┆ 20.0      ┆ true  ┆ AIROLE      ┆ T_MIN    ┆ AIROL      │\n",
       "│ …          ┆ …         ┆ …     ┆ …           ┆ …        ┆ …          │\n",
       "│ 2015-12-31 ┆ 12.0      ┆ true  ┆ VERZI LOANO ┆ T_MAX    ┆ VERZI      │\n",
       "│ 2015-12-31 ┆ 8.3       ┆ true  ┆ VERZI LOANO ┆ T_MAX    ┆ VERZI      │\n",
       "│ 2015-12-31 ┆ 3.0       ┆ true  ┆ VERZI LOANO ┆ T_MIN    ┆ VERZI      │\n",
       "│ 2015-12-31 ┆ 3.3       ┆ true  ┆ VERZI LOANO ┆ T_MIN    ┆ VERZI      │\n",
       "└────────────┴───────────┴───────┴─────────────┴──────────┴────────────┘"
      ]
     },
     "execution_count": 11,
     "metadata": {},
     "output_type": "execute_result"
    }
   ],
   "source": [
    "fd1.filter(pl.struct(\"date\", \"identifier\", \"variable\").is_duplicated()).sort(\n",
    "    \"identifier\", \"date\"\n",
    ")"
   ]
  },
  {
   "cell_type": "code",
   "execution_count": 17,
   "metadata": {},
   "outputs": [
    {
     "data": {
      "text/html": [
       "<div><style>\n",
       ".dataframe > thead > tr,\n",
       ".dataframe > tbody > tr {\n",
       "  text-align: right;\n",
       "  white-space: pre-wrap;\n",
       "}\n",
       "</style>\n",
       "<small>shape: (7, 3)</small><table border=\"1\" class=\"dataframe\"><thead><tr><th>anagrafica</th><th>first_date</th><th>last_date</th></tr><tr><td>str</td><td>date</td><td>date</td></tr></thead><tbody><tr><td>&quot;STATALE&quot;</td><td>2012-02-27</td><td>2015-12-31</td></tr><tr><td>&quot;MONTE CAPPELLI…</td><td>2013-03-15</td><td>2013-03-20</td></tr><tr><td>&quot;CAMOGLI&quot;</td><td>2015-04-25</td><td>2017-12-22</td></tr><tr><td>&quot;VERZI LOANO&quot;</td><td>2014-03-10</td><td>2015-12-31</td></tr><tr><td>&quot;AIROLE&quot;</td><td>2015-07-14</td><td>2015-12-31</td></tr><tr><td>&quot;DOLCEDO&quot;</td><td>2005-12-31</td><td>2006-12-31</td></tr><tr><td>&quot;ISOVERDE&quot;</td><td>2014-06-09</td><td>2014-06-13</td></tr></tbody></table></div>"
      ],
      "text/plain": [
       "shape: (7, 3)\n",
       "┌──────────────────┬────────────┬────────────┐\n",
       "│ anagrafica       ┆ first_date ┆ last_date  │\n",
       "│ ---              ┆ ---        ┆ ---        │\n",
       "│ str              ┆ date       ┆ date       │\n",
       "╞══════════════════╪════════════╪════════════╡\n",
       "│ STATALE          ┆ 2012-02-27 ┆ 2015-12-31 │\n",
       "│ MONTE CAPPELLINO ┆ 2013-03-15 ┆ 2013-03-20 │\n",
       "│ CAMOGLI          ┆ 2015-04-25 ┆ 2017-12-22 │\n",
       "│ VERZI LOANO      ┆ 2014-03-10 ┆ 2015-12-31 │\n",
       "│ AIROLE           ┆ 2015-07-14 ┆ 2015-12-31 │\n",
       "│ DOLCEDO          ┆ 2005-12-31 ┆ 2006-12-31 │\n",
       "│ ISOVERDE         ┆ 2014-06-09 ┆ 2014-06-13 │\n",
       "└──────────────────┴────────────┴────────────┘"
      ]
     },
     "execution_count": 17,
     "metadata": {},
     "output_type": "execute_result"
    }
   ],
   "source": [
    "full_data.filter(pl.struct(\"date\", \"anagrafica\", \"variable\").is_duplicated()).group_by(\n",
    "    \"anagrafica\"\n",
    ").agg(pl.col(\"date\").min().alias(\"first_date\"), pl.col(\"date\").max().alias(\"last_date\"))"
   ]
  },
  {
   "cell_type": "code",
   "execution_count": 25,
   "metadata": {},
   "outputs": [
    {
     "data": {
      "text/html": [
       "<div><style>\n",
       ".dataframe > thead > tr,\n",
       ".dataframe > tbody > tr {\n",
       "  text-align: right;\n",
       "  white-space: pre-wrap;\n",
       "}\n",
       "</style>\n",
       "<small>shape: (0, 9)</small><table border=\"1\" class=\"dataframe\"><thead><tr><th>identifier</th><th>anagrafica</th><th>province</th><th>BACINO</th><th>elevation</th><th>lon</th><th>lat</th><th>start_date</th><th>stop_date</th></tr><tr><td>str</td><td>str</td><td>str</td><td>str</td><td>f64</td><td>f64</td><td>f64</td><td>date</td><td>date</td></tr></thead><tbody></tbody></table></div>"
      ],
      "text/plain": [
       "shape: (0, 9)\n",
       "┌────────────┬────────────┬──────────┬────────┬───┬─────┬─────┬────────────┬───────────┐\n",
       "│ identifier ┆ anagrafica ┆ province ┆ BACINO ┆ … ┆ lon ┆ lat ┆ start_date ┆ stop_date │\n",
       "│ ---        ┆ ---        ┆ ---      ┆ ---    ┆   ┆ --- ┆ --- ┆ ---        ┆ ---       │\n",
       "│ str        ┆ str        ┆ str      ┆ str    ┆   ┆ f64 ┆ f64 ┆ date       ┆ date      │\n",
       "╞════════════╪════════════╪══════════╪════════╪═══╪═════╪═════╪════════════╪═══════════╡\n",
       "└────────────┴────────────┴──────────┴────────┴───┴─────┴─────┴────────────┴───────────┘"
      ]
     },
     "execution_count": 25,
     "metadata": {},
     "output_type": "execute_result"
    }
   ],
   "source": [
    "meta.filter(pl.col(\"start_date\") >= pl.col(\"stop_date\"))"
   ]
  },
  {
   "cell_type": "markdown",
   "metadata": {},
   "source": [
    "### è impossibile risalire al periodo di rifermiento dei metadati!"
   ]
  },
  {
   "cell_type": "code",
   "execution_count": 34,
   "metadata": {},
   "outputs": [],
   "source": [
    "meta = meta.sort(\"anagrafica\", \"stop_date\").group_by(\"anagrafica\").agg(\n",
    "    pl.col(\"identifier\").last(),\n",
    "    pl.col(\"province\").last(),\n",
    "    pl.col(\"BACINO\").last(),\n",
    "    pl.col(\"elevation\").mean(),\n",
    "    pl.col(\"lon\").mean(),\n",
    "    pl.col(\"lat\").mean()\n",
    ")"
   ]
  },
  {
   "cell_type": "code",
   "execution_count": 35,
   "metadata": {},
   "outputs": [
    {
     "data": {
      "text/html": [
       "<div><style>\n",
       ".dataframe > thead > tr,\n",
       ".dataframe > tbody > tr {\n",
       "  text-align: right;\n",
       "  white-space: pre-wrap;\n",
       "}\n",
       "</style>\n",
       "<small>shape: (321, 7)</small><table border=\"1\" class=\"dataframe\"><thead><tr><th>anagrafica</th><th>identifier</th><th>province</th><th>BACINO</th><th>elevation</th><th>lon</th><th>lat</th></tr><tr><td>str</td><td>str</td><td>str</td><td>str</td><td>f64</td><td>f64</td><td>f64</td></tr></thead><tbody><tr><td>&quot;CONNA&quot;</td><td>&quot;CONNA&quot;</td><td>&quot;SAVONA&quot;</td><td>&quot;FRA IMPERO E C…</td><td>350.0</td><td>8.10363</td><td>43.97923</td></tr><tr><td>&quot;COLLODARI&quot;</td><td>&quot;RCOL0&quot;</td><td>&quot;GENOVA&quot;</td><td>&quot;RECCO&quot;</td><td>14.0</td><td>9.15162</td><td>44.37697</td></tr><tr><td>&quot;RESORDO&quot;</td><td>&quot;CICA0&quot;</td><td>&quot;GENOVA&quot;</td><td>&quot;ENTELLA&quot;</td><td>171.0</td><td>9.34719</td><td>44.4</td></tr><tr><td>&quot;PITELLI&quot;</td><td>&quot;PITLL&quot;</td><td>&quot;LA SPEZIA&quot;</td><td>&quot;MAGRA&quot;</td><td>132.0</td><td>9.88761</td><td>44.09562</td></tr><tr><td>&quot;OSIGLIA&quot;</td><td>&quot;OSIGL&quot;</td><td>&quot;SAVONA&quot;</td><td>&quot;BORMIDA DI MIL…</td><td>620.0</td><td>8.20254</td><td>44.28647</td></tr><tr><td>&quot;GENOVA - NERVI…</td><td>&quot;NEVI0&quot;</td><td>&quot;GENOVA&quot;</td><td>&quot;FRA BISAGNO ED…</td><td>45.0</td><td>9.0438</td><td>44.38237</td></tr><tr><td>&quot;TESTICO&quot;</td><td>&quot;TESTI&quot;</td><td>&quot;SAVONA&quot;</td><td>&quot;FRA IMPERO E C…</td><td>439.0</td><td>8.03517</td><td>44.00653</td></tr><tr><td>&quot;PANESI&quot;</td><td>&quot;PANES&quot;</td><td>&quot;GENOVA&quot;</td><td>&quot;ENTELLA&quot;</td><td>25.0</td><td>9.35624</td><td>44.34209</td></tr><tr><td>&quot;CASARZA LIGURE…</td><td>&quot;CASR0&quot;</td><td>&quot;GENOVA&quot;</td><td>&quot;FRA ENTELLA E …</td><td>120.0</td><td>9.45258</td><td>44.29405</td></tr><tr><td>&quot;URBE - VARA SU…</td><td>&quot;URVAS&quot;</td><td>&quot;SAVONA&quot;</td><td>&quot;ORBA&quot;</td><td>810.0</td><td>8.62739</td><td>44.46953</td></tr><tr><td>&quot;BUSALLA&quot;</td><td>&quot;BUSAL&quot;</td><td>&quot;GENOVA&quot;</td><td>&quot;SCRIVIA&quot;</td><td>358.0</td><td>8.94892</td><td>44.57129</td></tr><tr><td>&quot;PIZZEGLIO&quot;</td><td>&quot;PZGLI&quot;</td><td>&quot;IMPERIA&quot;</td><td>&quot;NERVIA&quot;</td><td>655.0</td><td>7.69454</td><td>43.91862</td></tr><tr><td>&hellip;</td><td>&hellip;</td><td>&hellip;</td><td>&hellip;</td><td>&hellip;</td><td>&hellip;</td><td>&hellip;</td></tr><tr><td>&quot;SAROLA&quot;</td><td>&quot;SARO0&quot;</td><td>&quot;IMPERIA&quot;</td><td>&quot;IMPERO&quot;</td><td>150.0</td><td>7.99402</td><td>43.95551</td></tr><tr><td>&quot;FONTANA FRESCA…</td><td>&quot;FFRES&quot;</td><td>&quot;GENOVA&quot;</td><td>&quot;FRA BISAGNO ED…</td><td>791.0</td><td>9.09318</td><td>44.4029</td></tr><tr><td>&quot;MONTE PENNELLO…</td><td>&quot;MOPEN&quot;</td><td>&quot;GENOVA&quot;</td><td>&quot;FRA SANSOBBIA …</td><td>980.0</td><td>8.79867</td><td>44.48017</td></tr><tr><td>&quot;BARGAGLI&quot;</td><td>&quot;SALBE&quot;</td><td>&quot;GENOVA&quot;</td><td>&quot;BISAGNO&quot;</td><td>702.0</td><td>9.10735</td><td>44.43845</td></tr><tr><td>&quot;GENOVA - RIVAR…</td><td>&quot;GERIV&quot;</td><td>&quot;GENOVA&quot;</td><td>&quot;POLCEVERA&quot;</td><td>26.0</td><td>8.88952</td><td>44.43788</td></tr><tr><td>&quot;MADONNA DELLE …</td><td>&quot;MADGR&quot;</td><td>&quot;GENOVA&quot;</td><td>&quot;FRA SANSOBBIA …</td><td>104.0</td><td>8.74299</td><td>44.43344</td></tr><tr><td>&quot;PACIALLA&quot;</td><td>&quot;PACIA&quot;</td><td>&quot;IMPERIA&quot;</td><td>&quot;IMPERO&quot;</td><td>0.0</td><td>8.01723</td><td>43.88348</td></tr><tr><td>&quot;PRAI&quot;</td><td>&quot;PRAIC&quot;</td><td>&quot;GENOVA&quot;</td><td>&quot;STURA&quot;</td><td>820.0</td><td>8.67306</td><td>44.51775</td></tr><tr><td>&quot;CASTELNUOVO MA…</td><td>&quot;CSMAG&quot;</td><td>&quot;LA SPEZIA&quot;</td><td>&quot;MAGRA&quot;</td><td>96.0</td><td>10.00705</td><td>44.10379</td></tr><tr><td>&quot;LE PIANE&quot;</td><td>&quot;MBOS0&quot;</td><td>&quot;GENOVA&quot;</td><td>&quot;ENTELLA&quot;</td><td>320.0</td><td>9.1312</td><td>44.4178</td></tr><tr><td>&quot;MORTOLA INFERI…</td><td>&quot;MORT0&quot;</td><td>&quot;IMPERIA&quot;</td><td>&quot;ROYA&quot;</td><td>77.0</td><td>7.5533</td><td>43.78481</td></tr><tr><td>&quot;VALZEMOLA&quot;</td><td>&quot;VALZE&quot;</td><td>&quot;SAVONA&quot;</td><td>&quot;BORMIDA DI MIL…</td><td>480.0</td><td>8.19105</td><td>44.36959</td></tr></tbody></table></div>"
      ],
      "text/plain": [
       "shape: (321, 7)\n",
       "┌───────────────────┬────────────┬───────────┬──────────────┬───────────┬──────────┬──────────┐\n",
       "│ anagrafica        ┆ identifier ┆ province  ┆ BACINO       ┆ elevation ┆ lon      ┆ lat      │\n",
       "│ ---               ┆ ---        ┆ ---       ┆ ---          ┆ ---       ┆ ---      ┆ ---      │\n",
       "│ str               ┆ str        ┆ str       ┆ str          ┆ f64       ┆ f64      ┆ f64      │\n",
       "╞═══════════════════╪════════════╪═══════════╪══════════════╪═══════════╪══════════╪══════════╡\n",
       "│ CONNA             ┆ CONNA      ┆ SAVONA    ┆ FRA IMPERO E ┆ 350.0     ┆ 8.10363  ┆ 43.97923 │\n",
       "│                   ┆            ┆           ┆ CENTA        ┆           ┆          ┆          │\n",
       "│ COLLODARI         ┆ RCOL0      ┆ GENOVA    ┆ RECCO        ┆ 14.0      ┆ 9.15162  ┆ 44.37697 │\n",
       "│ RESORDO           ┆ CICA0      ┆ GENOVA    ┆ ENTELLA      ┆ 171.0     ┆ 9.34719  ┆ 44.4     │\n",
       "│ PITELLI           ┆ PITLL      ┆ LA SPEZIA ┆ MAGRA        ┆ 132.0     ┆ 9.88761  ┆ 44.09562 │\n",
       "│ …                 ┆ …          ┆ …         ┆ …            ┆ …         ┆ …        ┆ …        │\n",
       "│ CASTELNUOVO MAGRA ┆ CSMAG      ┆ LA SPEZIA ┆ MAGRA        ┆ 96.0      ┆ 10.00705 ┆ 44.10379 │\n",
       "│ LE PIANE          ┆ MBOS0      ┆ GENOVA    ┆ ENTELLA      ┆ 320.0     ┆ 9.1312   ┆ 44.4178  │\n",
       "│ MORTOLA INFERIORE ┆ MORT0      ┆ IMPERIA   ┆ ROYA         ┆ 77.0      ┆ 7.5533   ┆ 43.78481 │\n",
       "│ VALZEMOLA         ┆ VALZE      ┆ SAVONA    ┆ BORMIDA DI   ┆ 480.0     ┆ 8.19105  ┆ 44.36959 │\n",
       "│                   ┆            ┆           ┆ MILLESIMO    ┆           ┆          ┆          │\n",
       "└───────────────────┴────────────┴───────────┴──────────────┴───────────┴──────────┴──────────┘"
      ]
     },
     "execution_count": 35,
     "metadata": {},
     "output_type": "execute_result"
    }
   ],
   "source": [
    "meta"
   ]
  },
  {
   "cell_type": "code",
   "execution_count": null,
   "metadata": {},
   "outputs": [],
   "source": []
  },
  {
   "cell_type": "code",
   "execution_count": 40,
   "metadata": {},
   "outputs": [],
   "source": [
    "fd2 = full_data.join(meta[[\"anagrafica\", \"identifier\"]], on = \"anagrafica\", how = \"left\").drop(\"anagrafica\")"
   ]
  },
  {
   "cell_type": "code",
   "execution_count": 42,
   "metadata": {},
   "outputs": [],
   "source": [
    "fd2.write_ipc(liguria_path / \"dataset.arrow\")"
   ]
  },
  {
   "cell_type": "code",
   "execution_count": 44,
   "metadata": {},
   "outputs": [],
   "source": [
    "meta.write_ipc(\"../../../db/metadata/ARPA Liguria.arrow\")"
   ]
  },
  {
   "cell_type": "code",
   "execution_count": 201,
   "metadata": {},
   "outputs": [
    {
     "data": {
      "text/html": [
       "<div><style>\n",
       ".dataframe > thead > tr,\n",
       ".dataframe > tbody > tr {\n",
       "  text-align: right;\n",
       "  white-space: pre-wrap;\n",
       "}\n",
       "</style>\n",
       "<small>shape: (36, 12)</small><table border=\"1\" class=\"dataframe\"><thead><tr><th>identifier</th><th>anagrafica</th><th>province</th><th>BACINO</th><th>elevation</th><th>lon</th><th>lat</th><th>start_date</th><th>end_date</th><th>londiff</th><th>latdiff</th><th>elevdiff</th></tr><tr><td>str</td><td>str</td><td>str</td><td>str</td><td>f64</td><td>f64</td><td>f64</td><td>date</td><td>date</td><td>f64</td><td>f64</td><td>f64</td></tr></thead><tbody><tr><td>&quot;CAMIN&quot;</td><td>&quot;CAMINATA&quot;</td><td>&quot;GENOVA&quot;</td><td>&quot;ENTELLA&quot;</td><td>90.0</td><td>9.41004</td><td>44.34004</td><td>null</td><td>null</td><td>0.000225</td><td>0.000025</td><td>-1.0</td></tr><tr><td>&quot;CMNT0&quot;</td><td>&quot;CAMINATA&quot;</td><td>&quot;GENOVA&quot;</td><td>&quot;ENTELLA&quot;</td><td>92.0</td><td>9.40959</td><td>44.33999</td><td>null</td><td>null</td><td>-0.000225</td><td>-0.000025</td><td>1.0</td></tr><tr><td>&quot;CAMOG&quot;</td><td>&quot;CAMOGLI&quot;</td><td>&quot;GENOVA&quot;</td><td>&quot;FRA BISAGNO ED…</td><td>60.0</td><td>9.15931</td><td>44.34704</td><td>1969-12-01</td><td>2005-12-31</td><td>0.00017</td><td>0.0</td><td>2.0</td></tr><tr><td>&quot;CMGL0&quot;</td><td>&quot;CAMOGLI&quot;</td><td>&quot;GENOVA&quot;</td><td>&quot;FRA BISAGNO ED…</td><td>56.0</td><td>9.15897</td><td>44.34704</td><td>2006-01-01</td><td>null</td><td>-0.00017</td><td>0.0</td><td>-2.0</td></tr><tr><td>&quot;CARPE&quot;</td><td>&quot;CARPE&quot;</td><td>&quot;SAVONA&quot;</td><td>&quot;FRA CENTA E QU…</td><td>610.0</td><td>8.16447</td><td>44.14819</td><td>2012-11-01</td><td>null</td><td>-0.000375</td><td>0.002715</td><td>105.0</td></tr><tr><td>&quot;TOIR0&quot;</td><td>&quot;CARPE&quot;</td><td>&quot;SAVONA&quot;</td><td>&quot;FRA CENTA E QU…</td><td>400.0</td><td>8.16522</td><td>44.14276</td><td>null</td><td>null</td><td>0.000375</td><td>-0.002715</td><td>-105.0</td></tr><tr><td>&quot;DOLCD&quot;</td><td>&quot;DOLCEDO&quot;</td><td>&quot;IMPERIA&quot;</td><td>&quot;FRA ARGENTINA …</td><td>77.0</td><td>7.95115</td><td>43.90674</td><td>2003-10-01</td><td>2005-11-30</td><td>-0.000175</td><td>0.00042</td><td>0.0</td></tr><tr><td>&quot;DOLCE&quot;</td><td>&quot;DOLCEDO&quot;</td><td>&quot;IMPERIA&quot;</td><td>&quot;FRA ARGENTINA …</td><td>77.0</td><td>7.9515</td><td>43.9059</td><td>2005-12-01</td><td>null</td><td>0.000175</td><td>-0.00042</td><td>0.0</td></tr><tr><td>&quot;GEMOL&quot;</td><td>&quot;GENOVA - MOLAS…</td><td>&quot;GENOVA&quot;</td><td>&quot;BISAGNO&quot;</td><td>62.0</td><td>8.98654</td><td>44.45433</td><td>null</td><td>null</td><td>0.00294</td><td>-0.00044</td><td>-34.5</td></tr><tr><td>&quot;MOLA0&quot;</td><td>&quot;GENOVA - MOLAS…</td><td>&quot;GENOVA&quot;</td><td>&quot;BISAGNO&quot;</td><td>131.0</td><td>8.98066</td><td>44.45521</td><td>null</td><td>null</td><td>-0.00294</td><td>0.00044</td><td>34.5</td></tr><tr><td>&quot;MANI0&quot;</td><td>&quot;MANIE&quot;</td><td>&quot;SAVONA&quot;</td><td>&quot;FRA CENTA E QU…</td><td>297.0</td><td>8.37656</td><td>44.19866</td><td>2006-09-01</td><td>2013-12-31</td><td>-0.001135</td><td>0.002705</td><td>-21.5</td></tr><tr><td>&quot;MANIE&quot;</td><td>&quot;MANIE&quot;</td><td>&quot;SAVONA&quot;</td><td>&quot;FRA CENTA E QU…</td><td>340.0</td><td>8.37883</td><td>44.19325</td><td>2014-01-01</td><td>null</td><td>0.001135</td><td>-0.002705</td><td>21.5</td></tr><tr><td>&hellip;</td><td>&hellip;</td><td>&hellip;</td><td>&hellip;</td><td>&hellip;</td><td>&hellip;</td><td>&hellip;</td><td>&hellip;</td><td>&hellip;</td><td>&hellip;</td><td>&hellip;</td><td>&hellip;</td></tr><tr><td>&quot;LASM0&quot;</td><td>&quot;S. MARTINO&quot;</td><td>&quot;GENOVA&quot;</td><td>&quot;ENTELLA&quot;</td><td>24.0</td><td>9.34033</td><td>44.36047</td><td>null</td><td>null</td><td>-0.00179</td><td>0.00051</td><td>0.5</td></tr><tr><td>&quot;SMART&quot;</td><td>&quot;S. MARTINO&quot;</td><td>&quot;GENOVA&quot;</td><td>&quot;ENTELLA&quot;</td><td>23.0</td><td>9.34391</td><td>44.35945</td><td>null</td><td>null</td><td>0.00179</td><td>-0.00051</td><td>-0.5</td></tr><tr><td>&quot;SCIA0&quot;</td><td>&quot;SCIARBORASCA&quot;</td><td>&quot;GENOVA&quot;</td><td>&quot;FRA SANSOBBIA …</td><td>235.0</td><td>8.61465</td><td>44.40117</td><td>2006-09-01</td><td>2013-12-31</td><td>-0.004995</td><td>-0.00264</td><td>5.0</td></tr><tr><td>&quot;SCIAR&quot;</td><td>&quot;SCIARBORASCA&quot;</td><td>&quot;GENOVA&quot;</td><td>&quot;FRA SANSOBBIA …</td><td>225.0</td><td>8.62464</td><td>44.40645</td><td>2014-01-01</td><td>null</td><td>0.004995</td><td>0.00264</td><td>-5.0</td></tr><tr><td>&quot;STALE&quot;</td><td>&quot;STATALE&quot;</td><td>&quot;GENOVA&quot;</td><td>&quot;ENTELLA&quot;</td><td>593.0</td><td>9.48082</td><td>44.35048</td><td>2012-01-01</td><td>2005-12-31</td><td>-0.000765</td><td>0.001435</td><td>11.5</td></tr><tr><td>&quot;STAT0&quot;</td><td>&quot;STATALE&quot;</td><td>&quot;GENOVA&quot;</td><td>&quot;ENTELLA&quot;</td><td>570.0</td><td>9.48235</td><td>44.34761</td><td>2006-01-01</td><td>null</td><td>0.000765</td><td>-0.001435</td><td>-11.5</td></tr><tr><td>&quot;BTOR0&quot;</td><td>&quot;TORRI&quot;</td><td>&quot;IMPERIA&quot;</td><td>&quot;ROYA&quot;</td><td>66.0</td><td>7.5538</td><td>43.83784</td><td>null</td><td>null</td><td>-0.00012</td><td>0.00001</td><td>1.5</td></tr><tr><td>&quot;TORRI&quot;</td><td>&quot;TORRI&quot;</td><td>&quot;IMPERIA&quot;</td><td>&quot;ROYA&quot;</td><td>63.0</td><td>7.55404</td><td>43.83782</td><td>null</td><td>null</td><td>0.00012</td><td>-0.00001</td><td>-1.5</td></tr><tr><td>&quot;LOAN0&quot;</td><td>&quot;VERZI LOANO&quot;</td><td>&quot;SAVONA&quot;</td><td>&quot;FRA CENTA E QU…</td><td>170.0</td><td>8.23647</td><td>44.15611</td><td>2006-01-01</td><td>2013-12-31</td><td>0.008225</td><td>-0.00393</td><td>-140.0</td></tr><tr><td>&quot;VERZI&quot;</td><td>&quot;VERZI LOANO&quot;</td><td>&quot;SAVONA&quot;</td><td>&quot;FRA CENTA E QU…</td><td>450.0</td><td>8.22002</td><td>44.16397</td><td>2014-01-01</td><td>null</td><td>-0.008225</td><td>0.00393</td><td>140.0</td></tr><tr><td>&quot;SVIG0&quot;</td><td>&quot;VIGNOLO&quot;</td><td>&quot;GENOVA&quot;</td><td>&quot;ENTELLA&quot;</td><td>80.0</td><td>9.37344</td><td>44.38158</td><td>null</td><td>null</td><td>-0.00018</td><td>0.000045</td><td>4.5</td></tr><tr><td>&quot;VIGNO&quot;</td><td>&quot;VIGNOLO&quot;</td><td>&quot;GENOVA&quot;</td><td>&quot;ENTELLA&quot;</td><td>71.0</td><td>9.3738</td><td>44.38149</td><td>null</td><td>null</td><td>0.00018</td><td>-0.000045</td><td>-4.5</td></tr></tbody></table></div>"
      ],
      "text/plain": [
       "shape: (36, 12)\n",
       "┌────────────┬───────────┬──────────┬───────────┬───┬───────────┬───────────┬───────────┬──────────┐\n",
       "│ identifier ┆ anagrafic ┆ province ┆ BACINO    ┆ … ┆ end_date  ┆ londiff   ┆ latdiff   ┆ elevdiff │\n",
       "│ ---        ┆ a         ┆ ---      ┆ ---       ┆   ┆ ---       ┆ ---       ┆ ---       ┆ ---      │\n",
       "│ str        ┆ ---       ┆ str      ┆ str       ┆   ┆ date      ┆ f64       ┆ f64       ┆ f64      │\n",
       "│            ┆ str       ┆          ┆           ┆   ┆           ┆           ┆           ┆          │\n",
       "╞════════════╪═══════════╪══════════╪═══════════╪═══╪═══════════╪═══════════╪═══════════╪══════════╡\n",
       "│ CAMIN      ┆ CAMINATA  ┆ GENOVA   ┆ ENTELLA   ┆ … ┆ null      ┆ 0.000225  ┆ 0.000025  ┆ -1.0     │\n",
       "│ CMNT0      ┆ CAMINATA  ┆ GENOVA   ┆ ENTELLA   ┆ … ┆ null      ┆ -0.000225 ┆ -0.000025 ┆ 1.0      │\n",
       "│ CAMOG      ┆ CAMOGLI   ┆ GENOVA   ┆ FRA       ┆ … ┆ 2005-12-3 ┆ 0.00017   ┆ 0.0       ┆ 2.0      │\n",
       "│            ┆           ┆          ┆ BISAGNO   ┆   ┆ 1         ┆           ┆           ┆          │\n",
       "│            ┆           ┆          ┆ ED        ┆   ┆           ┆           ┆           ┆          │\n",
       "│            ┆           ┆          ┆ ENTELLA   ┆   ┆           ┆           ┆           ┆          │\n",
       "│ CMGL0      ┆ CAMOGLI   ┆ GENOVA   ┆ FRA       ┆ … ┆ null      ┆ -0.00017  ┆ 0.0       ┆ -2.0     │\n",
       "│            ┆           ┆          ┆ BISAGNO   ┆   ┆           ┆           ┆           ┆          │\n",
       "│            ┆           ┆          ┆ ED        ┆   ┆           ┆           ┆           ┆          │\n",
       "│            ┆           ┆          ┆ ENTELLA   ┆   ┆           ┆           ┆           ┆          │\n",
       "│ …          ┆ …         ┆ …        ┆ …         ┆ … ┆ …         ┆ …         ┆ …         ┆ …        │\n",
       "│ LOAN0      ┆ VERZI     ┆ SAVONA   ┆ FRA CENTA ┆ … ┆ 2013-12-3 ┆ 0.008225  ┆ -0.00393  ┆ -140.0   │\n",
       "│            ┆ LOANO     ┆          ┆ E         ┆   ┆ 1         ┆           ┆           ┆          │\n",
       "│            ┆           ┆          ┆ QUILIANO  ┆   ┆           ┆           ┆           ┆          │\n",
       "│ VERZI      ┆ VERZI     ┆ SAVONA   ┆ FRA CENTA ┆ … ┆ null      ┆ -0.008225 ┆ 0.00393   ┆ 140.0    │\n",
       "│            ┆ LOANO     ┆          ┆ E         ┆   ┆           ┆           ┆           ┆          │\n",
       "│            ┆           ┆          ┆ QUILIANO  ┆   ┆           ┆           ┆           ┆          │\n",
       "│ SVIG0      ┆ VIGNOLO   ┆ GENOVA   ┆ ENTELLA   ┆ … ┆ null      ┆ -0.00018  ┆ 0.000045  ┆ 4.5      │\n",
       "│ VIGNO      ┆ VIGNOLO   ┆ GENOVA   ┆ ENTELLA   ┆ … ┆ null      ┆ 0.00018   ┆ -0.000045 ┆ -4.5     │\n",
       "└────────────┴───────────┴──────────┴───────────┴───┴───────────┴───────────┴───────────┴──────────┘"
      ]
     },
     "execution_count": 201,
     "metadata": {},
     "output_type": "execute_result"
    }
   ],
   "source": [
    "diffs.filter(\n",
    "    (pl.col(\"londiff\").abs() > 1e-4)\n",
    "    | (pl.col(\"latdiff\").abs() > 1e-4)\n",
    "    | (pl.col(\"elevdiff\").abs() > 20)\n",
    ")"
   ]
  },
  {
   "cell_type": "code",
   "execution_count": 212,
   "metadata": {},
   "outputs": [
    {
     "data": {
      "text/html": [
       "<div><style>\n",
       ".dataframe > thead > tr,\n",
       ".dataframe > tbody > tr {\n",
       "  text-align: right;\n",
       "  white-space: pre-wrap;\n",
       "}\n",
       "</style>\n",
       "<small>shape: (345, 9)</small><table border=\"1\" class=\"dataframe\"><thead><tr><th>identifier</th><th>anagrafica</th><th>province</th><th>BACINO</th><th>elevation</th><th>lon</th><th>lat</th><th>start_date</th><th>end_date</th></tr><tr><td>str</td><td>str</td><td>str</td><td>str</td><td>f64</td><td>f64</td><td>f64</td><td>date</td><td>date</td></tr></thead><tbody><tr><td>&quot;AGORR&quot;</td><td>&quot;ALPE GORRETO&quot;</td><td>&quot;GENOVA&quot;</td><td>&quot;TREBBIA&quot;</td><td>915.0</td><td>9.2363</td><td>44.6047</td><td>2004-12-01</td><td>null</td></tr><tr><td>&quot;AIRO0&quot;</td><td>&quot;AIROLE&quot;</td><td>&quot;IMPERIA&quot;</td><td>&quot;ROYA&quot;</td><td>110.0</td><td>7.54478</td><td>43.87309</td><td>2007-01-01</td><td>2012-12-31</td></tr><tr><td>&quot;AIROL&quot;</td><td>&quot;AIROLE&quot;</td><td>&quot;IMPERIA&quot;</td><td>&quot;ROYA&quot;</td><td>103.0</td><td>7.54484</td><td>43.87296</td><td>2013-01-01</td><td>null</td></tr><tr><td>&quot;ALASS&quot;</td><td>&quot;ALASSIO&quot;</td><td>&quot;SAVONA&quot;</td><td>&quot;FRA IMPERO E C…</td><td>25.0</td><td>8.1693</td><td>44.00624</td><td>2003-10-01</td><td>null</td></tr><tr><td>&quot;ALBG0&quot;</td><td>&quot;ALBENGA&quot;</td><td>&quot;SAVONA&quot;</td><td>&quot;CENTA&quot;</td><td>5.0</td><td>8.21262</td><td>44.04899</td><td>null</td><td>null</td></tr><tr><td>&quot;ALBIS&quot;</td><td>&quot;ALBISOLA&quot;</td><td>&quot;SAVONA&quot;</td><td>&quot;SANSOBBIA&quot;</td><td>3.0</td><td>8.50887</td><td>44.32931</td><td>null</td><td>null</td></tr><tr><td>&quot;ALPIC&quot;</td><td>&quot;ALPICELLA&quot;</td><td>&quot;SAVONA&quot;</td><td>&quot;FRA SANSOBBIA …</td><td>435.0</td><td>8.52604</td><td>44.40667</td><td>2001-03-01</td><td>null</td></tr><tr><td>&quot;AMBOR&quot;</td><td>&quot;AMBORZASCO&quot;</td><td>&quot;GENOVA&quot;</td><td>&quot;AVETO&quot;</td><td>908.0</td><td>9.45496</td><td>44.51447</td><td>2019-10-01</td><td>null</td></tr><tr><td>&quot;AMEFM&quot;</td><td>&quot;AMEGLIA FOCE M…</td><td>&quot;LA SPEZIA&quot;</td><td>&quot;MAGRA&quot;</td><td>4.0</td><td>9.9722</td><td>44.07884</td><td>2011-01-01</td><td>null</td></tr><tr><td>&quot;AMERE&quot;</td><td>&quot;MERELLI&quot;</td><td>&quot;IMPERIA&quot;</td><td>&quot;ARGENTINA&quot;</td><td>70.0</td><td>7.84759</td><td>43.88137</td><td>null</td><td>null</td></tr><tr><td>&quot;AQUI0&quot;</td><td>&quot;VILLA PONZA&quot;</td><td>&quot;SAVONA&quot;</td><td>&quot;FRA CENTA E QU…</td><td>90.0</td><td>8.32738</td><td>44.19476</td><td>null</td><td>null</td></tr><tr><td>&quot;AREN0&quot;</td><td>&quot;ARENZANO&quot;</td><td>&quot;GENOVA&quot;</td><td>&quot;FRA SANSOBBIA …</td><td>75.0</td><td>8.67859</td><td>44.40416</td><td>2007-01-01</td><td>null</td></tr><tr><td>&hellip;</td><td>&hellip;</td><td>&hellip;</td><td>&hellip;</td><td>&hellip;</td><td>&hellip;</td><td>&hellip;</td><td>&hellip;</td><td>&hellip;</td></tr><tr><td>&quot;VBGOR&quot;</td><td>&quot;VALBREVENNA - …</td><td>&quot;GENOVA&quot;</td><td>&quot;SCRIVIA&quot;</td><td>680.0</td><td>9.02329</td><td>44.53176</td><td>2019-11-01</td><td>null</td></tr><tr><td>&quot;VERDE&quot;</td><td>&quot;VERDEGGIA&quot;</td><td>&quot;IMPERIA&quot;</td><td>&quot;ARGENTINA&quot;</td><td>1120.0</td><td>7.72108</td><td>44.04425</td><td>2014-01-01</td><td>null</td></tr><tr><td>&quot;VERNA&quot;</td><td>&quot;VERNAZZA&quot;</td><td>&quot;LA SPEZIA&quot;</td><td>&quot;FRA ENTELLA E …</td><td>160.0</td><td>9.68419</td><td>44.13732</td><td>2001-02-01</td><td>null</td></tr><tr><td>&quot;VERZI&quot;</td><td>&quot;VERZI LOANO&quot;</td><td>&quot;SAVONA&quot;</td><td>&quot;FRA CENTA E QU…</td><td>450.0</td><td>8.22002</td><td>44.16397</td><td>2014-01-01</td><td>null</td></tr><tr><td>&quot;VESSA&quot;</td><td>&quot;BARCHEO&quot;</td><td>&quot;IMPERIA&quot;</td><td>&quot;CENTA&quot;</td><td>140.0</td><td>7.96764</td><td>44.04755</td><td>null</td><td>null</td></tr><tr><td>&quot;VICOM&quot;</td><td>&quot;VICOMORASSO&quot;</td><td>&quot;GENOVA&quot;</td><td>&quot;POLCEVERA&quot;</td><td>310.0</td><td>8.97849</td><td>44.48555</td><td>2001-04-01</td><td>null</td></tr><tr><td>&quot;VIGAN&quot;</td><td>&quot;VIGANEGO&quot;</td><td>&quot;GENOVA&quot;</td><td>&quot;BISAGNO&quot;</td><td>430.0</td><td>9.06348</td><td>44.42846</td><td>2001-03-01</td><td>null</td></tr><tr><td>&quot;VIGNO&quot;</td><td>&quot;VIGNOLO&quot;</td><td>&quot;GENOVA&quot;</td><td>&quot;ENTELLA&quot;</td><td>71.0</td><td>9.3738</td><td>44.38149</td><td>null</td><td>null</td></tr><tr><td>&quot;VLMUR&quot;</td><td>&quot;VALLE MURIALDO…</td><td>&quot;SAVONA&quot;</td><td>&quot;BORMIDA DI MIL…</td><td>565.0</td><td>8.12143</td><td>44.30681</td><td>null</td><td>null</td></tr><tr><td>&quot;VOBBI&quot;</td><td>&quot;VOBBIETTA&quot;</td><td>&quot;GENOVA&quot;</td><td>&quot;SCRIVIA&quot;</td><td>323.0</td><td>8.98149</td><td>44.63599</td><td>null</td><td>null</td></tr><tr><td>&quot;VREGI&quot;</td><td>&quot;VALLEREGIA&quot;</td><td>&quot;GENOVA&quot;</td><td>&quot;POLCEVERA&quot;</td><td>407.0</td><td>8.94744</td><td>44.52038</td><td>2001-03-01</td><td>null</td></tr><tr><td>&quot;XXMIG&quot;</td><td>&quot;VENTIMIGLIA&quot;</td><td>&quot;IMPERIA&quot;</td><td>&quot;ROIA&quot;</td><td>21.0</td><td>7.61215</td><td>43.78781</td><td>2003-10-01</td><td>null</td></tr></tbody></table></div>"
      ],
      "text/plain": [
       "shape: (345, 9)\n",
       "┌────────────┬────────────┬──────────┬────────────┬───┬─────────┬──────────┬───────────┬───────────┐\n",
       "│ identifier ┆ anagrafica ┆ province ┆ BACINO     ┆ … ┆ lon     ┆ lat      ┆ start_dat ┆ end_date  │\n",
       "│ ---        ┆ ---        ┆ ---      ┆ ---        ┆   ┆ ---     ┆ ---      ┆ e         ┆ ---       │\n",
       "│ str        ┆ str        ┆ str      ┆ str        ┆   ┆ f64     ┆ f64      ┆ ---       ┆ date      │\n",
       "│            ┆            ┆          ┆            ┆   ┆         ┆          ┆ date      ┆           │\n",
       "╞════════════╪════════════╪══════════╪════════════╪═══╪═════════╪══════════╪═══════════╪═══════════╡\n",
       "│ AGORR      ┆ ALPE       ┆ GENOVA   ┆ TREBBIA    ┆ … ┆ 9.2363  ┆ 44.6047  ┆ 2004-12-0 ┆ null      │\n",
       "│            ┆ GORRETO    ┆          ┆            ┆   ┆         ┆          ┆ 1         ┆           │\n",
       "│ AIRO0      ┆ AIROLE     ┆ IMPERIA  ┆ ROYA       ┆ … ┆ 7.54478 ┆ 43.87309 ┆ 2007-01-0 ┆ 2012-12-3 │\n",
       "│            ┆            ┆          ┆            ┆   ┆         ┆          ┆ 1         ┆ 1         │\n",
       "│ AIROL      ┆ AIROLE     ┆ IMPERIA  ┆ ROYA       ┆ … ┆ 7.54484 ┆ 43.87296 ┆ 2013-01-0 ┆ null      │\n",
       "│            ┆            ┆          ┆            ┆   ┆         ┆          ┆ 1         ┆           │\n",
       "│ ALASS      ┆ ALASSIO    ┆ SAVONA   ┆ FRA IMPERO ┆ … ┆ 8.1693  ┆ 44.00624 ┆ 2003-10-0 ┆ null      │\n",
       "│            ┆            ┆          ┆ E CENTA    ┆   ┆         ┆          ┆ 1         ┆           │\n",
       "│ …          ┆ …          ┆ …        ┆ …          ┆ … ┆ …       ┆ …        ┆ …         ┆ …         │\n",
       "│ VLMUR      ┆ VALLE      ┆ SAVONA   ┆ BORMIDA DI ┆ … ┆ 8.12143 ┆ 44.30681 ┆ null      ┆ null      │\n",
       "│            ┆ MURIALDO   ┆          ┆ MILLESIMO  ┆   ┆         ┆          ┆           ┆           │\n",
       "│ VOBBI      ┆ VOBBIETTA  ┆ GENOVA   ┆ SCRIVIA    ┆ … ┆ 8.98149 ┆ 44.63599 ┆ null      ┆ null      │\n",
       "│ VREGI      ┆ VALLEREGIA ┆ GENOVA   ┆ POLCEVERA  ┆ … ┆ 8.94744 ┆ 44.52038 ┆ 2001-03-0 ┆ null      │\n",
       "│            ┆            ┆          ┆            ┆   ┆         ┆          ┆ 1         ┆           │\n",
       "│ XXMIG      ┆ VENTIMIGLI ┆ IMPERIA  ┆ ROIA       ┆ … ┆ 7.61215 ┆ 43.78781 ┆ 2003-10-0 ┆ null      │\n",
       "│            ┆ A          ┆          ┆            ┆   ┆         ┆          ┆ 1         ┆           │\n",
       "└────────────┴────────────┴──────────┴────────────┴───┴─────────┴──────────┴───────────┴───────────┘"
      ]
     },
     "execution_count": 212,
     "metadata": {},
     "output_type": "execute_result"
    }
   ],
   "source": [
    "meta"
   ]
  }
 ],
 "metadata": {
  "kernelspec": {
   "display_name": "geopy",
   "language": "python",
   "name": "python3"
  },
  "language_info": {
   "codemirror_mode": {
    "name": "ipython",
    "version": 3
   },
   "file_extension": ".py",
   "mimetype": "text/x-python",
   "name": "python",
   "nbconvert_exporter": "python",
   "pygments_lexer": "ipython3",
   "version": "3.11.6"
  }
 },
 "nbformat": 4,
 "nbformat_minor": 2
}
