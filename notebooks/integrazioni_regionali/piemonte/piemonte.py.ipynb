{
 "cells": [
  {
   "cell_type": "code",
   "execution_count": 1,
   "metadata": {},
   "outputs": [],
   "source": [
    "import requests\n",
    "import pandas as pd\n",
    "import pyarrow as pa\n",
    "import pyarrow.json as pjson\n",
    "import polars as pl\n",
    "from tqdm.notebook import tqdm\n",
    "\n",
    "import json\n",
    "from datetime import date\n",
    "from pathlib import Path\n",
    "\n",
    "content_path = Path(\"/Users/davidenicoli/Local_Workspace/Datasets/ARPA/PIEMONTE/\")\n",
    "db_path = content_path / \"site-data\"\n",
    "stazioni_path = content_path / \"stazioni_meteo.json\"\n",
    "\n",
    "\n",
    "def dati_giornalieri_request_url(\n",
    "    start_date=\"2000-1-1\", stop_date=\"2023-6-30\", id_punto_misura=\"\"\n",
    "):\n",
    "    return f\"https://utility.arpa.piemonte.it/meteoidro/dati_giornalieri_meteo/?fk_id_punto_misura_meteo={id_punto_misura}&data_min={start_date}&data_max={stop_date}\""
   ]
  },
  {
   "cell_type": "code",
   "execution_count": 2,
   "metadata": {},
   "outputs": [],
   "source": [
    "if not stazioni_path.exists():\n",
    "    content = requests.get(\n",
    "        \"https://utility.arpa.piemonte.it/meteoidro/stazione_meteorologica/\"\n",
    "    ).content\n",
    "    stazioni = json.loads(content)\n",
    "    with open(stazioni_path, \"wb\") as f:\n",
    "        f.write(content)\n",
    "else:\n",
    "    with open(stazioni_path, \"rt\") as f:\n",
    "        stazioni = json.load(f)"
   ]
  },
  {
   "cell_type": "code",
   "execution_count": 4,
   "metadata": {},
   "outputs": [],
   "source": [
    "data = pl.DataFrame(\n",
    "    stazioni[\"results\"],\n",
    "    schema_overrides={\n",
    "        \"url\": pl.Utf8(),\n",
    "        \"codice_istat_comune\": pl.Utf8(),\n",
    "        \"sensori_meteo\": pl.List(\n",
    "            pl.Struct(\n",
    "                {\n",
    "                    \"url\": pl.Utf8(),\n",
    "                    \"id_parametro\": pl.Utf8(),\n",
    "                    \"data_inizio\": pl.Utf8(),\n",
    "                    \"data_fine\": pl.Utf8(),\n",
    "                    \"quota_da_pc\": pl.Float32(),\n",
    "                    \"altezza_supporto\": pl.Float32(),\n",
    "                    \"note\": pl.Utf8(),\n",
    "                    \"fk_id_stazione_meteorologica\": pl.Utf8(),\n",
    "                }\n",
    "            )\n",
    "        ),\n",
    "    },\n",
    ")"
   ]
  },
  {
   "cell_type": "code",
   "execution_count": 18,
   "metadata": {},
   "outputs": [],
   "source": [
    "thermo_sensors = (\n",
    "    data.rename({\"url\": \"url_stazione\"})\n",
    "    .explode(\"sensori_meteo\")\n",
    "    .with_columns(\n",
    "        pl.col(\"sensori_meteo\").struct.rename_fields(\n",
    "            [\n",
    "                \"url_sensore\",\n",
    "                \"id_parametro\",\n",
    "                \"data_inizio_sensore\",\n",
    "                \"data_fine_sensore\",\n",
    "                \"quota_da_pc\",\n",
    "                \"altezza_supporto\",\n",
    "                \"note_sensore\",\n",
    "                \"copy_url_stazione\",\n",
    "            ]\n",
    "        )\n",
    "    )\n",
    "    .unnest(\"sensori_meteo\")\n",
    "    .filter(pl.col(\"id_parametro\") == \"TERMA\")\n",
    ")\n",
    "thermo_sensors.write_csv(content_path / \"thermo_sensors.csv\", quote_style=\"always\")"
   ]
  },
  {
   "cell_type": "code",
   "execution_count": 8,
   "metadata": {},
   "outputs": [
    {
     "data": {
      "application/vnd.jupyter.widget-view+json": {
       "model_id": "93283aff9f324424bd6bd3185d21e3c3",
       "version_major": 2,
       "version_minor": 0
      },
      "text/plain": [
       "  0%|          | 0/324 [00:00<?, ?it/s]"
      ]
     },
     "metadata": {},
     "output_type": "display_data"
    }
   ],
   "source": [
    "thermo_sensors = pl.read_csv(content_path / \"thermo_sensors.csv\")\n",
    "urls = thermo_sensors.get_column(\"fk_id_punto_misura_meteo\").to_list()\n",
    "with requests.Session() as session:\n",
    "    station_destinations = list(map(lambda url: session.get(url).json(), tqdm(urls)))\n",
    "punto_misura_meteo = pl.from_dicts(\n",
    "    station_destinations,\n",
    "    schema_overrides={\"codice_istat_comune\": pl.Utf8(), \"progr_punto_com\": pl.Utf8()},\n",
    ").explode(\"stazioni_meteorologiche\")\n",
    "punto_misura_meteo.write_csv(content_path / \"punto_misura_meteo.csv\")"
   ]
  },
  {
   "cell_type": "code",
   "execution_count": 7,
   "metadata": {},
   "outputs": [],
   "source": [
    "punto_misura_meteo = (\n",
    "    pl.read_csv(\n",
    "        content_path / \"punto_misura_meteo.csv\",\n",
    "        dtypes={\"codice_istat_comune\": pl.Utf8(), \"progr_punto_com\": pl.Utf8()},\n",
    "    )\n",
    "    .filter(pl.col(\"data_fine_dati\").str.to_date(r\"%Y-%m-%d\") > date(2000, 1, 1))\n",
    "    .with_columns(\n",
    "        pl.concat_str(\n",
    "            [pl.lit(\"PIE\"), pl.col(\"codice_istat_comune\"), pl.col(\"progr_punto_com\")],\n",
    "            separator=\"-\",\n",
    "        ).alias(\"id_punto_misura\")\n",
    "    )\n",
    ")"
   ]
  },
  {
   "cell_type": "code",
   "execution_count": 17,
   "metadata": {},
   "outputs": [
    {
     "data": {
      "text/plain": [
       "['https://utility.arpa.piemonte.it/meteoidro/dati_giornalieri_meteo/?fk_id_punto_misura_meteo=PIE-001019-901',\n",
       " 'https://utility.arpa.piemonte.it/meteoidro/dati_giornalieri_meteo/?fk_id_punto_misura_meteo=PIE-001019-901',\n",
       " 'https://utility.arpa.piemonte.it/meteoidro/dati_giornalieri_meteo/?fk_id_punto_misura_meteo=PIE-001022-905',\n",
       " 'https://utility.arpa.piemonte.it/meteoidro/dati_giornalieri_meteo/?fk_id_punto_misura_meteo=PIE-001022-905',\n",
       " 'https://utility.arpa.piemonte.it/meteoidro/dati_giornalieri_meteo/?fk_id_punto_misura_meteo=PIE-001073-901',\n",
       " 'https://utility.arpa.piemonte.it/meteoidro/dati_giornalieri_meteo/?fk_id_punto_misura_meteo=PIE-001073-901',\n",
       " 'https://utility.arpa.piemonte.it/meteoidro/dati_giornalieri_meteo/?fk_id_punto_misura_meteo=PIE-001175-902',\n",
       " 'https://utility.arpa.piemonte.it/meteoidro/dati_giornalieri_meteo/?fk_id_punto_misura_meteo=PIE-001175-902',\n",
       " 'https://utility.arpa.piemonte.it/meteoidro/dati_giornalieri_meteo/?fk_id_punto_misura_meteo=PIE-001179-900',\n",
       " 'https://utility.arpa.piemonte.it/meteoidro/dati_giornalieri_meteo/?fk_id_punto_misura_meteo=PIE-001179-900',\n",
       " 'https://utility.arpa.piemonte.it/meteoidro/dati_giornalieri_meteo/?fk_id_punto_misura_meteo=PIE-001179-900',\n",
       " 'https://utility.arpa.piemonte.it/meteoidro/dati_giornalieri_meteo/?fk_id_punto_misura_meteo=PIE-001179-900',\n",
       " 'https://utility.arpa.piemonte.it/meteoidro/dati_giornalieri_meteo/?fk_id_punto_misura_meteo=PIE-001196-900',\n",
       " 'https://utility.arpa.piemonte.it/meteoidro/dati_giornalieri_meteo/?fk_id_punto_misura_meteo=PIE-001196-900',\n",
       " 'https://utility.arpa.piemonte.it/meteoidro/dati_giornalieri_meteo/?fk_id_punto_misura_meteo=PIE-001197-900',\n",
       " 'https://utility.arpa.piemonte.it/meteoidro/dati_giornalieri_meteo/?fk_id_punto_misura_meteo=PIE-001197-900',\n",
       " 'https://utility.arpa.piemonte.it/meteoidro/dati_giornalieri_meteo/?fk_id_punto_misura_meteo=PIE-001201-902',\n",
       " 'https://utility.arpa.piemonte.it/meteoidro/dati_giornalieri_meteo/?fk_id_punto_misura_meteo=PIE-001201-902',\n",
       " 'https://utility.arpa.piemonte.it/meteoidro/dati_giornalieri_meteo/?fk_id_punto_misura_meteo=PIE-002002-901',\n",
       " 'https://utility.arpa.piemonte.it/meteoidro/dati_giornalieri_meteo/?fk_id_punto_misura_meteo=PIE-002002-901',\n",
       " 'https://utility.arpa.piemonte.it/meteoidro/dati_giornalieri_meteo/?fk_id_punto_misura_meteo=PIE-003086-906',\n",
       " 'https://utility.arpa.piemonte.it/meteoidro/dati_giornalieri_meteo/?fk_id_punto_misura_meteo=PIE-003086-906',\n",
       " 'https://utility.arpa.piemonte.it/meteoidro/dati_giornalieri_meteo/?fk_id_punto_misura_meteo=PIE-004029-900',\n",
       " 'https://utility.arpa.piemonte.it/meteoidro/dati_giornalieri_meteo/?fk_id_punto_misura_meteo=PIE-004029-900',\n",
       " 'https://utility.arpa.piemonte.it/meteoidro/dati_giornalieri_meteo/?fk_id_punto_misura_meteo=PIE-004078-901',\n",
       " 'https://utility.arpa.piemonte.it/meteoidro/dati_giornalieri_meteo/?fk_id_punto_misura_meteo=PIE-004078-901',\n",
       " 'https://utility.arpa.piemonte.it/meteoidro/dati_giornalieri_meteo/?fk_id_punto_misura_meteo=PIE-004172-901',\n",
       " 'https://utility.arpa.piemonte.it/meteoidro/dati_giornalieri_meteo/?fk_id_punto_misura_meteo=PIE-004172-901',\n",
       " 'https://utility.arpa.piemonte.it/meteoidro/dati_giornalieri_meteo/?fk_id_punto_misura_meteo=PIE-004172-901',\n",
       " 'https://utility.arpa.piemonte.it/meteoidro/dati_giornalieri_meteo/?fk_id_punto_misura_meteo=PIE-004172-901']"
      ]
     },
     "execution_count": 17,
     "metadata": {},
     "output_type": "execute_result"
    }
   ],
   "source": [
    "punto_misura_meteo.filter(pl.col(\"id_punto_misura\").is_duplicated())[\"dati_giornalieri_meteo\"].to_list()"
   ]
  },
  {
   "cell_type": "code",
   "execution_count": 3,
   "metadata": {},
   "outputs": [],
   "source": [
    "def dwn_data(\n",
    "    id_punto,\n",
    "    session: requests.Session,\n",
    "    path,\n",
    "    start_date=\"2000-1-1\",\n",
    "    stop_date=\"2023-6-30\",\n",
    "):\n",
    "    page = session.get(\n",
    "        dati_giornalieri_request_url(start_date, stop_date, id_punto)\n",
    "    ).json()\n",
    "    data = page[\"results\"]\n",
    "    n = page[\"count\"]\n",
    "    with tqdm(total=n // 366, position=1, leave=False) as bar:\n",
    "        while page[\"next\"] is not None:\n",
    "            page = session.get(page[\"next\"]).json()\n",
    "            data.extend(page[\"results\"])\n",
    "            bar.update()\n",
    "    pl.from_dicts(\n",
    "        data,\n",
    "        schema={\n",
    "            \"url\": pl.Utf8(),\n",
    "            \"data\": pl.Utf8(),\n",
    "            \"tmedia\": pl.Float64(),\n",
    "            \"tmax\": pl.Float64(),\n",
    "            \"tmin\": pl.Float64(),\n",
    "            \"tclasse\": pl.Utf8(),\n",
    "            \"ptot\": pl.Float64(),\n",
    "            \"pclasse\": pl.Utf8(),\n",
    "            \"vmedia\": pl.Float64(),\n",
    "            \"vraffica\": pl.Float64(),\n",
    "            \"settore_prevalente\": pl.Utf8(),\n",
    "            \"tempo_permanenza\": pl.Utf8(),\n",
    "            \"durata_calma\": pl.Utf8(),\n",
    "            \"vclasse\": pl.Utf8(),\n",
    "            \"umedia\": pl.Float64(),\n",
    "            \"umin\": pl.Float64(),\n",
    "            \"umax\": pl.Float64(),\n",
    "            \"uclasse\": pl.Utf8(),\n",
    "            \"rtot\": pl.Utf8(),\n",
    "            \"rclasse\": pl.Utf8(),\n",
    "            \"fk_id_punto_misura_meteo\": pl.Utf8(),\n",
    "        },\n",
    "    ).with_columns(\n",
    "        pl.col(\"data\").str.to_date(r\"%Y-%m-%d\"), pl.lit(id_punto).alias(\"id_punto\")\n",
    "    ).write_parquet(\n",
    "        path\n",
    "    )"
   ]
  },
  {
   "cell_type": "code",
   "execution_count": null,
   "metadata": {},
   "outputs": [],
   "source": [
    "from time import sleep\n",
    "\n",
    "ids = punto_misura_meteo[\"id_punto_misura\"].to_list()\n",
    "with requests.Session() as session:\n",
    "    for id in tqdm(ids):\n",
    "        path = db_path / f\"{id}.parquet\"\n",
    "        if not path.exists():\n",
    "            dwn_data(id, session, path, \"2000-1-1\", \"2023-6-30\")\n",
    "            sleep(3)"
   ]
  },
  {
   "cell_type": "code",
   "execution_count": 18,
   "metadata": {},
   "outputs": [],
   "source": [
    "pl.read_csv(\n",
    "    content_path / \"thermo_sensors.csv\", dtypes={\"codice_istat_comune\": pl.Utf8()}\n",
    ").with_columns(\n",
    "    pl.col(\"fk_id_punto_misura_meteo\")\n",
    "    .str.split(\"/\")\n",
    "    .list.get(-2)\n",
    "    .alias(\"id_punto_misura\")\n",
    ").write_csv(content_path / \"metadata.csv\")"
   ]
  },
  {
   "cell_type": "code",
   "execution_count": 19,
   "metadata": {},
   "outputs": [
    {
     "data": {
      "text/html": [
       "<div><style>\n",
       ".dataframe > thead > tr > th,\n",
       ".dataframe > tbody > tr > td {\n",
       "  text-align: right;\n",
       "  white-space: pre-wrap;\n",
       "}\n",
       "</style>\n",
       "<small>shape: (324, 25)</small><table border=\"1\" class=\"dataframe\"><thead><tr><th>url_stazione</th><th>url_sensore</th><th>id_parametro</th><th>data_inizio_sensore</th><th>data_fine_sensore</th><th>quota_da_pc</th><th>altezza_supporto</th><th>note_sensore</th><th>copy_url_stazione</th><th>codice_istat_comune</th><th>codice_stazione</th><th>denominazione</th><th>indirizzo_localita</th><th>nazione</th><th>longitudine_e_wgs84_d</th><th>latitudine_n_wgs84_d</th><th>quota_stazione</th><th>esposizione</th><th>note</th><th>tipo_staz</th><th>data_inizio</th><th>data_fine</th><th>sigla_prov</th><th>comune</th><th>fk_id_punto_misura_meteo</th></tr><tr><td>str</td><td>str</td><td>str</td><td>str</td><td>str</td><td>f64</td><td>f64</td><td>str</td><td>str</td><td>i64</td><td>str</td><td>str</td><td>str</td><td>str</td><td>f64</td><td>f64</td><td>i64</td><td>str</td><td>str</td><td>str</td><td>str</td><td>str</td><td>str</td><td>str</td><td>str</td></tr></thead><tbody><tr><td>&quot;https://utilit…</td><td>&quot;https://utilit…</td><td>&quot;TERMA&quot;</td><td>&quot;1993-07-22&quot;</td><td>&quot;&quot;</td><td>0.0</td><td>3.08</td><td>&quot;&quot;</td><td>&quot;https://utilit…</td><td>1003</td><td>&quot;250&quot;</td><td>&quot;ALA DI STURA&quot;</td><td>&quot;VIVAIO FORESTA…</td><td>&quot;ITALIA&quot;</td><td>7.31028</td><td>45.3125</td><td>1006</td><td>&quot;N&quot;</td><td>&quot;&quot;</td><td>&quot;HPT&quot;</td><td>&quot;1993-07-22&quot;</td><td>&quot;&quot;</td><td>&quot;TO&quot;</td><td>&quot;ALA DI STURA&quot;</td><td>&quot;https://utilit…</td></tr><tr><td>&quot;https://utilit…</td><td>&quot;https://utilit…</td><td>&quot;TERMA&quot;</td><td>&quot;1999-09-08&quot;</td><td>&quot;&quot;</td><td>0.0</td><td>3.78</td><td>&quot;&quot;</td><td>&quot;https://utilit…</td><td>1010</td><td>&quot;346&quot;</td><td>&quot;ANDRATE PINALB…</td><td>&quot;PINALBA&quot;</td><td>&quot;ITALIA&quot;</td><td>7.89222</td><td>45.56111</td><td>1580</td><td>&quot;SSE&quot;</td><td>&quot;&quot;</td><td>&quot;PRT&quot;</td><td>&quot;1999-09-09&quot;</td><td>&quot;&quot;</td><td>&quot;TO&quot;</td><td>&quot;ANDRATE&quot;</td><td>&quot;https://utilit…</td></tr><tr><td>&quot;https://utilit…</td><td>&quot;https://utilit…</td><td>&quot;TERMA&quot;</td><td>&quot;1999-08-05&quot;</td><td>&quot;&quot;</td><td>0.0</td><td>3.58</td><td>&quot;&quot;</td><td>&quot;https://utilit…</td><td>1011</td><td>&quot;353&quot;</td><td>&quot;VACCERA&quot;</td><td>&quot;VACCERA&quot;</td><td>&quot;ITALIA&quot;</td><td>7.20167</td><td>44.875</td><td>1435</td><td>&quot;S&quot;</td><td>&quot;&quot;</td><td>&quot;PT&quot;</td><td>&quot;1999-08-06&quot;</td><td>&quot;&quot;</td><td>&quot;TO&quot;</td><td>&quot;ANGROGNA&quot;</td><td>&quot;https://utilit…</td></tr><tr><td>&quot;https://utilit…</td><td>&quot;https://utilit…</td><td>&quot;TERMA&quot;</td><td>&quot;1991-01-09&quot;</td><td>&quot;&quot;</td><td>0.0</td><td>1.68</td><td>&quot;&quot;</td><td>&quot;https://utilit…</td><td>1013</td><td>&quot;142&quot;</td><td>&quot;AVIGLIANA&quot;</td><td>&quot;GRANGIA&quot;</td><td>&quot;ITALIA&quot;</td><td>7.39472</td><td>45.09389</td><td>340</td><td>&quot;N&quot;</td><td>&quot;&quot;</td><td>&quot;HPRTV&quot;</td><td>&quot;1991-01-09&quot;</td><td>&quot;&quot;</td><td>&quot;TO&quot;</td><td>&quot;AVIGLIANA&quot;</td><td>&quot;https://utilit…</td></tr><tr><td>&quot;https://utilit…</td><td>&quot;https://utilit…</td><td>&quot;TERMA&quot;</td><td>&quot;1987-09-25&quot;</td><td>&quot;&quot;</td><td>0.0</td><td>6.0</td><td>&quot;&quot;</td><td>&quot;https://utilit…</td><td>1019</td><td>&quot;004&quot;</td><td>&quot;RIFUGIO GASTAL…</td><td>&quot;RIFUGIO GASTAL…</td><td>&quot;ITALIA&quot;</td><td>7.14333</td><td>45.29806</td><td>2659</td><td>&quot;N&quot;</td><td>&quot;&quot;</td><td>&quot;NPRTV&quot;</td><td>&quot;1987-09-26&quot;</td><td>&quot;&quot;</td><td>&quot;TO&quot;</td><td>&quot;BALME&quot;</td><td>&quot;https://utilit…</td></tr><tr><td>&quot;https://utilit…</td><td>&quot;https://utilit…</td><td>&quot;TERMA&quot;</td><td>&quot;2006-09-28&quot;</td><td>&quot;2018-04-17&quot;</td><td>0.0</td><td>0.0</td><td>&quot;&quot;</td><td>&quot;https://utilit…</td><td>1019</td><td>&quot;S4101&quot;</td><td>&quot;BALME&quot;</td><td>&quot;FRAZIONE CORNE…</td><td>&quot;ITALIA&quot;</td><td>7.22194</td><td>45.3025</td><td>1410</td><td>&quot;ENE&quot;</td><td>&quot;&quot;</td><td>&quot;PTV&quot;</td><td>&quot;2006-09-29&quot;</td><td>&quot;&quot;</td><td>&quot;TO&quot;</td><td>&quot;BALME&quot;</td><td>&quot;https://utilit…</td></tr><tr><td>&quot;https://utilit…</td><td>&quot;https://utilit…</td><td>&quot;TERMA&quot;</td><td>&quot;2018-04-18&quot;</td><td>&quot;&quot;</td><td>0.0</td><td>3.0</td><td>&quot;&quot;</td><td>&quot;https://utilit…</td><td>1019</td><td>&quot;S4101&quot;</td><td>&quot;BALME&quot;</td><td>&quot;FRAZIONE CORNE…</td><td>&quot;ITALIA&quot;</td><td>7.22194</td><td>45.3025</td><td>1410</td><td>&quot;ENE&quot;</td><td>&quot;&quot;</td><td>&quot;PTV&quot;</td><td>&quot;2006-09-29&quot;</td><td>&quot;&quot;</td><td>&quot;TO&quot;</td><td>&quot;BALME&quot;</td><td>&quot;https://utilit…</td></tr><tr><td>&quot;https://utilit…</td><td>&quot;https://utilit…</td><td>&quot;TERMA&quot;</td><td>&quot;1990-12-06&quot;</td><td>&quot;&quot;</td><td>0.0</td><td>9.25</td><td>&quot;&quot;</td><td>&quot;https://utilit…</td><td>1022</td><td>&quot;152&quot;</td><td>&quot;PRERICHARD&quot;</td><td>&quot;PRERICHARD&quot;</td><td>&quot;ITALIA&quot;</td><td>6.71639</td><td>45.075</td><td>1290</td><td>&quot;WSW&quot;</td><td>&quot;&quot;</td><td>&quot;BHNPRTV&quot;</td><td>&quot;1990-12-06&quot;</td><td>&quot;&quot;</td><td>&quot;TO&quot;</td><td>&quot;BARDONECCHIA&quot;</td><td>&quot;https://utilit…</td></tr><tr><td>&quot;https://utilit…</td><td>&quot;https://utilit…</td><td>&quot;TERMA&quot;</td><td>&quot;1990-11-09&quot;</td><td>&quot;2005-08-30&quot;</td><td>0.0</td><td>9.5</td><td>&quot;&quot;</td><td>&quot;https://utilit…</td><td>1022</td><td>&quot;011&quot;</td><td>&quot;CAMINI FREJUS&quot;</td><td>&quot;CAMINI FREJUS&quot;</td><td>&quot;ITALIA&quot;</td><td>6.68861</td><td>45.11722</td><td>1740</td><td>&quot;WSW&quot;</td><td>&quot;&quot;</td><td>&quot;BHNPRTV&quot;</td><td>&quot;1990-11-09&quot;</td><td>&quot;2005-08-30&quot;</td><td>&quot;TO&quot;</td><td>&quot;BARDONECCHIA&quot;</td><td>&quot;https://utilit…</td></tr><tr><td>&quot;https://utilit…</td><td>&quot;https://utilit…</td><td>&quot;TERMA&quot;</td><td>&quot;2002-10-10&quot;</td><td>&quot;2010-07-22&quot;</td><td>0.0</td><td>0.0</td><td>&quot;&quot;</td><td>&quot;https://utilit…</td><td>1022</td><td>&quot;S2895&quot;</td><td>&quot;BARDONECCHIA M…</td><td>&quot;MELEZET&quot;</td><td>&quot;ITALIA&quot;</td><td>6.68583</td><td>45.045</td><td>1791</td><td>&quot;NW&quot;</td><td>&quot;&quot;</td><td>&quot;GHPRTV&quot;</td><td>&quot;2002-10-11&quot;</td><td>&quot;2010-07-22&quot;</td><td>&quot;TO&quot;</td><td>&quot;BARDONECCHIA&quot;</td><td>&quot;https://utilit…</td></tr><tr><td>&quot;https://utilit…</td><td>&quot;https://utilit…</td><td>&quot;TERMA&quot;</td><td>&quot;2003-02-06&quot;</td><td>&quot;&quot;</td><td>0.0</td><td>6.5</td><td>&quot;&quot;</td><td>&quot;https://utilit…</td><td>1022</td><td>&quot;S3238&quot;</td><td>&quot;BARDONECCHIA P…</td><td>&quot;PIAN DEL SOLE&quot;</td><td>&quot;ITALIA&quot;</td><td>6.70472</td><td>45.06333</td><td>1585</td><td>&quot;NNW&quot;</td><td>&quot;&quot;</td><td>&quot;BFGHNPTVW&quot;</td><td>&quot;2003-02-07&quot;</td><td>&quot;&quot;</td><td>&quot;TO&quot;</td><td>&quot;BARDONECCHIA&quot;</td><td>&quot;https://utilit…</td></tr><tr><td>&quot;https://utilit…</td><td>&quot;https://utilit…</td><td>&quot;TERMA&quot;</td><td>&quot;2005-09-06&quot;</td><td>&quot;2006-03-24&quot;</td><td>0.0</td><td>9.5</td><td>&quot;&quot;</td><td>&quot;https://utilit…</td><td>1022</td><td>&quot;012&quot;</td><td>&quot;BARDONECCHIA P…</td><td>&quot;PRANUDIN&quot;</td><td>&quot;ITALIA&quot;</td><td>6.70803</td><td>45.10627</td><td>2045</td><td>&quot;WNW&quot;</td><td>&quot;&quot;</td><td>&quot;BHNPTV&quot;</td><td>&quot;2005-09-07&quot;</td><td>&quot;&quot;</td><td>&quot;TO&quot;</td><td>&quot;BARDONECCHIA&quot;</td><td>&quot;https://utilit…</td></tr><tr><td>&hellip;</td><td>&hellip;</td><td>&hellip;</td><td>&hellip;</td><td>&hellip;</td><td>&hellip;</td><td>&hellip;</td><td>&hellip;</td><td>&hellip;</td><td>&hellip;</td><td>&hellip;</td><td>&hellip;</td><td>&hellip;</td><td>&hellip;</td><td>&hellip;</td><td>&hellip;</td><td>&hellip;</td><td>&hellip;</td><td>&hellip;</td><td>&hellip;</td><td>&hellip;</td><td>&hellip;</td><td>&hellip;</td><td>&hellip;</td><td>&hellip;</td></tr><tr><td>&quot;https://utilit…</td><td>&quot;https://utilit…</td><td>&quot;TERMA&quot;</td><td>&quot;2001-10-01&quot;</td><td>&quot;&quot;</td><td>0.0</td><td>3.9</td><td>&quot;&quot;</td><td>&quot;https://utilit…</td><td>9015</td><td>&quot;S2582&quot;</td><td>&quot;MONTENOTTE INF…</td><td>&quot;MONTENOTTE INF…</td><td>&quot;ITALIA&quot;</td><td>8.41176</td><td>44.41259</td><td>564</td><td>&quot;NE&quot;</td><td>&quot;&quot;</td><td>&quot;PT&quot;</td><td>&quot;2004-01-01&quot;</td><td>&quot;&quot;</td><td>&quot;SV&quot;</td><td>&quot;CAIRO MONTENOT…</td><td>&quot;https://utilit…</td></tr><tr><td>&quot;https://utilit…</td><td>&quot;https://utilit…</td><td>&quot;TERMA&quot;</td><td>&quot;2002-02-27&quot;</td><td>&quot;&quot;</td><td>0.0</td><td>0.0</td><td>&quot;&quot;</td><td>&quot;https://utilit…</td><td>9017</td><td>&quot;203&quot;</td><td>&quot;CALIZZANO&quot;</td><td>&quot;PIANO&quot;</td><td>&quot;ITALIA&quot;</td><td>8.11833</td><td>44.23611</td><td>647</td><td>&quot;W&quot;</td><td>&quot;&quot;</td><td>&quot;PT&quot;</td><td>&quot;2004-01-01&quot;</td><td>&quot;&quot;</td><td>&quot;SV&quot;</td><td>&quot;CALIZZANO&quot;</td><td>&quot;https://utilit…</td></tr><tr><td>&quot;https://utilit…</td><td>&quot;https://utilit…</td><td>&quot;TERMA&quot;</td><td>&quot;2002-05-15&quot;</td><td>&quot;&quot;</td><td>0.0</td><td>9.55</td><td>&quot;&quot;</td><td>&quot;https://utilit…</td><td>9046</td><td>&quot;S2892&quot;</td><td>&quot;SETTEPANI&quot;</td><td>&quot;MONTE SETTEPAN…</td><td>&quot;ITALIA&quot;</td><td>8.19472</td><td>44.23611</td><td>1375</td><td>&quot;SSW&quot;</td><td>&quot;&quot;</td><td>&quot;HNPRTV&quot;</td><td>&quot;2003-01-01&quot;</td><td>&quot;&quot;</td><td>&quot;SV&quot;</td><td>&quot;OSIGLIA&quot;</td><td>&quot;https://utilit…</td></tr><tr><td>&quot;https://utilit…</td><td>&quot;https://utilit…</td><td>&quot;TERMA&quot;</td><td>&quot;2002-02-27&quot;</td><td>&quot;&quot;</td><td>0.0</td><td>3.67</td><td>&quot;&quot;</td><td>&quot;https://utilit…</td><td>9036</td><td>&quot;S2588&quot;</td><td>&quot;MALLARE&quot;</td><td>&quot;DEPURATORE COM…</td><td>&quot;ITALIA&quot;</td><td>8.29944</td><td>44.28694</td><td>467</td><td>&quot;W&quot;</td><td>&quot;&quot;</td><td>&quot;PT&quot;</td><td>&quot;2004-01-01&quot;</td><td>&quot;&quot;</td><td>&quot;SV&quot;</td><td>&quot;MALLARE&quot;</td><td>&quot;https://utilit…</td></tr><tr><td>&quot;https://utilit…</td><td>&quot;https://utilit…</td><td>&quot;TERMA&quot;</td><td>&quot;2005-08-02&quot;</td><td>&quot;&quot;</td><td>0.0</td><td>0.0</td><td>&quot;&quot;</td><td>&quot;https://utilit…</td><td>9040</td><td>&quot;S2598&quot;</td><td>&quot;MURIALDO BORMI…</td><td>&quot;BORGATA AZZINI…</td><td>&quot;ITALIA&quot;</td><td>8.15981</td><td>44.31321</td><td>523</td><td>&quot;NW&quot;</td><td>&quot;&quot;</td><td>&quot;IPT&quot;</td><td>&quot;2005-08-02&quot;</td><td>&quot;&quot;</td><td>&quot;SV&quot;</td><td>&quot;MURIALDO&quot;</td><td>&quot;https://utilit…</td></tr><tr><td>&quot;https://utilit…</td><td>&quot;https://utilit…</td><td>&quot;TERMA&quot;</td><td>&quot;2002-02-27&quot;</td><td>&quot;&quot;</td><td>0.0</td><td>3.78</td><td>&quot;&quot;</td><td>&quot;https://utilit…</td><td>9046</td><td>&quot;S2587&quot;</td><td>&quot;OSIGLIA&quot;</td><td>&quot;BARBERIS&quot;</td><td>&quot;ITALIA&quot;</td><td>8.20254</td><td>44.28647</td><td>620</td><td>&quot;W&quot;</td><td>&quot;&quot;</td><td>&quot;PT&quot;</td><td>&quot;2004-01-01&quot;</td><td>&quot;&quot;</td><td>&quot;SV&quot;</td><td>&quot;OSIGLIA&quot;</td><td>&quot;https://utilit…</td></tr><tr><td>&quot;https://utilit…</td><td>&quot;https://utilit…</td><td>&quot;TERMA&quot;</td><td>&quot;2001-10-01&quot;</td><td>&quot;&quot;</td><td>0.0</td><td>0.0</td><td>&quot;&quot;</td><td>&quot;https://utilit…</td><td>9055</td><td>&quot;305&quot;</td><td>&quot;SASSELLO&quot;</td><td>&quot;SASSELLO CAMPO…</td><td>&quot;ITALIA&quot;</td><td>8.48361</td><td>44.47361</td><td>385</td><td>&quot;E&quot;</td><td>&quot;&quot;</td><td>&quot;PT&quot;</td><td>&quot;2004-01-01&quot;</td><td>&quot;&quot;</td><td>&quot;SV&quot;</td><td>&quot;SASSELLO&quot;</td><td>&quot;https://utilit…</td></tr><tr><td>&quot;https://utilit…</td><td>&quot;https://utilit…</td><td>&quot;TERMA&quot;</td><td>&quot;2001-10-01&quot;</td><td>&quot;&quot;</td><td>0.0</td><td>3.91</td><td>&quot;&quot;</td><td>&quot;https://utilit…</td><td>9055</td><td>&quot;S2047&quot;</td><td>&quot;PIAMPALUDO&quot;</td><td>&quot;BUSCHIAZZI PIA…</td><td>&quot;ITALIA&quot;</td><td>8.57889</td><td>44.45639</td><td>882</td><td>&quot;NNW&quot;</td><td>&quot;&quot;</td><td>&quot;PT&quot;</td><td>&quot;2004-01-01&quot;</td><td>&quot;&quot;</td><td>&quot;SV&quot;</td><td>&quot;SASSELLO&quot;</td><td>&quot;https://utilit…</td></tr><tr><td>&quot;https://utilit…</td><td>&quot;https://utilit…</td><td>&quot;TERMA&quot;</td><td>&quot;2001-10-01&quot;</td><td>&quot;&quot;</td><td>0.0</td><td>3.0</td><td>&quot;&quot;</td><td>&quot;https://utilit…</td><td>10006</td><td>&quot;397&quot;</td><td>&quot;BUSALLA&quot;</td><td>&quot;CAMPO SPORTIVO…</td><td>&quot;ITALIA&quot;</td><td>8.94892</td><td>44.57129</td><td>358</td><td>&quot;N&quot;</td><td>&quot;&quot;</td><td>&quot;PT&quot;</td><td>&quot;2004-01-01&quot;</td><td>&quot;&quot;</td><td>&quot;GE&quot;</td><td>&quot;BUSALLA&quot;</td><td>&quot;https://utilit…</td></tr><tr><td>&quot;https://utilit…</td><td>&quot;https://utilit…</td><td>&quot;TERMA&quot;</td><td>&quot;2001-10-01&quot;</td><td>&quot;&quot;</td><td>0.0</td><td>0.0</td><td>&quot;&quot;</td><td>&quot;https://utilit…</td><td>10051</td><td>&quot;398&quot;</td><td>&quot;ROSSIGLIONE&quot;</td><td>&quot;GHIDOMO&quot;</td><td>&quot;ITALIA&quot;</td><td>8.65776</td><td>44.57232</td><td>436</td><td>&quot;SE&quot;</td><td>&quot;&quot;</td><td>&quot;PT&quot;</td><td>&quot;2004-01-01&quot;</td><td>&quot;&quot;</td><td>&quot;GE&quot;</td><td>&quot;ROSSIGLIONE&quot;</td><td>&quot;https://utilit…</td></tr><tr><td>&quot;https://utilit…</td><td>&quot;https://utilit…</td><td>&quot;TERMA&quot;</td><td>&quot;2001-10-01&quot;</td><td>&quot;&quot;</td><td>0.0</td><td>4.53</td><td>&quot;&quot;</td><td>&quot;https://utilit…</td><td>10066</td><td>&quot;S2589&quot;</td><td>&quot;ALPE VOBBIA&quot;</td><td>&quot;PASSO DELL&#x27;INC…</td><td>&quot;ITALIA&quot;</td><td>9.07492</td><td>44.57032</td><td>1082</td><td>&quot;SW&quot;</td><td>&quot;&quot;</td><td>&quot;PT&quot;</td><td>&quot;2004-01-01&quot;</td><td>&quot;&quot;</td><td>&quot;GE&quot;</td><td>&quot;VOBBIA&quot;</td><td>&quot;https://utilit…</td></tr><tr><td>&quot;https://utilit…</td><td>&quot;https://utilit…</td><td>&quot;TERMA&quot;</td><td>&quot;2005-06-22&quot;</td><td>&quot;&quot;</td><td>0.0</td><td>0.0</td><td>&quot;&quot;</td><td>&quot;https://utilit…</td><td>215000</td><td>&quot;S4112&quot;</td><td>&quot;MONCENISIO LAG…</td><td>&quot;HAUTE MAURIENN…</td><td>&quot;FRANCIA&quot;</td><td>6.94361</td><td>45.22194</td><td>2000</td><td>&quot;N&quot;</td><td>&quot;&quot;</td><td>&quot;PT&quot;</td><td>&quot;2006-01-01&quot;</td><td>&quot;&quot;</td><td>&quot;F&quot;</td><td>&quot;NAZIONE: FRANC…</td><td>&quot;https://utilit…</td></tr></tbody></table></div>"
      ],
      "text/plain": [
       "shape: (324, 25)\n",
       "┌───────────┬───────────┬───────────┬───────────┬───┬───────────┬───────────┬───────────┬──────────┐\n",
       "│ url_stazi ┆ url_senso ┆ id_parame ┆ data_iniz ┆ … ┆ data_fine ┆ sigla_pro ┆ comune    ┆ fk_id_pu │\n",
       "│ one       ┆ re        ┆ tro       ┆ io_sensor ┆   ┆ ---       ┆ v         ┆ ---       ┆ nto_misu │\n",
       "│ ---       ┆ ---       ┆ ---       ┆ e         ┆   ┆ str       ┆ ---       ┆ str       ┆ ra_meteo │\n",
       "│ str       ┆ str       ┆ str       ┆ ---       ┆   ┆           ┆ str       ┆           ┆ ---      │\n",
       "│           ┆           ┆           ┆ str       ┆   ┆           ┆           ┆           ┆ str      │\n",
       "╞═══════════╪═══════════╪═══════════╪═══════════╪═══╪═══════════╪═══════════╪═══════════╪══════════╡\n",
       "│ https://u ┆ https://u ┆ TERMA     ┆ 1993-07-2 ┆ … ┆           ┆ TO        ┆ ALA DI    ┆ https:// │\n",
       "│ tility.ar ┆ tility.ar ┆           ┆ 2         ┆   ┆           ┆           ┆ STURA     ┆ utility. │\n",
       "│ pa.piemon ┆ pa.piemon ┆           ┆           ┆   ┆           ┆           ┆           ┆ arpa.pie │\n",
       "│ te.it…    ┆ te.it…    ┆           ┆           ┆   ┆           ┆           ┆           ┆ monte.it │\n",
       "│           ┆           ┆           ┆           ┆   ┆           ┆           ┆           ┆ …        │\n",
       "│ https://u ┆ https://u ┆ TERMA     ┆ 1999-09-0 ┆ … ┆           ┆ TO        ┆ ANDRATE   ┆ https:// │\n",
       "│ tility.ar ┆ tility.ar ┆           ┆ 8         ┆   ┆           ┆           ┆           ┆ utility. │\n",
       "│ pa.piemon ┆ pa.piemon ┆           ┆           ┆   ┆           ┆           ┆           ┆ arpa.pie │\n",
       "│ te.it…    ┆ te.it…    ┆           ┆           ┆   ┆           ┆           ┆           ┆ monte.it │\n",
       "│           ┆           ┆           ┆           ┆   ┆           ┆           ┆           ┆ …        │\n",
       "│ https://u ┆ https://u ┆ TERMA     ┆ 1999-08-0 ┆ … ┆           ┆ TO        ┆ ANGROGNA  ┆ https:// │\n",
       "│ tility.ar ┆ tility.ar ┆           ┆ 5         ┆   ┆           ┆           ┆           ┆ utility. │\n",
       "│ pa.piemon ┆ pa.piemon ┆           ┆           ┆   ┆           ┆           ┆           ┆ arpa.pie │\n",
       "│ te.it…    ┆ te.it…    ┆           ┆           ┆   ┆           ┆           ┆           ┆ monte.it │\n",
       "│           ┆           ┆           ┆           ┆   ┆           ┆           ┆           ┆ …        │\n",
       "│ https://u ┆ https://u ┆ TERMA     ┆ 1991-01-0 ┆ … ┆           ┆ TO        ┆ AVIGLIANA ┆ https:// │\n",
       "│ tility.ar ┆ tility.ar ┆           ┆ 9         ┆   ┆           ┆           ┆           ┆ utility. │\n",
       "│ pa.piemon ┆ pa.piemon ┆           ┆           ┆   ┆           ┆           ┆           ┆ arpa.pie │\n",
       "│ te.it…    ┆ te.it…    ┆           ┆           ┆   ┆           ┆           ┆           ┆ monte.it │\n",
       "│           ┆           ┆           ┆           ┆   ┆           ┆           ┆           ┆ …        │\n",
       "│ …         ┆ …         ┆ …         ┆ …         ┆ … ┆ …         ┆ …         ┆ …         ┆ …        │\n",
       "│ https://u ┆ https://u ┆ TERMA     ┆ 2001-10-0 ┆ … ┆           ┆ GE        ┆ BUSALLA   ┆ https:// │\n",
       "│ tility.ar ┆ tility.ar ┆           ┆ 1         ┆   ┆           ┆           ┆           ┆ utility. │\n",
       "│ pa.piemon ┆ pa.piemon ┆           ┆           ┆   ┆           ┆           ┆           ┆ arpa.pie │\n",
       "│ te.it…    ┆ te.it…    ┆           ┆           ┆   ┆           ┆           ┆           ┆ monte.it │\n",
       "│           ┆           ┆           ┆           ┆   ┆           ┆           ┆           ┆ …        │\n",
       "│ https://u ┆ https://u ┆ TERMA     ┆ 2001-10-0 ┆ … ┆           ┆ GE        ┆ ROSSIGLIO ┆ https:// │\n",
       "│ tility.ar ┆ tility.ar ┆           ┆ 1         ┆   ┆           ┆           ┆ NE        ┆ utility. │\n",
       "│ pa.piemon ┆ pa.piemon ┆           ┆           ┆   ┆           ┆           ┆           ┆ arpa.pie │\n",
       "│ te.it…    ┆ te.it…    ┆           ┆           ┆   ┆           ┆           ┆           ┆ monte.it │\n",
       "│           ┆           ┆           ┆           ┆   ┆           ┆           ┆           ┆ …        │\n",
       "│ https://u ┆ https://u ┆ TERMA     ┆ 2001-10-0 ┆ … ┆           ┆ GE        ┆ VOBBIA    ┆ https:// │\n",
       "│ tility.ar ┆ tility.ar ┆           ┆ 1         ┆   ┆           ┆           ┆           ┆ utility. │\n",
       "│ pa.piemon ┆ pa.piemon ┆           ┆           ┆   ┆           ┆           ┆           ┆ arpa.pie │\n",
       "│ te.it…    ┆ te.it…    ┆           ┆           ┆   ┆           ┆           ┆           ┆ monte.it │\n",
       "│           ┆           ┆           ┆           ┆   ┆           ┆           ┆           ┆ …        │\n",
       "│ https://u ┆ https://u ┆ TERMA     ┆ 2005-06-2 ┆ … ┆           ┆ F         ┆ NAZIONE:  ┆ https:// │\n",
       "│ tility.ar ┆ tility.ar ┆           ┆ 2         ┆   ┆           ┆           ┆ FRANCIA   ┆ utility. │\n",
       "│ pa.piemon ┆ pa.piemon ┆           ┆           ┆   ┆           ┆           ┆           ┆ arpa.pie │\n",
       "│ te.it…    ┆ te.it…    ┆           ┆           ┆   ┆           ┆           ┆           ┆ monte.it │\n",
       "│           ┆           ┆           ┆           ┆   ┆           ┆           ┆           ┆ …        │\n",
       "└───────────┴───────────┴───────────┴───────────┴───┴───────────┴───────────┴───────────┴──────────┘"
      ]
     },
     "execution_count": 19,
     "metadata": {},
     "output_type": "execute_result"
    }
   ],
   "source": [
    "thermo_sensors"
   ]
  },
  {
   "cell_type": "code",
   "execution_count": null,
   "metadata": {},
   "outputs": [],
   "source": []
  }
 ],
 "metadata": {
  "kernelspec": {
   "display_name": "geopy",
   "language": "python",
   "name": "python3"
  },
  "language_info": {
   "codemirror_mode": {
    "name": "ipython",
    "version": 3
   },
   "file_extension": ".py",
   "mimetype": "text/x-python",
   "name": "python",
   "nbconvert_exporter": "python",
   "pygments_lexer": "ipython3",
   "version": "3.11.6"
  }
 },
 "nbformat": 4,
 "nbformat_minor": 2
}
