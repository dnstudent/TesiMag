{
 "cells": [
  {
   "cell_type": "code",
   "execution_count": 1,
   "metadata": {
    "vscode": {
     "languageId": "r"
    }
   },
   "outputs": [],
   "source": [
    "setwd(fs::path_abs(\"~/Local_Workspace/TesiMag\"))\n",
    "library(ggplot2, warn.conflicts = FALSE)\n",
    "library(readr, warn.conflicts = FALSE)\n",
    "library(arrow, warn.conflicts = FALSE)\n",
    "library(dplyr, warn.conflicts = FALSE)\n",
    "library(tidyr, warn.conflicts = FALSE)\n",
    "\n",
    "options(repr.plot.width = 9, repr.plot.res = 300)\n",
    "\n",
    "\n",
    "source(\"src/paths/paths.R\")\n",
    "path.piemonte <- file.path(path.ds, \"ARPA\", \"PIEMONTE\")\n",
    "path.dwnl <- file.path(path.piemonte, \"site-data\")\n"
   ]
  },
  {
   "cell_type": "code",
   "execution_count": 2,
   "metadata": {
    "vscode": {
     "languageId": "r"
    }
   },
   "outputs": [],
   "source": [
    "open_dataset(path.dwnl, format = \"parquet\") |>\n",
    "    select(date = data, T_MAX = tmax, T_MIN = tmin, tclasse, identifier = id_punto) |>\n",
    "    mutate(tclasse = cast(tclasse, utf8()), identifier = cast(identifier, utf8())) |>\n",
    "    map_batches(\n",
    "        ~ pivot_longer(. |> collect(), cols = c(T_MAX, T_MIN), names_to = \"variable\", values_to = \"value\") |>\n",
    "            as_record_batch()\n",
    "    ) |>\n",
    "    arrange(variable, identifier, date) |>\n",
    "    # write_parquet(\"test.parquet\")\n",
    "    write_dataset(file.path(path.piemonte, \"dataset\"), format = \"feather\", partitioning = \"variable\")\n"
   ]
  },
  {
   "cell_type": "code",
   "execution_count": null,
   "metadata": {
    "vscode": {
     "languageId": "r"
    }
   },
   "outputs": [],
   "source": [
    "open_dataset(file.path(path.piemonte, \"dataset\"), format = \"feather\") |>\n",
    "    filter(variable == \"T_MIN\") |>\n",
    "    collect()\n"
   ]
  },
  {
   "cell_type": "code",
   "execution_count": 11,
   "metadata": {
    "vscode": {
     "languageId": "r"
    }
   },
   "outputs": [],
   "source": [
    "library(sf, warn.conflicts = FALSE)\n",
    "read_csv_arrow(file.path(path.piemonte, \"metadata.csv\"), col_select = c(data_inizio_sensore, data_fine_sensore, quota_da_pc, quota_stazione, esposizione, tipo_staz, sigla_prov, comune, denominazione, indirizzo_localita, identifier = id_punto_misura, lon = longitudine_e_wgs84_d, lat = latitudine_n_wgs84_d)) |>\n",
    "    st_as_sf(coords = c(\"longitudine_e_wgs84_d\", \"latitudine_n_wgs84_d\"), crs = \"WGS84\") |>\n",
    "    write_sf(file.path(path.piemonte, \"metadata.geojson\"))\n"
   ]
  },
  {
   "cell_type": "code",
   "execution_count": null,
   "metadata": {
    "vscode": {
     "languageId": "r"
    }
   },
   "outputs": [],
   "source": []
  }
 ],
 "metadata": {
  "kernelspec": {
   "display_name": "R",
   "language": "R",
   "name": "ir"
  },
  "language_info": {
   "codemirror_mode": "r",
   "file_extension": ".r",
   "mimetype": "text/x-r-source",
   "name": "R",
   "pygments_lexer": "r",
   "version": "4.3.2"
  }
 },
 "nbformat": 4,
 "nbformat_minor": 2
}
