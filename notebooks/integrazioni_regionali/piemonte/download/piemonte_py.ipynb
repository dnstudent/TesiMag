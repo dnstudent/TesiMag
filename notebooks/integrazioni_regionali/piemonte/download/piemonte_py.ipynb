{
 "cells": [
  {
   "cell_type": "code",
   "execution_count": 1,
   "metadata": {},
   "outputs": [],
   "source": [
    "import requests\n",
    "import pandas as pd\n",
    "import pyarrow as pa\n",
    "import pyarrow.json as pjson\n",
    "import polars as pl\n",
    "from tqdm.notebook import tqdm\n",
    "from datetime import datetime\n",
    "from time import sleep\n",
    "from io import StringIO\n",
    "\n",
    "import json\n",
    "from datetime import date\n",
    "from pathlib import Path\n",
    "\n",
    "content_path = Path(\"/Users/davidenicoli/Local_Workspace/Datasets/ARPA/PIEMONTE/\")\n",
    "meteo_path = content_path / \"meteo\"\n",
    "centenaria_path = content_path / \"centenaria\"\n",
    "\n",
    "\n",
    "def db_path(section):\n",
    "    return content_path / section / \"fragments\"\n",
    "\n",
    "\n",
    "def meta_path(section):\n",
    "    return content_path / section / \"meta.csv\"\n",
    "\n",
    "\n",
    "def dati_giornalieri(\n",
    "    id_punto_misura, section, session: requests.Session\n",
    "):\n",
    "    return session.get(f\"https://utility.arpa.piemonte.it/meteoidro/dati_giornalieri_{section}/\", params={f\"fk_id_punto_misura_{section}\": id_punto_misura}).json()"
   ]
  },
  {
   "cell_type": "code",
   "execution_count": 2,
   "metadata": {},
   "outputs": [],
   "source": [
    "content = requests.get(\n",
    "    \"https://utility.arpa.piemonte.it/meteoidro/stazione_meteorologica/\"\n",
    ").content\n",
    "meteo_info = json.loads(content)\n",
    "\n",
    "content = requests.get(\n",
    "    \"https://utility.arpa.piemonte.it/meteoidro/stazione_centenaria/\"\n",
    ").content\n",
    "centenaria_info = json.loads(content)"
   ]
  },
  {
   "cell_type": "code",
   "execution_count": 3,
   "metadata": {},
   "outputs": [],
   "source": [
    "# Meteo metadata\n",
    "meteo_interm = pl.DataFrame(\n",
    "    meteo_info[\"results\"],\n",
    "    schema_overrides={\n",
    "        \"url\": pl.Utf8(),\n",
    "        \"codice_istat_comune\": pl.Utf8(),\n",
    "        \"sensori_meteo\": pl.List(\n",
    "            pl.Struct(\n",
    "                {\n",
    "                    \"url\": pl.Utf8(),\n",
    "                    \"id_parametro\": pl.Utf8(),\n",
    "                    \"data_inizio\": pl.Utf8(),\n",
    "                    \"data_fine\": pl.Utf8(),\n",
    "                    \"quota_da_pc\": pl.Float32(),\n",
    "                    \"altezza_supporto\": pl.Float32(),\n",
    "                    \"note\": pl.Utf8(),\n",
    "                    \"fk_id_stazione_meteorologica\": pl.Utf8(),\n",
    "                }\n",
    "            )\n",
    "        ),\n",
    "    },\n",
    ")\n",
    "meteo_meta = (\n",
    "    (\n",
    "        meteo_interm.rename({\"url\": \"url_stazione\"})\n",
    "        .explode(\"sensori_meteo\")\n",
    "        .with_columns(\n",
    "            pl.col(\"sensori_meteo\").struct.rename_fields(\n",
    "                [\n",
    "                    \"url_sensore\",\n",
    "                    \"id_parametro\",\n",
    "                    \"data_inizio_sensore\",\n",
    "                    \"data_fine_sensore\",\n",
    "                    \"quota_da_pc\",\n",
    "                    \"altezza_supporto\",\n",
    "                    \"note_sensore\",\n",
    "                    \"copy_url_stazione\",\n",
    "                ]\n",
    "            )\n",
    "        )\n",
    "        .unnest(\"sensori_meteo\")\n",
    "        .filter(pl.col(\"id_parametro\") == \"TERMA\")\n",
    "    )\n",
    "    .with_columns(\n",
    "        pl.col(\"url_stazione\")\n",
    "        .str.split(\"/\")\n",
    "        .list.get(-2)\n",
    "        .str.slice(0, 14)\n",
    "        .alias(\"codice_punto_misura\"),\n",
    "    )\n",
    "    .select(\n",
    "        [\n",
    "            \"url_stazione\",\n",
    "            \"url_sensore\",\n",
    "            \"id_parametro\",\n",
    "            \"data_inizio_sensore\",\n",
    "            \"data_fine_sensore\",\n",
    "            \"quota_da_pc\",\n",
    "            \"altezza_supporto\",\n",
    "            \"note_sensore\",\n",
    "            \"codice_istat_comune\",\n",
    "            \"codice_stazione\",\n",
    "            \"denominazione\",\n",
    "            \"indirizzo_localita\",\n",
    "            \"nazione\",\n",
    "            \"longitudine_e_wgs84_d\",\n",
    "            \"latitudine_n_wgs84_d\",\n",
    "            \"quota_stazione\",\n",
    "            \"esposizione\",\n",
    "            \"note\",\n",
    "            \"tipo_staz\",\n",
    "            \"data_inizio\",\n",
    "            \"data_fine\",\n",
    "            \"sigla_prov\",\n",
    "            \"comune\",\n",
    "            \"fk_id_punto_misura_meteo\",\n",
    "            \"codice_punto_misura\",\n",
    "        ]\n",
    "    )\n",
    ")\n",
    "meteo_meta.write_csv(meta_path(\"meteo\"), quote_style=\"always\")\n",
    "\n",
    "# Centenaria metadata\n",
    "centenarie_meta = pl.DataFrame(\n",
    "    centenaria_info[\"results\"],\n",
    ").with_columns(\n",
    "    pl.col(\"fk_id_punto_misura_centenaria\")\n",
    "    .str.split(\"/\")\n",
    "    .list.get(-2)\n",
    "    .alias(\"codice_punto_misura\"),\n",
    "    pl.col(\"longitudine_e_wgs84_d\").cast(pl.Float64()),\n",
    "    pl.col(\"latitudine_n_wgs84_d\").cast(pl.Float64()),\n",
    ")\n",
    "centenarie_meta.write_csv(meta_path(\"centenaria\"), quote_style=\"always\")"
   ]
  },
  {
   "cell_type": "code",
   "execution_count": 4,
   "metadata": {},
   "outputs": [],
   "source": [
    "meteo_meta = pl.read_csv(meta_path(\"meteo\"))\n",
    "centenarie_meta = pl.read_csv(meta_path(\"centenaria\"))"
   ]
  },
  {
   "cell_type": "code",
   "execution_count": 5,
   "metadata": {},
   "outputs": [],
   "source": [
    "def punto_path(id_punto, section) -> Path:\n",
    "    return db_path(section) / f\"{id_punto}/\"\n",
    "\n",
    "def fragment_path(id_punto, first_date, last_date, section) -> Path:\n",
    "    return (\n",
    "        punto_path(id_punto, section) / f\"{first_date.strftime(r\"%Y-%m-%d\")}_{last_date.strftime(r\"%Y-%m-%d\")}.csv\"\n",
    "    )\n",
    "\n",
    "def date_extremes(results):\n",
    "    dates = [datetime.strptime(r[\"data\"], r\"%Y-%m-%d\") for r in results]\n",
    "    return min(dates), max(dates)\n",
    "\n",
    "def dwn_punto_misura(id_punto, session: requests.Session, section):\n",
    "    pp = punto_path(id_punto, section)\n",
    "    if not pp.exists():\n",
    "        pp.mkdir(parents=True, exist_ok=True)\n",
    "    else:\n",
    "        return True\n",
    "    # try:\n",
    "    page = dati_giornalieri(id_punto, section, session)\n",
    "    start_date, stop_date = date_extremes(page[\"results\"])\n",
    "    pl.read_json(StringIO(json.dumps(page[\"results\"]))).drop(\"url\").write_csv(fragment_path(id_punto, start_date, stop_date, section))\n",
    "    try:\n",
    "        while page[\"next\"] is not None:\n",
    "            page = session.get(page[\"next\"]).json()\n",
    "            start_date, stop_date = date_extremes(page[\"results\"])\n",
    "            pl.read_json(StringIO(json.dumps(page[\"results\"]))).drop(\"url\").write_csv(fragment_path(id_punto, start_date, stop_date, section))\n",
    "            sleep(0.2)\n",
    "        return True\n",
    "    except:\n",
    "        for file in pp.glob(\"*\"):\n",
    "            file.unlink()\n",
    "        pp.rmdir()\n",
    "        return False\n",
    "\n"
   ]
  },
  {
   "cell_type": "code",
   "execution_count": 8,
   "metadata": {},
   "outputs": [
    {
     "data": {
      "application/vnd.jupyter.widget-view+json": {
       "model_id": "93188f59d9854629a7b51e22504306af",
       "version_major": 2,
       "version_minor": 0
      },
      "text/plain": [
       "  0%|          | 0/311 [00:00<?, ?it/s]"
      ]
     },
     "metadata": {},
     "output_type": "display_data"
    }
   ],
   "source": [
    "ids = meteo_meta[\"codice_punto_misura\"].unique().to_list()\n",
    "for id in tqdm(ids):\n",
    "    with requests.Session() as session:\n",
    "        if not dwn_punto_misura(id, session, \"meteo\"):\n",
    "            print(\"Could not download meteo data for \", id)\n",
    "            sleep(5)"
   ]
  },
  {
   "cell_type": "code",
   "execution_count": 6,
   "metadata": {},
   "outputs": [
    {
     "data": {
      "application/vnd.jupyter.widget-view+json": {
       "model_id": "386dc37d53e34e5fa1617f3c4e61f9fb",
       "version_major": 2,
       "version_minor": 0
      },
      "text/plain": [
       "  0%|          | 0/2 [00:00<?, ?it/s]"
      ]
     },
     "metadata": {},
     "output_type": "display_data"
    }
   ],
   "source": [
    "ids = centenarie_meta[\"codice_punto_misura\"].unique().to_list()\n",
    "for id in tqdm(ids):\n",
    "    with requests.Session() as session:\n",
    "        if not dwn_punto_misura(id, session, \"centenaria\"):\n",
    "            print(\"Could not download meteo data for \", id)\n",
    "            sleep(5)"
   ]
  },
  {
   "cell_type": "code",
   "execution_count": null,
   "metadata": {},
   "outputs": [],
   "source": []
  }
 ],
 "metadata": {
  "kernelspec": {
   "display_name": "geopy",
   "language": "python",
   "name": "python3"
  },
  "language_info": {
   "codemirror_mode": {
    "name": "ipython",
    "version": 3
   },
   "file_extension": ".py",
   "mimetype": "text/x-python",
   "name": "python",
   "nbconvert_exporter": "python",
   "pygments_lexer": "ipython3",
   "version": "3.12.1"
  }
 },
 "nbformat": 4,
 "nbformat_minor": 2
}
