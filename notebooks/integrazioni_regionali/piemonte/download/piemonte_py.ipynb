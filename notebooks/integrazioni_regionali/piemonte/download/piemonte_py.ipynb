{
 "cells": [
  {
   "cell_type": "code",
   "execution_count": 2,
   "metadata": {},
   "outputs": [],
   "source": [
    "import requests\n",
    "import pandas as pd\n",
    "import pyarrow as pa\n",
    "import pyarrow.json as pjson\n",
    "import polars as pl\n",
    "from tqdm.notebook import tqdm\n",
    "from datetime import datetime\n",
    "from time import sleep\n",
    "from io import StringIO\n",
    "from collections import OrderedDict\n",
    "import json\n",
    "from datetime import date\n",
    "from pathlib import Path\n",
    "\n",
    "content_path = Path(\"/Users/davidenicoli/Local_Workspace/Datasets/ARPA/PIEMONTE/\")\n",
    "meteo_path = content_path / \"meteo\"\n",
    "centenaria_path = content_path / \"centenaria\"\n",
    "\n",
    "\n",
    "def db_path(section):\n",
    "    return content_path / section / \"fragments\"\n",
    "\n",
    "\n",
    "def meta_path(section):\n",
    "    return content_path / section / \"meta.csv\"\n",
    "\n",
    "\n",
    "def dati_giornalieri(id_punto_misura, section, session: requests.Session):\n",
    "    return session.get(\n",
    "        f\"https://utility.arpa.piemonte.it/meteoidro/dati_giornalieri_{section}/\",\n",
    "        params={f\"fk_id_punto_misura_{section}\": id_punto_misura},\n",
    "    ).json()"
   ]
  },
  {
   "cell_type": "code",
   "execution_count": 2,
   "metadata": {},
   "outputs": [],
   "source": [
    "def download_pages(access_url, cache_dir: Path, params={}):\n",
    "    cache_dir.mkdir(parents=True, exist_ok=True)\n",
    "    with requests.Session() as session:\n",
    "        response = session.get(access_url, params=params).json()\n",
    "        i = 0\n",
    "        with open(cache_dir / f\"{i}.json\", \"wt\") as f:\n",
    "            json.dump(response, f, ensure_ascii=False)\n",
    "        while response[\"next\"]:\n",
    "            i += 1\n",
    "            response = session.get(response[\"next\"]).json()\n",
    "            with open(cache_dir / f\"{i}.json\", \"wt\") as f:\n",
    "                json.dump(response, f, ensure_ascii=False)"
   ]
  },
  {
   "cell_type": "code",
   "execution_count": 3,
   "metadata": {},
   "outputs": [],
   "source": [
    "metadata_urls = {\n",
    "    \"sensori\": \"https://utility.arpa.piemonte.it/meteoidro/sensore_meteo/\",\n",
    "    \"stazioni_meteo\": \"https://utility.arpa.piemonte.it/meteoidro/stazione_meteorologica/\",\n",
    "    \"stazioni_nivo\": \"https://utility.arpa.piemonte.it/meteoidro/stazione_nivologica/\",\n",
    "    \"punti_misura_meteo\": \"https://utility.arpa.piemonte.it/meteoidro/punti_misura_meteo/\",\n",
    "    \"stazioni_centenarie\": \"https://utility.arpa.piemonte.it/meteoidro/stazione_centenaria/\",\n",
    "    \"punti_misura_centenaria\": \"https://utility.arpa.piemonte.it/meteoidro/punti_misura_centenaria/\",\n",
    "}"
   ]
  },
  {
   "cell_type": "code",
   "execution_count": 78,
   "metadata": {},
   "outputs": [
    {
     "data": {
      "application/vnd.jupyter.widget-view+json": {
       "model_id": "d89fe5a5a2e446f1b26c76cd55f41e17",
       "version_major": 2,
       "version_minor": 0
      },
      "text/plain": [
       "  0%|          | 0/6 [00:00<?, ?it/s]"
      ]
     },
     "metadata": {},
     "output_type": "display_data"
    }
   ],
   "source": [
    "for section, url in tqdm(metadata_urls.items()):\n",
    "    download_pages(url, content_path / section)"
   ]
  },
  {
   "cell_type": "markdown",
   "metadata": {},
   "source": [
    "## Sensori\n",
    "Tipologia di sensore, inizio e fine misure, stazione di appartenenza"
   ]
  },
  {
   "cell_type": "code",
   "execution_count": 33,
   "metadata": {},
   "outputs": [],
   "source": [
    "sensori_input = {\n",
    "    \"url\": pl.String(),\n",
    "    \"id_parametro\": pl.String(),\n",
    "    \"data_inizio\": pl.String(),\n",
    "    \"data_fine\": pl.String(),\n",
    "    \"quota_da_pc\": pl.Float64(),\n",
    "    \"altezza_supporto\": pl.Float64(),\n",
    "    \"note\": pl.String(),\n",
    "    \"fk_id_stazione_meteorologica\": pl.String(),\n",
    "}\n",
    "sensori = []\n",
    "for file in (content_path / \"sensori\").glob(\"*.json\"):\n",
    "    with open(file) as f:\n",
    "        sensori.extend(json.load(f)[\"results\"])\n",
    "sensori = pl.from_records(sensori, schema=sensori_input).with_columns(\n",
    "    pl.col(\"url\")\n",
    "    .str.extract(r\"https://utility.arpa.piemonte.it/meteoidro/sensore_meteo/([^/]+)/\")\n",
    "    .alias(\"id_sensore\"),\n",
    "    pl.col(\"fk_id_stazione_meteorologica\")\n",
    "    .str.extract(\n",
    "        r\"https://utility.arpa.piemonte.it/meteoidro/stazione_meteorologica/([^/]+)/\"\n",
    "    )\n",
    "    .alias(\"id_stazione_meteo\"),\n",
    ")\n",
    "sensori.write_csv(content_path / \"sensori\" / \"meta.csv\")"
   ]
  },
  {
   "cell_type": "markdown",
   "metadata": {},
   "source": [
    "## Stazioni meteo\n",
    "Metadati stazioni, con tanto di storia sensori"
   ]
  },
  {
   "cell_type": "code",
   "execution_count": 7,
   "metadata": {},
   "outputs": [],
   "source": [
    "with open(content_path / \"stazioni_meteo\" / \"0.json\") as f:\n",
    "    sensori_meteo = pl.from_records(\n",
    "        json.load(f)[\"results\"],\n",
    "        schema_overrides={\n",
    "            \"codice_istat_comune\": pl.String(),\n",
    "            \"codice_stazione\": pl.String(),\n",
    "        },\n",
    "    )\n",
    "\n",
    "sensori_meteo = (\n",
    "    sensori_meteo.explode(\"sensori_meteo\")\n",
    "    .with_columns(\n",
    "        pl.col(\"sensori_meteo\").struct.rename_fields(\n",
    "            [\n",
    "                \"url_sensore\",\n",
    "                \"id_parametro\",\n",
    "                \"data_inizio_sensore\",\n",
    "                \"data_fine_sensore\",\n",
    "                \"quota_da_pc\",\n",
    "                \"altezza_supporto\",\n",
    "                \"note_sensore\",\n",
    "                \"fk_id_stazione_meteorologica\",\n",
    "            ]\n",
    "        )\n",
    "    )\n",
    "    .unnest(\"sensori_meteo\")\n",
    "    .with_columns(\n",
    "        pl.col(\"url_sensore\")\n",
    "        .str.extract(\n",
    "            r\"https://utility.arpa.piemonte.it/meteoidro/sensore_meteo/([^/]+)/\"\n",
    "        )\n",
    "        .alias(\"id_sensore\"),\n",
    "        pl.col(\"fk_id_stazione_meteorologica\")\n",
    "        .str.extract(\n",
    "            r\"https://utility.arpa.piemonte.it/meteoidro/stazione_meteorologica/([^/]+)/\"\n",
    "        )\n",
    "        .alias(\"id_stazione_meteo\"),\n",
    "        pl.col(\"fk_id_punto_misura_meteo\")\n",
    "        .str.extract(\n",
    "            r\"https://utility.arpa.piemonte.it/meteoidro/punti_misura_meteo/([^/]+)/\"\n",
    "        )\n",
    "        .alias(\"id_punto_misura_meteo\"),\n",
    "    )\n",
    ")\n",
    "sensori_meteo.filter(pl.col(\"id_parametro\").eq(\"TERMA\")).write_csv(\n",
    "    content_path / \"meteo\" / \"meta.csv\"\n",
    ")"
   ]
  },
  {
   "cell_type": "code",
   "execution_count": 6,
   "metadata": {},
   "outputs": [],
   "source": [
    "with open(content_path / \"stazioni_centenarie\" / \"0.json\") as f:\n",
    "    stazioni_centenarie = pl.from_records(\n",
    "        json.load(f)[\"results\"],\n",
    "        schema_overrides={\n",
    "            \"codice_istat_comune\": pl.String(),\n",
    "            \"codice_stazione\": pl.String(),\n",
    "        },\n",
    "    )\n",
    "\n",
    "stazioni_centenarie = stazioni_centenarie.with_columns(\n",
    "    pl.col(\"url\")\n",
    "    .str.extract(\n",
    "        r\"https://utility.arpa.piemonte.it/meteoidro/stazione_centenaria/([^/]+)/\"\n",
    "    )\n",
    "    .alias(\"id_stazione_centenaria\"),\n",
    "    pl.col(\"fk_id_punto_misura_centenaria\")\n",
    "    .str.extract(\n",
    "        r\"https://utility.arpa.piemonte.it/meteoidro/punti_misura_centenaria/([^/]+)/\"\n",
    "    )\n",
    "    .alias(\"id_punto_misura_centenaria\"),\n",
    ")\n",
    "stazioni_centenarie.write_csv(content_path / \"centenaria\" / \"meta.csv\")"
   ]
  },
  {
   "cell_type": "markdown",
   "metadata": {},
   "source": [
    "## Stazioni nivo\n",
    "\n",
    "Anche loro hanno dei termometri"
   ]
  },
  {
   "cell_type": "code",
   "execution_count": 3,
   "metadata": {},
   "outputs": [],
   "source": [
    "with open(content_path / \"stazioni_nivo\" / \"0.json\") as f:\n",
    "    sensori_nivo = pl.from_records(json.load(f)[\"results\"])\n",
    "\n",
    "sensori_nivo = sensori_nivo.with_columns(\n",
    "    pl.col(\"url\")\n",
    "    .str.extract(\n",
    "        r\"https://utility.arpa.piemonte.it/meteoidro/stazione_nivologica/([^/]+)/\"\n",
    "    )\n",
    "    .alias(\"id_stazione_nivo\"),\n",
    "    pl.col(\"fk_id_punto_misura_nivo\")\n",
    "    .str.extract(\n",
    "        r\"https://utility.arpa.piemonte.it/meteoidro/punti_misura_nivo/([^/]+)/\"\n",
    "    )\n",
    "    .alias(\"id_punto_misura_nivo\"),\n",
    ")\n",
    "sensori_nivo.write_csv(content_path / \"nivo\" / \"meta.csv\")"
   ]
  },
  {
   "cell_type": "code",
   "execution_count": 116,
   "metadata": {},
   "outputs": [],
   "source": [
    "nivo_extra = sensori_nivo.join(\n",
    "    sensori_meteo,\n",
    "    # left_on=\"id_punto_misura_nivo\",\n",
    "    # right_on=\"id_punto_misura_meteo\",\n",
    "    on=\"codice_stazione\",\n",
    "    how=\"anti\",\n",
    ")"
   ]
  },
  {
   "cell_type": "markdown",
   "metadata": {},
   "source": [
    "## Punti misura meteo\n",
    "Collezione di stazioni/sensori per una località"
   ]
  },
  {
   "cell_type": "code",
   "execution_count": 66,
   "metadata": {},
   "outputs": [],
   "source": [
    "with open(\n",
    "    \"/Users/davidenicoli/Local_Workspace/Datasets/ARPA/PIEMONTE/punti_misura_meteo/0.json\"\n",
    ") as f:\n",
    "    punti_misura_meteo = pl.from_records(json.load(f)[\"results\"])"
   ]
  },
  {
   "cell_type": "code",
   "execution_count": 2,
   "metadata": {},
   "outputs": [],
   "source": [
    "content = requests.get(\n",
    "    \"https://utility.arpa.piemonte.it/meteoidro/stazione_meteorologica/\"\n",
    ").content\n",
    "meteo_info = json.loads(content)\n",
    "\n",
    "content = requests.get(\n",
    "    \"https://utility.arpa.piemonte.it/meteoidro/stazione_centenaria/\"\n",
    ").content\n",
    "centenaria_info = json.loads(content)"
   ]
  },
  {
   "cell_type": "code",
   "execution_count": 3,
   "metadata": {},
   "outputs": [],
   "source": [
    "# Meteo metadata\n",
    "meteo_interm = pl.DataFrame(\n",
    "    meteo_info[\"results\"],\n",
    "    schema_overrides={\n",
    "        \"url\": pl.Utf8(),\n",
    "        \"codice_istat_comune\": pl.Utf8(),\n",
    "        \"sensori_meteo\": pl.List(\n",
    "            pl.Struct(\n",
    "                {\n",
    "                    \"url\": pl.Utf8(),\n",
    "                    \"id_parametro\": pl.Utf8(),\n",
    "                    \"data_inizio\": pl.Utf8(),\n",
    "                    \"data_fine\": pl.Utf8(),\n",
    "                    \"quota_da_pc\": pl.Float32(),\n",
    "                    \"altezza_supporto\": pl.Float32(),\n",
    "                    \"note\": pl.Utf8(),\n",
    "                    \"fk_id_stazione_meteorologica\": pl.Utf8(),\n",
    "                }\n",
    "            )\n",
    "        ),\n",
    "    },\n",
    ")\n",
    "meteo_meta = (\n",
    "    (\n",
    "        meteo_interm.rename({\"url\": \"url_stazione\"})\n",
    "        .explode(\"sensori_meteo\")\n",
    "        .with_columns(\n",
    "            pl.col(\"sensori_meteo\").struct.rename_fields(\n",
    "                [\n",
    "                    \"url_sensore\",\n",
    "                    \"id_parametro\",\n",
    "                    \"data_inizio_sensore\",\n",
    "                    \"data_fine_sensore\",\n",
    "                    \"quota_da_pc\",\n",
    "                    \"altezza_supporto\",\n",
    "                    \"note_sensore\",\n",
    "                    \"copy_url_stazione\",\n",
    "                ]\n",
    "            )\n",
    "        )\n",
    "        .unnest(\"sensori_meteo\")\n",
    "        .filter(pl.col(\"id_parametro\") == \"TERMA\")\n",
    "    )\n",
    "    .with_columns(\n",
    "        pl.col(\"url_stazione\")\n",
    "        .str.split(\"/\")\n",
    "        .list.get(-2)\n",
    "        .str.slice(0, 14)\n",
    "        .alias(\"codice_punto_misura\"),\n",
    "    )\n",
    "    .select(\n",
    "        [\n",
    "            \"url_stazione\",\n",
    "            \"url_sensore\",\n",
    "            \"id_parametro\",\n",
    "            \"data_inizio_sensore\",\n",
    "            \"data_fine_sensore\",\n",
    "            \"quota_da_pc\",\n",
    "            \"altezza_supporto\",\n",
    "            \"note_sensore\",\n",
    "            \"codice_istat_comune\",\n",
    "            \"codice_stazione\",\n",
    "            \"denominazione\",\n",
    "            \"indirizzo_localita\",\n",
    "            \"nazione\",\n",
    "            \"longitudine_e_wgs84_d\",\n",
    "            \"latitudine_n_wgs84_d\",\n",
    "            \"quota_stazione\",\n",
    "            \"esposizione\",\n",
    "            \"note\",\n",
    "            \"tipo_staz\",\n",
    "            \"data_inizio\",\n",
    "            \"data_fine\",\n",
    "            \"sigla_prov\",\n",
    "            \"comune\",\n",
    "            \"fk_id_punto_misura_meteo\",\n",
    "            \"codice_punto_misura\",\n",
    "        ]\n",
    "    )\n",
    ")\n",
    "meteo_meta.write_csv(meta_path(\"meteo\"), quote_style=\"always\")\n",
    "\n",
    "# Centenaria metadata\n",
    "centenarie_meta = pl.DataFrame(\n",
    "    centenaria_info[\"results\"],\n",
    ").with_columns(\n",
    "    pl.col(\"fk_id_punto_misura_centenaria\")\n",
    "    .str.split(\"/\")\n",
    "    .list.get(-2)\n",
    "    .alias(\"codice_punto_misura\"),\n",
    "    pl.col(\"longitudine_e_wgs84_d\").cast(pl.Float64()),\n",
    "    pl.col(\"latitudine_n_wgs84_d\").cast(pl.Float64()),\n",
    ")\n",
    "centenarie_meta.write_csv(meta_path(\"centenaria\"), quote_style=\"always\")"
   ]
  },
  {
   "cell_type": "code",
   "execution_count": 4,
   "metadata": {},
   "outputs": [],
   "source": [
    "meteo_meta = pl.read_csv(meta_path(\"meteo\"))\n",
    "centenarie_meta = pl.read_csv(meta_path(\"centenaria\"))"
   ]
  },
  {
   "cell_type": "code",
   "execution_count": 103,
   "metadata": {},
   "outputs": [],
   "source": [
    "def punto_path(id_punto, section) -> Path:\n",
    "    return db_path(section) / f\"{id_punto}/\"\n",
    "\n",
    "def fragment_path(id_punto, first_date, last_date, section) -> Path:\n",
    "    return (\n",
    "        punto_path(id_punto, section) / f\"{first_date.strftime(r\"%Y-%m-%d\")}_{last_date.strftime(r\"%Y-%m-%d\")}.csv\"\n",
    "    )\n",
    "\n",
    "def date_extremes(results):\n",
    "    dates = [datetime.strptime(r[\"data\"], r\"%Y-%m-%d\") for r in results]\n",
    "    return min(dates), max(dates)\n",
    "\n",
    "def dwn_punto_misura(id_punto, session: requests.Session, section):\n",
    "    pp = punto_path(id_punto, section)\n",
    "    if not pp.exists():\n",
    "        pp.mkdir(parents=True, exist_ok=True)\n",
    "    else:\n",
    "        return True\n",
    "    # try:\n",
    "    page = dati_giornalieri(id_punto, section, session)\n",
    "    start_date, stop_date = date_extremes(page[\"results\"])\n",
    "    pl.read_json(StringIO(json.dumps(page[\"results\"]))).drop(\"url\").write_csv(fragment_path(id_punto, start_date, stop_date, section))\n",
    "    try:\n",
    "        while page[\"next\"] is not None:\n",
    "            page = session.get(page[\"next\"]).json()\n",
    "            start_date, stop_date = date_extremes(page[\"results\"])\n",
    "            pl.read_json(StringIO(json.dumps(page[\"results\"]))).drop(\"url\").write_csv(fragment_path(id_punto, start_date, stop_date, section))\n",
    "            sleep(0.2)\n",
    "        return True\n",
    "    except:\n",
    "        for file in pp.glob(\"*\"):\n",
    "            file.unlink()\n",
    "        pp.rmdir()\n",
    "        return False\n"
   ]
  },
  {
   "cell_type": "code",
   "execution_count": 8,
   "metadata": {},
   "outputs": [
    {
     "data": {
      "application/vnd.jupyter.widget-view+json": {
       "model_id": "93188f59d9854629a7b51e22504306af",
       "version_major": 2,
       "version_minor": 0
      },
      "text/plain": [
       "  0%|          | 0/311 [00:00<?, ?it/s]"
      ]
     },
     "metadata": {},
     "output_type": "display_data"
    }
   ],
   "source": [
    "ids = meteo_meta[\"codice_punto_misura\"].unique().to_list()\n",
    "for id in tqdm(ids):\n",
    "    with requests.Session() as session:\n",
    "        if not dwn_punto_misura(id, session, \"meteo\"):\n",
    "            print(\"Could not download meteo data for \", id)\n",
    "            sleep(5)"
   ]
  },
  {
   "cell_type": "code",
   "execution_count": 6,
   "metadata": {},
   "outputs": [
    {
     "data": {
      "application/vnd.jupyter.widget-view+json": {
       "model_id": "386dc37d53e34e5fa1617f3c4e61f9fb",
       "version_major": 2,
       "version_minor": 0
      },
      "text/plain": [
       "  0%|          | 0/2 [00:00<?, ?it/s]"
      ]
     },
     "metadata": {},
     "output_type": "display_data"
    }
   ],
   "source": [
    "ids = centenarie_meta[\"codice_punto_misura\"].unique().to_list()\n",
    "for id in tqdm(ids):\n",
    "    with requests.Session() as session:\n",
    "        if not dwn_punto_misura(id, session, \"centenaria\"):\n",
    "            print(\"Could not download meteo data for \", id)\n",
    "            sleep(5)"
   ]
  },
  {
   "cell_type": "code",
   "execution_count": 108,
   "metadata": {},
   "outputs": [
    {
     "data": {
      "application/vnd.jupyter.widget-view+json": {
       "model_id": "aeff153494ec47d0a29641baddc17e94",
       "version_major": 2,
       "version_minor": 0
      },
      "text/plain": [
       "  0%|          | 0/42 [00:00<?, ?it/s]"
      ]
     },
     "metadata": {},
     "output_type": "display_data"
    }
   ],
   "source": [
    "ids = nivo_extra[\"id_punto_misura_nivo\"].unique().to_list()\n",
    "for id in tqdm(ids):\n",
    "    with requests.Session() as session:\n",
    "        if not dwn_punto_misura(id, session, \"nivo\"):\n",
    "            print(\"Could not download meteo data for \", id)\n",
    "            sleep(5)"
   ]
  },
  {
   "cell_type": "code",
   "execution_count": 107,
   "metadata": {},
   "outputs": [
    {
     "data": {
      "text/plain": [
       "42"
      ]
     },
     "execution_count": 107,
     "metadata": {},
     "output_type": "execute_result"
    }
   ],
   "source": [
    "len(nivo_extra[\"id_punto_misura_nivo\"].unique().to_list())"
   ]
  },
  {
   "cell_type": "code",
   "execution_count": null,
   "metadata": {},
   "outputs": [],
   "source": []
  }
 ],
 "metadata": {
  "kernelspec": {
   "display_name": "geopy",
   "language": "python",
   "name": "python3"
  },
  "language_info": {
   "codemirror_mode": {
    "name": "ipython",
    "version": 3
   },
   "file_extension": ".py",
   "mimetype": "text/x-python",
   "name": "python",
   "nbconvert_exporter": "python",
   "pygments_lexer": "ipython3",
   "version": "3.12.1"
  }
 },
 "nbformat": 4,
 "nbformat_minor": 2
}
