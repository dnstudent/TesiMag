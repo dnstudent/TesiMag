{
 "cells": [
  {
   "cell_type": "code",
   "execution_count": 1,
   "metadata": {
    "vscode": {
     "languageId": "r"
    }
   },
   "outputs": [
    {
     "name": "stderr",
     "output_type": "stream",
     "text": [
      "Linking to GEOS 3.11.0, GDAL 3.5.3, PROJ 9.1.0; sf_use_s2() is TRUE\n",
      "\n"
     ]
    }
   ],
   "source": [
    "setwd(fs::path_abs(\"~/Local_Workspace/TesiMag\"))\n",
    "library(ggplot2, warn.conflicts = FALSE)\n",
    "library(readr, warn.conflicts = FALSE)\n",
    "library(arrow, warn.conflicts = FALSE)\n",
    "library(dplyr, warn.conflicts = FALSE)\n",
    "library(tidyr, warn.conflicts = FALSE)\n",
    "library(sf, warn.conflicts = FALSE)\n",
    "\n",
    "options(repr.plot.width = 9, repr.plot.res = 300)\n",
    "\n",
    "\n",
    "source(\"src/paths/paths.R\")\n",
    "path.piemonte <- file.path(path.ds, \"ARPA\", \"PIEMONTE\")\n",
    "path.dwnl <- file.path(path.piemonte, \"site-data\")\n"
   ]
  },
  {
   "cell_type": "code",
   "execution_count": 2,
   "metadata": {
    "vscode": {
     "languageId": "r"
    }
   },
   "outputs": [],
   "source": [
    "open_dataset(path.dwnl, format = \"parquet\") |>\n",
    "    select(date = data, T_MAX = tmax, T_MIN = tmin, tclasse, identifier = id_punto) |>\n",
    "    mutate(tclasse = cast(tclasse, utf8()), identifier = cast(identifier, utf8())) |>\n",
    "    map_batches(\n",
    "        ~ pivot_longer(. |> collect(), cols = c(T_MAX, T_MIN), names_to = \"variable\", values_to = \"value\") |>\n",
    "            as_record_batch()\n",
    "    ) |>\n",
    "    arrange(variable, identifier, date) |>\n",
    "    # write_parquet(\"test.parquet\")\n",
    "    write_dataset(file.path(path.piemonte, \"dataset\"), format = \"feather\", partitioning = \"variable\")\n"
   ]
  },
  {
   "cell_type": "code",
   "execution_count": null,
   "metadata": {
    "vscode": {
     "languageId": "r"
    }
   },
   "outputs": [],
   "source": [
    "open_dataset(file.path(path.piemonte, \"dataset\"), format = \"feather\") |>\n",
    "    filter(variable == \"T_MIN\") |>\n",
    "    collect()\n"
   ]
  },
  {
   "cell_type": "code",
   "execution_count": 11,
   "metadata": {
    "vscode": {
     "languageId": "r"
    }
   },
   "outputs": [],
   "source": [
    "library(sf, warn.conflicts = FALSE)\n",
    "read_csv_arrow(file.path(path.piemonte, \"metadata.csv\"), col_select = c(data_inizio_sensore, data_fine_sensore, quota_da_pc, quota_stazione, esposizione, tipo_staz, sigla_prov, comune, denominazione, indirizzo_localita, identifier = id_punto_misura, lon = longitudine_e_wgs84_d, lat = latitudine_n_wgs84_d)) |>\n",
    "    st_as_sf(coords = c(\"longitudine_e_wgs84_d\", \"latitudine_n_wgs84_d\"), crs = \"WGS84\") |>\n",
    "    write_sf(file.path(path.piemonte, \"metadata.geojson\"))\n"
   ]
  },
  {
   "cell_type": "code",
   "execution_count": 31,
   "metadata": {
    "vscode": {
     "languageId": "r"
    }
   },
   "outputs": [],
   "source": [
    "ds <- open_dataset(file.path(path.piemonte, \"dataset\"), format = \"feather\")\n"
   ]
  },
  {
   "cell_type": "code",
   "execution_count": 2,
   "metadata": {
    "vscode": {
     "languageId": "r"
    }
   },
   "outputs": [],
   "source": [
    "metadata <- read_sf(file.path(path.piemonte, \"metadata.geojson\"))\n"
   ]
  },
  {
   "cell_type": "code",
   "execution_count": 30,
   "metadata": {
    "vscode": {
     "languageId": "r"
    }
   },
   "outputs": [
    {
     "data": {
      "application/geo+json": {
       "features": [
        {
         "geometry": {
          "coordinates": [
           7.2219,
           45.3025
          ],
          "type": "Point"
         },
         "properties": {
          "comune": "BALME",
          "data_fine_sensore": "2018-04-17",
          "data_inizio_sensore": "2006-09-28",
          "denominazione": "BALME",
          "esposizione": "ENE",
          "id_punto_misura": "PIE-001019-901",
          "indirizzo_localita": "FRAZIONE CORNETTI",
          "quota_da_pc": 0,
          "quota_stazione": 1410,
          "sigla_prov": "TO",
          "tipo_staz": "PTV"
         },
         "type": "Feature"
        },
        {
         "geometry": {
          "coordinates": [
           7.2219,
           45.3025
          ],
          "type": "Point"
         },
         "properties": {
          "comune": "BALME",
          "data_fine_sensore": null,
          "data_inizio_sensore": "2018-04-18",
          "denominazione": "BALME",
          "esposizione": "ENE",
          "id_punto_misura": "PIE-001019-901",
          "indirizzo_localita": "FRAZIONE CORNETTI",
          "quota_da_pc": 0,
          "quota_stazione": 1410,
          "sigla_prov": "TO",
          "tipo_staz": "PTV"
         },
         "type": "Feature"
        },
        {
         "geometry": {
          "coordinates": [
           6.708,
           45.1063
          ],
          "type": "Point"
         },
         "properties": {
          "comune": "BARDONECCHIA",
          "data_fine_sensore": "2006-03-24",
          "data_inizio_sensore": "2005-09-06",
          "denominazione": "BARDONECCHIA PRANUDIN",
          "esposizione": "WNW",
          "id_punto_misura": "PIE-001022-905",
          "indirizzo_localita": "PRANUDIN",
          "quota_da_pc": 0,
          "quota_stazione": 2045,
          "sigla_prov": "TO",
          "tipo_staz": "BHNPTV"
         },
         "type": "Feature"
        },
        {
         "geometry": {
          "coordinates": [
           6.708,
           45.1063
          ],
          "type": "Point"
         },
         "properties": {
          "comune": "BARDONECCHIA",
          "data_fine_sensore": null,
          "data_inizio_sensore": "2006-03-25",
          "denominazione": "BARDONECCHIA PRANUDIN",
          "esposizione": "WNW",
          "id_punto_misura": "PIE-001022-905",
          "indirizzo_localita": "PRANUDIN",
          "quota_da_pc": 0,
          "quota_stazione": 2045,
          "sigla_prov": "TO",
          "tipo_staz": "BHNPTV"
         },
         "type": "Feature"
        },
        {
         "geometry": {
          "coordinates": [
           7.2108,
           45.4403
          ],
          "type": "Point"
         },
         "properties": {
          "comune": "CERESOLE REALE",
          "data_fine_sensore": "2018-08-08",
          "data_inizio_sensore": "1999-09-07",
          "denominazione": "CERESOLE VILLA",
          "esposizione": "ENE",
          "id_punto_misura": "PIE-001073-901",
          "indirizzo_localita": "VILLA",
          "quota_da_pc": 0,
          "quota_stazione": 1581,
          "sigla_prov": "TO",
          "tipo_staz": "NPT"
         },
         "type": "Feature"
        },
        {
         "geometry": {
          "coordinates": [
           7.2108,
           45.4403
          ],
          "type": "Point"
         },
         "properties": {
          "comune": "CERESOLE REALE",
          "data_fine_sensore": null,
          "data_inizio_sensore": "2018-08-09",
          "denominazione": "CERESOLE VILLA",
          "esposizione": "ENE",
          "id_punto_misura": "PIE-001073-901",
          "indirizzo_localita": "VILLA",
          "quota_da_pc": 0,
          "quota_stazione": 1581,
          "sigla_prov": "TO",
          "tipo_staz": "NPT"
         },
         "type": "Feature"
        },
        {
         "geometry": {
          "coordinates": [
           6.7581,
           45.0467
          ],
          "type": "Point"
         },
         "properties": {
          "comune": "OULX",
          "data_fine_sensore": "2008-05-30",
          "data_inizio_sensore": "2001-10-01",
          "denominazione": "BEAULARD DORA DI BARDONECCHIA",
          "esposizione": "NE",
          "id_punto_misura": "PIE-001175-902",
          "indirizzo_localita": "PONTE S.S. 335",
          "quota_da_pc": 0,
          "quota_stazione": 1149,
          "sigla_prov": "TO",
          "tipo_staz": "IT"
         },
         "type": "Feature"
        },
        {
         "geometry": {
          "coordinates": [
           6.7581,
           45.0467
          ],
          "type": "Point"
         },
         "properties": {
          "comune": "OULX",
          "data_fine_sensore": null,
          "data_inizio_sensore": "2009-06-25",
          "denominazione": "BEAULARD DORA DI BARDONECCHIA",
          "esposizione": "NE",
          "id_punto_misura": "PIE-001175-902",
          "indirizzo_localita": "PONTE S.S. 335",
          "quota_da_pc": 0,
          "quota_stazione": 1149,
          "sigla_prov": "TO",
          "tipo_staz": "IT"
         },
         "type": "Feature"
        },
        {
         "geometry": {
          "coordinates": [
           7.7981,
           45.42
          ],
          "type": "Point"
         },
         "properties": {
          "comune": "PARELLA",
          "data_fine_sensore": "2001-12-08",
          "data_inizio_sensore": "2001-10-01",
          "denominazione": "PARELLA CHIUSELLA",
          "esposizione": "ESE",
          "id_punto_misura": "PIE-001179-900",
          "indirizzo_localita": "PONTE S.P. 63",
          "quota_da_pc": 0,
          "quota_stazione": 260,
          "sigla_prov": "TO",
          "tipo_staz": "IPT"
         },
         "type": "Feature"
        },
        {
         "geometry": {
          "coordinates": [
           7.7981,
           45.42
          ],
          "type": "Point"
         },
         "properties": {
          "comune": "PARELLA",
          "data_fine_sensore": null,
          "data_inizio_sensore": "2002-01-31",
          "denominazione": "PARELLA CHIUSELLA",
          "esposizione": "ESE",
          "id_punto_misura": "PIE-001179-900",
          "indirizzo_localita": "PONTE S.P. 63",
          "quota_da_pc": 0,
          "quota_stazione": 260,
          "sigla_prov": "TO",
          "tipo_staz": "IPT"
         },
         "type": "Feature"
        },
        {
         "geometry": {
          "coordinates": [
           8.0336,
           45.4306
          ],
          "type": "Point"
         },
         "properties": {
          "comune": "PIVERONE",
          "data_fine_sensore": "2022-05-12",
          "data_inizio_sensore": "1993-06-23",
          "denominazione": "PIVERONE LAGO",
          "esposizione": "SW",
          "id_punto_misura": "PIE-001196-900",
          "indirizzo_localita": "PIVERONE - LIDO DI ANZASCO",
          "quota_da_pc": 0,
          "quota_stazione": 230,
          "sigla_prov": "TO",
          "tipo_staz": "HIPTV"
         },
         "type": "Feature"
        },
        {
         "geometry": {
          "coordinates": [
           8.0336,
           45.4306
          ],
          "type": "Point"
         },
         "properties": {
          "comune": "PIVERONE",
          "data_fine_sensore": null,
          "data_inizio_sensore": "2022-05-13",
          "denominazione": "PIVERONE LAGO",
          "esposizione": "SW",
          "id_punto_misura": "PIE-001196-900",
          "indirizzo_localita": "PIVERONE - LIDO DI ANZASCO",
          "quota_da_pc": 0,
          "quota_stazione": 230,
          "sigla_prov": "TO",
          "tipo_staz": "HIPTV"
         },
         "type": "Feature"
        },
        {
         "geometry": {
          "coordinates": [
           7.8297,
           44.9239
          ],
          "type": "Point"
         },
         "properties": {
          "comune": "POIRINO",
          "data_fine_sensore": "2008-07-28",
          "data_inizio_sensore": "1995-12-12",
          "denominazione": "POIRINO BANNA",
          "esposizione": "N",
          "id_punto_misura": "PIE-001197-900",
          "indirizzo_localita": "DEPURATORE COMUNALE",
          "quota_da_pc": 0,
          "quota_stazione": 237,
          "sigla_prov": "TO",
          "tipo_staz": "IP"
         },
         "type": "Feature"
        },
        {
         "geometry": {
          "coordinates": [
           7.8297,
           44.9239
          ],
          "type": "Point"
         },
         "properties": {
          "comune": "POIRINO",
          "data_fine_sensore": "2010-01-12",
          "data_inizio_sensore": "2008-11-20",
          "denominazione": "POIRINO BANNA",
          "esposizione": "N",
          "id_punto_misura": "PIE-001197-900",
          "indirizzo_localita": "DEPURATORE COMUNALE",
          "quota_da_pc": 0,
          "quota_stazione": 237,
          "sigla_prov": "TO",
          "tipo_staz": "IP"
         },
         "type": "Feature"
        },
        {
         "geometry": {
          "coordinates": [
           6.9414,
           45.0089
          ],
          "type": "Point"
         },
         "properties": {
          "comune": "PRAGELATO",
          "data_fine_sensore": "2006-03-23",
          "data_inizio_sensore": "2000-12-20",
          "denominazione": "PRAGELATO - TRAMPOLINO A VALLE",
          "esposizione": "NNW",
          "id_punto_misura": "PIE-001201-902",
          "indirizzo_localita": "PRAGELATO - TRAMPOLINO A VALLE",
          "quota_da_pc": 0,
          "quota_stazione": 1525,
          "sigla_prov": "TO",
          "tipo_staz": "HNPTV"
         },
         "type": "Feature"
        },
        {
         "geometry": {
          "coordinates": [
           6.9414,
           45.0089
          ],
          "type": "Point"
         },
         "properties": {
          "comune": "PRAGELATO",
          "data_fine_sensore": null,
          "data_inizio_sensore": "2006-03-24",
          "denominazione": "PRAGELATO - TRAMPOLINO A VALLE",
          "esposizione": "NNW",
          "id_punto_misura": "PIE-001201-902",
          "indirizzo_localita": "PRAGELATO - TRAMPOLINO A VALLE",
          "quota_da_pc": 0,
          "quota_stazione": 1525,
          "sigla_prov": "TO",
          "tipo_staz": "HNPTV"
         },
         "type": "Feature"
        },
        {
         "geometry": {
          "coordinates": [
           7.9361,
           45.8744
          ],
          "type": "Point"
         },
         "properties": {
          "comune": "ALAGNA VALSESIA",
          "data_fine_sensore": "2013-10-15",
          "data_inizio_sensore": "2001-06-14",
          "denominazione": "ALAGNA",
          "esposizione": "W",
          "id_punto_misura": "PIE-002002-901",
          "indirizzo_localita": "ALAGNA - MINIERE",
          "quota_da_pc": 0,
          "quota_stazione": 1347,
          "sigla_prov": "VC",
          "tipo_staz": "NPT"
         },
         "type": "Feature"
        },
        {
         "geometry": {
          "coordinates": [
           7.9361,
           45.8744
          ],
          "type": "Point"
         },
         "properties": {
          "comune": "ALAGNA VALSESIA",
          "data_fine_sensore": null,
          "data_inizio_sensore": "2014-12-30",
          "denominazione": "ALAGNA",
          "esposizione": "W",
          "id_punto_misura": "PIE-002002-901",
          "indirizzo_localita": "ALAGNA - MINIERE",
          "quota_da_pc": 0,
          "quota_stazione": 1347,
          "sigla_prov": "VC",
          "tipo_staz": "NPT"
         },
         "type": "Feature"
        },
        {
         "geometry": {
          "coordinates": [
           7.9169,
           45.9514
          ],
          "type": "Point"
         },
         "properties": {
          "comune": "MACUGNAGA",
          "data_fine_sensore": "2013-04-09",
          "data_inizio_sensore": "2007-07-05",
          "denominazione": "MACUGNAGA RIFUGIO ZAMBONI",
          "esposizione": "NE",
          "id_punto_misura": "PIE-003086-906",
          "indirizzo_localita": "RIFUGIO ZAMBONI",
          "quota_da_pc": 0,
          "quota_stazione": 2075,
          "sigla_prov": "VB",
          "tipo_staz": "BHNPT"
         },
         "type": "Feature"
        },
        {
         "geometry": {
          "coordinates": [
           7.9169,
           45.9514
          ],
          "type": "Point"
         },
         "properties": {
          "comune": "MACUGNAGA",
          "data_fine_sensore": null,
          "data_inizio_sensore": "2013-04-10",
          "denominazione": "MACUGNAGA RIFUGIO ZAMBONI",
          "esposizione": "NE",
          "id_punto_misura": "PIE-003086-906",
          "indirizzo_localita": "RIFUGIO ZAMBONI",
          "quota_da_pc": 0,
          "quota_stazione": 2075,
          "sigla_prov": "VB",
          "tipo_staz": "BHNPT"
         },
         "type": "Feature"
        },
        {
         "geometry": {
          "coordinates": [
           7.8517,
           44.7011
          ],
          "type": "Point"
         },
         "properties": {
          "comune": "BRA",
          "data_fine_sensore": "1999-12-31",
          "data_inizio_sensore": "1993-05-05",
          "denominazione": "BRA",
          "esposizione": "SW",
          "id_punto_misura": "PIE-004029-900",
          "indirizzo_localita": "MUSEO CRAVERI",
          "quota_da_pc": 0,
          "quota_stazione": 298,
          "sigla_prov": "CN",
          "tipo_staz": "BHNPRTV"
         },
         "type": "Feature"
        },
        {
         "geometry": {
          "coordinates": [
           7.8517,
           44.7011
          ],
          "type": "Point"
         },
         "properties": {
          "comune": "BRA",
          "data_fine_sensore": null,
          "data_inizio_sensore": "2000-01-01",
          "denominazione": "BRA",
          "esposizione": "SW",
          "id_punto_misura": "PIE-004029-900",
          "indirizzo_localita": "MUSEO CRAVERI",
          "quota_da_pc": 13.5,
          "quota_stazione": 298,
          "sigla_prov": "CN",
          "tipo_staz": "BHNPRTV"
         },
         "type": "Feature"
        },
        {
         "geometry": {
          "coordinates": [
           7.5472,
           44.3881
          ],
          "type": "Point"
         },
         "properties": {
          "comune": "CUNEO",
          "data_fine_sensore": "2022-10-26",
          "data_inizio_sensore": "2016-02-17",
          "denominazione": "CUNEO CAMERA COMMERCIO",
          "esposizione": "ESE",
          "id_punto_misura": "PIE-004078-901",
          "indirizzo_localita": "CUNEO - VIA E. FILIBERTO 3",
          "quota_da_pc": 0,
          "quota_stazione": 550,
          "sigla_prov": "CN",
          "tipo_staz": "BPRTV"
         },
         "type": "Feature"
        },
        {
         "geometry": {
          "coordinates": [
           7.5472,
           44.3881
          ],
          "type": "Point"
         },
         "properties": {
          "comune": "CUNEO",
          "data_fine_sensore": null,
          "data_inizio_sensore": "2022-10-27",
          "denominazione": "CUNEO CAMERA COMMERCIO",
          "esposizione": "ESE",
          "id_punto_misura": "PIE-004078-901",
          "indirizzo_localita": "CUNEO - VIA E. FILIBERTO 3",
          "quota_da_pc": 22.65,
          "quota_stazione": 550,
          "sigla_prov": "CN",
          "tipo_staz": "BPRTV"
         },
         "type": "Feature"
        },
        {
         "geometry": {
          "coordinates": [
           7.0883,
           44.6602
          ],
          "type": "Point"
         },
         "properties": {
          "comune": "PONTECHIANALE",
          "data_fine_sensore": "2010-07-25",
          "data_inizio_sensore": "2002-10-04",
          "denominazione": "MONVISO FINO 2010",
          "esposizione": "ESE",
          "id_punto_misura": "PIE-004172-901",
          "indirizzo_localita": "COLLETTO FIUME",
          "quota_da_pc": 0,
          "quota_stazione": 3325,
          "sigla_prov": "CN",
          "tipo_staz": "BNRTV"
         },
         "type": "Feature"
        },
        {
         "geometry": {
          "coordinates": [
           7.0883,
           44.6602
          ],
          "type": "Point"
         },
         "properties": {
          "comune": "PONTECHIANALE",
          "data_fine_sensore": null,
          "data_inizio_sensore": "2020-03-20",
          "denominazione": "MONVISO",
          "esposizione": "ESE",
          "id_punto_misura": "PIE-004172-901",
          "indirizzo_localita": "COLLETTO FIUME",
          "quota_da_pc": 0,
          "quota_stazione": 3325,
          "sigla_prov": "CN",
          "tipo_staz": "BMRTV"
         },
         "type": "Feature"
        }
       ],
       "type": "FeatureCollection"
      },
      "text/html": [
       "<table class=\"dataframe\">\n",
       "<caption>A sf: 26 x 12</caption>\n",
       "<thead>\n",
       "\t<tr><th></th><th scope=col>data_inizio_sensore</th><th scope=col>data_fine_sensore</th><th scope=col>quota_da_pc</th><th scope=col>quota_stazione</th><th scope=col>esposizione</th><th scope=col>tipo_staz</th><th scope=col>sigla_prov</th><th scope=col>comune</th><th scope=col>denominazione</th><th scope=col>indirizzo_localita</th><th scope=col>id_punto_misura</th><th scope=col>geometry</th></tr>\n",
       "\t<tr><th></th><th scope=col>&lt;date&gt;</th><th scope=col>&lt;date&gt;</th><th scope=col>&lt;dbl&gt;</th><th scope=col>&lt;int&gt;</th><th scope=col>&lt;chr&gt;</th><th scope=col>&lt;chr&gt;</th><th scope=col>&lt;chr&gt;</th><th scope=col>&lt;chr&gt;</th><th scope=col>&lt;chr&gt;</th><th scope=col>&lt;chr&gt;</th><th scope=col>&lt;chr&gt;</th><th scope=col>&lt;POINT [arc_degree]&gt;</th></tr>\n",
       "</thead>\n",
       "<tbody>\n",
       "\t<tr><th scope=row>1</th><td>2006-09-28</td><td>2018-04-17</td><td> 0.00</td><td>1410</td><td>ENE</td><td>PTV    </td><td>TO</td><td>BALME          </td><td>BALME                         </td><td>FRAZIONE CORNETTI             </td><td>PIE-001019-901</td><td>POINT (7.22194 45.3025)</td></tr>\n",
       "\t<tr><th scope=row>2</th><td>2018-04-18</td><td>NA</td><td> 0.00</td><td>1410</td><td>ENE</td><td>PTV    </td><td>TO</td><td>BALME          </td><td>BALME                         </td><td>FRAZIONE CORNETTI             </td><td>PIE-001019-901</td><td>POINT (7.22194 45.3025)</td></tr>\n",
       "\t<tr><th scope=row>3</th><td>2005-09-06</td><td>2006-03-24</td><td> 0.00</td><td>2045</td><td>WNW</td><td>BHNPTV </td><td>TO</td><td>BARDONECCHIA   </td><td>BARDONECCHIA PRANUDIN         </td><td>PRANUDIN                      </td><td>PIE-001022-905</td><td>POINT (6.70803 45.10627)</td></tr>\n",
       "\t<tr><th scope=row>4</th><td>2006-03-25</td><td>NA</td><td> 0.00</td><td>2045</td><td>WNW</td><td>BHNPTV </td><td>TO</td><td>BARDONECCHIA   </td><td>BARDONECCHIA PRANUDIN         </td><td>PRANUDIN                      </td><td>PIE-001022-905</td><td>POINT (6.70803 45.10627)</td></tr>\n",
       "\t<tr><th scope=row>5</th><td>1999-09-07</td><td>2018-08-08</td><td> 0.00</td><td>1581</td><td>ENE</td><td>NPT    </td><td>TO</td><td>CERESOLE REALE </td><td>CERESOLE VILLA                </td><td>VILLA                         </td><td>PIE-001073-901</td><td>POINT (7.21083 45.44028)</td></tr>\n",
       "\t<tr><th scope=row>6</th><td>2018-08-09</td><td>NA</td><td> 0.00</td><td>1581</td><td>ENE</td><td>NPT    </td><td>TO</td><td>CERESOLE REALE </td><td>CERESOLE VILLA                </td><td>VILLA                         </td><td>PIE-001073-901</td><td>POINT (7.21083 45.44028)</td></tr>\n",
       "\t<tr><th scope=row>7</th><td>2001-10-01</td><td>2008-05-30</td><td> 0.00</td><td>1149</td><td>NE </td><td>IT     </td><td>TO</td><td>OULX           </td><td>BEAULARD DORA DI BARDONECCHIA </td><td>PONTE S.S. 335                </td><td>PIE-001175-902</td><td>POINT (6.75806 45.04667)</td></tr>\n",
       "\t<tr><th scope=row>8</th><td>2009-06-25</td><td>NA</td><td> 0.00</td><td>1149</td><td>NE </td><td>IT     </td><td>TO</td><td>OULX           </td><td>BEAULARD DORA DI BARDONECCHIA </td><td>PONTE S.S. 335                </td><td>PIE-001175-902</td><td>POINT (6.75806 45.04667)</td></tr>\n",
       "\t<tr><th scope=row>9</th><td>2001-10-01</td><td>2001-12-08</td><td> 0.00</td><td> 260</td><td>ESE</td><td>IPT    </td><td>TO</td><td>PARELLA        </td><td>PARELLA CHIUSELLA             </td><td>PONTE S.P. 63                 </td><td>PIE-001179-900</td><td>POINT (7.79806 45.42)</td></tr>\n",
       "\t<tr><th scope=row>10</th><td>2002-01-31</td><td>NA</td><td> 0.00</td><td> 260</td><td>ESE</td><td>IPT    </td><td>TO</td><td>PARELLA        </td><td>PARELLA CHIUSELLA             </td><td>PONTE S.P. 63                 </td><td>PIE-001179-900</td><td>POINT (7.79806 45.42)</td></tr>\n",
       "\t<tr><th scope=row>11</th><td>1993-06-23</td><td>2022-05-12</td><td> 0.00</td><td> 230</td><td>SW </td><td>HIPTV  </td><td>TO</td><td>PIVERONE       </td><td>PIVERONE LAGO                 </td><td>PIVERONE - LIDO DI ANZASCO    </td><td>PIE-001196-900</td><td>POINT (8.03361 45.43056)</td></tr>\n",
       "\t<tr><th scope=row>12</th><td>2022-05-13</td><td>NA</td><td> 0.00</td><td> 230</td><td>SW </td><td>HIPTV  </td><td>TO</td><td>PIVERONE       </td><td>PIVERONE LAGO                 </td><td>PIVERONE - LIDO DI ANZASCO    </td><td>PIE-001196-900</td><td>POINT (8.03361 45.43056)</td></tr>\n",
       "\t<tr><th scope=row>13</th><td>1995-12-12</td><td>2008-07-28</td><td> 0.00</td><td> 237</td><td>N  </td><td>IP     </td><td>TO</td><td>POIRINO        </td><td>POIRINO BANNA                 </td><td>DEPURATORE COMUNALE           </td><td>PIE-001197-900</td><td>POINT (7.82972 44.92389)</td></tr>\n",
       "\t<tr><th scope=row>14</th><td>2008-11-20</td><td>2010-01-12</td><td> 0.00</td><td> 237</td><td>N  </td><td>IP     </td><td>TO</td><td>POIRINO        </td><td>POIRINO BANNA                 </td><td>DEPURATORE COMUNALE           </td><td>PIE-001197-900</td><td>POINT (7.82972 44.92389)</td></tr>\n",
       "\t<tr><th scope=row>15</th><td>2000-12-20</td><td>2006-03-23</td><td> 0.00</td><td>1525</td><td>NNW</td><td>HNPTV  </td><td>TO</td><td>PRAGELATO      </td><td>PRAGELATO - TRAMPOLINO A VALLE</td><td>PRAGELATO - TRAMPOLINO A VALLE</td><td>PIE-001201-902</td><td>POINT (6.94139 45.00889)</td></tr>\n",
       "\t<tr><th scope=row>16</th><td>2006-03-24</td><td>NA</td><td> 0.00</td><td>1525</td><td>NNW</td><td>HNPTV  </td><td>TO</td><td>PRAGELATO      </td><td>PRAGELATO - TRAMPOLINO A VALLE</td><td>PRAGELATO - TRAMPOLINO A VALLE</td><td>PIE-001201-902</td><td>POINT (6.94139 45.00889)</td></tr>\n",
       "\t<tr><th scope=row>17</th><td>2001-06-14</td><td>2013-10-15</td><td> 0.00</td><td>1347</td><td>W  </td><td>NPT    </td><td>VC</td><td>ALAGNA VALSESIA</td><td>ALAGNA                        </td><td>ALAGNA - MINIERE              </td><td>PIE-002002-901</td><td>POINT (7.93611 45.87444)</td></tr>\n",
       "\t<tr><th scope=row>18</th><td>2014-12-30</td><td>NA</td><td> 0.00</td><td>1347</td><td>W  </td><td>NPT    </td><td>VC</td><td>ALAGNA VALSESIA</td><td>ALAGNA                        </td><td>ALAGNA - MINIERE              </td><td>PIE-002002-901</td><td>POINT (7.93611 45.87444)</td></tr>\n",
       "\t<tr><th scope=row>19</th><td>2007-07-05</td><td>2013-04-09</td><td> 0.00</td><td>2075</td><td>NE </td><td>BHNPT  </td><td>VB</td><td>MACUGNAGA      </td><td>MACUGNAGA RIFUGIO ZAMBONI     </td><td>RIFUGIO ZAMBONI               </td><td>PIE-003086-906</td><td>POINT (7.91694 45.95139)</td></tr>\n",
       "\t<tr><th scope=row>20</th><td>2013-04-10</td><td>NA</td><td> 0.00</td><td>2075</td><td>NE </td><td>BHNPT  </td><td>VB</td><td>MACUGNAGA      </td><td>MACUGNAGA RIFUGIO ZAMBONI     </td><td>RIFUGIO ZAMBONI               </td><td>PIE-003086-906</td><td>POINT (7.91694 45.95139)</td></tr>\n",
       "\t<tr><th scope=row>21</th><td>1993-05-05</td><td>1999-12-31</td><td> 0.00</td><td> 298</td><td>SW </td><td>BHNPRTV</td><td>CN</td><td>BRA            </td><td>BRA                           </td><td>MUSEO CRAVERI                 </td><td>PIE-004029-900</td><td>POINT (7.85167 44.70111)</td></tr>\n",
       "\t<tr><th scope=row>22</th><td>2000-01-01</td><td>NA</td><td>13.50</td><td> 298</td><td>SW </td><td>BHNPRTV</td><td>CN</td><td>BRA            </td><td>BRA                           </td><td>MUSEO CRAVERI                 </td><td>PIE-004029-900</td><td>POINT (7.85167 44.70111)</td></tr>\n",
       "\t<tr><th scope=row>23</th><td>2016-02-17</td><td>2022-10-26</td><td> 0.00</td><td> 550</td><td>ESE</td><td>BPRTV  </td><td>CN</td><td>CUNEO          </td><td>CUNEO CAMERA COMMERCIO        </td><td>CUNEO - VIA E. FILIBERTO 3    </td><td>PIE-004078-901</td><td>POINT (7.54722 44.38806)</td></tr>\n",
       "\t<tr><th scope=row>24</th><td>2022-10-27</td><td>NA</td><td>22.65</td><td> 550</td><td>ESE</td><td>BPRTV  </td><td>CN</td><td>CUNEO          </td><td>CUNEO CAMERA COMMERCIO        </td><td>CUNEO - VIA E. FILIBERTO 3    </td><td>PIE-004078-901</td><td>POINT (7.54722 44.38806)</td></tr>\n",
       "\t<tr><th scope=row>25</th><td>2002-10-04</td><td>2010-07-25</td><td> 0.00</td><td>3325</td><td>ESE</td><td>BNRTV  </td><td>CN</td><td>PONTECHIANALE  </td><td>MONVISO FINO 2010             </td><td>COLLETTO FIUME                </td><td>PIE-004172-901</td><td>POINT (7.08827 44.66025)</td></tr>\n",
       "\t<tr><th scope=row>26</th><td>2020-03-20</td><td>NA</td><td> 0.00</td><td>3325</td><td>ESE</td><td>BMRTV  </td><td>CN</td><td>PONTECHIANALE  </td><td>MONVISO                       </td><td>COLLETTO FIUME                </td><td>PIE-004172-901</td><td>POINT (7.08827 44.66025)</td></tr>\n",
       "</tbody>\n",
       "</table>\n"
      ],
      "text/latex": [
       "A sf: 26 x 12\n",
       "\\begin{tabular}{r|llllllllllll}\n",
       "  & data\\_inizio\\_sensore & data\\_fine\\_sensore & quota\\_da\\_pc & quota\\_stazione & esposizione & tipo\\_staz & sigla\\_prov & comune & denominazione & indirizzo\\_localita & id\\_punto\\_misura & geometry\\\\\n",
       "  & <date> & <date> & <dbl> & <int> & <chr> & <chr> & <chr> & <chr> & <chr> & <chr> & <chr> & <POINT {[}arc\\_degree{]}>\\\\\n",
       "\\hline\n",
       "\t1 & 2006-09-28 & 2018-04-17 &  0.00 & 1410 & ENE & PTV     & TO & BALME           & BALME                          & FRAZIONE CORNETTI              & PIE-001019-901 & POINT (7.22194 45.3025)\\\\\n",
       "\t2 & 2018-04-18 & NA &  0.00 & 1410 & ENE & PTV     & TO & BALME           & BALME                          & FRAZIONE CORNETTI              & PIE-001019-901 & POINT (7.22194 45.3025)\\\\\n",
       "\t3 & 2005-09-06 & 2006-03-24 &  0.00 & 2045 & WNW & BHNPTV  & TO & BARDONECCHIA    & BARDONECCHIA PRANUDIN          & PRANUDIN                       & PIE-001022-905 & POINT (6.70803 45.10627)\\\\\n",
       "\t4 & 2006-03-25 & NA &  0.00 & 2045 & WNW & BHNPTV  & TO & BARDONECCHIA    & BARDONECCHIA PRANUDIN          & PRANUDIN                       & PIE-001022-905 & POINT (6.70803 45.10627)\\\\\n",
       "\t5 & 1999-09-07 & 2018-08-08 &  0.00 & 1581 & ENE & NPT     & TO & CERESOLE REALE  & CERESOLE VILLA                 & VILLA                          & PIE-001073-901 & POINT (7.21083 45.44028)\\\\\n",
       "\t6 & 2018-08-09 & NA &  0.00 & 1581 & ENE & NPT     & TO & CERESOLE REALE  & CERESOLE VILLA                 & VILLA                          & PIE-001073-901 & POINT (7.21083 45.44028)\\\\\n",
       "\t7 & 2001-10-01 & 2008-05-30 &  0.00 & 1149 & NE  & IT      & TO & OULX            & BEAULARD DORA DI BARDONECCHIA  & PONTE S.S. 335                 & PIE-001175-902 & POINT (6.75806 45.04667)\\\\\n",
       "\t8 & 2009-06-25 & NA &  0.00 & 1149 & NE  & IT      & TO & OULX            & BEAULARD DORA DI BARDONECCHIA  & PONTE S.S. 335                 & PIE-001175-902 & POINT (6.75806 45.04667)\\\\\n",
       "\t9 & 2001-10-01 & 2001-12-08 &  0.00 &  260 & ESE & IPT     & TO & PARELLA         & PARELLA CHIUSELLA              & PONTE S.P. 63                  & PIE-001179-900 & POINT (7.79806 45.42)\\\\\n",
       "\t10 & 2002-01-31 & NA &  0.00 &  260 & ESE & IPT     & TO & PARELLA         & PARELLA CHIUSELLA              & PONTE S.P. 63                  & PIE-001179-900 & POINT (7.79806 45.42)\\\\\n",
       "\t11 & 1993-06-23 & 2022-05-12 &  0.00 &  230 & SW  & HIPTV   & TO & PIVERONE        & PIVERONE LAGO                  & PIVERONE - LIDO DI ANZASCO     & PIE-001196-900 & POINT (8.03361 45.43056)\\\\\n",
       "\t12 & 2022-05-13 & NA &  0.00 &  230 & SW  & HIPTV   & TO & PIVERONE        & PIVERONE LAGO                  & PIVERONE - LIDO DI ANZASCO     & PIE-001196-900 & POINT (8.03361 45.43056)\\\\\n",
       "\t13 & 1995-12-12 & 2008-07-28 &  0.00 &  237 & N   & IP      & TO & POIRINO         & POIRINO BANNA                  & DEPURATORE COMUNALE            & PIE-001197-900 & POINT (7.82972 44.92389)\\\\\n",
       "\t14 & 2008-11-20 & 2010-01-12 &  0.00 &  237 & N   & IP      & TO & POIRINO         & POIRINO BANNA                  & DEPURATORE COMUNALE            & PIE-001197-900 & POINT (7.82972 44.92389)\\\\\n",
       "\t15 & 2000-12-20 & 2006-03-23 &  0.00 & 1525 & NNW & HNPTV   & TO & PRAGELATO       & PRAGELATO - TRAMPOLINO A VALLE & PRAGELATO - TRAMPOLINO A VALLE & PIE-001201-902 & POINT (6.94139 45.00889)\\\\\n",
       "\t16 & 2006-03-24 & NA &  0.00 & 1525 & NNW & HNPTV   & TO & PRAGELATO       & PRAGELATO - TRAMPOLINO A VALLE & PRAGELATO - TRAMPOLINO A VALLE & PIE-001201-902 & POINT (6.94139 45.00889)\\\\\n",
       "\t17 & 2001-06-14 & 2013-10-15 &  0.00 & 1347 & W   & NPT     & VC & ALAGNA VALSESIA & ALAGNA                         & ALAGNA - MINIERE               & PIE-002002-901 & POINT (7.93611 45.87444)\\\\\n",
       "\t18 & 2014-12-30 & NA &  0.00 & 1347 & W   & NPT     & VC & ALAGNA VALSESIA & ALAGNA                         & ALAGNA - MINIERE               & PIE-002002-901 & POINT (7.93611 45.87444)\\\\\n",
       "\t19 & 2007-07-05 & 2013-04-09 &  0.00 & 2075 & NE  & BHNPT   & VB & MACUGNAGA       & MACUGNAGA RIFUGIO ZAMBONI      & RIFUGIO ZAMBONI                & PIE-003086-906 & POINT (7.91694 45.95139)\\\\\n",
       "\t20 & 2013-04-10 & NA &  0.00 & 2075 & NE  & BHNPT   & VB & MACUGNAGA       & MACUGNAGA RIFUGIO ZAMBONI      & RIFUGIO ZAMBONI                & PIE-003086-906 & POINT (7.91694 45.95139)\\\\\n",
       "\t21 & 1993-05-05 & 1999-12-31 &  0.00 &  298 & SW  & BHNPRTV & CN & BRA             & BRA                            & MUSEO CRAVERI                  & PIE-004029-900 & POINT (7.85167 44.70111)\\\\\n",
       "\t22 & 2000-01-01 & NA & 13.50 &  298 & SW  & BHNPRTV & CN & BRA             & BRA                            & MUSEO CRAVERI                  & PIE-004029-900 & POINT (7.85167 44.70111)\\\\\n",
       "\t23 & 2016-02-17 & 2022-10-26 &  0.00 &  550 & ESE & BPRTV   & CN & CUNEO           & CUNEO CAMERA COMMERCIO         & CUNEO - VIA E. FILIBERTO 3     & PIE-004078-901 & POINT (7.54722 44.38806)\\\\\n",
       "\t24 & 2022-10-27 & NA & 22.65 &  550 & ESE & BPRTV   & CN & CUNEO           & CUNEO CAMERA COMMERCIO         & CUNEO - VIA E. FILIBERTO 3     & PIE-004078-901 & POINT (7.54722 44.38806)\\\\\n",
       "\t25 & 2002-10-04 & 2010-07-25 &  0.00 & 3325 & ESE & BNRTV   & CN & PONTECHIANALE   & MONVISO FINO 2010              & COLLETTO FIUME                 & PIE-004172-901 & POINT (7.08827 44.66025)\\\\\n",
       "\t26 & 2020-03-20 & NA &  0.00 & 3325 & ESE & BMRTV   & CN & PONTECHIANALE   & MONVISO                        & COLLETTO FIUME                 & PIE-004172-901 & POINT (7.08827 44.66025)\\\\\n",
       "\\end{tabular}\n"
      ],
      "text/markdown": [
       "\n",
       "A sf: 26 x 12\n",
       "\n",
       "| <!--/--> | data_inizio_sensore &lt;date&gt; | data_fine_sensore &lt;date&gt; | quota_da_pc &lt;dbl&gt; | quota_stazione &lt;int&gt; | esposizione &lt;chr&gt; | tipo_staz &lt;chr&gt; | sigla_prov &lt;chr&gt; | comune &lt;chr&gt; | denominazione &lt;chr&gt; | indirizzo_localita &lt;chr&gt; | id_punto_misura &lt;chr&gt; | geometry &lt;POINT [arc_degree]&gt; |\n",
       "|---|---|---|---|---|---|---|---|---|---|---|---|---|\n",
       "| 1 | 2006-09-28 | 2018-04-17 |  0.00 | 1410 | ENE | PTV     | TO | BALME           | BALME                          | FRAZIONE CORNETTI              | PIE-001019-901 | POINT (7.22194 45.3025) |\n",
       "| 2 | 2018-04-18 | NA |  0.00 | 1410 | ENE | PTV     | TO | BALME           | BALME                          | FRAZIONE CORNETTI              | PIE-001019-901 | POINT (7.22194 45.3025) |\n",
       "| 3 | 2005-09-06 | 2006-03-24 |  0.00 | 2045 | WNW | BHNPTV  | TO | BARDONECCHIA    | BARDONECCHIA PRANUDIN          | PRANUDIN                       | PIE-001022-905 | POINT (6.70803 45.10627) |\n",
       "| 4 | 2006-03-25 | NA |  0.00 | 2045 | WNW | BHNPTV  | TO | BARDONECCHIA    | BARDONECCHIA PRANUDIN          | PRANUDIN                       | PIE-001022-905 | POINT (6.70803 45.10627) |\n",
       "| 5 | 1999-09-07 | 2018-08-08 |  0.00 | 1581 | ENE | NPT     | TO | CERESOLE REALE  | CERESOLE VILLA                 | VILLA                          | PIE-001073-901 | POINT (7.21083 45.44028) |\n",
       "| 6 | 2018-08-09 | NA |  0.00 | 1581 | ENE | NPT     | TO | CERESOLE REALE  | CERESOLE VILLA                 | VILLA                          | PIE-001073-901 | POINT (7.21083 45.44028) |\n",
       "| 7 | 2001-10-01 | 2008-05-30 |  0.00 | 1149 | NE  | IT      | TO | OULX            | BEAULARD DORA DI BARDONECCHIA  | PONTE S.S. 335                 | PIE-001175-902 | POINT (6.75806 45.04667) |\n",
       "| 8 | 2009-06-25 | NA |  0.00 | 1149 | NE  | IT      | TO | OULX            | BEAULARD DORA DI BARDONECCHIA  | PONTE S.S. 335                 | PIE-001175-902 | POINT (6.75806 45.04667) |\n",
       "| 9 | 2001-10-01 | 2001-12-08 |  0.00 |  260 | ESE | IPT     | TO | PARELLA         | PARELLA CHIUSELLA              | PONTE S.P. 63                  | PIE-001179-900 | POINT (7.79806 45.42) |\n",
       "| 10 | 2002-01-31 | NA |  0.00 |  260 | ESE | IPT     | TO | PARELLA         | PARELLA CHIUSELLA              | PONTE S.P. 63                  | PIE-001179-900 | POINT (7.79806 45.42) |\n",
       "| 11 | 1993-06-23 | 2022-05-12 |  0.00 |  230 | SW  | HIPTV   | TO | PIVERONE        | PIVERONE LAGO                  | PIVERONE - LIDO DI ANZASCO     | PIE-001196-900 | POINT (8.03361 45.43056) |\n",
       "| 12 | 2022-05-13 | NA |  0.00 |  230 | SW  | HIPTV   | TO | PIVERONE        | PIVERONE LAGO                  | PIVERONE - LIDO DI ANZASCO     | PIE-001196-900 | POINT (8.03361 45.43056) |\n",
       "| 13 | 1995-12-12 | 2008-07-28 |  0.00 |  237 | N   | IP      | TO | POIRINO         | POIRINO BANNA                  | DEPURATORE COMUNALE            | PIE-001197-900 | POINT (7.82972 44.92389) |\n",
       "| 14 | 2008-11-20 | 2010-01-12 |  0.00 |  237 | N   | IP      | TO | POIRINO         | POIRINO BANNA                  | DEPURATORE COMUNALE            | PIE-001197-900 | POINT (7.82972 44.92389) |\n",
       "| 15 | 2000-12-20 | 2006-03-23 |  0.00 | 1525 | NNW | HNPTV   | TO | PRAGELATO       | PRAGELATO - TRAMPOLINO A VALLE | PRAGELATO - TRAMPOLINO A VALLE | PIE-001201-902 | POINT (6.94139 45.00889) |\n",
       "| 16 | 2006-03-24 | NA |  0.00 | 1525 | NNW | HNPTV   | TO | PRAGELATO       | PRAGELATO - TRAMPOLINO A VALLE | PRAGELATO - TRAMPOLINO A VALLE | PIE-001201-902 | POINT (6.94139 45.00889) |\n",
       "| 17 | 2001-06-14 | 2013-10-15 |  0.00 | 1347 | W   | NPT     | VC | ALAGNA VALSESIA | ALAGNA                         | ALAGNA - MINIERE               | PIE-002002-901 | POINT (7.93611 45.87444) |\n",
       "| 18 | 2014-12-30 | NA |  0.00 | 1347 | W   | NPT     | VC | ALAGNA VALSESIA | ALAGNA                         | ALAGNA - MINIERE               | PIE-002002-901 | POINT (7.93611 45.87444) |\n",
       "| 19 | 2007-07-05 | 2013-04-09 |  0.00 | 2075 | NE  | BHNPT   | VB | MACUGNAGA       | MACUGNAGA RIFUGIO ZAMBONI      | RIFUGIO ZAMBONI                | PIE-003086-906 | POINT (7.91694 45.95139) |\n",
       "| 20 | 2013-04-10 | NA |  0.00 | 2075 | NE  | BHNPT   | VB | MACUGNAGA       | MACUGNAGA RIFUGIO ZAMBONI      | RIFUGIO ZAMBONI                | PIE-003086-906 | POINT (7.91694 45.95139) |\n",
       "| 21 | 1993-05-05 | 1999-12-31 |  0.00 |  298 | SW  | BHNPRTV | CN | BRA             | BRA                            | MUSEO CRAVERI                  | PIE-004029-900 | POINT (7.85167 44.70111) |\n",
       "| 22 | 2000-01-01 | NA | 13.50 |  298 | SW  | BHNPRTV | CN | BRA             | BRA                            | MUSEO CRAVERI                  | PIE-004029-900 | POINT (7.85167 44.70111) |\n",
       "| 23 | 2016-02-17 | 2022-10-26 |  0.00 |  550 | ESE | BPRTV   | CN | CUNEO           | CUNEO CAMERA COMMERCIO         | CUNEO - VIA E. FILIBERTO 3     | PIE-004078-901 | POINT (7.54722 44.38806) |\n",
       "| 24 | 2022-10-27 | NA | 22.65 |  550 | ESE | BPRTV   | CN | CUNEO           | CUNEO CAMERA COMMERCIO         | CUNEO - VIA E. FILIBERTO 3     | PIE-004078-901 | POINT (7.54722 44.38806) |\n",
       "| 25 | 2002-10-04 | 2010-07-25 |  0.00 | 3325 | ESE | BNRTV   | CN | PONTECHIANALE   | MONVISO FINO 2010              | COLLETTO FIUME                 | PIE-004172-901 | POINT (7.08827 44.66025) |\n",
       "| 26 | 2020-03-20 | NA |  0.00 | 3325 | ESE | BMRTV   | CN | PONTECHIANALE   | MONVISO                        | COLLETTO FIUME                 | PIE-004172-901 | POINT (7.08827 44.66025) |\n",
       "\n"
      ],
      "text/plain": [
       "   data_inizio_sensore data_fine_sensore quota_da_pc quota_stazione esposizione\n",
       "1  2006-09-28          2018-04-17         0.00       1410           ENE        \n",
       "2  2018-04-18          <NA>               0.00       1410           ENE        \n",
       "3  2005-09-06          2006-03-24         0.00       2045           WNW        \n",
       "4  2006-03-25          <NA>               0.00       2045           WNW        \n",
       "5  1999-09-07          2018-08-08         0.00       1581           ENE        \n",
       "6  2018-08-09          <NA>               0.00       1581           ENE        \n",
       "7  2001-10-01          2008-05-30         0.00       1149           NE         \n",
       "8  2009-06-25          <NA>               0.00       1149           NE         \n",
       "9  2001-10-01          2001-12-08         0.00        260           ESE        \n",
       "10 2002-01-31          <NA>               0.00        260           ESE        \n",
       "11 1993-06-23          2022-05-12         0.00        230           SW         \n",
       "12 2022-05-13          <NA>               0.00        230           SW         \n",
       "13 1995-12-12          2008-07-28         0.00        237           N          \n",
       "14 2008-11-20          2010-01-12         0.00        237           N          \n",
       "15 2000-12-20          2006-03-23         0.00       1525           NNW        \n",
       "16 2006-03-24          <NA>               0.00       1525           NNW        \n",
       "17 2001-06-14          2013-10-15         0.00       1347           W          \n",
       "18 2014-12-30          <NA>               0.00       1347           W          \n",
       "19 2007-07-05          2013-04-09         0.00       2075           NE         \n",
       "20 2013-04-10          <NA>               0.00       2075           NE         \n",
       "21 1993-05-05          1999-12-31         0.00        298           SW         \n",
       "22 2000-01-01          <NA>              13.50        298           SW         \n",
       "23 2016-02-17          2022-10-26         0.00        550           ESE        \n",
       "24 2022-10-27          <NA>              22.65        550           ESE        \n",
       "25 2002-10-04          2010-07-25         0.00       3325           ESE        \n",
       "26 2020-03-20          <NA>               0.00       3325           ESE        \n",
       "   tipo_staz sigla_prov comune          denominazione                 \n",
       "1  PTV       TO         BALME           BALME                         \n",
       "2  PTV       TO         BALME           BALME                         \n",
       "3  BHNPTV    TO         BARDONECCHIA    BARDONECCHIA PRANUDIN         \n",
       "4  BHNPTV    TO         BARDONECCHIA    BARDONECCHIA PRANUDIN         \n",
       "5  NPT       TO         CERESOLE REALE  CERESOLE VILLA                \n",
       "6  NPT       TO         CERESOLE REALE  CERESOLE VILLA                \n",
       "7  IT        TO         OULX            BEAULARD DORA DI BARDONECCHIA \n",
       "8  IT        TO         OULX            BEAULARD DORA DI BARDONECCHIA \n",
       "9  IPT       TO         PARELLA         PARELLA CHIUSELLA             \n",
       "10 IPT       TO         PARELLA         PARELLA CHIUSELLA             \n",
       "11 HIPTV     TO         PIVERONE        PIVERONE LAGO                 \n",
       "12 HIPTV     TO         PIVERONE        PIVERONE LAGO                 \n",
       "13 IP        TO         POIRINO         POIRINO BANNA                 \n",
       "14 IP        TO         POIRINO         POIRINO BANNA                 \n",
       "15 HNPTV     TO         PRAGELATO       PRAGELATO - TRAMPOLINO A VALLE\n",
       "16 HNPTV     TO         PRAGELATO       PRAGELATO - TRAMPOLINO A VALLE\n",
       "17 NPT       VC         ALAGNA VALSESIA ALAGNA                        \n",
       "18 NPT       VC         ALAGNA VALSESIA ALAGNA                        \n",
       "19 BHNPT     VB         MACUGNAGA       MACUGNAGA RIFUGIO ZAMBONI     \n",
       "20 BHNPT     VB         MACUGNAGA       MACUGNAGA RIFUGIO ZAMBONI     \n",
       "21 BHNPRTV   CN         BRA             BRA                           \n",
       "22 BHNPRTV   CN         BRA             BRA                           \n",
       "23 BPRTV     CN         CUNEO           CUNEO CAMERA COMMERCIO        \n",
       "24 BPRTV     CN         CUNEO           CUNEO CAMERA COMMERCIO        \n",
       "25 BNRTV     CN         PONTECHIANALE   MONVISO FINO 2010             \n",
       "26 BMRTV     CN         PONTECHIANALE   MONVISO                       \n",
       "   indirizzo_localita             id_punto_misura geometry                \n",
       "1  FRAZIONE CORNETTI              PIE-001019-901  POINT (7.22194 45.3025) \n",
       "2  FRAZIONE CORNETTI              PIE-001019-901  POINT (7.22194 45.3025) \n",
       "3  PRANUDIN                       PIE-001022-905  POINT (6.70803 45.10627)\n",
       "4  PRANUDIN                       PIE-001022-905  POINT (6.70803 45.10627)\n",
       "5  VILLA                          PIE-001073-901  POINT (7.21083 45.44028)\n",
       "6  VILLA                          PIE-001073-901  POINT (7.21083 45.44028)\n",
       "7  PONTE S.S. 335                 PIE-001175-902  POINT (6.75806 45.04667)\n",
       "8  PONTE S.S. 335                 PIE-001175-902  POINT (6.75806 45.04667)\n",
       "9  PONTE S.P. 63                  PIE-001179-900  POINT (7.79806 45.42)   \n",
       "10 PONTE S.P. 63                  PIE-001179-900  POINT (7.79806 45.42)   \n",
       "11 PIVERONE - LIDO DI ANZASCO     PIE-001196-900  POINT (8.03361 45.43056)\n",
       "12 PIVERONE - LIDO DI ANZASCO     PIE-001196-900  POINT (8.03361 45.43056)\n",
       "13 DEPURATORE COMUNALE            PIE-001197-900  POINT (7.82972 44.92389)\n",
       "14 DEPURATORE COMUNALE            PIE-001197-900  POINT (7.82972 44.92389)\n",
       "15 PRAGELATO - TRAMPOLINO A VALLE PIE-001201-902  POINT (6.94139 45.00889)\n",
       "16 PRAGELATO - TRAMPOLINO A VALLE PIE-001201-902  POINT (6.94139 45.00889)\n",
       "17 ALAGNA - MINIERE               PIE-002002-901  POINT (7.93611 45.87444)\n",
       "18 ALAGNA - MINIERE               PIE-002002-901  POINT (7.93611 45.87444)\n",
       "19 RIFUGIO ZAMBONI                PIE-003086-906  POINT (7.91694 45.95139)\n",
       "20 RIFUGIO ZAMBONI                PIE-003086-906  POINT (7.91694 45.95139)\n",
       "21 MUSEO CRAVERI                  PIE-004029-900  POINT (7.85167 44.70111)\n",
       "22 MUSEO CRAVERI                  PIE-004029-900  POINT (7.85167 44.70111)\n",
       "23 CUNEO - VIA E. FILIBERTO 3     PIE-004078-901  POINT (7.54722 44.38806)\n",
       "24 CUNEO - VIA E. FILIBERTO 3     PIE-004078-901  POINT (7.54722 44.38806)\n",
       "25 COLLETTO FIUME                 PIE-004172-901  POINT (7.08827 44.66025)\n",
       "26 COLLETTO FIUME                 PIE-004172-901  POINT (7.08827 44.66025)"
      ]
     },
     "metadata": {},
     "output_type": "display_data"
    }
   ],
   "source": [
    "metadata |> group_by(id_punto_misura) |> filter(n() > 1)"
   ]
  },
  {
   "cell_type": "code",
   "execution_count": 3,
   "metadata": {
    "vscode": {
     "languageId": "r"
    }
   },
   "outputs": [
    {
     "name": "stderr",
     "output_type": "stream",
     "text": [
      "Registered S3 method overwritten by 'geojsonsf':\n",
      "  method        from   \n",
      "  print.geojson geojson\n",
      "\n"
     ]
    },
    {
     "data": {
      "application/geo+json": {
       "features": [
        {
         "geometry": {
          "coordinates": [
           7.2219,
           45.3025
          ],
          "type": "Point"
         },
         "properties": {
          "denominazione": "BALME",
          "id_punto_misura": "PIE-001019-901",
          "quota_stazione": 1410
         },
         "type": "Feature"
        },
        {
         "geometry": {
          "coordinates": [
           7.2219,
           45.3025
          ],
          "type": "Point"
         },
         "properties": {
          "denominazione": "BALME",
          "id_punto_misura": "PIE-001019-901",
          "quota_stazione": 1410
         },
         "type": "Feature"
        },
        {
         "geometry": {
          "coordinates": [
           6.708,
           45.1063
          ],
          "type": "Point"
         },
         "properties": {
          "denominazione": "BARDONECCHIA PRANUDIN",
          "id_punto_misura": "PIE-001022-905",
          "quota_stazione": 2045
         },
         "type": "Feature"
        },
        {
         "geometry": {
          "coordinates": [
           6.708,
           45.1063
          ],
          "type": "Point"
         },
         "properties": {
          "denominazione": "BARDONECCHIA PRANUDIN",
          "id_punto_misura": "PIE-001022-905",
          "quota_stazione": 2045
         },
         "type": "Feature"
        },
        {
         "geometry": {
          "coordinates": [
           7.2108,
           45.4403
          ],
          "type": "Point"
         },
         "properties": {
          "denominazione": "CERESOLE VILLA",
          "id_punto_misura": "PIE-001073-901",
          "quota_stazione": 1581
         },
         "type": "Feature"
        },
        {
         "geometry": {
          "coordinates": [
           7.2108,
           45.4403
          ],
          "type": "Point"
         },
         "properties": {
          "denominazione": "CERESOLE VILLA",
          "id_punto_misura": "PIE-001073-901",
          "quota_stazione": 1581
         },
         "type": "Feature"
        },
        {
         "geometry": {
          "coordinates": [
           6.7581,
           45.0467
          ],
          "type": "Point"
         },
         "properties": {
          "denominazione": "BEAULARD DORA DI BARDONECCHIA",
          "id_punto_misura": "PIE-001175-902",
          "quota_stazione": 1149
         },
         "type": "Feature"
        },
        {
         "geometry": {
          "coordinates": [
           6.7581,
           45.0467
          ],
          "type": "Point"
         },
         "properties": {
          "denominazione": "BEAULARD DORA DI BARDONECCHIA",
          "id_punto_misura": "PIE-001175-902",
          "quota_stazione": 1149
         },
         "type": "Feature"
        },
        {
         "geometry": {
          "coordinates": [
           7.7981,
           45.42
          ],
          "type": "Point"
         },
         "properties": {
          "denominazione": "PARELLA CHIUSELLA",
          "id_punto_misura": "PIE-001179-900",
          "quota_stazione": 260
         },
         "type": "Feature"
        },
        {
         "geometry": {
          "coordinates": [
           7.7981,
           45.42
          ],
          "type": "Point"
         },
         "properties": {
          "denominazione": "PARELLA CHIUSELLA",
          "id_punto_misura": "PIE-001179-900",
          "quota_stazione": 260
         },
         "type": "Feature"
        },
        {
         "geometry": {
          "coordinates": [
           8.0336,
           45.4306
          ],
          "type": "Point"
         },
         "properties": {
          "denominazione": "PIVERONE LAGO",
          "id_punto_misura": "PIE-001196-900",
          "quota_stazione": 230
         },
         "type": "Feature"
        },
        {
         "geometry": {
          "coordinates": [
           8.0336,
           45.4306
          ],
          "type": "Point"
         },
         "properties": {
          "denominazione": "PIVERONE LAGO",
          "id_punto_misura": "PIE-001196-900",
          "quota_stazione": 230
         },
         "type": "Feature"
        },
        {
         "geometry": {
          "coordinates": [
           7.8297,
           44.9239
          ],
          "type": "Point"
         },
         "properties": {
          "denominazione": "POIRINO BANNA",
          "id_punto_misura": "PIE-001197-900",
          "quota_stazione": 237
         },
         "type": "Feature"
        },
        {
         "geometry": {
          "coordinates": [
           7.8297,
           44.9239
          ],
          "type": "Point"
         },
         "properties": {
          "denominazione": "POIRINO BANNA",
          "id_punto_misura": "PIE-001197-900",
          "quota_stazione": 237
         },
         "type": "Feature"
        },
        {
         "geometry": {
          "coordinates": [
           6.9414,
           45.0089
          ],
          "type": "Point"
         },
         "properties": {
          "denominazione": "PRAGELATO - TRAMPOLINO A VALLE",
          "id_punto_misura": "PIE-001201-902",
          "quota_stazione": 1525
         },
         "type": "Feature"
        },
        {
         "geometry": {
          "coordinates": [
           6.9414,
           45.0089
          ],
          "type": "Point"
         },
         "properties": {
          "denominazione": "PRAGELATO - TRAMPOLINO A VALLE",
          "id_punto_misura": "PIE-001201-902",
          "quota_stazione": 1525
         },
         "type": "Feature"
        },
        {
         "geometry": {
          "coordinates": [
           7.9361,
           45.8744
          ],
          "type": "Point"
         },
         "properties": {
          "denominazione": "ALAGNA",
          "id_punto_misura": "PIE-002002-901",
          "quota_stazione": 1347
         },
         "type": "Feature"
        },
        {
         "geometry": {
          "coordinates": [
           7.9361,
           45.8744
          ],
          "type": "Point"
         },
         "properties": {
          "denominazione": "ALAGNA",
          "id_punto_misura": "PIE-002002-901",
          "quota_stazione": 1347
         },
         "type": "Feature"
        },
        {
         "geometry": {
          "coordinates": [
           7.9169,
           45.9514
          ],
          "type": "Point"
         },
         "properties": {
          "denominazione": "MACUGNAGA RIFUGIO ZAMBONI",
          "id_punto_misura": "PIE-003086-906",
          "quota_stazione": 2075
         },
         "type": "Feature"
        },
        {
         "geometry": {
          "coordinates": [
           7.9169,
           45.9514
          ],
          "type": "Point"
         },
         "properties": {
          "denominazione": "MACUGNAGA RIFUGIO ZAMBONI",
          "id_punto_misura": "PIE-003086-906",
          "quota_stazione": 2075
         },
         "type": "Feature"
        },
        {
         "geometry": {
          "coordinates": [
           7.8517,
           44.7011
          ],
          "type": "Point"
         },
         "properties": {
          "denominazione": "BRA",
          "id_punto_misura": "PIE-004029-900",
          "quota_stazione": 298
         },
         "type": "Feature"
        },
        {
         "geometry": {
          "coordinates": [
           7.8517,
           44.7011
          ],
          "type": "Point"
         },
         "properties": {
          "denominazione": "BRA",
          "id_punto_misura": "PIE-004029-900",
          "quota_stazione": 298
         },
         "type": "Feature"
        },
        {
         "geometry": {
          "coordinates": [
           7.5472,
           44.3881
          ],
          "type": "Point"
         },
         "properties": {
          "denominazione": "CUNEO CAMERA COMMERCIO",
          "id_punto_misura": "PIE-004078-901",
          "quota_stazione": 550
         },
         "type": "Feature"
        },
        {
         "geometry": {
          "coordinates": [
           7.5472,
           44.3881
          ],
          "type": "Point"
         },
         "properties": {
          "denominazione": "CUNEO CAMERA COMMERCIO",
          "id_punto_misura": "PIE-004078-901",
          "quota_stazione": 550
         },
         "type": "Feature"
        },
        {
         "geometry": {
          "coordinates": [
           7.0883,
           44.6602
          ],
          "type": "Point"
         },
         "properties": {
          "denominazione": "MONVISO FINO 2010",
          "id_punto_misura": "PIE-004172-901",
          "quota_stazione": 3325
         },
         "type": "Feature"
        },
        {
         "geometry": {
          "coordinates": [
           7.0883,
           44.6602
          ],
          "type": "Point"
         },
         "properties": {
          "denominazione": "MONVISO",
          "id_punto_misura": "PIE-004172-901",
          "quota_stazione": 3325
         },
         "type": "Feature"
        }
       ],
       "type": "FeatureCollection"
      },
      "text/html": [
       "<table class=\"dataframe\">\n",
       "<caption>A sf: 26 x 4</caption>\n",
       "<thead>\n",
       "\t<tr><th scope=col>denominazione</th><th scope=col>id_punto_misura</th><th scope=col>geometry</th><th scope=col>quota_stazione</th></tr>\n",
       "\t<tr><th scope=col>&lt;chr&gt;</th><th scope=col>&lt;chr&gt;</th><th scope=col>&lt;POINT [arc_degree]&gt;</th><th scope=col>&lt;int&gt;</th></tr>\n",
       "</thead>\n",
       "<tbody>\n",
       "\t<tr><td>BALME                         </td><td>PIE-001019-901</td><td>POINT (7.22194 45.3025)</td><td>1410</td></tr>\n",
       "\t<tr><td>BALME                         </td><td>PIE-001019-901</td><td>POINT (7.22194 45.3025)</td><td>1410</td></tr>\n",
       "\t<tr><td>BARDONECCHIA PRANUDIN         </td><td>PIE-001022-905</td><td>POINT (6.70803 45.10627)</td><td>2045</td></tr>\n",
       "\t<tr><td>BARDONECCHIA PRANUDIN         </td><td>PIE-001022-905</td><td>POINT (6.70803 45.10627)</td><td>2045</td></tr>\n",
       "\t<tr><td>CERESOLE VILLA                </td><td>PIE-001073-901</td><td>POINT (7.21083 45.44028)</td><td>1581</td></tr>\n",
       "\t<tr><td>CERESOLE VILLA                </td><td>PIE-001073-901</td><td>POINT (7.21083 45.44028)</td><td>1581</td></tr>\n",
       "\t<tr><td>BEAULARD DORA DI BARDONECCHIA </td><td>PIE-001175-902</td><td>POINT (6.75806 45.04667)</td><td>1149</td></tr>\n",
       "\t<tr><td>BEAULARD DORA DI BARDONECCHIA </td><td>PIE-001175-902</td><td>POINT (6.75806 45.04667)</td><td>1149</td></tr>\n",
       "\t<tr><td>PARELLA CHIUSELLA             </td><td>PIE-001179-900</td><td>POINT (7.79806 45.42)</td><td> 260</td></tr>\n",
       "\t<tr><td>PARELLA CHIUSELLA             </td><td>PIE-001179-900</td><td>POINT (7.79806 45.42)</td><td> 260</td></tr>\n",
       "\t<tr><td>PIVERONE LAGO                 </td><td>PIE-001196-900</td><td>POINT (8.03361 45.43056)</td><td> 230</td></tr>\n",
       "\t<tr><td>PIVERONE LAGO                 </td><td>PIE-001196-900</td><td>POINT (8.03361 45.43056)</td><td> 230</td></tr>\n",
       "\t<tr><td>POIRINO BANNA                 </td><td>PIE-001197-900</td><td>POINT (7.82972 44.92389)</td><td> 237</td></tr>\n",
       "\t<tr><td>POIRINO BANNA                 </td><td>PIE-001197-900</td><td>POINT (7.82972 44.92389)</td><td> 237</td></tr>\n",
       "\t<tr><td>PRAGELATO - TRAMPOLINO A VALLE</td><td>PIE-001201-902</td><td>POINT (6.94139 45.00889)</td><td>1525</td></tr>\n",
       "\t<tr><td>PRAGELATO - TRAMPOLINO A VALLE</td><td>PIE-001201-902</td><td>POINT (6.94139 45.00889)</td><td>1525</td></tr>\n",
       "\t<tr><td>ALAGNA                        </td><td>PIE-002002-901</td><td>POINT (7.93611 45.87444)</td><td>1347</td></tr>\n",
       "\t<tr><td>ALAGNA                        </td><td>PIE-002002-901</td><td>POINT (7.93611 45.87444)</td><td>1347</td></tr>\n",
       "\t<tr><td>MACUGNAGA RIFUGIO ZAMBONI     </td><td>PIE-003086-906</td><td>POINT (7.91694 45.95139)</td><td>2075</td></tr>\n",
       "\t<tr><td>MACUGNAGA RIFUGIO ZAMBONI     </td><td>PIE-003086-906</td><td>POINT (7.91694 45.95139)</td><td>2075</td></tr>\n",
       "\t<tr><td>BRA                           </td><td>PIE-004029-900</td><td>POINT (7.85167 44.70111)</td><td> 298</td></tr>\n",
       "\t<tr><td>BRA                           </td><td>PIE-004029-900</td><td>POINT (7.85167 44.70111)</td><td> 298</td></tr>\n",
       "\t<tr><td>CUNEO CAMERA COMMERCIO        </td><td>PIE-004078-901</td><td>POINT (7.54722 44.38806)</td><td> 550</td></tr>\n",
       "\t<tr><td>CUNEO CAMERA COMMERCIO        </td><td>PIE-004078-901</td><td>POINT (7.54722 44.38806)</td><td> 550</td></tr>\n",
       "\t<tr><td>MONVISO FINO 2010             </td><td>PIE-004172-901</td><td>POINT (7.08827 44.66025)</td><td>3325</td></tr>\n",
       "\t<tr><td>MONVISO                       </td><td>PIE-004172-901</td><td>POINT (7.08827 44.66025)</td><td>3325</td></tr>\n",
       "</tbody>\n",
       "</table>\n"
      ],
      "text/latex": [
       "A sf: 26 x 4\n",
       "\\begin{tabular}{llll}\n",
       " denominazione & id\\_punto\\_misura & geometry & quota\\_stazione\\\\\n",
       " <chr> & <chr> & <POINT {[}arc\\_degree{]}> & <int>\\\\\n",
       "\\hline\n",
       "\t BALME                          & PIE-001019-901 & POINT (7.22194 45.3025) & 1410\\\\\n",
       "\t BALME                          & PIE-001019-901 & POINT (7.22194 45.3025) & 1410\\\\\n",
       "\t BARDONECCHIA PRANUDIN          & PIE-001022-905 & POINT (6.70803 45.10627) & 2045\\\\\n",
       "\t BARDONECCHIA PRANUDIN          & PIE-001022-905 & POINT (6.70803 45.10627) & 2045\\\\\n",
       "\t CERESOLE VILLA                 & PIE-001073-901 & POINT (7.21083 45.44028) & 1581\\\\\n",
       "\t CERESOLE VILLA                 & PIE-001073-901 & POINT (7.21083 45.44028) & 1581\\\\\n",
       "\t BEAULARD DORA DI BARDONECCHIA  & PIE-001175-902 & POINT (6.75806 45.04667) & 1149\\\\\n",
       "\t BEAULARD DORA DI BARDONECCHIA  & PIE-001175-902 & POINT (6.75806 45.04667) & 1149\\\\\n",
       "\t PARELLA CHIUSELLA              & PIE-001179-900 & POINT (7.79806 45.42) &  260\\\\\n",
       "\t PARELLA CHIUSELLA              & PIE-001179-900 & POINT (7.79806 45.42) &  260\\\\\n",
       "\t PIVERONE LAGO                  & PIE-001196-900 & POINT (8.03361 45.43056) &  230\\\\\n",
       "\t PIVERONE LAGO                  & PIE-001196-900 & POINT (8.03361 45.43056) &  230\\\\\n",
       "\t POIRINO BANNA                  & PIE-001197-900 & POINT (7.82972 44.92389) &  237\\\\\n",
       "\t POIRINO BANNA                  & PIE-001197-900 & POINT (7.82972 44.92389) &  237\\\\\n",
       "\t PRAGELATO - TRAMPOLINO A VALLE & PIE-001201-902 & POINT (6.94139 45.00889) & 1525\\\\\n",
       "\t PRAGELATO - TRAMPOLINO A VALLE & PIE-001201-902 & POINT (6.94139 45.00889) & 1525\\\\\n",
       "\t ALAGNA                         & PIE-002002-901 & POINT (7.93611 45.87444) & 1347\\\\\n",
       "\t ALAGNA                         & PIE-002002-901 & POINT (7.93611 45.87444) & 1347\\\\\n",
       "\t MACUGNAGA RIFUGIO ZAMBONI      & PIE-003086-906 & POINT (7.91694 45.95139) & 2075\\\\\n",
       "\t MACUGNAGA RIFUGIO ZAMBONI      & PIE-003086-906 & POINT (7.91694 45.95139) & 2075\\\\\n",
       "\t BRA                            & PIE-004029-900 & POINT (7.85167 44.70111) &  298\\\\\n",
       "\t BRA                            & PIE-004029-900 & POINT (7.85167 44.70111) &  298\\\\\n",
       "\t CUNEO CAMERA COMMERCIO         & PIE-004078-901 & POINT (7.54722 44.38806) &  550\\\\\n",
       "\t CUNEO CAMERA COMMERCIO         & PIE-004078-901 & POINT (7.54722 44.38806) &  550\\\\\n",
       "\t MONVISO FINO 2010              & PIE-004172-901 & POINT (7.08827 44.66025) & 3325\\\\\n",
       "\t MONVISO                        & PIE-004172-901 & POINT (7.08827 44.66025) & 3325\\\\\n",
       "\\end{tabular}\n"
      ],
      "text/markdown": [
       "\n",
       "A sf: 26 x 4\n",
       "\n",
       "| denominazione &lt;chr&gt; | id_punto_misura &lt;chr&gt; | geometry &lt;POINT [arc_degree]&gt; | quota_stazione &lt;int&gt; |\n",
       "|---|---|---|---|\n",
       "| BALME                          | PIE-001019-901 | POINT (7.22194 45.3025) | 1410 |\n",
       "| BALME                          | PIE-001019-901 | POINT (7.22194 45.3025) | 1410 |\n",
       "| BARDONECCHIA PRANUDIN          | PIE-001022-905 | POINT (6.70803 45.10627) | 2045 |\n",
       "| BARDONECCHIA PRANUDIN          | PIE-001022-905 | POINT (6.70803 45.10627) | 2045 |\n",
       "| CERESOLE VILLA                 | PIE-001073-901 | POINT (7.21083 45.44028) | 1581 |\n",
       "| CERESOLE VILLA                 | PIE-001073-901 | POINT (7.21083 45.44028) | 1581 |\n",
       "| BEAULARD DORA DI BARDONECCHIA  | PIE-001175-902 | POINT (6.75806 45.04667) | 1149 |\n",
       "| BEAULARD DORA DI BARDONECCHIA  | PIE-001175-902 | POINT (6.75806 45.04667) | 1149 |\n",
       "| PARELLA CHIUSELLA              | PIE-001179-900 | POINT (7.79806 45.42) |  260 |\n",
       "| PARELLA CHIUSELLA              | PIE-001179-900 | POINT (7.79806 45.42) |  260 |\n",
       "| PIVERONE LAGO                  | PIE-001196-900 | POINT (8.03361 45.43056) |  230 |\n",
       "| PIVERONE LAGO                  | PIE-001196-900 | POINT (8.03361 45.43056) |  230 |\n",
       "| POIRINO BANNA                  | PIE-001197-900 | POINT (7.82972 44.92389) |  237 |\n",
       "| POIRINO BANNA                  | PIE-001197-900 | POINT (7.82972 44.92389) |  237 |\n",
       "| PRAGELATO - TRAMPOLINO A VALLE | PIE-001201-902 | POINT (6.94139 45.00889) | 1525 |\n",
       "| PRAGELATO - TRAMPOLINO A VALLE | PIE-001201-902 | POINT (6.94139 45.00889) | 1525 |\n",
       "| ALAGNA                         | PIE-002002-901 | POINT (7.93611 45.87444) | 1347 |\n",
       "| ALAGNA                         | PIE-002002-901 | POINT (7.93611 45.87444) | 1347 |\n",
       "| MACUGNAGA RIFUGIO ZAMBONI      | PIE-003086-906 | POINT (7.91694 45.95139) | 2075 |\n",
       "| MACUGNAGA RIFUGIO ZAMBONI      | PIE-003086-906 | POINT (7.91694 45.95139) | 2075 |\n",
       "| BRA                            | PIE-004029-900 | POINT (7.85167 44.70111) |  298 |\n",
       "| BRA                            | PIE-004029-900 | POINT (7.85167 44.70111) |  298 |\n",
       "| CUNEO CAMERA COMMERCIO         | PIE-004078-901 | POINT (7.54722 44.38806) |  550 |\n",
       "| CUNEO CAMERA COMMERCIO         | PIE-004078-901 | POINT (7.54722 44.38806) |  550 |\n",
       "| MONVISO FINO 2010              | PIE-004172-901 | POINT (7.08827 44.66025) | 3325 |\n",
       "| MONVISO                        | PIE-004172-901 | POINT (7.08827 44.66025) | 3325 |\n",
       "\n"
      ],
      "text/plain": [
       "   denominazione                  id_punto_misura geometry                \n",
       "1  BALME                          PIE-001019-901  POINT (7.22194 45.3025) \n",
       "2  BALME                          PIE-001019-901  POINT (7.22194 45.3025) \n",
       "3  BARDONECCHIA PRANUDIN          PIE-001022-905  POINT (6.70803 45.10627)\n",
       "4  BARDONECCHIA PRANUDIN          PIE-001022-905  POINT (6.70803 45.10627)\n",
       "5  CERESOLE VILLA                 PIE-001073-901  POINT (7.21083 45.44028)\n",
       "6  CERESOLE VILLA                 PIE-001073-901  POINT (7.21083 45.44028)\n",
       "7  BEAULARD DORA DI BARDONECCHIA  PIE-001175-902  POINT (6.75806 45.04667)\n",
       "8  BEAULARD DORA DI BARDONECCHIA  PIE-001175-902  POINT (6.75806 45.04667)\n",
       "9  PARELLA CHIUSELLA              PIE-001179-900  POINT (7.79806 45.42)   \n",
       "10 PARELLA CHIUSELLA              PIE-001179-900  POINT (7.79806 45.42)   \n",
       "11 PIVERONE LAGO                  PIE-001196-900  POINT (8.03361 45.43056)\n",
       "12 PIVERONE LAGO                  PIE-001196-900  POINT (8.03361 45.43056)\n",
       "13 POIRINO BANNA                  PIE-001197-900  POINT (7.82972 44.92389)\n",
       "14 POIRINO BANNA                  PIE-001197-900  POINT (7.82972 44.92389)\n",
       "15 PRAGELATO - TRAMPOLINO A VALLE PIE-001201-902  POINT (6.94139 45.00889)\n",
       "16 PRAGELATO - TRAMPOLINO A VALLE PIE-001201-902  POINT (6.94139 45.00889)\n",
       "17 ALAGNA                         PIE-002002-901  POINT (7.93611 45.87444)\n",
       "18 ALAGNA                         PIE-002002-901  POINT (7.93611 45.87444)\n",
       "19 MACUGNAGA RIFUGIO ZAMBONI      PIE-003086-906  POINT (7.91694 45.95139)\n",
       "20 MACUGNAGA RIFUGIO ZAMBONI      PIE-003086-906  POINT (7.91694 45.95139)\n",
       "21 BRA                            PIE-004029-900  POINT (7.85167 44.70111)\n",
       "22 BRA                            PIE-004029-900  POINT (7.85167 44.70111)\n",
       "23 CUNEO CAMERA COMMERCIO         PIE-004078-901  POINT (7.54722 44.38806)\n",
       "24 CUNEO CAMERA COMMERCIO         PIE-004078-901  POINT (7.54722 44.38806)\n",
       "25 MONVISO FINO 2010              PIE-004172-901  POINT (7.08827 44.66025)\n",
       "26 MONVISO                        PIE-004172-901  POINT (7.08827 44.66025)\n",
       "   quota_stazione\n",
       "1  1410          \n",
       "2  1410          \n",
       "3  2045          \n",
       "4  2045          \n",
       "5  1581          \n",
       "6  1581          \n",
       "7  1149          \n",
       "8  1149          \n",
       "9   260          \n",
       "10  260          \n",
       "11  230          \n",
       "12  230          \n",
       "13  237          \n",
       "14  237          \n",
       "15 1525          \n",
       "16 1525          \n",
       "17 1347          \n",
       "18 1347          \n",
       "19 2075          \n",
       "20 2075          \n",
       "21  298          \n",
       "22  298          \n",
       "23  550          \n",
       "24  550          \n",
       "25 3325          \n",
       "26 3325          "
      ]
     },
     "metadata": {},
     "output_type": "display_data"
    }
   ],
   "source": [
    "metadata |>\n",
    "    group_by(id_punto_misura) |>\n",
    "    filter(n() > 1) |>\n",
    "    select(denominazione, id_punto_misura, geometry, quota_stazione)\n"
   ]
  },
  {
   "cell_type": "code",
   "execution_count": 26,
   "metadata": {
    "vscode": {
     "languageId": "r"
    }
   },
   "outputs": [],
   "source": [
    "metadata |>\n",
    "    arrange(data_inizio_sensore) |>\n",
    "    group_by(id_punto_misura) |>\n",
    "    slice_tail() |>\n",
    "    rename(identifier = id_punto_misura, elevation = quota_stazione, anagrafica = denominazione) |>\n",
    "    write_sf(file.path(path.piemonte, \"metadata_deduped.geojson\"))\n"
   ]
  },
  {
   "cell_type": "code",
   "execution_count": null,
   "metadata": {
    "vscode": {
     "languageId": "r"
    }
   },
   "outputs": [],
   "source": []
  }
 ],
 "metadata": {
  "kernelspec": {
   "display_name": "R",
   "language": "R",
   "name": "ir"
  },
  "language_info": {
   "codemirror_mode": "r",
   "file_extension": ".r",
   "mimetype": "text/x-r-source",
   "name": "R",
   "pygments_lexer": "r",
   "version": "4.3.2"
  }
 },
 "nbformat": 4,
 "nbformat_minor": 2
}
