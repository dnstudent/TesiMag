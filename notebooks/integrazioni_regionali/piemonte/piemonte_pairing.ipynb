{
 "cells": [
  {
   "cell_type": "code",
   "execution_count": null,
   "metadata": {
    "vscode": {
     "languageId": "r"
    }
   },
   "outputs": [],
   "source": [
    "setwd(fs::path_abs(\"~/Local_Workspace/TesiMag\"))\n",
    "library(ggplot2, warn.conflicts = FALSE)\n",
    "library(arrow, warn.conflicts = FALSE)\n",
    "library(sf, warn.conflicts = FALSE)\n",
    "library(zeallot, warn.conflicts = FALSE)\n",
    "library(stars, warn.conflicts = FALSE)\n",
    "\n",
    "source(\"src/paths/paths.R\")\n",
    "source(\"src/load/load.R\")\n",
    "source(\"src/analysis/data/clim_availability.R\")\n",
    "source(\"notebooks/integrazioni_regionali/nb_tools/state_avail.R\")\n",
    "source(\"notebooks/integrazioni_regionali/nb_tools/pairing_procedure.R\")\n",
    "\n",
    "options(repr.plot.width = 9, repr.plot.res = 300)\n",
    "path.piemonte <- file.path(path.ds, \"ARPA\", \"PIEMONTE\")\n",
    "path.arpa.metadata <- file.path(path.piemonte, \"metadata_deduped.geojson\")\n",
    "path.arpa.data <- file.path(path.piemonte, \"dataset\")\n",
    "dem <- read_stars(\"temp/dem/dem30.tif\")\n"
   ]
  },
  {
   "cell_type": "code",
   "execution_count": null,
   "metadata": {
    "vscode": {
     "languageId": "r"
    }
   },
   "outputs": [],
   "source": [
    "arpa.metadata <- read_sf(path.arpa.metadata) |> prepare_metadata(dem)\n",
    "arpa.metadata <- bind_rows(T_MAX = arpa.metadata, T_MIN = arpa.metadata, .id = \"variable\")\n",
    "arpa.ds <- open_dataset(path.arpa.data, format = \"feather\") |> select(-tclasse)\n",
    "scia.metadata <- open.dataset(\"SCIA\", \"metadata\") |> filter(state == \"Piemonte\")\n",
    "scia.ds <- open.dataset(\"SCIA\", \"data\") |> semi_join(scia.metadata, by = \"identifier\")\n",
    "scia.metadata <- collect(scia.metadata) |>\n",
    "    st_md_to_sf() |>\n",
    "    prepare_metadata(dem)\n"
   ]
  },
  {
   "cell_type": "code",
   "execution_count": null,
   "metadata": {
    "vscode": {
     "languageId": "r"
    }
   },
   "outputs": [],
   "source": [
    "plot_state_avail(bind_rows(\n",
    "    ARPA = arpa.ds |> collect(),\n",
    "    SCIA = scia.ds |> mutate(identifier = cast(identifier, utf8())) |> collect(),\n",
    "    .id = \"db\"\n",
    "))\n"
   ]
  },
  {
   "cell_type": "code",
   "execution_count": null,
   "metadata": {
    "vscode": {
     "languageId": "r"
    }
   },
   "outputs": [],
   "source": [
    "scia.metadata <- scia.metadata |>\n",
    "    group_by(variable, anagrafica) |>\n",
    "    arrange(first_date, .by_group = TRUE) |>\n",
    "    slice_tail() |>\n",
    "    ungroup()\n",
    "matches <- matches_table(scia.metadata, arpa.metadata, dist_km = 0.5)\n"
   ]
  },
  {
   "cell_type": "code",
   "execution_count": null,
   "metadata": {
    "vscode": {
     "languageId": "r"
    }
   },
   "outputs": [],
   "source": [
    "matches |>\n",
    "    filter((anagrafica.x != str_remove_all(anagrafica.y, \"'\") & (anagrafica.x != comune))) |>\n",
    "    select(starts_with(\"anag\"), rete, comune, variable)\n"
   ]
  },
  {
   "cell_type": "code",
   "execution_count": null,
   "metadata": {
    "vscode": {
     "languageId": "r"
    }
   },
   "outputs": [],
   "source": [
    "c(data.scia.tmax, data.scia.tmin) %<-% (open.dataset(\"SCIA\", \"data\") |>\n",
    "    widen_split_data(matches, identifier.x))\n",
    "\n",
    "c(data.arpa.tmax, data.arpa.tmin) %<-% (arpa.ds |>\n",
    "    widen_split_data(matches, identifier.y))\n"
   ]
  },
  {
   "cell_type": "code",
   "execution_count": null,
   "metadata": {
    "vscode": {
     "languageId": "r"
    }
   },
   "outputs": [],
   "source": [
    "diffs <- compute_diffs(matches |> filter(variable == \"T_MIN\"), data.scia.tmin, data.arpa.tmin)\n"
   ]
  },
  {
   "cell_type": "code",
   "execution_count": null,
   "metadata": {
    "vscode": {
     "languageId": "r"
    }
   },
   "outputs": [],
   "source": [
    "thresh <- c(0.01, 0.05, 0.1, 0.5, 0.9, 0.95, 0.99)\n",
    "diffs |> reframe(diffs = quantile(diffs, probs = thresh, na.rm = TRUE), quant = thresh)\n"
   ]
  },
  {
   "cell_type": "code",
   "execution_count": null,
   "metadata": {
    "vscode": {
     "languageId": "r"
    }
   },
   "outputs": [],
   "source": [
    "scia.metadata |>\n",
    "    select(variable, rete, anagrafica, identifier, ends_with(\"date\")) |>\n",
    "    slice_head(n = 10)\n"
   ]
  },
  {
   "cell_type": "code",
   "execution_count": null,
   "metadata": {
    "vscode": {
     "languageId": "r"
    }
   },
   "outputs": [],
   "source": [
    "diffs |>\n",
    "    left_join(scia.metadata |> filter(variable == \"T_MAX\") |> select(identifier, rete, anagrafica) |> mutate(identifier = as.character(identifier)), by = join_by(identifier.x == identifier)) |>\n",
    "    filter(abs(diffs) > 3)\n"
   ]
  },
  {
   "cell_type": "code",
   "execution_count": null,
   "metadata": {
    "vscode": {
     "languageId": "r"
    }
   },
   "outputs": [],
   "source": [
    "analysis <- build_analysis(matches, data.scia.tmin, data.scia.tmax, data.arpa.tmin, data.arpa.tmax)\n"
   ]
  },
  {
   "cell_type": "code",
   "execution_count": null,
   "metadata": {
    "vscode": {
     "languageId": "r"
    }
   },
   "outputs": [],
   "source": [
    "analysis |> sensible_columns()\n"
   ]
  },
  {
   "cell_type": "code",
   "execution_count": null,
   "metadata": {
    "vscode": {
     "languageId": "r"
    }
   },
   "outputs": [],
   "source": [
    "arpa.data <- collect(arpa.ds) |> as_tsibble(index = date, key = c(\"identifier\", \"variable\"))\n"
   ]
  },
  {
   "cell_type": "code",
   "execution_count": null,
   "metadata": {
    "vscode": {
     "languageId": "r"
    }
   },
   "outputs": [],
   "source": [
    "clim_availablility <- is_climatology_computable(arpa.data |> group_by_key(), value, as.Date(\"2000-01-01\"), as.Date(\"2022-12-31\"))\n",
    "plot_clim_availability(clim_availablility, arpa.metadata) + theme(title = text(\"From 2000-01-01\"))"
   ]
  },
  {
   "cell_type": "code",
   "execution_count": null,
   "metadata": {
    "vscode": {
     "languageId": "r"
    }
   },
   "outputs": [],
   "source": [
    "n_available_series(arpa.data, as.Date(\"2000-01-01\"), as.Date(\"2022-12-31\"))"
   ]
  },
  {
   "cell_type": "code",
   "execution_count": null,
   "metadata": {
    "vscode": {
     "languageId": "r"
    }
   },
   "outputs": [],
   "source": [
    "n_available_series(arpa.data, as.Date(\"2002-01-01\"), as.Date(\"2022-12-31\"))"
   ]
  },
  {
   "cell_type": "code",
   "execution_count": null,
   "metadata": {
    "vscode": {
     "languageId": "r"
    }
   },
   "outputs": [],
   "source": []
  },
  {
   "cell_type": "code",
   "execution_count": null,
   "metadata": {
    "vscode": {
     "languageId": "r"
    }
   },
   "outputs": [],
   "source": [
    "scia.internal_matches <- matches_table(scia.metadata, scia.metadata, dist_km = 0.5) |>\n",
    "    filter(identifier.x > identifier.y) |>\n",
    "    mutate(match_id = row_number())\n"
   ]
  },
  {
   "cell_type": "code",
   "execution_count": null,
   "metadata": {
    "vscode": {
     "languageId": "r"
    }
   },
   "outputs": [],
   "source": [
    "scia.analysis <- build_analysis(\n",
    "    scia.internal_matches |>\n",
    "        mutate(across(starts_with(\"identi\"), ~ as.character(.))) |>\n",
    "        select(starts_with(\"identif\"), starts_with(\"anag\"), starts_with(\"elev\"), variable, starts_with(\"dem\"), distance, match_id),\n",
    "    data.scia.tmin, data.scia.tmax, data.scia.tmin, data.scia.tmax\n",
    ")\n"
   ]
  },
  {
   "cell_type": "code",
   "execution_count": null,
   "metadata": {
    "vscode": {
     "languageId": "r"
    }
   },
   "outputs": [],
   "source": [
    "scia.analysis |> sensible_columns()\n"
   ]
  },
  {
   "cell_type": "code",
   "execution_count": null,
   "metadata": {
    "vscode": {
     "languageId": "r"
    }
   },
   "outputs": [],
   "source": [
    "scia.merged.tmin <- update_left(scia.analysis |> filter(variable == \"T_MIN\"), data.scia.tmin, data.scia.tmin) |> left_join(scia.internal_matches |> select(variable, starts_with(\"identif\"), match_id) |> mutate(match_id = as.character(match_id)), by = \"match_id\", relationship = \"many-to-one\")\n",
    "scia.merged.tmax <- update_left(scia.analysis |> filter(variable == \"T_MAX\"), data.scia.tmax, data.scia.tmax) |>\n",
    "    left_join(scia.internal_matches |> select(variable, starts_with(\"identif\"), match_id) |> mutate(match_id = as.character(match_id)), by = \"match_id\", relationship = \"many-to-one\")\n"
   ]
  },
  {
   "cell_type": "code",
   "execution_count": null,
   "metadata": {
    "vscode": {
     "languageId": "r"
    }
   },
   "outputs": [],
   "source": [
    "scia.merged.tmin |> filter(from.dpc)\n"
   ]
  },
  {
   "cell_type": "code",
   "execution_count": null,
   "metadata": {
    "vscode": {
     "languageId": "r"
    }
   },
   "outputs": [],
   "source": [
    "scia.merged.tmin |>\n",
    "    filter(match_id < 50) |>\n",
    "    ggplot(aes(date, value, color = from.dpc)) +\n",
    "    geom_line()\n"
   ]
  },
  {
   "cell_type": "code",
   "execution_count": null,
   "metadata": {
    "vscode": {
     "languageId": "r"
    }
   },
   "outputs": [],
   "source": [
    "arpa.internal_matches <- matches_table(arpa.metadata, arpa.metadata, dist_km = 0.01) |>\n",
    "    filter(data_inizio_sensore.x != data_inizio_sensore.y) |>\n",
    "    mutate(match_id = row_number())\n"
   ]
  },
  {
   "cell_type": "code",
   "execution_count": null,
   "metadata": {
    "vscode": {
     "languageId": "r"
    }
   },
   "outputs": [],
   "source": [
    "arpa.internal_matches |> select(starts_with(\"identi\"), starts_with(\"anag\"))\n"
   ]
  },
  {
   "cell_type": "code",
   "execution_count": null,
   "metadata": {
    "vscode": {
     "languageId": "r"
    }
   },
   "outputs": [],
   "source": []
  },
  {
   "cell_type": "code",
   "execution_count": null,
   "metadata": {
    "vscode": {
     "languageId": "r"
    }
   },
   "outputs": [],
   "source": [
    "arpa.ds |> rename(identifier.x = identifier) |> mutate(db.x = \"ARPA Piemonte\", )"
   ]
  },
  {
   "cell_type": "code",
   "execution_count": null,
   "metadata": {
    "vscode": {
     "languageId": "r"
    }
   },
   "outputs": [],
   "source": [
    "open_dataset(\"db/merged\", format = \"feather\")"
   ]
  },
  {
   "cell_type": "code",
   "execution_count": null,
   "metadata": {
    "vscode": {
     "languageId": "r"
    }
   },
   "outputs": [],
   "source": [
    "write_arpa_for_merge(arpa.ds |> collect(), \"Piemonte\")"
   ]
  },
  {
   "cell_type": "code",
   "execution_count": null,
   "metadata": {
    "vscode": {
     "languageId": "r"
    }
   },
   "outputs": [],
   "source": []
  }
 ],
 "metadata": {
  "kernelspec": {
   "display_name": "R",
   "language": "R",
   "name": "ir"
  },
  "language_info": {
   "codemirror_mode": "r",
   "file_extension": ".r",
   "mimetype": "text/x-r-source",
   "name": "R",
   "pygments_lexer": "r",
   "version": "4.3.2"
  }
 },
 "nbformat": 4,
 "nbformat_minor": 2
}
