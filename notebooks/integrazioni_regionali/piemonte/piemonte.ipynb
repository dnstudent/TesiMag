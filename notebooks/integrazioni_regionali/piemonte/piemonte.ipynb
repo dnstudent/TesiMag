{
    "cells": [
        {
            "cell_type": "markdown",
            "metadata": {},
            "source": [
                "# Dataset ARPA Piemonte\n",
                "Registrazione delle misure recuperate dal database di ARPA Piemonte.\n",
                "\n",
                "La procedura si articola nei seguenti passaggi:\n",
                "1. [caricamento dei dati grezzi](#caricamento-da-frammenti) e uniformazione negli schemi esposti sotto;\n",
                "1. [primo quality check](#quality-check): controllo errori di consistenza nella singola serie e nelle coppie di serie della stessa stazione;\n",
                "1. [overview disponibilità dati](#overview-disponibilità-dati): plot che mostrano la disponibilità temporale e spaziale di serie;\n",
                "1. [merging](#merging) del dataset con SCIA.\n",
                "\n",
                "## Data model\n",
                "### Metadati\n",
                "| station_id | station_name | network | state | lon    | lat    | elevation | dataset_id | original_id |\n",
                "|------------|--------------|---------|-------|--------|--------|-----------|------------|-------------|\n",
                "| utf8()     | utf8()       | utf8()  | utf8()|double()|double()| double()  | utf8()     | utf8()      |\n",
                "| pkey       | obs          | obs     | obs   | obs    | obs    | obs       | fkey       | obs         |\n",
                "\n",
                "I metadati delle stazioni che non rientrano nelle tabelle elencate vanno in una tabella \"extra\" collegata tramite \"station_id\".\n",
                "\n",
                "### Dati\n",
                "|series_id|date|value|merged|variable|\n",
                "|---------|----|-----|------|--------|\n",
                "|utf8()|date()|double()|bool()|utf8()|\n",
                "| fkey    |obs | obs | obs  | obs    |\n",
                "\n",
                "Note:\n",
                "- `merged` indica se il valore in riga è il risultato di un merge.\n"
            ]
        },
        {
            "cell_type": "code",
            "execution_count": null,
            "metadata": {
                "vscode": {
                    "languageId": "r"
                }
            },
            "outputs": [],
            "source": [
                "dataset_id <- \"ARPAPiemonte\"\n",
                "state <- \"Piemonte\"\n"
            ]
        },
        {
            "cell_type": "code",
            "execution_count": null,
            "metadata": {
                "vscode": {
                    "languageId": "r"
                }
            },
            "outputs": [],
            "source": [
                "setwd(fs::path_abs(\"~/Local_Workspace/TesiMag\"))\n",
                "library(arrow, warn.conflicts = FALSE)\n",
                "library(dplyr, warn.conflicts = FALSE)\n",
                "library(zeallot, warn.conflicts = FALSE)\n",
                "library(stringr, warn.conflicts = FALSE)\n",
                "options(repr.plot.width = 9, repr.plot.res = 300)\n",
                "\n",
                "source(str_glue(\"notebooks/integrazioni_regionali/{str_to_lower(state)}/procedures/load_daily.R\"))\n",
                "source(str_glue(\"notebooks/integrazioni_regionali/{str_to_lower(state)}/procedures/match_taggers.R\"))\n",
                "source(\"notebooks/integrazioni_regionali/procedure/common_steps.R\")\n",
                "source(\"notebooks/integrazioni_regionali/procedure/checkpoint.R\")\n",
                "source(\"notebooks/integrazioni_regionali/procedure/tools.R\")\n",
                "source(\"src/database/tools.R\")\n",
                "source(\"src/load/ITA.R\")\n",
                "\n",
                "first_date <- as.Date(\"2000-01-01\")\n",
                "last_date <- as.Date(\"2022-12-31\")\n",
                "state_boundaries <- load.italian_boundaries(\"state\") |> filter(shapeName == state)\n"
            ]
        },
        {
            "cell_type": "markdown",
            "metadata": {},
            "source": [
                "## Caricamento da frammenti\n",
                "Dati giornalieri come forniti dall'ente, in formato tabella Arrow\n"
            ]
        },
        {
            "cell_type": "code",
            "execution_count": null,
            "metadata": {
                "vscode": {
                    "languageId": "r"
                }
            },
            "outputs": [],
            "source": [
                "daily_dataset <- load_daily_data.() |> prepare_daily_data(first_date, last_date)\n",
                "checkpoint_database(daily_dataset$database, dataset_id, \"raw\")\n",
                "write_extra_metadata(daily_dataset$extra_meta, dataset_id, provisional = FALSE)\n",
                "rm(daily_dataset)\n",
                "gc()\n"
            ]
        },
        {
            "cell_type": "markdown",
            "metadata": {},
            "source": [
                "## Quality check\n",
                "Controllo gross errors, dati ripetuti, T_MIN >= T_MAX, serie intere"
            ]
        },
        {
            "cell_type": "code",
            "execution_count": null,
            "metadata": {
                "vscode": {
                    "languageId": "r"
                }
            },
            "outputs": [],
            "source": [
                "raw_database <- open_checkpoint(dataset_id, \"raw\")\n",
                "qc_database <- qc1(raw_database, stop_on_error = TRUE)\n",
                "\n",
                "checkpoint_database(qc_database, dataset_id, \"qc1\")\n",
                "rm(raw_database)\n",
                "rm(qc_database)\n",
                "gc()\n"
            ]
        },
        {
            "cell_type": "markdown",
            "metadata": {},
            "source": [
                "## Overview disponibilità dati\n",
                "Grafici che mostrano la disponibilità di serie mese per mese e sul territorio"
            ]
        },
        {
            "cell_type": "code",
            "execution_count": null,
            "metadata": {
                "vscode": {
                    "languageId": "r"
                }
            },
            "outputs": [],
            "source": [
                "qc_database <- open_checkpoint(dataset_id, \"qc1\")\n",
                "c(p, ymonthly_avail) %<-% ymonthly_availabilities(qc_database,\n",
                "    against = \"SCIA\",\n",
                "    region = state_boundaries,\n",
                "    chkp_id = \"qc1\",\n",
                "    start_date = first_date,\n",
                "    end_date = last_date\n",
                ")\n",
                "p\n"
            ]
        },
        {
            "cell_type": "code",
            "execution_count": null,
            "metadata": {
                "vscode": {
                    "languageId": "r"
                }
            },
            "outputs": [],
            "source": [
                "c(p, climats) %<-% spatial_availabilities(ymonthly_avail |> filter(dataset_id == !!dataset_id), qc_database$meta, state_boundaries)\n",
                "p\n"
            ]
        },
        {
            "cell_type": "code",
            "execution_count": null,
            "metadata": {
                "vscode": {
                    "languageId": "r"
                }
            },
            "outputs": [],
            "source": [
                "rm(qc_database)\n",
                "rm(ymonthly_avail)\n",
                "rm(climats)\n",
                "rm(p)\n",
                "gc()\n"
            ]
        },
        {
            "cell_type": "markdown",
            "metadata": {},
            "source": [
                "## Merging\n",
                "Gap-filling con altri dataset"
            ]
        },
        {
            "cell_type": "markdown",
            "metadata": {},
            "source": [
                "### Match stazioni\n",
                "Partendo dal file di analisi appena scritto preparo dei filtri che categorizzino il match.\n",
                "\n",
                "Le possibilità sono:\n",
                "- `tag_same_station`: il match indica una stessa stazione;\n",
                "- `tag_unusable`: il match è inutilizzabile;\n",
                "- `tag_pairable`: il match indica che le stazioni sono utilizzabili per fare gap-filling.\n",
                "\n",
                "Può essere che un match sia sulla stessa stazione ma che sia inutilizzabile; `tag_unusable` e `tag_pairable` invece si dovrebbero escludere vicendevolmente."
            ]
        },
        {
            "cell_type": "code",
            "execution_count": null,
            "metadata": {
                "vscode": {
                    "languageId": "r"
                }
            },
            "outputs": [],
            "source": [
                "qc_state <- open_checkpoint(dataset_id, \"qc1\")\n",
                "qc_scia <- open_checkpoint(\"SCIA\", \"qc1\") |> filter_checkpoint_inside(state_boundaries)\n",
                "analysis_results <- perform_analysis(\n",
                "    qc_state,\n",
                "    qc_scia,\n",
                "    dist_km = , # 10,\n",
                "    first_date,\n",
                "    last_date,\n",
                "    str_to_lower(state),\n",
                "    list(\"same_station\" = tag_same_station, \"unusable\" = tag_unusable),\n",
                ")\n",
                "\n",
                "rm(qc_state)\n",
                "rm(qc_scia)\n",
                "gc()\n"
            ]
        },
        {
            "cell_type": "code",
            "execution_count": null,
            "metadata": {
                "vscode": {
                    "languageId": "r"
                }
            },
            "outputs": [],
            "source": [
                "analysis_results$analysis |>\n",
                "        group_by(same_station, unusable) |>\n",
                "        tally()\n",
                "filter(analysis_results$analysis, same_station) |>\n",
                "        group_by(station_id.x) |>\n",
                "        tally() |>\n",
                "        # filter(n > 4L | n < 2L)\n",
                "filter(analysis_results$analysis, same_station) |>\n",
                "        group_by(station_id.y) |>\n",
                "        tally() |>\n",
                "        # filter(n != 2L)\n"
            ]
        },
        {
            "cell_type": "code",
            "execution_count": null,
            "metadata": {
                "vscode": {
                    "languageId": "r"
                }
            },
            "outputs": [],
            "source": [
                "combination_results <- build_combined_database(analysis_results)\n",
                "checkpoint_database(combination_results$database, dataset_id, \"merged\")\n",
                "save_match_list(combination_results$match_list, dataset_id, \"merged\")\n"
            ]
        },
        {
            "cell_type": "code",
            "execution_count": null,
            "metadata": {
                "vscode": {
                    "languageId": "r"
                }
            },
            "outputs": [],
            "source": [
                "combined_database <- open_checkpoint(dataset_id, \"merged\")\n",
                "c(p, ymonthly_avail) %<-% ymonthly_availabilities(combined_database,\n",
                "    start_date = first_date,\n",
                "    end_date = last_date\n",
                ")\n",
                "p\n"
            ]
        },
        {
            "cell_type": "code",
            "execution_count": null,
            "metadata": {
                "vscode": {
                    "languageId": "r"
                }
            },
            "outputs": [],
            "source": [
                "c(p, climats) %<-% spatial_availabilities(ymonthly_avail |> filter(dataset_id == !!dataset_id), combined_database$meta, state_boundaries)\n",
                "p\n"
            ]
        },
        {
            "cell_type": "code",
            "execution_count": null,
            "metadata": {
                "vscode": {
                    "languageId": "r"
                }
            },
            "outputs": [],
            "source": [
                "rm(ymonthly_avail)\n",
                "rm(climats)\n",
                "gc()"
            ]
        }
    ],
    "metadata": {
        "kernelspec": {
            "display_name": "R",
            "language": "R",
            "name": "ir"
        },
        "language_info": {
            "codemirror_mode": "r",
            "file_extension": ".r",
            "mimetype": "text/x-r-source",
            "name": "R",
            "pygments_lexer": "r",
            "version": "4.3.2"
        }
    },
    "nbformat": 4,
    "nbformat_minor": 2
}
