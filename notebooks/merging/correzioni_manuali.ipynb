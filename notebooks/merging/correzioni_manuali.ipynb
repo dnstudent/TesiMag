{
 "cells": [
  {
   "cell_type": "code",
   "execution_count": 1,
   "metadata": {
    "vscode": {
     "languageId": "r"
    }
   },
   "outputs": [
    {
     "data": {
      "text/html": [
       "'C/UTF-8/C/C/C/C'"
      ],
      "text/latex": [
       "'C/UTF-8/C/C/C/C'"
      ],
      "text/markdown": [
       "'C/UTF-8/C/C/C/C'"
      ],
      "text/plain": [
       "[1] \"C/UTF-8/C/C/C/C\""
      ]
     },
     "metadata": {},
     "output_type": "display_data"
    }
   ],
   "source": [
    "setwd(fs::path_abs(\"~/Local_Workspace/TesiMag\"))\n",
    "Sys.setlocale(\"LC_ALL\", \"UTF-8\")\n",
    "library(dplyr, warn.conflicts = FALSE)\n",
    "library(openxlsx, warn.conflicts = FALSE)\n",
    "library(stringr, warn.conflicts = FALSE)\n",
    "library(stringi, warn.conflicts = FALSE)\n",
    "\n",
    "source(\"src/database/startup.R\")\n",
    "source(\"src/database/query/data.R\")\n",
    "\n",
    "conns <- load_dbs()\n"
   ]
  },
  {
   "cell_type": "code",
   "execution_count": 7,
   "metadata": {
    "vscode": {
     "languageId": "r"
    }
   },
   "outputs": [],
   "source": [
    "rg <- \"LOM\"\n",
    "meta <- query_checkpoint_meta(rg, \"merged\", conns$data) |> collect()\n",
    "corrections <- read.xlsx(fs::path(\"external\", \"correzioni\", paste0(rg, \".xlsx\"))) |>\n",
    "    mutate(name = stri_unescape_unicode(str_replace_all(name, regex(\"<U\\\\+(.{4})>\"), paste0(\"\\\\\\\\u\", \"\\\\1\"))))"
   ]
  },
  {
   "cell_type": "code",
   "execution_count": 3,
   "metadata": {
    "vscode": {
     "languageId": "r"
    }
   },
   "outputs": [
    {
     "name": "stderr",
     "output_type": "stream",
     "text": [
      "Warning message in cbind(parts$left, chars$ellip_h, parts$right, deparse.level = 0L):\n",
      "“number of rows of result is not a multiple of vector length (arg 2)”\n",
      "Warning message in cbind(parts$left, chars$ellip_h, parts$right, deparse.level = 0L):\n",
      "“number of rows of result is not a multiple of vector length (arg 2)”\n",
      "Warning message in cbind(parts$left, chars$ellip_h, parts$right, deparse.level = 0L):\n",
      "“number of rows of result is not a multiple of vector length (arg 2)”\n"
     ]
    },
    {
     "name": "stderr",
     "output_type": "stream",
     "text": [
      "Warning message in cbind(parts$left, chars$ellip_h, parts$right, deparse.level = 0L):\n",
      "“number of rows of result is not a multiple of vector length (arg 2)”\n"
     ]
    },
    {
     "data": {
      "text/html": [
       "<table class=\"dataframe\">\n",
       "<caption>A data.frame: 0 x 26</caption>\n",
       "<thead>\n",
       "\t<tr><th scope=col>name.x</th><th scope=col>from_sensor_keys</th><th scope=col>from_datasets</th><th scope=col>sensor_key</th><th scope=col>sensor_id</th><th scope=col>station_key</th><th scope=col>station_id</th><th scope=col>name.y</th><th scope=col>network</th><th scope=col>town</th><th scope=col>...</th><th scope=col>lon</th><th scope=col>lat</th><th scope=col>elevation</th><th scope=col>elevation_glo30</th><th scope=col>series_id</th><th scope=col>dataset</th><th scope=col>series_first</th><th scope=col>series_last</th><th scope=col>valid_days</th><th scope=col>valid90</th></tr>\n",
       "\t<tr><th scope=col>&lt;chr&gt;</th><th scope=col>&lt;list&gt;</th><th scope=col>&lt;list&gt;</th><th scope=col>&lt;int&gt;</th><th scope=col>&lt;chr&gt;</th><th scope=col>&lt;int&gt;</th><th scope=col>&lt;chr&gt;</th><th scope=col>&lt;chr&gt;</th><th scope=col>&lt;chr&gt;</th><th scope=col>&lt;chr&gt;</th><th scope=col>...</th><th scope=col>&lt;dbl&gt;</th><th scope=col>&lt;dbl&gt;</th><th scope=col>&lt;dbl&gt;</th><th scope=col>&lt;dbl&gt;</th><th scope=col>&lt;chr&gt;</th><th scope=col>&lt;chr&gt;</th><th scope=col>&lt;date&gt;</th><th scope=col>&lt;date&gt;</th><th scope=col>&lt;int&gt;</th><th scope=col>&lt;int&gt;</th></tr>\n",
       "</thead>\n",
       "<tbody>\n",
       "</tbody>\n",
       "</table>\n"
      ],
      "text/latex": [
       "A data.frame: 0 x 26\n",
       "\\begin{tabular}{lllllllllllllllllllll}\n",
       " name.x & from\\_sensor\\_keys & from\\_datasets & sensor\\_key & sensor\\_id & station\\_key & station\\_id & name.y & network & town & ... & lon & lat & elevation & elevation\\_glo30 & series\\_id & dataset & series\\_first & series\\_last & valid\\_days & valid90\\\\\n",
       " <chr> & <list> & <list> & <int> & <chr> & <int> & <chr> & <chr> & <chr> & <chr> & ... & <dbl> & <dbl> & <dbl> & <dbl> & <chr> & <chr> & <date> & <date> & <int> & <int>\\\\\n",
       "\\hline\n",
       "\\end{tabular}\n"
      ],
      "text/markdown": [
       "\n",
       "A data.frame: 0 x 26\n",
       "\n",
       "| name.x &lt;chr&gt; | from_sensor_keys &lt;list&gt; | from_datasets &lt;list&gt; | sensor_key &lt;int&gt; | sensor_id &lt;chr&gt; | station_key &lt;int&gt; | station_id &lt;chr&gt; | name.y &lt;chr&gt; | network &lt;chr&gt; | town &lt;chr&gt; | ... ... | lon &lt;dbl&gt; | lat &lt;dbl&gt; | elevation &lt;dbl&gt; | elevation_glo30 &lt;dbl&gt; | series_id &lt;chr&gt; | dataset &lt;chr&gt; | series_first &lt;date&gt; | series_last &lt;date&gt; | valid_days &lt;int&gt; | valid90 &lt;int&gt; |\n",
       "|---|---|---|---|---|---|---|---|---|---|---|---|---|---|---|---|---|---|---|---|---|\n",
       "\n"
      ],
      "text/plain": [
       "     name.x from_sensor_keys from_datasets sensor_key sensor_id station_key\n",
       "     station_id name.y network town ... lon lat elevation elevation_glo30\n",
       "     series_id dataset series_first series_last valid_days valid90"
      ]
     },
     "metadata": {},
     "output_type": "display_data"
    }
   ],
   "source": [
    "corrections |>\n",
    "    mutate(across(c(from_sensor_keys, from_datasets), ~ str_split(., fixed(\"*\"), simplify = FALSE))) |>\n",
    "    select(name, from_sensor_keys, from_datasets) |>\n",
    "    inner_join(meta, by = c(\"from_sensor_keys\", \"from_datasets\"))"
   ]
  },
  {
   "cell_type": "code",
   "execution_count": 11,
   "metadata": {
    "vscode": {
     "languageId": "r"
    }
   },
   "outputs": [
    {
     "data": {
      "text/html": [
       "<table class=\"dataframe\">\n",
       "<caption>A data.frame: 0 x 4</caption>\n",
       "<thead>\n",
       "\t<tr><th scope=col>name.now</th><th scope=col>name.manual</th><th scope=col>from_sensor_keys.now</th><th scope=col>from_sensor_keys.manual</th></tr>\n",
       "\t<tr><th scope=col>&lt;chr&gt;</th><th scope=col>&lt;chr&gt;</th><th scope=col>&lt;chr&gt;</th><th scope=col>&lt;chr&gt;</th></tr>\n",
       "</thead>\n",
       "<tbody>\n",
       "</tbody>\n",
       "</table>\n"
      ],
      "text/latex": [
       "A data.frame: 0 x 4\n",
       "\\begin{tabular}{llll}\n",
       " name.now & name.manual & from\\_sensor\\_keys.now & from\\_sensor\\_keys.manual\\\\\n",
       " <chr> & <chr> & <chr> & <chr>\\\\\n",
       "\\hline\n",
       "\\end{tabular}\n"
      ],
      "text/markdown": [
       "\n",
       "A data.frame: 0 x 4\n",
       "\n",
       "| name.now &lt;chr&gt; | name.manual &lt;chr&gt; | from_sensor_keys.now &lt;chr&gt; | from_sensor_keys.manual &lt;chr&gt; |\n",
       "|---|---|---|---|\n",
       "\n"
      ],
      "text/plain": [
       "     name.now name.manual from_sensor_keys.now from_sensor_keys.manual"
      ]
     },
     "metadata": {},
     "output_type": "display_data"
    }
   ],
   "source": [
    "meta |>\n",
    "    rowwise() |>\n",
    "    mutate(across(starts_with(\"from_\"), ~ paste0(., collapse=\"_\"))) |>\n",
    "    ungroup() |>\n",
    "    full_join(corrections, by = \"sensor_key\", suffix = c(\".now\", \".manual\")) |>\n",
    "    filter(from_datasets.now != from_datasets.manual | from_sensor_keys.now != from_sensor_keys.manual | is.na(from_sensor_keys.now) | is.na(from_sensor_keys.manual)) |>\n",
    "    select(name.now, name.manual, from_sensor_keys.now, from_sensor_keys.manual) |>\n",
    "    as.data.frame()"
   ]
  },
  {
   "cell_type": "code",
   "execution_count": null,
   "metadata": {
    "vscode": {
     "languageId": "r"
    }
   },
   "outputs": [],
   "source": []
  }
 ],
 "metadata": {
  "kernelspec": {
   "display_name": "R",
   "language": "R",
   "name": "ir"
  },
  "language_info": {
   "codemirror_mode": "r",
   "file_extension": ".r",
   "mimetype": "text/x-r-source",
   "name": "R",
   "pygments_lexer": "r",
   "version": "4.3.3"
  }
 },
 "nbformat": 4,
 "nbformat_minor": 4
}
