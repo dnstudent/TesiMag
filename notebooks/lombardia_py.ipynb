{
 "cells": [
  {
   "cell_type": "code",
   "execution_count": 13,
   "metadata": {},
   "outputs": [],
   "source": [
    "from pyarrow import csv\n",
    "import pyarrow as pa\n",
    "import pyarrow.compute as pc\n",
    "import pyarrow.dataset as ds"
   ]
  },
  {
   "cell_type": "code",
   "execution_count": 9,
   "metadata": {},
   "outputs": [],
   "source": [
    "table = csv.read_csv(\"~/Local_Workspace/Datasets/ARPA/LOMBARDIA/2013.csv\",\n",
    "    convert_options = csv.ConvertOptions(column_types={\n",
    "        \"IdSensore\": pa.uint32(),\n",
    "        \"Data\": pa.timestamp(unit = \"s\"),\n",
    "        \"Valore\": pa.float32(),\n",
    "        \"Stato\": pa.dictionary(pa.int32(), pa.utf8()),\n",
    "        \"idOperatore\": pa.utf8()\n",
    "    },\n",
    "    timestamp_parsers = [r\"%d/%m/%Y %H:%M:%S\", r\"%d/%m/%Y %H:%M:%S.000\"])\n",
    ")"
   ]
  },
  {
   "cell_type": "code",
   "execution_count": 14,
   "metadata": {},
   "outputs": [],
   "source": [
    "ds.write_dataset(table, \"dataset\", format = \"parquet\", partitioning=ds.partitioning(\n",
    "                    pa.schema([table.schema.field(\"IdSensore\")])\n",
    "                ))"
   ]
  },
  {
   "cell_type": "code",
   "execution_count": null,
   "metadata": {},
   "outputs": [],
   "source": []
  }
 ],
 "metadata": {
  "kernelspec": {
   "display_name": "geopy",
   "language": "python",
   "name": "python3"
  },
  "language_info": {
   "codemirror_mode": {
    "name": "ipython",
    "version": 3
   },
   "file_extension": ".py",
   "mimetype": "text/x-python",
   "name": "python",
   "nbconvert_exporter": "python",
   "pygments_lexer": "ipython3",
   "version": "3.11.6"
  }
 },
 "nbformat": 4,
 "nbformat_minor": 2
}
