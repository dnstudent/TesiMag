version https://git-lfs.github.com/spec/v1
oid sha256:345de8c4c8940eec9a7fbcb5f021ae253515e1d9d588a03249c48dd0b0a05885
size 27546
