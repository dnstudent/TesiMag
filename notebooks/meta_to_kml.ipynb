{
    "cells": [
        {
            "cell_type": "code",
            "execution_count": 1,
            "metadata": {
                "vscode": {
                    "languageId": "r"
                }
            },
            "outputs": [
                {
                    "name": "stderr",
                    "output_type": "stream",
                    "text": [
                        "Linking to GEOS 3.11.0, GDAL 3.5.3, PROJ 9.1.0; sf_use_s2() is TRUE\n",
                        "\n"
                    ]
                }
            ],
            "source": [
                "setwd(fs::path_abs(\"~/Local_Workspace/TesiMag\"))\n",
                "library(dplyr, warn.conflicts = FALSE)\n",
                "library(arrow, warn.conflicts = FALSE)\n",
                "\n",
                "source(\"notebooks/ds_regionali/procedure/common_steps.R\")\n",
                "source(\"src/database/query/data.R\")\n",
                "source(\"src/database/startup.R\")\n",
                "source(\"src/load/tools.R\")\n",
                "\n",
                "conns <- load_dbs()\n"
            ]
        },
        {
            "cell_type": "code",
            "execution_count": 2,
            "metadata": {
                "vscode": {
                    "languageId": "r"
                }
            },
            "outputs": [],
            "source": [
                "save_kml_orig <- function(data, key, base_path) {\n",
                "    # extra_meta <- dbReadTable(conns$stations, str_glue(\"extra_{key$dataset}\"))\n",
                "    extra_meta <- read_parquet(file.path(\"db\", \"extra\", \"metadata\", str_glue(\"{key$dataset}.parquet\")))\n",
                "    data <- data |> left_join(extra_meta |> select(!c(starts_with(\"url\"), starts_with(\"fk_id\"))), by = \"sensor_key\")\n",
                "    path <- file.path(base_path, key$reference_state, \"original\")\n",
                "    if (!dir.exists(path)) {\n",
                "        dir.create(path, recursive = TRUE)\n",
                "    }\n",
                "    data |> write.csv(file.path(path, paste0(key$dataset, \".csv\")), row.names = FALSE)\n",
                "    data |>\n",
                "        st_md_to_sf(remove = FALSE) |>\n",
                "        st_write(file.path(path, paste0(key$dataset, \".kml\")), append = FALSE)\n",
                "}\n",
                "\n",
                "save_kml_merged <- function(meta, key, base_path) {\n",
                "    path <- file.path(base_path, key$reference_state, \"original\")\n",
                "    if (!dir.exists(path)) {\n",
                "        dir.create(path, recursive = TRUE)\n",
                "    }\n",
                "    meta <- meta |> rowwise() |> mutate(across(starts_with(\"from_\"), ~ paste0(., collapse = \";\")))\n",
                "    meta |> write.csv(file.path(path, \"merged.csv\"), row.names = FALSE)\n",
                "    meta |>\n",
                "        st_md_to_sf(remove = FALSE) |>\n",
                "        st_write(file.path(path, \"merged.kml\"), append = FALSE)\n",
                "}\n"
            ]
        },
        {
            "cell_type": "code",
            "execution_count": 3,
            "metadata": {
                "vscode": {
                    "languageId": "r"
                }
            },
            "outputs": [],
            "source": [
                "regional_datasets <- tribble(\n",
                "    ~reference_state, ~original_dataset, ~merged_dataset,\n",
                "    \"Piemonte\" , \"ARPAPiemonte\", \"PIE\",\n",
                "    \"Liguria\" , \"ARPAL\", \"LIG\",\n",
                "    \"Lombardia\" , \"ARPALombardia\", \"LOM\",\n",
                "    # \"Veneto\" , \"ARPAV\", \"VEN\",\n",
                "    # \"Trentino-Alto Adige\" , \"TAA\", \"TAA2\",\n",
                "    \"Friuli-Venezia Giulia\" , \"ARPAFVG\", \"FVG\",\n",
                "    \"Emilia-Romagna\" , \"Dext3r\", \"ER\",\n",
                "    \"Toscana\" , \"SIRToscana\", \"TOS\",\n",
                "    # \"Umbria\" , \"ARPAUmbria\", \"UMB\",\n",
                "    \"Marche\" , \"ARPAM\", \"MAR\",\n",
                "    \"Valle D'Aosta\", NA_character_, \"VDA\"\n",
                ")\n"
            ]
        },
        {
            "cell_type": "code",
            "execution_count": 4,
            "metadata": {
                "vscode": {
                    "languageId": "r"
                }
            },
            "outputs": [
                {
                    "name": "stdout",
                    "output_type": "stream",
                    "text": [
                        "Writing layer `merged' to data source \n",
                        "  `/Users/davidenicoli/Local_Workspace/TesiMag/kml_metadata/Emilia-Romagna/original/merged.kml' using driver `KML'\n",
                        "Writing 405 features with 26 fields and geometry type Point.\n",
                        "Writing layer `merged' to data source \n",
                        "  `/Users/davidenicoli/Local_Workspace/TesiMag/kml_metadata/Friuli-Venezia Giulia/original/merged.kml' using driver `KML'\n",
                        "Writing 250 features with 26 fields and geometry type Point.\n",
                        "Writing layer `merged' to data source \n",
                        "  `/Users/davidenicoli/Local_Workspace/TesiMag/kml_metadata/Liguria/original/merged.kml' using driver `KML'\n",
                        "Writing 236 features with 26 fields and geometry type Point.\n",
                        "Writing layer `merged' to data source \n",
                        "  `/Users/davidenicoli/Local_Workspace/TesiMag/kml_metadata/Lombardia/original/merged.kml' using driver `KML'\n",
                        "Writing 352 features with 26 fields and geometry type Point.\n",
                        "Writing layer `merged' to data source \n",
                        "  `/Users/davidenicoli/Local_Workspace/TesiMag/kml_metadata/Marche/original/merged.kml' using driver `KML'\n",
                        "Writing 164 features with 26 fields and geometry type Point.\n",
                        "Writing layer `merged' to data source \n",
                        "  `/Users/davidenicoli/Local_Workspace/TesiMag/kml_metadata/Piemonte/original/merged.kml' using driver `KML'\n",
                        "Writing 330 features with 26 fields and geometry type Point.\n",
                        "Writing layer `merged' to data source \n",
                        "  `/Users/davidenicoli/Local_Workspace/TesiMag/kml_metadata/Toscana/original/merged.kml' using driver `KML'\n",
                        "Writing 413 features with 26 fields and geometry type Point.\n",
                        "Writing layer `merged' to data source \n",
                        "  `/Users/davidenicoli/Local_Workspace/TesiMag/kml_metadata/Valle D'Aosta/original/merged.kml' using driver `KML'\n",
                        "Writing 92 features with 26 fields and geometry type Point.\n"
                    ]
                }
            ],
            "source": [
                "query_checkpoint_meta(regional_datasets$merged_dataset, \"merged\", conns$data) |>\n",
                "    collect() |>\n",
                "    left_join(regional_datasets, by = c(\"dataset\" = \"merged_dataset\")) |>\n",
                "    group_by(reference_state) |>\n",
                "    group_walk(~ save_kml_merged(.x, .y, fs::path_abs(\"~/Local_Workspace/TesiMag/kml_metadata\")))"
            ]
        },
        {
            "cell_type": "code",
            "execution_count": 5,
            "metadata": {
                "vscode": {
                    "languageId": "r"
                }
            },
            "outputs": [
                {
                    "name": "stdout",
                    "output_type": "stream",
                    "text": [
                        "Writing layer `Dext3r' to data source \n",
                        "  `/Users/davidenicoli/Local_Workspace/TesiMag/kml_metadata/Emilia-Romagna/original/Dext3r.kml' using driver `KML'\n",
                        "Writing 623 features with 43 fields and geometry type Point.\n",
                        "Writing layer `ARPAFVG' to data source \n",
                        "  `/Users/davidenicoli/Local_Workspace/TesiMag/kml_metadata/Friuli-Venezia Giulia/original/ARPAFVG.kml' using driver `KML'\n",
                        "Writing 53 features with 27 fields and geometry type Point.\n",
                        "Writing layer `ARPAL' to data source \n",
                        "  `/Users/davidenicoli/Local_Workspace/TesiMag/kml_metadata/Liguria/original/ARPAL.kml' using driver `KML'\n",
                        "Writing 188 features with 27 fields and geometry type Point.\n"
                    ]
                },
                {
                    "name": "stderr",
                    "output_type": "stream",
                    "text": [
                        "Warning message in CPL_write_ogr(obj, dsn, layer, driver, as.character(dataset_options), :\n",
                        "\"GDAL Error 1: XML parsing of KML file failed : not well-formed (invalid token) at line 30, column 24\"\n"
                    ]
                },
                {
                    "name": "stdout",
                    "output_type": "stream",
                    "text": [
                        "Writing layer `ARPALombardia' to data source \n",
                        "  `/Users/davidenicoli/Local_Workspace/TesiMag/kml_metadata/Lombardia/original/ARPALombardia.kml' using driver `KML'\n",
                        "Writing 255 features with 31 fields and geometry type Point.\n",
                        "Writing layer `ARPAM' to data source \n",
                        "  `/Users/davidenicoli/Local_Workspace/TesiMag/kml_metadata/Marche/original/ARPAM.kml' using driver `KML'\n",
                        "Writing 157 features with 26 fields and geometry type Point.\n",
                        "Writing layer `ARPAPiemonte' to data source \n",
                        "  `/Users/davidenicoli/Local_Workspace/TesiMag/kml_metadata/Piemonte/original/ARPAPiemonte.kml' using driver `KML'\n",
                        "Writing 325 features with 35 fields and geometry type Point.\n",
                        "Writing layer `SIRToscana' to data source \n",
                        "  `/Users/davidenicoli/Local_Workspace/TesiMag/kml_metadata/Toscana/original/SIRToscana.kml' using driver `KML'\n",
                        "Writing 441 features with 33 fields and geometry type Point.\n"
                    ]
                }
            ],
            "source": [
                "query_checkpoint_meta(regional_datasets$original_dataset |> na.omit(), \"qc1\") |>\n",
                "    collect() |>\n",
                "    left_join(regional_datasets, by = c(\"dataset\" = \"original_dataset\")) |>\n",
                "    group_by(reference_state, dataset) |>\n",
                "    group_walk(~ save_kml_orig(.x, .y, fs::path_abs(\"~/Local_Workspace/TesiMag/kml_metadata\")))\n"
            ]
        },
        {
            "cell_type": "code",
            "execution_count": 6,
            "metadata": {
                "vscode": {
                    "languageId": "r"
                }
            },
            "outputs": [
                {
                    "name": "stdout",
                    "output_type": "stream",
                    "text": [
                        "Writing layer `ISAC' to data source \n",
                        "  `/Users/davidenicoli/Local_Workspace/TesiMag/kml_metadata/Abruzzo/original/ISAC.kml' using driver `KML'\n",
                        "Writing 186 features with 32 fields and geometry type Point.\n",
                        "Writing layer `SCIA' to data source \n",
                        "  `/Users/davidenicoli/Local_Workspace/TesiMag/kml_metadata/Abruzzo/original/SCIA.kml' using driver `KML'\n",
                        "Writing 151 features with 28 fields and geometry type Point.\n",
                        "Writing layer `ISAC' to data source \n",
                        "  `/Users/davidenicoli/Local_Workspace/TesiMag/kml_metadata/Basilicata/original/ISAC.kml' using driver `KML'\n",
                        "Writing 58 features with 32 fields and geometry type Point.\n",
                        "Writing layer `SCIA' to data source \n",
                        "  `/Users/davidenicoli/Local_Workspace/TesiMag/kml_metadata/Basilicata/original/SCIA.kml' using driver `KML'\n",
                        "Writing 62 features with 28 fields and geometry type Point.\n",
                        "Writing layer `ISAC' to data source \n",
                        "  `/Users/davidenicoli/Local_Workspace/TesiMag/kml_metadata/Calabria/original/ISAC.kml' using driver `KML'\n",
                        "Writing 114 features with 32 fields and geometry type Point.\n",
                        "Writing layer `SCIA' to data source \n",
                        "  `/Users/davidenicoli/Local_Workspace/TesiMag/kml_metadata/Calabria/original/SCIA.kml' using driver `KML'\n",
                        "Writing 159 features with 28 fields and geometry type Point.\n",
                        "Writing layer `ISAC' to data source \n",
                        "  `/Users/davidenicoli/Local_Workspace/TesiMag/kml_metadata/Campania/original/ISAC.kml' using driver `KML'\n",
                        "Writing 98 features with 32 fields and geometry type Point.\n",
                        "Writing layer `SCIA' to data source \n",
                        "  `/Users/davidenicoli/Local_Workspace/TesiMag/kml_metadata/Campania/original/SCIA.kml' using driver `KML'\n",
                        "Writing 131 features with 28 fields and geometry type Point.\n",
                        "Writing layer `ISAC' to data source \n",
                        "  `/Users/davidenicoli/Local_Workspace/TesiMag/kml_metadata/Emilia-Romagna/original/ISAC.kml' using driver `KML'\n",
                        "Writing 210 features with 32 fields and geometry type Point.\n",
                        "Writing layer `SCIA' to data source \n",
                        "  `/Users/davidenicoli/Local_Workspace/TesiMag/kml_metadata/Emilia-Romagna/original/SCIA.kml' using driver `KML'\n",
                        "Writing 435 features with 28 fields and geometry type Point.\n",
                        "Writing layer `ISAC' to data source \n",
                        "  `/Users/davidenicoli/Local_Workspace/TesiMag/kml_metadata/Friuli-Venezia Giulia/original/ISAC.kml' using driver `KML'\n",
                        "Writing 211 features with 32 fields and geometry type Point.\n",
                        "Writing layer `SCIA' to data source \n",
                        "  `/Users/davidenicoli/Local_Workspace/TesiMag/kml_metadata/Friuli-Venezia Giulia/original/SCIA.kml' using driver `KML'\n",
                        "Writing 206 features with 28 fields and geometry type Point.\n",
                        "Writing layer `ISAC' to data source \n",
                        "  `/Users/davidenicoli/Local_Workspace/TesiMag/kml_metadata/Lazio/original/ISAC.kml' using driver `KML'\n",
                        "Writing 186 features with 32 fields and geometry type Point.\n",
                        "Writing layer `SCIA' to data source \n",
                        "  `/Users/davidenicoli/Local_Workspace/TesiMag/kml_metadata/Lazio/original/SCIA.kml' using driver `KML'\n",
                        "Writing 188 features with 28 fields and geometry type Point.\n",
                        "Writing layer `ISAC' to data source \n",
                        "  `/Users/davidenicoli/Local_Workspace/TesiMag/kml_metadata/Liguria/original/ISAC.kml' using driver `KML'\n",
                        "Writing 200 features with 32 fields and geometry type Point.\n",
                        "Writing layer `SCIA' to data source \n",
                        "  `/Users/davidenicoli/Local_Workspace/TesiMag/kml_metadata/Liguria/original/SCIA.kml' using driver `KML'\n",
                        "Writing 255 features with 28 fields and geometry type Point.\n",
                        "Writing layer `ISAC' to data source \n",
                        "  `/Users/davidenicoli/Local_Workspace/TesiMag/kml_metadata/Lombardia/original/ISAC.kml' using driver `KML'\n",
                        "Writing 278 features with 32 fields and geometry type Point.\n",
                        "Writing layer `SCIA' to data source \n",
                        "  `/Users/davidenicoli/Local_Workspace/TesiMag/kml_metadata/Lombardia/original/SCIA.kml' using driver `KML'\n",
                        "Writing 197 features with 28 fields and geometry type Point.\n",
                        "Writing layer `ISAC' to data source \n",
                        "  `/Users/davidenicoli/Local_Workspace/TesiMag/kml_metadata/Marche/original/ISAC.kml' using driver `KML'\n",
                        "Writing 114 features with 32 fields and geometry type Point.\n",
                        "Writing layer `SCIA' to data source \n",
                        "  `/Users/davidenicoli/Local_Workspace/TesiMag/kml_metadata/Marche/original/SCIA.kml' using driver `KML'\n",
                        "Writing 132 features with 28 fields and geometry type Point.\n",
                        "Writing layer `ISAC' to data source \n",
                        "  `/Users/davidenicoli/Local_Workspace/TesiMag/kml_metadata/Molise/original/ISAC.kml' using driver `KML'\n",
                        "Writing 52 features with 32 fields and geometry type Point.\n",
                        "Writing layer `SCIA' to data source \n",
                        "  `/Users/davidenicoli/Local_Workspace/TesiMag/kml_metadata/Molise/original/SCIA.kml' using driver `KML'\n",
                        "Writing 40 features with 28 fields and geometry type Point.\n",
                        "Writing layer `ISAC' to data source \n",
                        "  `/Users/davidenicoli/Local_Workspace/TesiMag/kml_metadata/Piemonte/original/ISAC.kml' using driver `KML'\n",
                        "Writing 337 features with 32 fields and geometry type Point.\n",
                        "Writing layer `SCIA' to data source \n",
                        "  `/Users/davidenicoli/Local_Workspace/TesiMag/kml_metadata/Piemonte/original/SCIA.kml' using driver `KML'\n",
                        "Writing 351 features with 28 fields and geometry type Point.\n",
                        "Writing layer `ISAC' to data source \n",
                        "  `/Users/davidenicoli/Local_Workspace/TesiMag/kml_metadata/Puglia/original/ISAC.kml' using driver `KML'\n",
                        "Writing 178 features with 32 fields and geometry type Point.\n",
                        "Writing layer `SCIA' to data source \n",
                        "  `/Users/davidenicoli/Local_Workspace/TesiMag/kml_metadata/Puglia/original/SCIA.kml' using driver `KML'\n",
                        "Writing 38 features with 28 fields and geometry type Point.\n",
                        "Writing layer `ISAC' to data source \n",
                        "  `/Users/davidenicoli/Local_Workspace/TesiMag/kml_metadata/Sardegna/original/ISAC.kml' using driver `KML'\n",
                        "Writing 107 features with 32 fields and geometry type Point.\n",
                        "Writing layer `SCIA' to data source \n",
                        "  `/Users/davidenicoli/Local_Workspace/TesiMag/kml_metadata/Sardegna/original/SCIA.kml' using driver `KML'\n",
                        "Writing 636 features with 28 fields and geometry type Point.\n",
                        "Writing layer `ISAC' to data source \n",
                        "  `/Users/davidenicoli/Local_Workspace/TesiMag/kml_metadata/Sicilia/original/ISAC.kml' using driver `KML'\n",
                        "Writing 603 features with 32 fields and geometry type Point.\n",
                        "Writing layer `SCIA' to data source \n",
                        "  `/Users/davidenicoli/Local_Workspace/TesiMag/kml_metadata/Sicilia/original/SCIA.kml' using driver `KML'\n",
                        "Writing 352 features with 28 fields and geometry type Point.\n",
                        "Writing layer `ISAC' to data source \n",
                        "  `/Users/davidenicoli/Local_Workspace/TesiMag/kml_metadata/Toscana/original/ISAC.kml' using driver `KML'\n",
                        "Writing 371 features with 32 fields and geometry type Point.\n",
                        "Writing layer `SCIA' to data source \n",
                        "  `/Users/davidenicoli/Local_Workspace/TesiMag/kml_metadata/Toscana/original/SCIA.kml' using driver `KML'\n",
                        "Writing 243 features with 28 fields and geometry type Point.\n",
                        "Writing layer `ISAC' to data source \n",
                        "  `/Users/davidenicoli/Local_Workspace/TesiMag/kml_metadata/Trentino-Alto Adige/original/ISAC.kml' using driver `KML'\n",
                        "Writing 373 features with 32 fields and geometry type Point.\n",
                        "Writing layer `SCIA' to data source \n",
                        "  `/Users/davidenicoli/Local_Workspace/TesiMag/kml_metadata/Trentino-Alto Adige/original/SCIA.kml' using driver `KML'\n",
                        "Writing 246 features with 28 fields and geometry type Point.\n",
                        "Writing layer `ISAC' to data source \n",
                        "  `/Users/davidenicoli/Local_Workspace/TesiMag/kml_metadata/Umbria/original/ISAC.kml' using driver `KML'\n",
                        "Writing 79 features with 32 fields and geometry type Point.\n",
                        "Writing layer `SCIA' to data source \n",
                        "  `/Users/davidenicoli/Local_Workspace/TesiMag/kml_metadata/Umbria/original/SCIA.kml' using driver `KML'\n",
                        "Writing 80 features with 28 fields and geometry type Point.\n",
                        "Writing layer `ISAC' to data source \n",
                        "  `/Users/davidenicoli/Local_Workspace/TesiMag/kml_metadata/Unknown/original/ISAC.kml' using driver `KML'\n",
                        "Writing 74 features with 32 fields and geometry type Point.\n",
                        "Writing layer `SCIA' to data source \n",
                        "  `/Users/davidenicoli/Local_Workspace/TesiMag/kml_metadata/Unknown/original/SCIA.kml' using driver `KML'\n",
                        "Writing 62 features with 28 fields and geometry type Point.\n",
                        "Writing layer `ISAC' to data source \n",
                        "  `/Users/davidenicoli/Local_Workspace/TesiMag/kml_metadata/Valle D'Aosta/original/ISAC.kml' using driver `KML'\n",
                        "Writing 78 features with 32 fields and geometry type Point.\n",
                        "Writing layer `SCIA' to data source \n",
                        "  `/Users/davidenicoli/Local_Workspace/TesiMag/kml_metadata/Valle D'Aosta/original/SCIA.kml' using driver `KML'\n",
                        "Writing 96 features with 28 fields and geometry type Point.\n",
                        "Writing layer `ISAC' to data source \n",
                        "  `/Users/davidenicoli/Local_Workspace/TesiMag/kml_metadata/Veneto/original/ISAC.kml' using driver `KML'\n",
                        "Writing 236 features with 32 fields and geometry type Point.\n",
                        "Writing layer `SCIA' to data source \n",
                        "  `/Users/davidenicoli/Local_Workspace/TesiMag/kml_metadata/Veneto/original/SCIA.kml' using driver `KML'\n",
                        "Writing 320 features with 28 fields and geometry type Point.\n"
                    ]
                }
            ],
            "source": [
                "query_checkpoint_meta(c(\"SCIA\", \"ISAC\"), \"raw\") |>\n",
                "    collect() |>\n",
                "    mutate(reference_state = coalesce(state, \"Unknown\")) |>\n",
                "    group_by(reference_state, dataset) |>\n",
                "    group_walk(~ save_kml_orig(.x, .y, fs::path_abs(\"~/Local_Workspace/TesiMag/kml_metadata\")))"
            ]
        },
        {
            "cell_type": "code",
            "execution_count": 10,
            "metadata": {
                "vscode": {
                    "languageId": "r"
                }
            },
            "outputs": [
                {
                    "ename": "ERROR",
                    "evalue": "\u001b[1m\u001b[33mError\u001b[39m in `open_dataset()`:\u001b[22m\n\u001b[33m!\u001b[39m IOError: Error creating dataset. Could not read schema from '/Users/davidenicoli/Local_Workspace/TesiMag/db/metadata/qc1/SCIA'. Is this a 'parquet' file?: Cannot open for reading: path '/Users/davidenicoli/Local_Workspace/TesiMag/db/metadata/qc1/SCIA' is a directory\n",
                    "output_type": "error",
                    "traceback": [
                        "\u001b[1m\u001b[33mError\u001b[39m in `open_dataset()`:\u001b[22m\n\u001b[33m!\u001b[39m IOError: Error creating dataset. Could not read schema from '/Users/davidenicoli/Local_Workspace/TesiMag/db/metadata/qc1/SCIA'. Is this a 'parquet' file?: Cannot open for reading: path '/Users/davidenicoli/Local_Workspace/TesiMag/db/metadata/qc1/SCIA' is a directory\nTraceback:\n",
                        "1. filter(collect(open_dataset(archive_path(c(\"SCIA\", \"ISAC\"), \"metadata\", \n .     \"qc1\"))), is.na(state))",
                        "2. collect(open_dataset(archive_path(c(\"SCIA\", \"ISAC\"), \"metadata\", \n .     \"qc1\")))",
                        "3. open_dataset(archive_path(c(\"SCIA\", \"ISAC\"), \"metadata\", \"qc1\"))",
                        "4. tryCatch(factory$Finish(schema, isTRUE(unify_schemas)), error = function(e, \n .     call = caller_env(n = 4)) {\n .     augment_io_error_msg(e, call, format = format)\n . })",
                        "5. tryCatchList(expr, classes, parentenv, handlers)",
                        "6. tryCatchOne(expr, names, parentenv, handlers[[1L]])",
                        "7. value[[3L]](cond)",
                        "8. augment_io_error_msg(e, call, format = format)",
                        "9. abort(msg, call = call)",
                        "10. signal_abort(cnd, .file)"
                    ]
                }
            ],
            "source": [
                "open_dataset(archive_path(c(\"SCIA\", \"ISAC\"), \"metadata\", \"qc1\")) |>\n",
                "    collect() |>\n",
                "    filter(is.na(state))"
            ]
        },
        {
            "cell_type": "code",
            "execution_count": null,
            "metadata": {
                "vscode": {
                    "languageId": "r"
                }
            },
            "outputs": [],
            "source": []
        }
    ],
    "metadata": {
        "kernelspec": {
            "display_name": "R",
            "language": "R",
            "name": "ir"
        },
        "language_info": {
            "codemirror_mode": "r",
            "file_extension": ".r",
            "mimetype": "text/x-r-source",
            "name": "R",
            "pygments_lexer": "r",
            "version": "4.3.3"
        }
    },
    "nbformat": 4,
    "nbformat_minor": 2
}
