{
 "cells": [
  {
   "cell_type": "code",
   "execution_count": 2,
   "metadata": {
    "vscode": {
     "languageId": "r"
    }
   },
   "outputs": [
    {
     "name": "stderr",
     "output_type": "stream",
     "text": [
      "Linking to GEOS 3.12.0, GDAL 3.7.3, PROJ 9.3.0; sf_use_s2() is TRUE\n",
      "\n",
      "terra 1.7.55\n",
      "\n"
     ]
    }
   ],
   "source": [
    "setwd(fs::path_abs(\"~/Local_Workspace/TesiMag\"))\n",
    "\n",
    "library(arrow, warn.conflicts = FALSE)\n",
    "library(dplyr, warn.conflicts = FALSE)\n",
    "\n",
    "source(\"src/paths/paths.R\")\n",
    "source(\"src/load/load.R\")\n"
   ]
  },
  {
   "cell_type": "code",
   "execution_count": 3,
   "metadata": {
    "vscode": {
     "languageId": "r"
    }
   },
   "outputs": [
    {
     "name": "stderr",
     "output_type": "stream",
     "text": [
      "Cache found: SCIA/T_MAX, suffix: <>, loading from disk\n",
      "\n"
     ]
    }
   ],
   "source": [
    "tvar <- \"T_MAX\"\n",
    "scia <- load.series(\"SCIA\", tvar)\n"
   ]
  },
  {
   "cell_type": "code",
   "execution_count": 6,
   "metadata": {
    "vscode": {
     "languageId": "r"
    }
   },
   "outputs": [],
   "source": [
    "if (!dir.exists(file.path(\"scia_split\", tvar))) dir.create(file.path(\"scia_split\", tvar), recursive = TRUE)\n",
    "scia |>\n",
    "    group_by_key() |>\n",
    "    group_walk(~ write_parquet(. |> drop_na(), file.path(\"scia_split\", tvar, paste0(.y[[1]], \".parquet\"))))\n"
   ]
  },
  {
   "cell_type": "code",
   "execution_count": 4,
   "metadata": {
    "vscode": {
     "languageId": "r"
    }
   },
   "outputs": [],
   "source": [
    "ds_tmax <- read_parquet(ls.SCIA.datafiles(\"T_MAX\"), as_data_frame = FALSE) |>\n",
    "    mutate(variable = \"T_MAX\", value = cast(`Temperatura massima `, float32()), .keep = \"unused\")\n",
    "ds_tmin <- read_parquet(ls.SCIA.datafiles(\"T_MIN\"), as_data_frame = FALSE) |>\n",
    "    mutate(variable = \"T_MIN\", value = cast(`Temperatura minima `, float32()), .keep = \"unused\")\n"
   ]
  },
  {
   "cell_type": "code",
   "execution_count": 5,
   "metadata": {
    "vscode": {
     "languageId": "r"
    }
   },
   "outputs": [],
   "source": [
    "all_data <- concat_tables(ds_tmax |> as_arrow_table(), ds_tmin |> as_arrow_table()) |>\n",
    "    mutate(identifier = cast(internal_id, int32()), .keep = \"unused\") |> collect()\n"
   ]
  },
  {
   "cell_type": "code",
   "execution_count": 6,
   "metadata": {
    "vscode": {
     "languageId": "r"
    }
   },
   "outputs": [
    {
     "data": {
      "text/html": [
       "<table class=\"dataframe\">\n",
       "<caption>A tibble: 63900564 x 4</caption>\n",
       "<thead>\n",
       "\t<tr><th scope=col>date</th><th scope=col>variable</th><th scope=col>value</th><th scope=col>identifier</th></tr>\n",
       "\t<tr><th scope=col>&lt;date&gt;</th><th scope=col>&lt;chr&gt;</th><th scope=col>&lt;dbl&gt;</th><th scope=col>&lt;int&gt;</th></tr>\n",
       "</thead>\n",
       "<tbody>\n",
       "\t<tr><td>1996-10-11</td><td>T_MAX</td><td> 3.8</td><td>5630</td></tr>\n",
       "\t<tr><td>1996-10-12</td><td>T_MAX</td><td> 4.3</td><td>5630</td></tr>\n",
       "\t<tr><td>1996-10-13</td><td>T_MAX</td><td> 0.4</td><td>5630</td></tr>\n",
       "\t<tr><td>1996-10-14</td><td>T_MAX</td><td> 0.1</td><td>5630</td></tr>\n",
       "\t<tr><td>1996-10-15</td><td>T_MAX</td><td> 4.9</td><td>5630</td></tr>\n",
       "\t<tr><td>1996-10-16</td><td>T_MAX</td><td> 0.9</td><td>5630</td></tr>\n",
       "\t<tr><td>1996-10-17</td><td>T_MAX</td><td>-0.4</td><td>5630</td></tr>\n",
       "\t<tr><td>1996-10-18</td><td>T_MAX</td><td> 2.1</td><td>5630</td></tr>\n",
       "\t<tr><td>1996-10-19</td><td>T_MAX</td><td> 1.7</td><td>5630</td></tr>\n",
       "\t<tr><td>1996-10-20</td><td>T_MAX</td><td> 6.7</td><td>5630</td></tr>\n",
       "\t<tr><td>1996-10-21</td><td>T_MAX</td><td> 8.7</td><td>5630</td></tr>\n",
       "\t<tr><td>1996-10-22</td><td>T_MAX</td><td>10.7</td><td>5630</td></tr>\n",
       "\t<tr><td>1996-10-23</td><td>T_MAX</td><td>12.8</td><td>5630</td></tr>\n",
       "\t<tr><td>1996-10-24</td><td>T_MAX</td><td>13.4</td><td>5630</td></tr>\n",
       "\t<tr><td>1996-10-25</td><td>T_MAX</td><td> 9.2</td><td>5630</td></tr>\n",
       "\t<tr><td>1996-10-26</td><td>T_MAX</td><td> 6.0</td><td>5630</td></tr>\n",
       "\t<tr><td>1996-10-27</td><td>T_MAX</td><td> 6.0</td><td>5630</td></tr>\n",
       "\t<tr><td>1996-10-28</td><td>T_MAX</td><td> 9.1</td><td>5630</td></tr>\n",
       "\t<tr><td>1996-10-29</td><td>T_MAX</td><td> 6.0</td><td>5630</td></tr>\n",
       "\t<tr><td>1996-10-30</td><td>T_MAX</td><td> 3.2</td><td>5630</td></tr>\n",
       "\t<tr><td>1996-10-31</td><td>T_MAX</td><td> 7.0</td><td>5630</td></tr>\n",
       "\t<tr><td>1996-11-01</td><td>T_MAX</td><td> 7.5</td><td>5630</td></tr>\n",
       "\t<tr><td>1996-11-02</td><td>T_MAX</td><td>11.4</td><td>5630</td></tr>\n",
       "\t<tr><td>1996-11-03</td><td>T_MAX</td><td>13.1</td><td>5630</td></tr>\n",
       "\t<tr><td>1996-11-04</td><td>T_MAX</td><td> 9.5</td><td>5630</td></tr>\n",
       "\t<tr><td>1996-11-05</td><td>T_MAX</td><td> 0.4</td><td>5630</td></tr>\n",
       "\t<tr><td>1996-11-06</td><td>T_MAX</td><td> 5.7</td><td>5630</td></tr>\n",
       "\t<tr><td>1996-11-07</td><td>T_MAX</td><td> 6.9</td><td>5630</td></tr>\n",
       "\t<tr><td>1996-11-08</td><td>T_MAX</td><td> 1.3</td><td>5630</td></tr>\n",
       "\t<tr><td>1996-11-09</td><td>T_MAX</td><td> 0.3</td><td>5630</td></tr>\n",
       "\t<tr><td>...</td><td>...</td><td>...</td><td>...</td></tr>\n",
       "\t<tr><td>2022-12-02</td><td>T_MIN</td><td> -3.7</td><td>15175</td></tr>\n",
       "\t<tr><td>2022-12-03</td><td>T_MIN</td><td> -0.1</td><td>15175</td></tr>\n",
       "\t<tr><td>2022-12-04</td><td>T_MIN</td><td>  0.2</td><td>15175</td></tr>\n",
       "\t<tr><td>2022-12-05</td><td>T_MIN</td><td> -1.8</td><td>15175</td></tr>\n",
       "\t<tr><td>2022-12-06</td><td>T_MIN</td><td> -3.5</td><td>15175</td></tr>\n",
       "\t<tr><td>2022-12-07</td><td>T_MIN</td><td> -4.2</td><td>15175</td></tr>\n",
       "\t<tr><td>2022-12-08</td><td>T_MIN</td><td> -5.6</td><td>15175</td></tr>\n",
       "\t<tr><td>2022-12-09</td><td>T_MIN</td><td> -1.1</td><td>15175</td></tr>\n",
       "\t<tr><td>2022-12-10</td><td>T_MIN</td><td> -2.8</td><td>15175</td></tr>\n",
       "\t<tr><td>2022-12-11</td><td>T_MIN</td><td> -7.5</td><td>15175</td></tr>\n",
       "\t<tr><td>2022-12-12</td><td>T_MIN</td><td> -9.6</td><td>15175</td></tr>\n",
       "\t<tr><td>2022-12-13</td><td>T_MIN</td><td> -6.4</td><td>15175</td></tr>\n",
       "\t<tr><td>2022-12-14</td><td>T_MIN</td><td> -6.3</td><td>15175</td></tr>\n",
       "\t<tr><td>2022-12-15</td><td>T_MIN</td><td> -7.6</td><td>15175</td></tr>\n",
       "\t<tr><td>2022-12-16</td><td>T_MIN</td><td> -4.8</td><td>15175</td></tr>\n",
       "\t<tr><td>2022-12-17</td><td>T_MIN</td><td> -7.5</td><td>15175</td></tr>\n",
       "\t<tr><td>2022-12-18</td><td>T_MIN</td><td>-11.0</td><td>15175</td></tr>\n",
       "\t<tr><td>2022-12-19</td><td>T_MIN</td><td> -6.2</td><td>15175</td></tr>\n",
       "\t<tr><td>2022-12-20</td><td>T_MIN</td><td> -7.5</td><td>15175</td></tr>\n",
       "\t<tr><td>2022-12-21</td><td>T_MIN</td><td> -2.9</td><td>15175</td></tr>\n",
       "\t<tr><td>2022-12-22</td><td>T_MIN</td><td> -3.4</td><td>15175</td></tr>\n",
       "\t<tr><td>2022-12-23</td><td>T_MIN</td><td>  3.0</td><td>15175</td></tr>\n",
       "\t<tr><td>2022-12-24</td><td>T_MIN</td><td>  6.7</td><td>15175</td></tr>\n",
       "\t<tr><td>2022-12-25</td><td>T_MIN</td><td>   NA</td><td>15175</td></tr>\n",
       "\t<tr><td>2022-12-26</td><td>T_MIN</td><td>  4.0</td><td>15175</td></tr>\n",
       "\t<tr><td>2022-12-27</td><td>T_MIN</td><td> -1.4</td><td>15175</td></tr>\n",
       "\t<tr><td>2022-12-28</td><td>T_MIN</td><td> -3.3</td><td>15175</td></tr>\n",
       "\t<tr><td>2022-12-29</td><td>T_MIN</td><td> -3.2</td><td>15175</td></tr>\n",
       "\t<tr><td>2022-12-30</td><td>T_MIN</td><td> -1.4</td><td>15175</td></tr>\n",
       "\t<tr><td>2022-12-31</td><td>T_MIN</td><td>   NA</td><td>15175</td></tr>\n",
       "</tbody>\n",
       "</table>\n"
      ],
      "text/latex": [
       "A tibble: 63900564 x 4\n",
       "\\begin{tabular}{llll}\n",
       " date & variable & value & identifier\\\\\n",
       " <date> & <chr> & <dbl> & <int>\\\\\n",
       "\\hline\n",
       "\t 1996-10-11 & T\\_MAX &  3.8 & 5630\\\\\n",
       "\t 1996-10-12 & T\\_MAX &  4.3 & 5630\\\\\n",
       "\t 1996-10-13 & T\\_MAX &  0.4 & 5630\\\\\n",
       "\t 1996-10-14 & T\\_MAX &  0.1 & 5630\\\\\n",
       "\t 1996-10-15 & T\\_MAX &  4.9 & 5630\\\\\n",
       "\t 1996-10-16 & T\\_MAX &  0.9 & 5630\\\\\n",
       "\t 1996-10-17 & T\\_MAX & -0.4 & 5630\\\\\n",
       "\t 1996-10-18 & T\\_MAX &  2.1 & 5630\\\\\n",
       "\t 1996-10-19 & T\\_MAX &  1.7 & 5630\\\\\n",
       "\t 1996-10-20 & T\\_MAX &  6.7 & 5630\\\\\n",
       "\t 1996-10-21 & T\\_MAX &  8.7 & 5630\\\\\n",
       "\t 1996-10-22 & T\\_MAX & 10.7 & 5630\\\\\n",
       "\t 1996-10-23 & T\\_MAX & 12.8 & 5630\\\\\n",
       "\t 1996-10-24 & T\\_MAX & 13.4 & 5630\\\\\n",
       "\t 1996-10-25 & T\\_MAX &  9.2 & 5630\\\\\n",
       "\t 1996-10-26 & T\\_MAX &  6.0 & 5630\\\\\n",
       "\t 1996-10-27 & T\\_MAX &  6.0 & 5630\\\\\n",
       "\t 1996-10-28 & T\\_MAX &  9.1 & 5630\\\\\n",
       "\t 1996-10-29 & T\\_MAX &  6.0 & 5630\\\\\n",
       "\t 1996-10-30 & T\\_MAX &  3.2 & 5630\\\\\n",
       "\t 1996-10-31 & T\\_MAX &  7.0 & 5630\\\\\n",
       "\t 1996-11-01 & T\\_MAX &  7.5 & 5630\\\\\n",
       "\t 1996-11-02 & T\\_MAX & 11.4 & 5630\\\\\n",
       "\t 1996-11-03 & T\\_MAX & 13.1 & 5630\\\\\n",
       "\t 1996-11-04 & T\\_MAX &  9.5 & 5630\\\\\n",
       "\t 1996-11-05 & T\\_MAX &  0.4 & 5630\\\\\n",
       "\t 1996-11-06 & T\\_MAX &  5.7 & 5630\\\\\n",
       "\t 1996-11-07 & T\\_MAX &  6.9 & 5630\\\\\n",
       "\t 1996-11-08 & T\\_MAX &  1.3 & 5630\\\\\n",
       "\t 1996-11-09 & T\\_MAX &  0.3 & 5630\\\\\n",
       "\t ... & ... & ... & ...\\\\\n",
       "\t 2022-12-02 & T\\_MIN &  -3.7 & 15175\\\\\n",
       "\t 2022-12-03 & T\\_MIN &  -0.1 & 15175\\\\\n",
       "\t 2022-12-04 & T\\_MIN &   0.2 & 15175\\\\\n",
       "\t 2022-12-05 & T\\_MIN &  -1.8 & 15175\\\\\n",
       "\t 2022-12-06 & T\\_MIN &  -3.5 & 15175\\\\\n",
       "\t 2022-12-07 & T\\_MIN &  -4.2 & 15175\\\\\n",
       "\t 2022-12-08 & T\\_MIN &  -5.6 & 15175\\\\\n",
       "\t 2022-12-09 & T\\_MIN &  -1.1 & 15175\\\\\n",
       "\t 2022-12-10 & T\\_MIN &  -2.8 & 15175\\\\\n",
       "\t 2022-12-11 & T\\_MIN &  -7.5 & 15175\\\\\n",
       "\t 2022-12-12 & T\\_MIN &  -9.6 & 15175\\\\\n",
       "\t 2022-12-13 & T\\_MIN &  -6.4 & 15175\\\\\n",
       "\t 2022-12-14 & T\\_MIN &  -6.3 & 15175\\\\\n",
       "\t 2022-12-15 & T\\_MIN &  -7.6 & 15175\\\\\n",
       "\t 2022-12-16 & T\\_MIN &  -4.8 & 15175\\\\\n",
       "\t 2022-12-17 & T\\_MIN &  -7.5 & 15175\\\\\n",
       "\t 2022-12-18 & T\\_MIN & -11.0 & 15175\\\\\n",
       "\t 2022-12-19 & T\\_MIN &  -6.2 & 15175\\\\\n",
       "\t 2022-12-20 & T\\_MIN &  -7.5 & 15175\\\\\n",
       "\t 2022-12-21 & T\\_MIN &  -2.9 & 15175\\\\\n",
       "\t 2022-12-22 & T\\_MIN &  -3.4 & 15175\\\\\n",
       "\t 2022-12-23 & T\\_MIN &   3.0 & 15175\\\\\n",
       "\t 2022-12-24 & T\\_MIN &   6.7 & 15175\\\\\n",
       "\t 2022-12-25 & T\\_MIN &    NA & 15175\\\\\n",
       "\t 2022-12-26 & T\\_MIN &   4.0 & 15175\\\\\n",
       "\t 2022-12-27 & T\\_MIN &  -1.4 & 15175\\\\\n",
       "\t 2022-12-28 & T\\_MIN &  -3.3 & 15175\\\\\n",
       "\t 2022-12-29 & T\\_MIN &  -3.2 & 15175\\\\\n",
       "\t 2022-12-30 & T\\_MIN &  -1.4 & 15175\\\\\n",
       "\t 2022-12-31 & T\\_MIN &    NA & 15175\\\\\n",
       "\\end{tabular}\n"
      ],
      "text/markdown": [
       "\n",
       "A tibble: 63900564 x 4\n",
       "\n",
       "| date &lt;date&gt; | variable &lt;chr&gt; | value &lt;dbl&gt; | identifier &lt;int&gt; |\n",
       "|---|---|---|---|\n",
       "| 1996-10-11 | T_MAX |  3.8 | 5630 |\n",
       "| 1996-10-12 | T_MAX |  4.3 | 5630 |\n",
       "| 1996-10-13 | T_MAX |  0.4 | 5630 |\n",
       "| 1996-10-14 | T_MAX |  0.1 | 5630 |\n",
       "| 1996-10-15 | T_MAX |  4.9 | 5630 |\n",
       "| 1996-10-16 | T_MAX |  0.9 | 5630 |\n",
       "| 1996-10-17 | T_MAX | -0.4 | 5630 |\n",
       "| 1996-10-18 | T_MAX |  2.1 | 5630 |\n",
       "| 1996-10-19 | T_MAX |  1.7 | 5630 |\n",
       "| 1996-10-20 | T_MAX |  6.7 | 5630 |\n",
       "| 1996-10-21 | T_MAX |  8.7 | 5630 |\n",
       "| 1996-10-22 | T_MAX | 10.7 | 5630 |\n",
       "| 1996-10-23 | T_MAX | 12.8 | 5630 |\n",
       "| 1996-10-24 | T_MAX | 13.4 | 5630 |\n",
       "| 1996-10-25 | T_MAX |  9.2 | 5630 |\n",
       "| 1996-10-26 | T_MAX |  6.0 | 5630 |\n",
       "| 1996-10-27 | T_MAX |  6.0 | 5630 |\n",
       "| 1996-10-28 | T_MAX |  9.1 | 5630 |\n",
       "| 1996-10-29 | T_MAX |  6.0 | 5630 |\n",
       "| 1996-10-30 | T_MAX |  3.2 | 5630 |\n",
       "| 1996-10-31 | T_MAX |  7.0 | 5630 |\n",
       "| 1996-11-01 | T_MAX |  7.5 | 5630 |\n",
       "| 1996-11-02 | T_MAX | 11.4 | 5630 |\n",
       "| 1996-11-03 | T_MAX | 13.1 | 5630 |\n",
       "| 1996-11-04 | T_MAX |  9.5 | 5630 |\n",
       "| 1996-11-05 | T_MAX |  0.4 | 5630 |\n",
       "| 1996-11-06 | T_MAX |  5.7 | 5630 |\n",
       "| 1996-11-07 | T_MAX |  6.9 | 5630 |\n",
       "| 1996-11-08 | T_MAX |  1.3 | 5630 |\n",
       "| 1996-11-09 | T_MAX |  0.3 | 5630 |\n",
       "| ... | ... | ... | ... |\n",
       "| 2022-12-02 | T_MIN |  -3.7 | 15175 |\n",
       "| 2022-12-03 | T_MIN |  -0.1 | 15175 |\n",
       "| 2022-12-04 | T_MIN |   0.2 | 15175 |\n",
       "| 2022-12-05 | T_MIN |  -1.8 | 15175 |\n",
       "| 2022-12-06 | T_MIN |  -3.5 | 15175 |\n",
       "| 2022-12-07 | T_MIN |  -4.2 | 15175 |\n",
       "| 2022-12-08 | T_MIN |  -5.6 | 15175 |\n",
       "| 2022-12-09 | T_MIN |  -1.1 | 15175 |\n",
       "| 2022-12-10 | T_MIN |  -2.8 | 15175 |\n",
       "| 2022-12-11 | T_MIN |  -7.5 | 15175 |\n",
       "| 2022-12-12 | T_MIN |  -9.6 | 15175 |\n",
       "| 2022-12-13 | T_MIN |  -6.4 | 15175 |\n",
       "| 2022-12-14 | T_MIN |  -6.3 | 15175 |\n",
       "| 2022-12-15 | T_MIN |  -7.6 | 15175 |\n",
       "| 2022-12-16 | T_MIN |  -4.8 | 15175 |\n",
       "| 2022-12-17 | T_MIN |  -7.5 | 15175 |\n",
       "| 2022-12-18 | T_MIN | -11.0 | 15175 |\n",
       "| 2022-12-19 | T_MIN |  -6.2 | 15175 |\n",
       "| 2022-12-20 | T_MIN |  -7.5 | 15175 |\n",
       "| 2022-12-21 | T_MIN |  -2.9 | 15175 |\n",
       "| 2022-12-22 | T_MIN |  -3.4 | 15175 |\n",
       "| 2022-12-23 | T_MIN |   3.0 | 15175 |\n",
       "| 2022-12-24 | T_MIN |   6.7 | 15175 |\n",
       "| 2022-12-25 | T_MIN |    NA | 15175 |\n",
       "| 2022-12-26 | T_MIN |   4.0 | 15175 |\n",
       "| 2022-12-27 | T_MIN |  -1.4 | 15175 |\n",
       "| 2022-12-28 | T_MIN |  -3.3 | 15175 |\n",
       "| 2022-12-29 | T_MIN |  -3.2 | 15175 |\n",
       "| 2022-12-30 | T_MIN |  -1.4 | 15175 |\n",
       "| 2022-12-31 | T_MIN |    NA | 15175 |\n",
       "\n"
      ],
      "text/plain": [
       "         date       variable value identifier\n",
       "1        1996-10-11 T_MAX     3.8  5630      \n",
       "2        1996-10-12 T_MAX     4.3  5630      \n",
       "3        1996-10-13 T_MAX     0.4  5630      \n",
       "4        1996-10-14 T_MAX     0.1  5630      \n",
       "5        1996-10-15 T_MAX     4.9  5630      \n",
       "6        1996-10-16 T_MAX     0.9  5630      \n",
       "7        1996-10-17 T_MAX    -0.4  5630      \n",
       "8        1996-10-18 T_MAX     2.1  5630      \n",
       "9        1996-10-19 T_MAX     1.7  5630      \n",
       "10       1996-10-20 T_MAX     6.7  5630      \n",
       "11       1996-10-21 T_MAX     8.7  5630      \n",
       "12       1996-10-22 T_MAX    10.7  5630      \n",
       "13       1996-10-23 T_MAX    12.8  5630      \n",
       "14       1996-10-24 T_MAX    13.4  5630      \n",
       "15       1996-10-25 T_MAX     9.2  5630      \n",
       "16       1996-10-26 T_MAX     6.0  5630      \n",
       "17       1996-10-27 T_MAX     6.0  5630      \n",
       "18       1996-10-28 T_MAX     9.1  5630      \n",
       "19       1996-10-29 T_MAX     6.0  5630      \n",
       "20       1996-10-30 T_MAX     3.2  5630      \n",
       "21       1996-10-31 T_MAX     7.0  5630      \n",
       "22       1996-11-01 T_MAX     7.5  5630      \n",
       "23       1996-11-02 T_MAX    11.4  5630      \n",
       "24       1996-11-03 T_MAX    13.1  5630      \n",
       "25       1996-11-04 T_MAX     9.5  5630      \n",
       "26       1996-11-05 T_MAX     0.4  5630      \n",
       "27       1996-11-06 T_MAX     5.7  5630      \n",
       "28       1996-11-07 T_MAX     6.9  5630      \n",
       "29       1996-11-08 T_MAX     1.3  5630      \n",
       "30       1996-11-09 T_MAX     0.3  5630      \n",
       "...      ...        ...      ...   ...       \n",
       "63900535 2022-12-02 T_MIN     -3.7 15175     \n",
       "63900536 2022-12-03 T_MIN     -0.1 15175     \n",
       "63900537 2022-12-04 T_MIN      0.2 15175     \n",
       "63900538 2022-12-05 T_MIN     -1.8 15175     \n",
       "63900539 2022-12-06 T_MIN     -3.5 15175     \n",
       "63900540 2022-12-07 T_MIN     -4.2 15175     \n",
       "63900541 2022-12-08 T_MIN     -5.6 15175     \n",
       "63900542 2022-12-09 T_MIN     -1.1 15175     \n",
       "63900543 2022-12-10 T_MIN     -2.8 15175     \n",
       "63900544 2022-12-11 T_MIN     -7.5 15175     \n",
       "63900545 2022-12-12 T_MIN     -9.6 15175     \n",
       "63900546 2022-12-13 T_MIN     -6.4 15175     \n",
       "63900547 2022-12-14 T_MIN     -6.3 15175     \n",
       "63900548 2022-12-15 T_MIN     -7.6 15175     \n",
       "63900549 2022-12-16 T_MIN     -4.8 15175     \n",
       "63900550 2022-12-17 T_MIN     -7.5 15175     \n",
       "63900551 2022-12-18 T_MIN    -11.0 15175     \n",
       "63900552 2022-12-19 T_MIN     -6.2 15175     \n",
       "63900553 2022-12-20 T_MIN     -7.5 15175     \n",
       "63900554 2022-12-21 T_MIN     -2.9 15175     \n",
       "63900555 2022-12-22 T_MIN     -3.4 15175     \n",
       "63900556 2022-12-23 T_MIN      3.0 15175     \n",
       "63900557 2022-12-24 T_MIN      6.7 15175     \n",
       "63900558 2022-12-25 T_MIN       NA 15175     \n",
       "63900559 2022-12-26 T_MIN      4.0 15175     \n",
       "63900560 2022-12-27 T_MIN     -1.4 15175     \n",
       "63900561 2022-12-28 T_MIN     -3.3 15175     \n",
       "63900562 2022-12-29 T_MIN     -3.2 15175     \n",
       "63900563 2022-12-30 T_MIN     -1.4 15175     \n",
       "63900564 2022-12-31 T_MIN       NA 15175     "
      ]
     },
     "metadata": {},
     "output_type": "display_data"
    }
   ],
   "source": [
    "all_data\n"
   ]
  },
  {
   "cell_type": "code",
   "execution_count": 11,
   "metadata": {
    "vscode": {
     "languageId": "r"
    }
   },
   "outputs": [],
   "source": [
    "write_mkdir <- function(data, fname) {\n",
    "    dir.create(dirname(fname), recursive = TRUE)\n",
    "    write_parquet(data, fname)\n",
    "}\n"
   ]
  },
  {
   "cell_type": "code",
   "execution_count": 7,
   "metadata": {
    "vscode": {
     "languageId": "r"
    }
   },
   "outputs": [],
   "source": [
    "all_data |>\n",
    "    arrange(variable, identifier, date) |>\n",
    "    group_by(variable, identifier) |>\n",
    "    as_arrow_table(schema = schema(date = date32(), variable = utf8(), value = float32(), identifier = int32())) |>\n",
    "    write_dataset(file.path(path.ds, \"SCIA\", \"dataset1\"), max_open_files = 20L, min_rows_per_group = 10000L)\n"
   ]
  },
  {
   "cell_type": "code",
   "execution_count": 9,
   "metadata": {
    "vscode": {
     "languageId": "r"
    }
   },
   "outputs": [],
   "source": [
    "all_data |>\n",
    "    collect() |>\n",
    "    group_by(variable, identifier) |>\n",
    "    group_walk(\n",
    "        ~ write_mkdir(\n",
    "            . |> drop_na() |> add_column(identifier = .y[[2]], variable = .y[[1]]) |> as_arrow_table(schema = schema(date = date32(), value = float32(), identifier = int32(), variable = utf8())) |> mutate(identifier = cast(identifier, uint32())),\n",
    "            file.path(\n",
    "                path.ds,\n",
    "                \"SCIA\",\n",
    "                \"dataset\",\n",
    "                paste0(\"variable=\", .y[[1]]),\n",
    "                paste0(\"identifier=\", .y[[2]]),\n",
    "                \"part-0.parquet\"\n",
    "            )\n",
    "        )\n",
    "    )\n"
   ]
  },
  {
   "cell_type": "code",
   "execution_count": null,
   "metadata": {
    "vscode": {
     "languageId": "r"
    }
   },
   "outputs": [],
   "source": []
  }
 ],
 "metadata": {
  "kernelspec": {
   "display_name": "R",
   "language": "R",
   "name": "ir"
  },
  "language_info": {
   "codemirror_mode": "r",
   "file_extension": ".r",
   "mimetype": "text/x-r-source",
   "name": "R",
   "pygments_lexer": "r",
   "version": "4.3.2"
  }
 },
 "nbformat": 4,
 "nbformat_minor": 2
}
