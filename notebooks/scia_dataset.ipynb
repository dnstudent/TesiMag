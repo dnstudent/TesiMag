{
 "cells": [
  {
   "cell_type": "code",
   "execution_count": 1,
   "metadata": {},
   "outputs": [],
   "source": [
    "import pyarrow as pa\n",
    "import pyarrow.dataset as pds\n",
    "import pyarrow.compute as pc\n",
    "from pyarrow import parquet\n",
    "import polars as pl\n",
    "import numpy as np\n",
    "import pandas as pd\n",
    "\n",
    "from pathlib import Path\n",
    "from datetime import datetime\n",
    "\n",
    "scia_base = Path(\"/Users/davidenicoli/Local_Workspace/Datasets/SCIA/giornaliere/\")\n",
    "tmax_path = scia_base / \"massime\" / \"db\" / \"series.parquet\"\n",
    "tmin_path = scia_base / \"minime\" / \"db\" / \"series.parquet\""
   ]
  },
  {
   "cell_type": "code",
   "execution_count": 4,
   "metadata": {},
   "outputs": [],
   "source": [
    "tmin = parquet.read_table(\n",
    "    tmin_path, filters=[(\"date\", \">=\", datetime(2000, 1, 1))]\n",
    ").rename_columns([\"value\", \"date\", \"identifier\"])\n",
    "tmin = tmin.append_column(\"variable\", pa.array([\"T_MIN\"] * tmin.num_rows, pa.string()))\n",
    "tmax = parquet.read_table(\n",
    "    tmax_path, filters=[(\"date\", \">=\", datetime(2000, 1, 1))]\n",
    ").rename_columns([\"value\", \"date\", \"identifier\"])\n",
    "tmax = tmax.append_column(\"variable\", pa.array([\"T_MAX\"] * tmax.num_rows, pa.string()))\n",
    "\n",
    "ds = (\n",
    "    pa.concat_tables([tmin, tmax])\n",
    "    .sort_by(\n",
    "        [(\"variable\", \"ascending\"), (\"identifier\", \"ascending\"), (\"date\", \"ascending\")]\n",
    "    )\n",
    "    .cast(\n",
    "        pa.schema(\n",
    "            [\n",
    "                (\"value\", pa.float32()),\n",
    "                (\"date\", pa.date32()),\n",
    "                (\"identifier\", pa.uint32()),\n",
    "                (\"variable\", pa.string()),\n",
    "            ]\n",
    "        )\n",
    "    )\n",
    ")\n",
    "part = pds.partitioning(schema=pa.schema([(\"variable\", pa.string())]), flavor=\"hive\")"
   ]
  },
  {
   "cell_type": "code",
   "execution_count": 5,
   "metadata": {},
   "outputs": [
    {
     "data": {
      "text/plain": [
       "pyarrow.Table\n",
       "value: float\n",
       "date: date32[day]\n",
       "identifier: uint32\n",
       "variable: string\n",
       "----\n",
       "value: [[23.6,22,22,15.7,21,...,-1.4,-5.3,-2.6,-2.7,2.9]]\n",
       "date: [[2001-05-18,2001-05-19,2001-05-20,2001-05-21,2001-05-22,...,2022-12-27,2022-12-28,2022-12-29,2022-12-30,2022-12-31]]\n",
       "identifier: [[1,1,1,1,1,...,15181,15181,15181,15181,15181]]\n",
       "variable: [[\"T_MAX\",\"T_MAX\",\"T_MAX\",\"T_MAX\",\"T_MAX\",...,\"T_MIN\",\"T_MIN\",\"T_MIN\",\"T_MIN\",\"T_MIN\"]]"
      ]
     },
     "execution_count": 5,
     "metadata": {},
     "output_type": "execute_result"
    }
   ],
   "source": [
    "ds"
   ]
  },
  {
   "cell_type": "code",
   "execution_count": 6,
   "metadata": {},
   "outputs": [],
   "source": [
    "pds.write_dataset(ds, \"../db/data/scia\", format=\"feather\", partitioning=part)"
   ]
  },
  {
   "cell_type": "code",
   "execution_count": 8,
   "metadata": {},
   "outputs": [],
   "source": [
    "m_tmin = parquet.read_table(\n",
    "    \"../cache/metadata/SCIA/T_MIN_dated.parquet\",\n",
    "    filters=[(\"last_date\", \">\", datetime(2000, 1, 1))],\n",
    ")\n",
    "m_tmin = m_tmin.append_column(\n",
    "    \"variable\", pa.array([\"T_MIN\"] * m_tmin.num_rows, pa.string())\n",
    ")\n",
    "m_tmax = parquet.read_table(\n",
    "    \"../cache/metadata/SCIA/T_MAX_dated.parquet\",\n",
    "    filters=[(\"last_date\", \">\", datetime(2000, 1, 1))],\n",
    ")\n",
    "m_tmax = m_tmax.append_column(\n",
    "    \"variable\", pa.array([\"T_MAX\"] * m_tmax.num_rows, pa.string())\n",
    ")"
   ]
  },
  {
   "cell_type": "code",
   "execution_count": 11,
   "metadata": {},
   "outputs": [],
   "source": [
    "metadata = (\n",
    "    pa.concat_tables([m_tmin, m_tmax])\n",
    "    .sort_by([(\"variable\", \"ascending\"), (\"anagrafica\", \"ascending\")])\n",
    "    .cast(\n",
    "        pa.schema(\n",
    "            [\n",
    "                (\"valid_days\", pa.uint32()),\n",
    "                (\"identifier\", pa.uint32()),\n",
    "                (\"net_code\", pa.uint8()),\n",
    "                (\"user_code\", pa.string()),\n",
    "                (\"elevation\", pa.float32()),\n",
    "                (\"lat\", pa.float32()),\n",
    "                (\"lon\", pa.float32()),\n",
    "                (\"state\", pa.string()),\n",
    "                (\"province\", pa.string()),\n",
    "                (\"anagrafica\", pa.string()),\n",
    "                (\"rete\", pa.string()),\n",
    "                (\"first_date\", pa.date32()),\n",
    "                (\"last_date\", pa.date32()),\n",
    "                (\"variable\", pa.string())\n",
    "            ]\n",
    "        )\n",
    "    )\n",
    ")\n",
    "part = pds.partitioning(schema=pa.schema([(\"variable\", pa.string())]), flavor=\"hive\")"
   ]
  },
  {
   "cell_type": "code",
   "execution_count": 12,
   "metadata": {},
   "outputs": [
    {
     "data": {
      "text/plain": [
       "pyarrow.Table\n",
       "valid_days: uint32\n",
       "identifier: uint32\n",
       "net_code: uint8\n",
       "user_code: string\n",
       "elevation: float\n",
       "lat: float\n",
       "lon: float\n",
       "state: string\n",
       "province: string\n",
       "anagrafica: string\n",
       "rete: string\n",
       "first_date: date32[day]\n",
       "last_date: date32[day]\n",
       "variable: string\n",
       "----\n",
       "valid_days: [[8307,6255,7300,1914,6238,...,7970,11257,6330,5243,5837]]\n",
       "identifier: [[14716,14935,7332,7650,12490,...,8109,5770,7095,7115,11701]]\n",
       "net_code: [[54,54,15,15,38,...,15,27,20,20,15]]\n",
       "user_code: [[\"OR009B001\",\"OR009B501\",\"01133\",\"01S4062\",\"00078\",...,\"05184\",\"00184\",\"20034\",\"20056\",\"182780\"]]\n",
       "elevation: [[317,328,1645,2000,1171,...,11,12,31,65,451]]\n",
       "lat: [[40.12547,40.13055,44.485153,44.520138,42.682728,...,45.59004,45.59004,45.006943,44.49614,38.653473]]\n",
       "lon: [[8.818833,8.81389,6.981433,6.906438,13.209904,...,12.17524,12.17524,10.167858,11.200052,15.982944]]\n",
       "state: [[\"Sardegna\",\"Sardegna\",\"Piemonte\",\"Piemonte\",\"Lazio\",...,\"Veneto\",\"Veneto\",\"Emilia-Romagna\",\"Emilia-Romagna\",\"Calabria\"]]\n",
       "province: [[\"Oristano\",\"Oristano\",\"Cuneo\",\"Cuneo\",\"Rieti\",...,\"Treviso\",\"Treviso\",\"Parma\",\"Bologna\",\"Vibo Valentia\"]]\n",
       "anagrafica: [[\"ABBASANTA\",\"ABBASANTA RF\",\"ACCEGLIO\",\"ACCEGLIO COLLET\",\"ACCUMOLI\",...,\"Zero Branco\",\"Zero Branco\",\"Zibello\",\"Zola Predosa\",\"Zungri\"]]\n",
       "..."
      ]
     },
     "execution_count": 12,
     "metadata": {},
     "output_type": "execute_result"
    }
   ],
   "source": [
    "metadata"
   ]
  },
  {
   "cell_type": "code",
   "execution_count": 14,
   "metadata": {},
   "outputs": [],
   "source": [
    "pds.write_dataset(metadata, \"../db/metadata/scia\", format=\"feather\", partitioning=part)"
   ]
  },
  {
   "cell_type": "code",
   "execution_count": null,
   "metadata": {},
   "outputs": [],
   "source": []
  }
 ],
 "metadata": {
  "kernelspec": {
   "display_name": "arrow",
   "language": "python",
   "name": "python3"
  },
  "language_info": {
   "codemirror_mode": {
    "name": "ipython",
    "version": 3
   },
   "file_extension": ".py",
   "mimetype": "text/x-python",
   "name": "python",
   "nbconvert_exporter": "python",
   "pygments_lexer": "ipython3",
   "version": "3.11.6"
  }
 },
 "nbformat": 4,
 "nbformat_minor": 2
}
