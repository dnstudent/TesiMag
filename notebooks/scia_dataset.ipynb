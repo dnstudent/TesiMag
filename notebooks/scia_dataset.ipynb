{
 "cells": [
  {
   "cell_type": "code",
   "execution_count": 2,
   "metadata": {},
   "outputs": [],
   "source": [
    "import pyarrow as pa\n",
    "import pyarrow.dataset as pds\n",
    "import pyarrow.compute as pc\n",
    "from pyarrow import parquet\n",
    "import polars as pl\n",
    "import numpy as np\n",
    "\n",
    "from pathlib import Path\n",
    "from datetime import datetime\n",
    "\n",
    "scia_base = Path(\"/Users/davidenicoli/Local_Workspace/Datasets/SCIA/giornaliere/\")\n",
    "tmax_path = scia_base / \"massime\" / \"db\" / \"series.parquet\"\n",
    "tmin_path = scia_base / \"minime\" / \"db\" / \"series.parquet\""
   ]
  },
  {
   "cell_type": "code",
   "execution_count": 14,
   "metadata": {},
   "outputs": [],
   "source": [
    "dicta = pa.array([\"T_MIN\", \"T_MAX\"], pa.string())"
   ]
  },
  {
   "cell_type": "code",
   "execution_count": 16,
   "metadata": {},
   "outputs": [],
   "source": [
    "tmin = parquet.read_table(tmin_path, filters = [(\"date\", \">=\", datetime(2000,1,1))]).rename_columns([\"value\", \"date\", \"identifier\"])\n",
    "tmin = tmin.append_column(\"variable\", pa.DictionaryArray.from_arrays(pa.array([0]*tmin.num_rows, pa.uint8()), dicta))\n",
    "tmax = parquet.read_table(tmax_path, filters = [(\"date\", \">=\", datetime(2000,1,1))]).rename_columns([\"value\", \"date\", \"identifier\"])\n",
    "tmax = tmax.append_column(\"variable\", pa.DictionaryArray.from_arrays(pa.array([1]*tmax.num_rows, pa.uint8()), dicta))\n",
    "\n",
    "ds = pa.concat_tables([tmin, tmax]) #.cast(pa.schema([(\"value\", pa.float32()), (\"date\", pa.date32()), (\"identifier\", pa.uint32()), (\"variable\", pa.dictionary(pa.uint8(), pa.string()))]))\n",
    "part = pds.partitioning(schema=pa.schema([(\"variable\", pa.dictionary(pa.uint8(), pa.string()))]), flavor=\"hive\")"
   ]
  },
  {
   "cell_type": "code",
   "execution_count": 18,
   "metadata": {},
   "outputs": [],
   "source": [
    "pds.write_dataset(\n",
    "    ds, scia_base / \"python_dataset\",\n",
    "    format=\"parquet\",\n",
    "    partitioning=part\n",
    ")"
   ]
  },
  {
   "cell_type": "code",
   "execution_count": null,
   "metadata": {},
   "outputs": [],
   "source": []
  }
 ],
 "metadata": {
  "kernelspec": {
   "display_name": "arrow",
   "language": "python",
   "name": "python3"
  },
  "language_info": {
   "codemirror_mode": {
    "name": "ipython",
    "version": 3
   },
   "file_extension": ".py",
   "mimetype": "text/x-python",
   "name": "python",
   "nbconvert_exporter": "python",
   "pygments_lexer": "ipython3",
   "version": "3.11.6"
  }
 },
 "nbformat": 4,
 "nbformat_minor": 2
}
