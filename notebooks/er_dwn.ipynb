{
 "cells": [
  {
   "cell_type": "code",
   "execution_count": 21,
   "metadata": {},
   "outputs": [],
   "source": [
    "import requests\n",
    "import os\n",
    "from time import sleep\n",
    "from tqdm.notebook import trange\n",
    "\n",
    "ds_base = \"/Users/davidenicoli/Local_Workspace/Datasets/ARPA/EMILIA-ROMAGNA/\""
   ]
  },
  {
   "cell_type": "code",
   "execution_count": 16,
   "metadata": {},
   "outputs": [],
   "source": [
    "def dwn_url(month, year):\n",
    "    return f\"https://dati-simc.arpae.it/opendata/osservati/meteo/storico/{year}-{month:02d}.json.gz\"\n",
    "\n",
    "def download(month, year, session):\n",
    "    archive_path = os.path.join(ds_base, f\"{year}-{month:02d}.json.gz\")\n",
    "    with session.get(dwn_url(month, year), stream = True) as stream:\n",
    "        with open(archive_path, \"wb\") as fd:\n",
    "            for chunk in stream.iter_content(chunk_size=128):\n",
    "                fd.write(chunk)\n",
    "    return stream"
   ]
  },
  {
   "cell_type": "code",
   "execution_count": 22,
   "metadata": {},
   "outputs": [
    {
     "data": {
      "application/vnd.jupyter.widget-view+json": {
       "model_id": "f1fb1349fc144bb288630845e3486003",
       "version_major": 2,
       "version_minor": 0
      },
      "text/plain": [
       "  0%|          | 0/8 [00:00<?, ?it/s]"
      ]
     },
     "metadata": {},
     "output_type": "display_data"
    }
   ],
   "source": [
    "with requests.Session() as session:\n",
    "    for year in trange(2016,2024):\n",
    "        for month in range(1, 13):\n",
    "            try:\n",
    "                download(month, year, session)\n",
    "            except:\n",
    "                print(f\"Could not download: {year}-{month:02d}.json.gz\")\n",
    "            sleep(5)"
   ]
  },
  {
   "cell_type": "code",
   "execution_count": null,
   "metadata": {},
   "outputs": [],
   "source": []
  }
 ],
 "metadata": {
  "kernelspec": {
   "display_name": "geopy",
   "language": "python",
   "name": "python3"
  },
  "language_info": {
   "codemirror_mode": {
    "name": "ipython",
    "version": 3
   },
   "file_extension": ".py",
   "mimetype": "text/x-python",
   "name": "python",
   "nbconvert_exporter": "python",
   "pygments_lexer": "ipython3",
   "version": "3.11.6"
  }
 },
 "nbformat": 4,
 "nbformat_minor": 2
}
